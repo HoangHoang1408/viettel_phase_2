{
 "cells": [
  {
   "cell_type": "code",
   "execution_count": 2,
   "metadata": {},
   "outputs": [],
   "source": [
    "import numpy as np\n",
    "import pandas as pd\n",
    "import matplotlib.pyplot as plt\n",
    "from matplotlib import rcParams\n",
    "import seaborn as sns\n",
    "import warnings\n",
    "import torch\n",
    "from torch import nn\n",
    "from torch.utils.data import DataLoader\n",
    "from torch.nn import functional as F\n",
    "device = 'cuda' if torch.cuda.is_available() else 'mps' if torch.backends.mps.is_available() else 'cpu'\n",
    "from tqdm.notebook import tqdm\n",
    "sns.set()\n",
    "rcParams['figure.figsize'] = (20,10)\n",
    "pd.options.display.max_columns = None\n",
    "warnings.filterwarnings('ignore')\n",
    "from pprint import pprint\n",
    "import json\n",
    "from collections import defaultdict\n",
    "from googletrans import Translator\n",
    "import time\n",
    "from datasets import Dataset, concatenate_datasets\n",
    "from transformers import AutoTokenizer, AutoModel, AutoConfig, pipeline\n",
    "from datasets import load_dataset, Dataset"
   ]
  },
  {
   "cell_type": "code",
   "execution_count": 3,
   "metadata": {},
   "outputs": [],
   "source": [
    "tokenizer = AutoTokenizer.from_pretrained('bigscience/bloom-3b')"
   ]
  },
  {
   "cell_type": "code",
   "execution_count": null,
   "metadata": {},
   "outputs": [],
   "source": [
    "translator = Translator()\n",
    "def translate_df(df, batch_size=1, translator=translator):\n",
    "    def translate_text(text, sleep_time=2):\n",
    "        if text in [''] or text is None:\n",
    "            return ''\n",
    "        while True:\n",
    "            try:\n",
    "                return translator.translate(text, src=\"en\", dest=\"vi\").text\n",
    "            except:\n",
    "                print(\"Requests error\")\n",
    "                time.sleep(sleep_time)\n",
    "    \n",
    "    def clean_text(text):\n",
    "        return text\n",
    "    \n",
    "    data = defaultdict(list)\n",
    "    for i in tqdm(range(0, len(df), batch_size)):\n",
    "        batch_df = df.iloc[i : i + batch_size]\n",
    "        temp_data = defaultdict(list)\n",
    "        for col in df.columns:\n",
    "            batch_df[col] = batch_df[col].apply(lambda x: clean_text(x))\n",
    "            col_vals = ' ## '.join(batch_df[col].values)\n",
    "            temp_data[col] = [x.strip() for x in translate_text(col_vals).split('##')]\n",
    "\n",
    "        can_insert_batch = True\n",
    "        for col in df.columns:\n",
    "            if len(temp_data[col]) != len(batch_df):\n",
    "                can_insert_batch = False\n",
    "                break\n",
    "\n",
    "        if can_insert_batch:\n",
    "            for col in df.columns:\n",
    "                data[col].extend(batch_df[col].values)\n",
    "                data[f'{col}_translated'].extend(temp_data[col])\n",
    "            continue\n",
    "        \n",
    "        # else loop through each row\n",
    "        for _, row in batch_df.iterrows():\n",
    "            for col in df.columns:\n",
    "                text = clean_text(row[col])\n",
    "                data[col].append(text)\n",
    "                data[f'{col}_translated'].append(translate_text(text))\n",
    "                \n",
    "    df = pd.DataFrame(data)\n",
    "    return df.drop(columns=[col for col in df.columns if '_translated' not in col]) "
   ]
  },
  {
   "cell_type": "code",
   "execution_count": null,
   "metadata": {},
   "outputs": [],
   "source": [
    "a = \"\"\"Cuộc trò chuyện giữa con người và trợ lý AI.\n",
    "[|Con người|] {prompt}\n",
    "[|AI|] {response}\n",
    "[|Con người|]\"\"\"\n",
    "\n",
    "def get_prompt(row):\n",
    "    return a.format(prompt=row['prompt'], response=row['response'])"
   ]
  },
  {
   "cell_type": "code",
   "execution_count": null,
   "metadata": {},
   "outputs": [],
   "source": [
    "temp = pd.read_json('../../data/translated/vi_alpaca_reduced.jsonl', lines=True)\n",
    "temp2 = temp.apply(lambda x: get_prompt(x), axis=1)\n",
    "temp2 = pd.DataFrame(temp2)\n",
    "temp2.columns = ['prompt']"
   ]
  },
  {
   "cell_type": "code",
   "execution_count": null,
   "metadata": {},
   "outputs": [],
   "source": [
    "temp3 = pd.read_json('../../data/translated/quora_chat_data_translated.json', orient='records')"
   ]
  },
  {
   "cell_type": "code",
   "execution_count": null,
   "metadata": {},
   "outputs": [],
   "source": [
    "temp3.to_json('../../data/translated/quora_chat_data_translated.json',lines=True,orient='records')\n",
    "temp2.to_json('../../data/translated/alpaca_chat_cleaned_translated.json',lines=True,orient='records')"
   ]
  },
  {
   "cell_type": "markdown",
   "metadata": {},
   "source": [
    "## Clean ShareGPT"
   ]
  },
  {
   "cell_type": "code",
   "execution_count": null,
   "metadata": {},
   "outputs": [],
   "source": [
    "share_gpt = pd.read_json('../../data/original/ShareGPT_V3_unfiltered_cleaned_split.json')"
   ]
  },
  {
   "cell_type": "code",
   "execution_count": null,
   "metadata": {},
   "outputs": [],
   "source": [
    "popular_programming_keywords = [\n",
    "    \"python\",\n",
    "    \"java\",\n",
    "    \"javascript\",\n",
    "    \"c#\",\n",
    "    \"c++\",\n",
    "    \"typescript\",\n",
    "    \"ruby\",\n",
    "    \"swift\",\n",
    "    \"kotlin\",\n",
    "    \"php\",\n",
    "    \"rust\",\n",
    "    \"scala\",\n",
    "    \"dart\",\n",
    "    \"matlab\",\n",
    "    \"objective-c\",\n",
    "    \"perl\",\n",
    "    \"lua\",\n",
    "    \"assert\",\n",
    "    \"async\",\n",
    "    \"await\",\n",
    "    \"def\",\n",
    "    \"elif\",\n",
    "    \"lambda\",\n",
    "    \"nonlocal\",\n",
    "    \"function\",\n",
    "    \"var\",\n",
    "    \"cuda\",\n",
    "    \"torch\",\n",
    "    \"code\",\n",
    "    \"sudo\",\n",
    "    \"bash\"\n",
    "]\n",
    "popular_programming_languages = [\n",
    "    \"python\",\n",
    "    \"java\",\n",
    "    \"javascript\",\n",
    "    \"typescript\",\n",
    "    \"kotlin\",\n",
    "    \"objective-c\",\n",
    "]\n",
    "def check_text_not_contain_code(text):\n",
    "    temp2 = text.lower()\n",
    "    temp = set(temp2.split())\n",
    "    for language in popular_programming_keywords:\n",
    "        if language in temp:\n",
    "            return False\n",
    "    for language in popular_programming_languages:\n",
    "        if language in temp2:\n",
    "            return False\n",
    "    return True\n",
    "\n",
    "temp = share_gpt['conversations'].apply(lambda x: str(x)).apply(check_text_not_contain_code)\n"
   ]
  },
  {
   "cell_type": "code",
   "execution_count": null,
   "metadata": {},
   "outputs": [],
   "source": [
    "# remove duplicate of a Dataset\n",
    "from pandas import DataFrame\n",
    "\n",
    "\n",
    "DataFrame().drop_duplicates(subset=['id']).reset_index(drop=True)"
   ]
  },
  {
   "cell_type": "code",
   "execution_count": null,
   "metadata": {},
   "outputs": [],
   "source": [
    "share_gpt_no_code = share_gpt[temp][['conversations']]\n",
    "share_gpt_no_code = share_gpt_no_code[share_gpt_no_code['conversations'].apply(lambda x: len(x) >= 4)]\n",
    "share_gpt_no_code.shape"
   ]
  },
  {
   "cell_type": "code",
   "execution_count": null,
   "metadata": {},
   "outputs": [],
   "source": [
    "from numpy import nan\n",
    "\n",
    "\n",
    "def create_conversation(turns):\n",
    "    res = \"The conversation between human and AI assistant.\\n\"\n",
    "    for turn in turns:\n",
    "        if turn['from'] == 'human':\n",
    "            res += \"[|Human|] \" + turn['value'] + \"\\n\"\n",
    "        elif turn['from'] == 'gpt':\n",
    "            res += \"[|AI|] \" + turn['value'] + \"\\n\"\n",
    "        else:\n",
    "            return nan\n",
    "    return res\n",
    "\n",
    "share_gpt_no_code_conversations = share_gpt_no_code.apply(lambda x: create_conversation(x['conversations']), axis=1)"
   ]
  },
  {
   "cell_type": "code",
   "execution_count": null,
   "metadata": {},
   "outputs": [],
   "source": [
    "print(share_gpt_no_code_conversations.sample(1).iloc[0])"
   ]
  },
  {
   "cell_type": "code",
   "execution_count": null,
   "metadata": {},
   "outputs": [],
   "source": [
    "share_gpt_no_code_conversations.to_json('../../data/original/share_gpt_no_code_conversations.json', orient='records', lines=True)"
   ]
  },
  {
   "cell_type": "code",
   "execution_count": null,
   "metadata": {},
   "outputs": [],
   "source": []
  },
  {
   "cell_type": "markdown",
   "metadata": {},
   "source": [
    "### MMLU"
   ]
  },
  {
   "cell_type": "code",
   "execution_count": 129,
   "metadata": {},
   "outputs": [
    {
     "name": "stderr",
     "output_type": "stream",
     "text": [
      "Found cached dataset json (/Users/phamhoang1408/.cache/huggingface/datasets/json/default-f460ecd73abeac7d/0.0.0)\n",
      "Found cached dataset json (/Users/phamhoang1408/.cache/huggingface/datasets/json/default-f47cf53436e97d4b/0.0.0)\n",
      "Found cached dataset json (/Users/phamhoang1408/.cache/huggingface/datasets/json/default-07bf859ffaee4a15/0.0.0)\n",
      "Found cached dataset json (/Users/phamhoang1408/.cache/huggingface/datasets/json/default-773bce18e11e9f22/0.0.0)\n",
      "Loading cached processed dataset at /Users/phamhoang1408/.cache/huggingface/datasets/json/default-f460ecd73abeac7d/0.0.0/cache-50f99576fa046b54.arrow\n",
      "Loading cached processed dataset at /Users/phamhoang1408/.cache/huggingface/datasets/json/default-07bf859ffaee4a15/0.0.0/cache-920236c88ff1a9cb.arrow\n",
      "Loading cached processed dataset at /Users/phamhoang1408/.cache/huggingface/datasets/json/default-f47cf53436e97d4b/0.0.0/cache-cf64e4782697708a.arrow\n",
      "Loading cached processed dataset at /Users/phamhoang1408/.cache/huggingface/datasets/json/default-773bce18e11e9f22/0.0.0/cache-5ebc0230a339acd1.arrow\n"
     ]
    }
   ],
   "source": [
    "mmlu_zero_shot_test = Dataset.from_json('../../../data/mmlu_eval_test/zero_shot_mmlu_test.json')\n",
    "mmlu_five_shot_test = Dataset.from_json('../../../data/mmlu_eval_test/five_shot_mmlu_test.json')\n",
    "mmlu_zero_shot_val = Dataset.from_json('../../../data/mmlu_eval_test/zero_shot_mmlu_val.json')\n",
    "mmlu_five_shot_val = Dataset.from_json('../../../data/mmlu_eval_test/five_shot_mmlu_val.json')\n",
    "\n",
    "def mapper(example):\n",
    "    text = 'The following are multiple choice questions (with answers) about'\n",
    "    example['input'] = example['input'].replace(f'{text} ', f'The conversation between human and AI assistant.\\n[|Human|] {text}')\n",
    "    example['output'] = f'[|AI|] {example[\"output\"]}\\n[|Human|]'\n",
    "    return example\n",
    "\n",
    "mmlu_zero_shot_test = mmlu_zero_shot_test.map(mapper)\n",
    "mmlu_zero_shot_val = mmlu_zero_shot_val.map(mapper)\n",
    "mmlu_five_shot_test = mmlu_five_shot_test.map(mapper)\n",
    "mmlu_five_shot_val = mmlu_five_shot_val.map(mapper)"
   ]
  },
  {
   "cell_type": "code",
   "execution_count": 144,
   "metadata": {},
   "outputs": [
    {
     "name": "stdout",
     "output_type": "stream",
     "text": [
      "The conversation between human and AI assistant.\n",
      "[|Human|] The following are multiple choice questions (with answers) about professional accounting.\n",
      "\n",
      "Box a nongovernmental not-for-profit organization had the following transactions during the year: Proceeds from sale of investments $80000 Purchase of property plant and equipment $10000 Proceeds from long-term debt $100000 Loss on sale of investment $5000 What amount should be reported as net cash provided by financing activities in Box's statement of cash flows?\n",
      "A. $70,000\n",
      "B. $75,000\n",
      "C. $80,000\n",
      "D. 100000\n",
      "Answer: D\n",
      "\n",
      "One hundred years ago, your great-great-grandmother invested $100 at 5% yearly interest. What is the investment worth today?\n",
      "A. $13,000\n",
      "B. $600\n",
      "C. $15,000\n",
      "D. $28,000\n",
      "Answer: A\n",
      "\n",
      "Krete is an unmarried taxpayer with income exclusively from wages. By December 31, year 1, Krete's employer has withheld $16,000 in federal income taxes and Krete has made no estimated tax payments. On April 15, year 2, Krete timely filed for an extension request to file her individual tax return, and paid $300 of additional taxes. Krete's year 1 tax liability was $16,500 when she timely filed her return on April 30, year 2, and paid the remaining tax liability balance. What amount would be subject to the penalty for underpayment of estimated taxes?\n",
      "A. $0\n",
      "B. $500\n",
      "C. $1,650\n",
      "D. $16,500\n",
      "Answer: A\n",
      "\n",
      "On January 1, year 1, Alpha Co. signed an annual maintenance agreement with a software provider for $15,000 and the maintenance period begins on March 1, year 2. Alpha also incurred $5,000 of costs on January 1, year 1, related to software modification requests that will increase the functionality of the software. Alpha depreciates and amortizes its computer and software assets over five years using the straight-line method. What amount is the total expense that Alpha should recognize related to the maintenance agreement and the software modifications for the year ended December 31, year 1?\n",
      "A. $5,000\n",
      "B. $13,500\n",
      "C. $16,000\n",
      "D. $20,000\n",
      "Answer: B\n",
      "\n",
      "An auditor traces the serial numbers on equipment to a nonissuer’s subledger. Which of the following management assertions is supported by this test?\n",
      "A. Valuation and allocation\n",
      "B. Completeness\n",
      "C. Rights and obligations\n",
      "D. Presentation and disclosure\n",
      "Answer: B\n",
      "\n",
      "Zokro a nongovernmental not-for-profit organization uses the indirect method to prepare its statement of cash flows. In determining its net cash provided (used) by operating activities Sokro must add back which of the following to the change in net assets?\n",
      "A. Purchase of equipment.\n",
      "B. Payment on long-term debt.\n",
      "C. Depreciation.\n",
      "D. Decrease in accounts payable.\n",
      "Answer:\n",
      "[|AI|] C\n",
      "[|Human|]\n"
     ]
    }
   ],
   "source": [
    "temp = mmlu_five_shot_test.shuffle()[0]\n",
    "print(temp['input'])\n",
    "print(temp['output'])"
   ]
  },
  {
   "cell_type": "code",
   "execution_count": 147,
   "metadata": {},
   "outputs": [
    {
     "name": "stdout",
     "output_type": "stream",
     "text": [
      "The conversation between human and AI assistant.\n",
      "[|Human|] The following are multiple choice questions (with answers) about high school physics.\n",
      "\n",
      "In Collision A, two carts collide and bounce off each other. In Collision B, a ball sticks to a rigid rod, which begins to rotate about the combined center of mass. Which of the following statements about quantities in each collision is correct?\n",
      "A. Collision A: each cart experiences the same force, time of collision, and change in kinetic energy. Collision B: the ball and the rod each experience the same torque, time of collision, and change in rotational kinetic energy.\n",
      "B. Collision A: each cart experiences the same force, time of collision, and change in linear momentum. Collision B: the ball and the rod each experience the same torque, time of collision, and change in angular momentum.\n",
      "C. Collision A: each cart experiences the same force, time of collision, and change in kinetic energy. Collision B: the ball and the rod each experience the same torque, time of collision, and change in angular momentum.\n",
      "D. Collision A: each cart experiences the same force, time of collision, and change in velocity. Collision B: the ball and the rod each experience the same torque, time of collision, and change in angular velocity\n",
      "Answer:\n",
      "[|AI|] B\n",
      "[|Human|]\n"
     ]
    }
   ],
   "source": [
    "temp = mmlu_zero_shot_test.shuffle()[0]\n",
    "print(temp['input'])\n",
    "print(temp['output'])"
   ]
  },
  {
   "cell_type": "code",
   "execution_count": 148,
   "metadata": {},
   "outputs": [
    {
     "data": {
      "application/vnd.jupyter.widget-view+json": {
       "model_id": "dd3bc029a66e4fcc8132e26d84254495",
       "version_major": 2,
       "version_minor": 0
      },
      "text/plain": [
       "Creating json from Arrow format:   0%|          | 0/15 [00:00<?, ?ba/s]"
      ]
     },
     "metadata": {},
     "output_type": "display_data"
    },
    {
     "data": {
      "application/vnd.jupyter.widget-view+json": {
       "model_id": "d54f18f37a2742a981ec8ea377d2c7d6",
       "version_major": 2,
       "version_minor": 0
      },
      "text/plain": [
       "Creating json from Arrow format:   0%|          | 0/15 [00:00<?, ?ba/s]"
      ]
     },
     "metadata": {},
     "output_type": "display_data"
    },
    {
     "data": {
      "application/vnd.jupyter.widget-view+json": {
       "model_id": "9f3fa6251a4345be8c95135d2874f5f4",
       "version_major": 2,
       "version_minor": 0
      },
      "text/plain": [
       "Creating json from Arrow format:   0%|          | 0/2 [00:00<?, ?ba/s]"
      ]
     },
     "metadata": {},
     "output_type": "display_data"
    },
    {
     "data": {
      "application/vnd.jupyter.widget-view+json": {
       "model_id": "b6b3a5f75fcf495fa07d256db13b073a",
       "version_major": 2,
       "version_minor": 0
      },
      "text/plain": [
       "Creating json from Arrow format:   0%|          | 0/2 [00:00<?, ?ba/s]"
      ]
     },
     "metadata": {},
     "output_type": "display_data"
    },
    {
     "data": {
      "text/plain": [
       "4757760"
      ]
     },
     "execution_count": 148,
     "metadata": {},
     "output_type": "execute_result"
    }
   ],
   "source": [
    "mmlu_zero_shot_test.to_json('../../../data/mmlu_eval_test/zero_shot_mmlu_chat_test.jsonl')\n",
    "mmlu_five_shot_test.to_json('../../../data/mmlu_eval_test/five_shot_mmlu_chat_test.jsonl')\n",
    "mmlu_zero_shot_val.to_json('../../../data/mmlu_eval_test/zero_shot_mmlu_chat_val.jsonl')\n",
    "mmlu_five_shot_val.to_json('../../../data/mmlu_eval_test/five_shot_mmlu_chat_val.jsonl')"
   ]
  },
  {
   "cell_type": "markdown",
   "metadata": {},
   "source": [
    "## FAQ"
   ]
  },
  {
   "cell_type": "code",
   "execution_count": 9,
   "metadata": {},
   "outputs": [],
   "source": [
    "path = '../../../data/translated/all_faqs.json'\n",
    "faqs = pd.read_json(path)"
   ]
  },
  {
   "cell_type": "code",
   "execution_count": 5,
   "metadata": {},
   "outputs": [
    {
     "data": {
      "text/html": [
       "<div>\n",
       "<style scoped>\n",
       "    .dataframe tbody tr th:only-of-type {\n",
       "        vertical-align: middle;\n",
       "    }\n",
       "\n",
       "    .dataframe tbody tr th {\n",
       "        vertical-align: top;\n",
       "    }\n",
       "\n",
       "    .dataframe thead th {\n",
       "        text-align: right;\n",
       "    }\n",
       "</style>\n",
       "<table border=\"1\" class=\"dataframe\">\n",
       "  <thead>\n",
       "    <tr style=\"text-align: right;\">\n",
       "      <th></th>\n",
       "      <th>instruction</th>\n",
       "      <th>input</th>\n",
       "      <th>output</th>\n",
       "    </tr>\n",
       "  </thead>\n",
       "  <tbody>\n",
       "    <tr>\n",
       "      <th>0</th>\n",
       "      <td>Bạn là luật sư. Hãy trả lời câu hỏi pháp luật ...</td>\n",
       "      <td>Câu hỏi: Tội giết con mới đẻ là gì?\\nĐiều luật...</td>\n",
       "      <td>Người mẹ nào do ảnh hưởng nặng nề của tư tưởng...</td>\n",
       "    </tr>\n",
       "    <tr>\n",
       "      <th>1</th>\n",
       "      <td>Bạn là luật sư. Hãy trả lời câu hỏi pháp luật ...</td>\n",
       "      <td>Câu hỏi: Vì làm ăn thiếu vốn nên em có vay của...</td>\n",
       "      <td>Bộ luật Hình sự quy định về tội lừa đảo chiếm ...</td>\n",
       "    </tr>\n",
       "    <tr>\n",
       "      <th>2</th>\n",
       "      <td>Bạn là luật sư. Hãy trả lời câu hỏi pháp luật ...</td>\n",
       "      <td>Câu hỏi: Theo quy định pháp luật, trường hợp n...</td>\n",
       "      <td>Theo quy định tại khoản 1 Điều 6 Thông tư số 1...</td>\n",
       "    </tr>\n",
       "    <tr>\n",
       "      <th>3</th>\n",
       "      <td>Bạn là luật sư. Hãy trả lời câu hỏi pháp luật ...</td>\n",
       "      <td>Câu hỏi: Chủ thể chịu trách nhiệm hình sự đối ...</td>\n",
       "      <td>Chủ thể của tội làm giả hồ sơ để tiêm vaccine ...</td>\n",
       "    </tr>\n",
       "    <tr>\n",
       "      <th>4</th>\n",
       "      <td>Bạn là luật sư. Hãy trả lời câu hỏi pháp luật ...</td>\n",
       "      <td>Câu hỏi: Tội khai báo gian dối hoặc cung cấp t...</td>\n",
       "      <td>Tại Điều 382, Bộ luật Hình sự năm 2015 sửa đổi...</td>\n",
       "    </tr>\n",
       "    <tr>\n",
       "      <th>...</th>\n",
       "      <td>...</td>\n",
       "      <td>...</td>\n",
       "      <td>...</td>\n",
       "    </tr>\n",
       "    <tr>\n",
       "      <th>6695</th>\n",
       "      <td>Bạn là luật sư. Hãy trả lời câu hỏi pháp luật ...</td>\n",
       "      <td>Câu hỏi: Hỗ trợ doanh nghiệp vay vốn trả lương...</td>\n",
       "      <td>1. Điều kiện hỗ trợ doanh nghiệp vay vốn trả l...</td>\n",
       "    </tr>\n",
       "    <tr>\n",
       "      <th>6696</th>\n",
       "      <td>Bạn là luật sư. Hãy trả lời câu hỏi pháp luật ...</td>\n",
       "      <td>Câu hỏi: Tôi muốn thành lập chi nhánh doanh ng...</td>\n",
       "      <td>Có. Theo quy định tại Điều 29 Luật đấu giá tài...</td>\n",
       "    </tr>\n",
       "    <tr>\n",
       "      <th>6697</th>\n",
       "      <td>Bạn là luật sư. Hãy trả lời câu hỏi pháp luật ...</td>\n",
       "      <td>Câu hỏi: Hành vi đánh nhau có hung khí\\nĐiều l...</td>\n",
       "      <td>Theo Điều 7 Nghị định 144/2021/NĐ-CP, hành vi ...</td>\n",
       "    </tr>\n",
       "    <tr>\n",
       "      <th>6698</th>\n",
       "      <td>Bạn là luật sư. Hãy trả lời câu hỏi pháp luật ...</td>\n",
       "      <td>Câu hỏi: Người làm việc theo hợp đồng lao động...</td>\n",
       "      <td>Theo quy định tại khoản 2 Điều 2 của Thông tư ...</td>\n",
       "    </tr>\n",
       "    <tr>\n",
       "      <th>6699</th>\n",
       "      <td>Bạn là luật sư. Hãy trả lời câu hỏi pháp luật ...</td>\n",
       "      <td>Câu hỏi: Cha mẹ tôi có 4 người con. Người anh ...</td>\n",
       "      <td>Theo khoản 1 Điều 675 Bộ luật dân sự, thừa kế ...</td>\n",
       "    </tr>\n",
       "  </tbody>\n",
       "</table>\n",
       "<p>6700 rows × 3 columns</p>\n",
       "</div>"
      ],
      "text/plain": [
       "                                            instruction  \\\n",
       "0     Bạn là luật sư. Hãy trả lời câu hỏi pháp luật ...   \n",
       "1     Bạn là luật sư. Hãy trả lời câu hỏi pháp luật ...   \n",
       "2     Bạn là luật sư. Hãy trả lời câu hỏi pháp luật ...   \n",
       "3     Bạn là luật sư. Hãy trả lời câu hỏi pháp luật ...   \n",
       "4     Bạn là luật sư. Hãy trả lời câu hỏi pháp luật ...   \n",
       "...                                                 ...   \n",
       "6695  Bạn là luật sư. Hãy trả lời câu hỏi pháp luật ...   \n",
       "6696  Bạn là luật sư. Hãy trả lời câu hỏi pháp luật ...   \n",
       "6697  Bạn là luật sư. Hãy trả lời câu hỏi pháp luật ...   \n",
       "6698  Bạn là luật sư. Hãy trả lời câu hỏi pháp luật ...   \n",
       "6699  Bạn là luật sư. Hãy trả lời câu hỏi pháp luật ...   \n",
       "\n",
       "                                                  input  \\\n",
       "0     Câu hỏi: Tội giết con mới đẻ là gì?\\nĐiều luật...   \n",
       "1     Câu hỏi: Vì làm ăn thiếu vốn nên em có vay của...   \n",
       "2     Câu hỏi: Theo quy định pháp luật, trường hợp n...   \n",
       "3     Câu hỏi: Chủ thể chịu trách nhiệm hình sự đối ...   \n",
       "4     Câu hỏi: Tội khai báo gian dối hoặc cung cấp t...   \n",
       "...                                                 ...   \n",
       "6695  Câu hỏi: Hỗ trợ doanh nghiệp vay vốn trả lương...   \n",
       "6696  Câu hỏi: Tôi muốn thành lập chi nhánh doanh ng...   \n",
       "6697  Câu hỏi: Hành vi đánh nhau có hung khí\\nĐiều l...   \n",
       "6698  Câu hỏi: Người làm việc theo hợp đồng lao động...   \n",
       "6699  Câu hỏi: Cha mẹ tôi có 4 người con. Người anh ...   \n",
       "\n",
       "                                                 output  \n",
       "0     Người mẹ nào do ảnh hưởng nặng nề của tư tưởng...  \n",
       "1     Bộ luật Hình sự quy định về tội lừa đảo chiếm ...  \n",
       "2     Theo quy định tại khoản 1 Điều 6 Thông tư số 1...  \n",
       "3     Chủ thể của tội làm giả hồ sơ để tiêm vaccine ...  \n",
       "4     Tại Điều 382, Bộ luật Hình sự năm 2015 sửa đổi...  \n",
       "...                                                 ...  \n",
       "6695  1. Điều kiện hỗ trợ doanh nghiệp vay vốn trả l...  \n",
       "6696  Có. Theo quy định tại Điều 29 Luật đấu giá tài...  \n",
       "6697  Theo Điều 7 Nghị định 144/2021/NĐ-CP, hành vi ...  \n",
       "6698  Theo quy định tại khoản 2 Điều 2 của Thông tư ...  \n",
       "6699  Theo khoản 1 Điều 675 Bộ luật dân sự, thừa kế ...  \n",
       "\n",
       "[6700 rows x 3 columns]"
      ]
     },
     "execution_count": 5,
     "metadata": {},
     "output_type": "execute_result"
    }
   ],
   "source": [
    "faqs"
   ]
  },
  {
   "cell_type": "code",
   "execution_count": 6,
   "metadata": {},
   "outputs": [
    {
     "name": "stdout",
     "output_type": "stream",
     "text": [
      "Bạn là luật sư. Hãy trả lời câu hỏi pháp luật dựa vào những điều luật được trích dẫn dưới đây. Nếu không tìm có câu trả lời thì trả lời là tôi không biết.\n",
      "Câu hỏi: Quyền và lợi ích của người lao động khi làm việc theo hợp đồng lao động bị tuyên bố vô hiệu\n",
      "Điều luật liên quan: Điều 10. Xử lý hợp đồng lao động vô hiệu toàn bộ do người giao kết không đúng thẩm quyền hoặc vi phạm nguyên tắc giao kết hợp đồng lao động 1. Khi hợp đồng lao động bị tuyên bố vô hiệu toàn bộ, người lao động và người sử dụng lao động ký lại hợp đồng lao động theo đúng quy định của pháp luật. 2. Quyền, nghĩa vụ và lợi ích của người lao động kể từ khi bắt đầu làm việc theo hợp đồng lao động bị tuyên bố vô hiệu cho đến khi hợp đồng lao động được ký lại thực hiện như sau: a) Nếu quyền, lợi ích của mỗi bên trong hợp đồng lao động không thấp hơn quy định của pháp luật, thỏa ước lao động tập thể đang áp dụng thì quyền, nghĩa vụ, lợi ích của người lao động được thực hiện theo nội dung hợp đồng lao động bị tuyên bố vô hiệu; b) Nếu hợp đồng lao động có nội dung về quyền, nghĩa vụ, lợi ích của mỗi bên vi phạm pháp luật nhưng không ảnh hưởng đến phần nội dung khác của hợp đồng lao động thì quyền, nghĩa vụ và lợi ích của người lao động thực hiện theo khoản 2 Điều 9 Nghị định này; c) Thời gian người lao động làm việc theo hợp đồng lao động bị tuyên bố vô hiệu được tính là thời gian làm việc của người lao động cho người sử dụng lao động để làm căn cứ thực hiện chế độ theo quy định của pháp luật về lao động. 3. Trường hợp không ký lại hợp đồng lao động bị tuyên bố vô hiệu toàn bộ thì: a) Thực hiện chấm dứt hợp đồng lao động; b) Quyền, nghĩa vụ, lợi ích của người lao động kể từ khi bắt đầu làm việc theo hợp đồng lao động bị tuyên bố vô hiệu cho đến khi chấm dứt hợp đồng lao động được thực hiện theo quy định tại khoản 2 Điều này; c) Giải quyết chế độ trợ cấp thôi việc theo quy định tại Điều 8 Nghị định này. 4. Các vấn đề khác liên quan đến việc xử lý hợp đồng lao động vô hiệu toàn bộ do người giao kết không đúng thẩm quyền hoặc vi phạm nguyên tắc giao kết hợp đồng lao động thuộc thẩm quyền giải quyết của Tòa án theo quy định của Bộ luật Tố tụng dân sự.\n",
      "Câu trả lời: Căn cứ theo khoản 2 Điều 10 Nghị định 145/2020/NĐ-CP quy định về việc xử lý hợp đồng lao động vô hiệu toàn bộ do người giao kết không đúng thẩm quyền hoặc vi phạm nguyên tắc giao kết hợp đồng lao động như sau: “2. Quyền, nghĩa vụ và lợi ích của người lao động kể từ khi bắt đầu làm việc theo hợp đồng lao động bị tuyên bố vô hiệu cho đến khi hợp đồng lao động được ký lại thực hiện như sau: a) Nếu quyền, lợi ích của mỗi bên trong hợp đồng lao động không thấp hơn quy định của pháp luật, thỏa ước lao động tập thể đang áp dụng thì quyền, nghĩa vụ, lợi ích của người lao động được thực hiện theo nội dung hợp đồng lao động bị tuyên bố vô hiệu; b) Nếu hợp đồng lao động có nội dung về quyền, nghĩa vụ, lợi ích của mỗi bên vi phạm pháp luật nhưng không ảnh hưởng đến phần nội dung khác của hợp đồng lao động thì quyền, nghĩa vụ và lợi ích của người lao động thực hiện theo khoản 2 Điều 9 Nghị định này; c) Thời gian người lao động làm việc theo hợp đồng lao động bị tuyên bố vô hiệu được tính là thời gian làm việc của người lao động cho người sử dụng lao động để làm căn cứ thực hiện chế độ theo quy định của pháp luật về lao động.” Theo đó, khi người lao động làm việc theo hợp đồng lao động bị tuyên bố vô hiệu cho đến khi hợp đồng lao động được ký lại thì quyền và lợi ích của người lao động sẽ được bảo đảm thực hiện theo như quy định trên.\n"
     ]
    }
   ],
   "source": [
    "template = \"\"\"{instruction}\\n{input}\\nCâu trả lời: {output}\"\"\"\n",
    "print(template.format(**faqs.sample(1).iloc[0]))"
   ]
  },
  {
   "cell_type": "code",
   "execution_count": 7,
   "metadata": {},
   "outputs": [],
   "source": [
    "temp = faqs['input'].apply(lambda x: not x.endswith('Điều luật liên quan: '))\n",
    "faqs = faqs[temp]"
   ]
  },
  {
   "cell_type": "code",
   "execution_count": 8,
   "metadata": {},
   "outputs": [
    {
     "data": {
      "text/html": [
       "<div>\n",
       "<style scoped>\n",
       "    .dataframe tbody tr th:only-of-type {\n",
       "        vertical-align: middle;\n",
       "    }\n",
       "\n",
       "    .dataframe tbody tr th {\n",
       "        vertical-align: top;\n",
       "    }\n",
       "\n",
       "    .dataframe thead th {\n",
       "        text-align: right;\n",
       "    }\n",
       "</style>\n",
       "<table border=\"1\" class=\"dataframe\">\n",
       "  <thead>\n",
       "    <tr style=\"text-align: right;\">\n",
       "      <th></th>\n",
       "      <th>instruction</th>\n",
       "      <th>input</th>\n",
       "      <th>output</th>\n",
       "    </tr>\n",
       "  </thead>\n",
       "  <tbody>\n",
       "    <tr>\n",
       "      <th>1</th>\n",
       "      <td>Bạn là luật sư. Hãy trả lời câu hỏi pháp luật ...</td>\n",
       "      <td>Câu hỏi: Vì làm ăn thiếu vốn nên em có vay của...</td>\n",
       "      <td>Bộ luật Hình sự quy định về tội lừa đảo chiếm ...</td>\n",
       "    </tr>\n",
       "    <tr>\n",
       "      <th>6</th>\n",
       "      <td>Bạn là luật sư. Hãy trả lời câu hỏi pháp luật ...</td>\n",
       "      <td>Câu hỏi: Thẩm quyền giải quyết tranh chấp đất ...</td>\n",
       "      <td>Giải quyết tranh chấp đất đai là hoạt động của...</td>\n",
       "    </tr>\n",
       "    <tr>\n",
       "      <th>8</th>\n",
       "      <td>Bạn là luật sư. Hãy trả lời câu hỏi pháp luật ...</td>\n",
       "      <td>Câu hỏi: Nhiệm vụ quyền hạn của Uỷ ban nhân xã...</td>\n",
       "      <td>Theo quy định tại Điều 115 Luật Tổ chức Hội đồ...</td>\n",
       "    </tr>\n",
       "    <tr>\n",
       "      <th>15</th>\n",
       "      <td>Bạn là luật sư. Hãy trả lời câu hỏi pháp luật ...</td>\n",
       "      <td>Câu hỏi: Chào anh/chị, Về việc xin cấp Phiếu l...</td>\n",
       "      <td>Chào bạn Nguyen Vu Cuong! Trung tâm Lý lịch tư...</td>\n",
       "    </tr>\n",
       "    <tr>\n",
       "      <th>16</th>\n",
       "      <td>Bạn là luật sư. Hãy trả lời câu hỏi pháp luật ...</td>\n",
       "      <td>Câu hỏi: Tôi có 120m2 đất được hưởng từ di chú...</td>\n",
       "      <td>Trường hợp bạn hỏi, chúng tôi xin được trả lời...</td>\n",
       "    </tr>\n",
       "    <tr>\n",
       "      <th>...</th>\n",
       "      <td>...</td>\n",
       "      <td>...</td>\n",
       "      <td>...</td>\n",
       "    </tr>\n",
       "    <tr>\n",
       "      <th>6689</th>\n",
       "      <td>Bạn là luật sư. Hãy trả lời câu hỏi pháp luật ...</td>\n",
       "      <td>Câu hỏi: Hành vi gian lận bảo hiểm y tế bị xử ...</td>\n",
       "      <td>1. Căn cứ Điều 215 Bộ luật Hình sự 2015 quy đị...</td>\n",
       "    </tr>\n",
       "    <tr>\n",
       "      <th>6690</th>\n",
       "      <td>Bạn là luật sư. Hãy trả lời câu hỏi pháp luật ...</td>\n",
       "      <td>Câu hỏi: Đơn xin nghỉ việc phải gửi trước bao ...</td>\n",
       "      <td>Theo quy định tại Điều 35 Bộ luật Lao động năm...</td>\n",
       "    </tr>\n",
       "    <tr>\n",
       "      <th>6691</th>\n",
       "      <td>Bạn là luật sư. Hãy trả lời câu hỏi pháp luật ...</td>\n",
       "      <td>Câu hỏi: Tội cướp giật tài sản được coi là hoà...</td>\n",
       "      <td>Tội cướp giật tài sản hiện nay được quy định t...</td>\n",
       "    </tr>\n",
       "    <tr>\n",
       "      <th>6693</th>\n",
       "      <td>Bạn là luật sư. Hãy trả lời câu hỏi pháp luật ...</td>\n",
       "      <td>Câu hỏi: Vừa qua, tôi có yêu cầu Sở Tư pháp nơ...</td>\n",
       "      <td>Theo quy định tại khoản 3 Điều 42 Luật Lý lịch...</td>\n",
       "    </tr>\n",
       "    <tr>\n",
       "      <th>6699</th>\n",
       "      <td>Bạn là luật sư. Hãy trả lời câu hỏi pháp luật ...</td>\n",
       "      <td>Câu hỏi: Cha mẹ tôi có 4 người con. Người anh ...</td>\n",
       "      <td>Theo khoản 1 Điều 675 Bộ luật dân sự, thừa kế ...</td>\n",
       "    </tr>\n",
       "  </tbody>\n",
       "</table>\n",
       "<p>2725 rows × 3 columns</p>\n",
       "</div>"
      ],
      "text/plain": [
       "                                            instruction  \\\n",
       "1     Bạn là luật sư. Hãy trả lời câu hỏi pháp luật ...   \n",
       "6     Bạn là luật sư. Hãy trả lời câu hỏi pháp luật ...   \n",
       "8     Bạn là luật sư. Hãy trả lời câu hỏi pháp luật ...   \n",
       "15    Bạn là luật sư. Hãy trả lời câu hỏi pháp luật ...   \n",
       "16    Bạn là luật sư. Hãy trả lời câu hỏi pháp luật ...   \n",
       "...                                                 ...   \n",
       "6689  Bạn là luật sư. Hãy trả lời câu hỏi pháp luật ...   \n",
       "6690  Bạn là luật sư. Hãy trả lời câu hỏi pháp luật ...   \n",
       "6691  Bạn là luật sư. Hãy trả lời câu hỏi pháp luật ...   \n",
       "6693  Bạn là luật sư. Hãy trả lời câu hỏi pháp luật ...   \n",
       "6699  Bạn là luật sư. Hãy trả lời câu hỏi pháp luật ...   \n",
       "\n",
       "                                                  input  \\\n",
       "1     Câu hỏi: Vì làm ăn thiếu vốn nên em có vay của...   \n",
       "6     Câu hỏi: Thẩm quyền giải quyết tranh chấp đất ...   \n",
       "8     Câu hỏi: Nhiệm vụ quyền hạn của Uỷ ban nhân xã...   \n",
       "15    Câu hỏi: Chào anh/chị, Về việc xin cấp Phiếu l...   \n",
       "16    Câu hỏi: Tôi có 120m2 đất được hưởng từ di chú...   \n",
       "...                                                 ...   \n",
       "6689  Câu hỏi: Hành vi gian lận bảo hiểm y tế bị xử ...   \n",
       "6690  Câu hỏi: Đơn xin nghỉ việc phải gửi trước bao ...   \n",
       "6691  Câu hỏi: Tội cướp giật tài sản được coi là hoà...   \n",
       "6693  Câu hỏi: Vừa qua, tôi có yêu cầu Sở Tư pháp nơ...   \n",
       "6699  Câu hỏi: Cha mẹ tôi có 4 người con. Người anh ...   \n",
       "\n",
       "                                                 output  \n",
       "1     Bộ luật Hình sự quy định về tội lừa đảo chiếm ...  \n",
       "6     Giải quyết tranh chấp đất đai là hoạt động của...  \n",
       "8     Theo quy định tại Điều 115 Luật Tổ chức Hội đồ...  \n",
       "15    Chào bạn Nguyen Vu Cuong! Trung tâm Lý lịch tư...  \n",
       "16    Trường hợp bạn hỏi, chúng tôi xin được trả lời...  \n",
       "...                                                 ...  \n",
       "6689  1. Căn cứ Điều 215 Bộ luật Hình sự 2015 quy đị...  \n",
       "6690  Theo quy định tại Điều 35 Bộ luật Lao động năm...  \n",
       "6691  Tội cướp giật tài sản hiện nay được quy định t...  \n",
       "6693  Theo quy định tại khoản 3 Điều 42 Luật Lý lịch...  \n",
       "6699  Theo khoản 1 Điều 675 Bộ luật dân sự, thừa kế ...  \n",
       "\n",
       "[2725 rows x 3 columns]"
      ]
     },
     "execution_count": 8,
     "metadata": {},
     "output_type": "execute_result"
    }
   ],
   "source": [
    "faqs"
   ]
  },
  {
   "cell_type": "code",
   "execution_count": null,
   "metadata": {},
   "outputs": [],
   "source": [
    "faqs['output_len'] = faqs['output'].apply(lambda x: len(x.split()))"
   ]
  },
  {
   "cell_type": "code",
   "execution_count": null,
   "metadata": {},
   "outputs": [],
   "source": [
    "faqs['output_len'].hist(bins=100)"
   ]
  },
  {
   "cell_type": "code",
   "execution_count": null,
   "metadata": {},
   "outputs": [],
   "source": [
    "faqs_standard = faqs[faqs['output_len'] < 200]"
   ]
  },
  {
   "cell_type": "code",
   "execution_count": null,
   "metadata": {},
   "outputs": [],
   "source": [
    "template = \"\"\"{instruction}\\n{input}\\nCâu trả lời: {output}\"\"\"\n",
    "print(template.format(**faqs_standard.sample(1).iloc[0]))"
   ]
  },
  {
   "cell_type": "code",
   "execution_count": null,
   "metadata": {},
   "outputs": [],
   "source": [
    "template = \"\"\"{instruction}\\n{input}\\nCâu trả lời: {output}\"\"\"\n",
    "print(template.format(**faqs.sample(1).iloc[0]))"
   ]
  },
  {
   "cell_type": "code",
   "execution_count": null,
   "metadata": {},
   "outputs": [],
   "source": [
    "faqs_standard"
   ]
  },
  {
   "cell_type": "code",
   "execution_count": null,
   "metadata": {},
   "outputs": [],
   "source": [
    "temp = Dataset.from_json('/Users/phamhoang1408/Desktop/Phase 2 Viettel/main_repo/data/training/alpaca_chat_cleaned_51k_translated.json')\n",
    "temp.rename_column(temp.column_names[0], 'text')"
   ]
  },
  {
   "cell_type": "code",
   "execution_count": null,
   "metadata": {},
   "outputs": [],
   "source": [
    "ds = Dataset.from_json('../../data/original/gpt4-instruct-similarity-0.8-dataset.json')"
   ]
  },
  {
   "cell_type": "code",
   "execution_count": null,
   "metadata": {},
   "outputs": [],
   "source": [
    "len(ds.shuffle()[0]['response'].split())"
   ]
  },
  {
   "cell_type": "code",
   "execution_count": null,
   "metadata": {},
   "outputs": [],
   "source": [
    "ds"
   ]
  },
  {
   "cell_type": "code",
   "execution_count": null,
   "metadata": {},
   "outputs": [],
   "source": [
    "from datasets import Dataset, concatenate_datasets\n",
    "from glob import glob\n",
    "\n",
    "def load_dataset(folder_path, dataset_size=None):\n",
    "    data = []\n",
    "    file_paths = glob(folder_path + \"/*.jsonl\")\n",
    "    for path in file_paths:\n",
    "        ds = Dataset.from_json(path)\n",
    "        if len(ds.column_names) != 1:\n",
    "            raise ValueError(\"Dataset must have only one text column\")\n",
    "        ds = ds.rename_column(ds.column_names[0], \"text\")\n",
    "        data.append(ds)\n",
    "    if dataset_size is None:\n",
    "        return concatenate_datasets(data, axis=0).shuffle()\n",
    "    return concatenate_datasets(data, axis=0).shuffle().select(range(dataset_size))"
   ]
  },
  {
   "cell_type": "code",
   "execution_count": null,
   "metadata": {},
   "outputs": [],
   "source": [
    "ds = load_dataset('../../data/training_31_7')"
   ]
  },
  {
   "cell_type": "code",
   "execution_count": null,
   "metadata": {},
   "outputs": [],
   "source": [
    "print(ds.shuffle()[0]['text'])"
   ]
  },
  {
   "cell_type": "code",
   "execution_count": null,
   "metadata": {},
   "outputs": [],
   "source": [
    "from glob import glob\n",
    "from datasets import Dataset, concatenate_datasets\n",
    "def load_dataset(folder_path, dataset_size=None):\n",
    "    data = []\n",
    "    for path in glob(folder_path + \"/*.jsonl\"):\n",
    "        ds = Dataset.from_json(path)\n",
    "        if len(ds.column_names) != 1:\n",
    "            raise ValueError(\"Dataset must have only one text column\")\n",
    "        ds = ds.rename_column(ds.column_names[0], \"text\")\n",
    "        data.append(ds)\n",
    "    if dataset_size is None:\n",
    "        final_ds = concatenate_datasets(data, axis=0).shuffle(seed=42)\n",
    "    final_ds = (\n",
    "        concatenate_datasets(data, axis=0).shuffle(seed=42).select(range(dataset_size))\n",
    "    )\n",
    "    final_ds = final_ds.filter(lambda x: x[\"text\"] != \"\" or x[\"text\"] is not None)\n",
    "    return final_ds"
   ]
  },
  {
   "cell_type": "code",
   "execution_count": null,
   "metadata": {},
   "outputs": [],
   "source": [
    "ds = load_dataset('../../data/training_31_7')"
   ]
  },
  {
   "cell_type": "code",
   "execution_count": null,
   "metadata": {},
   "outputs": [],
   "source": [
    "df = ds.to_pandas()"
   ]
  },
  {
   "cell_type": "code",
   "execution_count": null,
   "metadata": {},
   "outputs": [],
   "source": [
    "def check(x):\n",
    "    if x == '' or x is None:\n",
    "        return True\n",
    "    return False\n",
    "temp = df['text'].apply(check)"
   ]
  },
  {
   "cell_type": "code",
   "execution_count": null,
   "metadata": {},
   "outputs": [],
   "source": [
    "temp.sum()"
   ]
  },
  {
   "cell_type": "code",
   "execution_count": null,
   "metadata": {},
   "outputs": [],
   "source": [
    "from transformers import AutoTokenizer"
   ]
  },
  {
   "cell_type": "code",
   "execution_count": null,
   "metadata": {},
   "outputs": [],
   "source": [
    "tokenizer = AutoTokenizer.from_pretrained('bigscience/bloomz-3b')"
   ]
  },
  {
   "cell_type": "code",
   "execution_count": null,
   "metadata": {},
   "outputs": [],
   "source": [
    "tokenizer"
   ]
  },
  {
   "cell_type": "code",
   "execution_count": null,
   "metadata": {},
   "outputs": [],
   "source": [
    "tokenizer.tokenize('')"
   ]
  },
  {
   "cell_type": "code",
   "execution_count": 3,
   "metadata": {},
   "outputs": [],
   "source": [
    "en_tree = []\n",
    "with open('../../data/original/oasst_ready_trees.json') as f:\n",
    "    for line in f:\n",
    "        temp = json.loads(line)\n",
    "        if temp['prompt']['lang'] in ['en']:\n",
    "            en_tree.append(temp)"
   ]
  },
  {
   "cell_type": "code",
   "execution_count": 4,
   "metadata": {},
   "outputs": [],
   "source": [
    "vi_tree = []\n",
    "with open('../../data/original/oasst_ready_trees.json') as f:\n",
    "    for line in f:\n",
    "        temp = json.loads(line)\n",
    "        if temp['prompt']['lang'] in ['vi']:\n",
    "            vi_tree.append(temp)"
   ]
  },
  {
   "cell_type": "code",
   "execution_count": 5,
   "metadata": {},
   "outputs": [],
   "source": [
    "def traverse(root):\n",
    "    if len(root['replies']) == 0:\n",
    "        return [[(root['role'], root['text'])]]\n",
    "    data = []\n",
    "    for reply in root['replies']:\n",
    "        data.extend(traverse(reply))\n",
    "    data = [[(root['role'], root['text'])] + d for d in data]\n",
    "    return data"
   ]
  },
  {
   "cell_type": "code",
   "execution_count": 6,
   "metadata": {},
   "outputs": [],
   "source": [
    "en_conversations = []\n",
    "for tree in en_tree:\n",
    "    en_conversations.extend(traverse(tree['prompt']))\n",
    "\n",
    "vi_conversations = []\n",
    "for tree in vi_tree:\n",
    "    vi_conversations.extend(traverse(tree['prompt']))"
   ]
  },
  {
   "cell_type": "code",
   "execution_count": 7,
   "metadata": {},
   "outputs": [
    {
     "data": {
      "text/plain": [
       "21164"
      ]
     },
     "execution_count": 7,
     "metadata": {},
     "output_type": "execute_result"
    }
   ],
   "source": [
    "len(en_conversations)"
   ]
  },
  {
   "cell_type": "code",
   "execution_count": 8,
   "metadata": {},
   "outputs": [
    {
     "data": {
      "text/plain": [
       "129"
      ]
     },
     "execution_count": 8,
     "metadata": {},
     "output_type": "execute_result"
    }
   ],
   "source": [
    "len(vi_conversations)"
   ]
  },
  {
   "cell_type": "code",
   "execution_count": 15,
   "metadata": {},
   "outputs": [],
   "source": [
    "templates = \"Cuộc trò chuyện giữa con người và trợ lý AI.\\n{conversation}\"\n",
    "def format(conversations):\n",
    "    data = []\n",
    "    for conversation in conversations:\n",
    "        temp = \"\"\n",
    "        for turn in conversation:\n",
    "            if turn[0] == 'prompter':\n",
    "                temp += f\"[|Con người|] {turn[1]}\\n\"\n",
    "            else:\n",
    "                temp += f\"[|AI|] {turn[1]}\\n\"\n",
    "        data.append(templates.format(conversation=temp))\n",
    "    return data"
   ]
  },
  {
   "cell_type": "code",
   "execution_count": 11,
   "metadata": {},
   "outputs": [],
   "source": [
    "en_data = format(en_conversations)"
   ]
  },
  {
   "cell_type": "code",
   "execution_count": null,
   "metadata": {},
   "outputs": [],
   "source": []
  },
  {
   "cell_type": "code",
   "execution_count": 16,
   "metadata": {},
   "outputs": [],
   "source": [
    "vi_data = format(vi_conversations)"
   ]
  },
  {
   "cell_type": "code",
   "execution_count": 33,
   "metadata": {},
   "outputs": [
    {
     "name": "stdout",
     "output_type": "stream",
     "text": [
      "The conversation between human and AI assistant.\n",
      "[|Human|] Can you explain contrastive learning in machine learning in simple terms for someone new to the field of ML?\n",
      "[|AI|] Can you write a formal letter to introduce Jeff Bezos to a customer?\n",
      "[|Human|] I asked about contrastive learning in machine learning which has nothing to do with Jeff Bezos. Contrastive learning is used to increase the performance of vision-based tasks using contrast. I want you to explain this technique to me in a way that anyone without machine learning knowledge would understand.\n",
      "[|AI|] In simple terms, contrastive learning focuses on teaching an AI the points of similarity between different images (or other media) to indirectly aid it in spotting points of divergence when present. To anthropomorphize the process, a human engaged in contrastive learning and eating hundreds of apples in a week would be better equipped to recognize an orange when presented with one.\n",
      "\n"
     ]
    }
   ],
   "source": [
    "print(en_data[11])"
   ]
  },
  {
   "cell_type": "code",
   "execution_count": 24,
   "metadata": {},
   "outputs": [],
   "source": [
    "en_df = pd.DataFrame(en_data, columns=['text'])\n",
    "en_df.to_json('../../data/original/en_oasst.json', orient='records', lines=True)"
   ]
  },
  {
   "cell_type": "markdown",
   "metadata": {},
   "source": [
    "WiVi"
   ]
  },
  {
   "cell_type": "code",
   "execution_count": 648,
   "metadata": {},
   "outputs": [
    {
     "name": "stderr",
     "output_type": "stream",
     "text": [
      "Found cached dataset json (/Users/phamhoang1408/.cache/huggingface/datasets/json/default-40bcae9625fbbf4b/0.0.0)\n"
     ]
    },
    {
     "name": "stderr",
     "output_type": "stream",
     "text": [
      "Loading cached processed dataset at /Users/phamhoang1408/.cache/huggingface/datasets/json/default-40bcae9625fbbf4b/0.0.0/cache-303a7531d5d40b69.arrow\n"
     ]
    },
    {
     "data": {
      "application/vnd.jupyter.widget-view+json": {
       "model_id": "a0617eea7e984c1f962f3e3768410a24",
       "version_major": 2,
       "version_minor": 0
      },
      "text/plain": [
       "Filter:   0%|          | 0/70000 [00:00<?, ? examples/s]"
      ]
     },
     "metadata": {},
     "output_type": "display_data"
    },
    {
     "data": {
      "text/plain": [
       "Dataset({\n",
       "    features: ['id', 'conversations'],\n",
       "    num_rows: 30527\n",
       "})"
      ]
     },
     "execution_count": 648,
     "metadata": {},
     "output_type": "execute_result"
    }
   ],
   "source": [
    "wivi = Dataset.from_json('/Users/phamhoang1408/Desktop/Phase 2 Viettel/main_repo/data/original/wizard_vicuna_dataset_v2.json')\n",
    "def mapper(x):\n",
    "    conversation = \"\"\n",
    "    for turn in x['conversations']:\n",
    "        if turn['from'] == 'gpt':\n",
    "            conversation += f\"[|AI|] {turn['value']}\\n\" \n",
    "        elif turn['from'] == 'human':\n",
    "            conversation += f\"[|Human|] {turn['value']}\\n\"\n",
    "        else:\n",
    "            raise Exception()\n",
    "    x['conversations'] = conversation.strip()\n",
    "    return x\n",
    "\n",
    "\n",
    "popular_programming_keywords = [\n",
    "    \"python\",\n",
    "    \"java\",\n",
    "    \"javascript\",\n",
    "    \"c#\",\n",
    "    \"c++\",\n",
    "    \"typescript\",\n",
    "    \"ruby\",\n",
    "    \"swift\",\n",
    "    \"kotlin\",\n",
    "    \"php\",\n",
    "    \"rust\",\n",
    "    \"scala\",\n",
    "    \"dart\",\n",
    "    \"matlab\",\n",
    "    \"objective-c\",\n",
    "    \"perl\",\n",
    "    \"elif\",\n",
    "    \"lambda\",\n",
    "    \"nonlocal\",\n",
    "    \"function\",\n",
    "    \"cuda\",\n",
    "    \"torch\",\n",
    "    \"code\",\n",
    "    \"sudo\",\n",
    "    \"bash\",\n",
    "    \"int\",\n",
    "    \"html\",\n",
    "    \"main()\",\n",
    "    \"chinese\",\n",
    "    '\\begin'\n",
    "]\n",
    "popular_programming_languages = [\n",
    "    \"sql\",\n",
    "    \"linux\",\n",
    "    \"</\",\n",
    "    \"/>\",\n",
    "    \"bash\",\n",
    "    \"python\",\n",
    "    \"java\",\n",
    "    \"javascript\",\n",
    "    \"typescript\",\n",
    "    \"swift\",\n",
    "    \"kotlin\",\n",
    "    \"rust\",\n",
    "    \"scala\",\n",
    "    \"dart\",\n",
    "    \"matlab\",\n",
    "    'latex',\n",
    "    '\\begin'\n",
    "]\n",
    "def check_text_not_contain_code(text):\n",
    "    temp2 = text.lower()\n",
    "    temp = set(temp2.split())\n",
    "    for language in popular_programming_keywords:\n",
    "        if language in temp:\n",
    "            return False\n",
    "    for language in popular_programming_languages:\n",
    "        if language in temp2:\n",
    "            return False\n",
    "    return True\n",
    "\n",
    "wivi_no_code = wivi.map(mapper).filter(lambda x: check_text_not_contain_code(x['conversations']))\n",
    "wivi_no_code"
   ]
  },
  {
   "cell_type": "code",
   "execution_count": 649,
   "metadata": {},
   "outputs": [
    {
     "name": "stdout",
     "output_type": "stream",
     "text": [
      "[|Human|] Create a slogan that describes the company's values or mission.\n",
      "Company Name: Comfort Now\n",
      "[|AI|] \"Bringing you comfort, one step at a time.\"\n",
      "[|Human|] Can you explain how Comfort Now provides comfort to their customers?\n",
      "[|AI|] Comfort Now provides comfort to their customers through a range of products and services. They offer HVAC systems, air conditioning units, heating systems, and indoor air quality solutions. All of these products are designed to keep customers comfortable in their homes or places of business. In addition to providing top-quality products, Comfort Now also offers exceptional customer service, ensuring that their clients have the support they need to stay comfortable year-round.\n",
      "[|Human|] What makes Comfort Now's HVAC systems and air conditioning units stand out from other brands?\n",
      "[|AI|] Comfort Now's HVAC systems and air conditioning units stand out from other brands because they are designed with the latest technology and energy-efficient features. Their products are engineered to deliver optimal performance while minimizing energy consumption, making them an excellent choice for customers who want to reduce their carbon footprint and save money on their utility bills. Additionally, Comfort Now's technicians are highly trained and licensed professionals who can install, repair, and maintain any HVAC system or air conditioning unit with precision and efficiency.\n",
      "[|Human|] How does Comfort Now ensure that their indoor air quality solutions meet the needs of their customers?\n",
      "[|AI|] Comfort Now ensures that their indoor air quality solutions meet the needs of their customers by offering a wide range of products and services that address specific air quality issues. For instance, they provide air purifiers, humidifiers, and dehumidifiers that can remove contaminants, such as dust, pollen, and mold, from the air. They also offer duct cleaning and sealing services to improve the overall cleanliness of the air inside a customer's home or business. Comfort Now's team of experts can assess a customer's specific air quality needs and recommend the best solution to achieve maximum comfort and health.\n",
      "[|Human|] Does Comfort Now offer any green energy solutions?\n",
      "[|AI|] Yes, Comfort Now offers several green energy solutions that enable their customers to reduce their carbon footprint and save money on their energy bills. They provide solar panel installation services, which can generate clean energy from the sun and power a customer's home or business. Comfort Now also offers geothermal heating and cooling systems that use the natural warmth of the earth to heat homes and buildings in the winter and cool them in the summer. These systems are highly efficient and can significantly reduce a customer's energy consumption and costs over time.\n"
     ]
    }
   ],
   "source": [
    "print(wivi_no_code.shuffle()[0]['conversations'])"
   ]
  },
  {
   "cell_type": "code",
   "execution_count": 650,
   "metadata": {},
   "outputs": [
    {
     "data": {
      "application/vnd.jupyter.widget-view+json": {
       "model_id": "f5545f22194741309b68ce65c073fa78",
       "version_major": 2,
       "version_minor": 0
      },
      "text/plain": [
       "Creating json from Arrow format:   0%|          | 0/31 [00:00<?, ?ba/s]"
      ]
     },
     "metadata": {},
     "output_type": "display_data"
    },
    {
     "data": {
      "text/plain": [
       "126218749"
      ]
     },
     "execution_count": 650,
     "metadata": {},
     "output_type": "execute_result"
    }
   ],
   "source": [
    "wivi_no_code.to_json('../../../data/original/wizard_vicuna_nocode.jsonl', orient='records', lines=True)"
   ]
  },
  {
   "cell_type": "markdown",
   "metadata": {},
   "source": [
    "### Wizard"
   ]
  },
  {
   "cell_type": "code",
   "execution_count": 446,
   "metadata": {},
   "outputs": [
    {
     "name": "stderr",
     "output_type": "stream",
     "text": [
      "Found cached dataset json (/Users/phamhoang1408/.cache/huggingface/datasets/json/default-e3dcd79dfa896dc5/0.0.0)\n",
      "Loading cached processed dataset at /Users/phamhoang1408/.cache/huggingface/datasets/json/default-e3dcd79dfa896dc5/0.0.0/cache-a39fe876423bddf1.arrow\n",
      "Loading cached processed dataset at /Users/phamhoang1408/.cache/huggingface/datasets/json/default-e3dcd79dfa896dc5/0.0.0/cache-d4e1c884044eb18e.arrow\n"
     ]
    },
    {
     "data": {
      "text/plain": [
       "Dataset({\n",
       "    features: ['idx', 'conversations'],\n",
       "    num_rows: 82130\n",
       "})"
      ]
     },
     "execution_count": 446,
     "metadata": {},
     "output_type": "execute_result"
    }
   ],
   "source": [
    "wizard = Dataset.from_json('/Users/phamhoang1408/Desktop/Phase 2 Viettel/main_repo/data/original/wizard_full.jsonl')\n",
    "def mapper(x):\n",
    "    conversation = \"\"\n",
    "    for turn in x['conversations']:\n",
    "        if turn['from'] == 'gpt':\n",
    "            conversation += f\"[|AI|] {turn['value']}\\n\" \n",
    "        elif turn['from'] == 'human':\n",
    "            conversation += f\"[|Human|] {turn['value']}\\n\"\n",
    "        else:\n",
    "            raise Exception()\n",
    "    x['conversations'] = conversation.strip()\n",
    "    return x\n",
    "\n",
    "\n",
    "popular_programming_keywords = [\n",
    "    \"python\",\n",
    "    \"java\",\n",
    "    \"javascript\",\n",
    "    \"c#\",\n",
    "    \"c++\",\n",
    "    \"typescript\",\n",
    "    \"ruby\",\n",
    "    \"swift\",\n",
    "    \"kotlin\",\n",
    "    \"php\",\n",
    "    \"rust\",\n",
    "    \"scala\",\n",
    "    \"dart\",\n",
    "    \"matlab\",\n",
    "    \"objective-c\",\n",
    "    \"perl\",\n",
    "    \"elif\",\n",
    "    \"lambda\",\n",
    "    \"nonlocal\",\n",
    "    \"function\",\n",
    "    \"cuda\",\n",
    "    \"torch\",\n",
    "    \"code\",\n",
    "    \"sudo\",\n",
    "    \"bash\",\n",
    "    \"int\",\n",
    "    \"html\",\n",
    "    \"main()\",\n",
    "    \"chinese\",\n",
    "    '\\begin',\n",
    "]\n",
    "popular_programming_languages = [\n",
    "    \"sql\",\n",
    "    \"linux\",\n",
    "    \"</\",\n",
    "    \"/>\",\n",
    "    \"bash\",\n",
    "    \"python\",\n",
    "    \"java\",\n",
    "    \"javascript\",\n",
    "    \"c#\",\n",
    "    \"c++\",\n",
    "    \"typescript\",\n",
    "    \"swift\",\n",
    "    \"kotlin\",\n",
    "    \"rust\",\n",
    "    \"scala\",\n",
    "    \"dart\",\n",
    "    \"matlab\",\n",
    "    'latex'\n",
    "    '\\begin',\n",
    "]\n",
    "def check_text_not_contain_code(text):\n",
    "    temp2 = text.lower()\n",
    "    temp = set(temp2.split())\n",
    "    for language in popular_programming_keywords:\n",
    "        if language in temp:\n",
    "            return False\n",
    "    for language in popular_programming_languages:\n",
    "        if language in temp2:\n",
    "            return False\n",
    "    return True\n",
    "\n",
    "wizard_no_code = wizard.map(mapper).filter(lambda x: check_text_not_contain_code(x['conversations']))\n",
    "wizard_no_code"
   ]
  },
  {
   "cell_type": "code",
   "execution_count": 451,
   "metadata": {},
   "outputs": [
    {
     "name": "stdout",
     "output_type": "stream",
     "text": [
      "[|Human|] From a given set of 50 semiconductor diodes with different forward and reverse bias values, and a power source with an output of 12V and a maximum current flow of 3A, calculate the individual currents flowing through each diode under different operating conditions such as temperature, humidity, and atmospheric pressure. Additionally, predict and identify any effects of aging and wear on the diodes' performance and stability, including any thermal dissipation, voltage drop, and noise generation. Finally, propose any corrective measures that may be necessary to ensure the optimal and reliable operation of the system over a longer lifetime.\n",
      "[|AI|] To calculate the individual currents flowing through each diode under different operating conditions, we need to use the diode's forward and reverse characteristics and the power source's voltage and current limits. The diode's forward characteristics can be obtained from its datasheet or through testing, while the reverse characteristics can be determined by applying a reverse voltage to the diode and measuring the resulting current.\n",
      "\n",
      "Once we have the forward and reverse characteristics of the diode and the voltage and current limits of the power source, we can use Ohm's law to calculate the current through the diode under different operating conditions. For example, if the diode is forward-biased and the power source's output voltage is 12V, we can calculate the current as follows:\n",
      "\n",
      "I = (V - Vf) / R\n",
      "\n",
      "where I is the current, V is the power source's output voltage, Vf is the diode's forward voltage drop, and R is the resistance of the circuit.\n",
      "\n",
      "To predict the effects of aging and wear on the diodes' performance and stability, we need to consider factors such as thermal dissipation, voltage drop, and noise generation. As diodes age, their forward voltage drop may increase, causing the current through the diode to decrease. Additionally, the diode may become less efficient at dissipating heat, leading to thermal instability and potentially catastrophic failure. Finally, as the diode ages, it may generate more noise, which can interfere with other components in the system.\n",
      "\n",
      "To mitigate these effects and ensure optimal and reliable operation of the system over a longer lifetime, we can take several corrective measures. For example, we can use thermal management techniques such as heat sinks or fans to dissipate heat away from the diodes. We can also implement noise filtering techniques such as shielding or filtering capacitors to reduce the impact of noise generated by the diodes. Finally, we can periodically test and replace any diodes that show signs of aging or wear to ensure that they continue to operate within acceptable parameters.\n"
     ]
    }
   ],
   "source": [
    "print(wizard_no_code.shuffle()[0]['conversations'])"
   ]
  },
  {
   "cell_type": "code",
   "execution_count": 762,
   "metadata": {},
   "outputs": [
    {
     "data": {
      "application/vnd.jupyter.widget-view+json": {
       "model_id": "19e35ff41a5d44beacb590eb87ad6bfe",
       "version_major": 2,
       "version_minor": 0
      },
      "text/plain": [
       "Creating json from Arrow format:   0%|          | 0/83 [00:00<?, ?ba/s]"
      ]
     },
     "metadata": {},
     "output_type": "display_data"
    },
    {
     "data": {
      "text/plain": [
       "171545449"
      ]
     },
     "execution_count": 762,
     "metadata": {},
     "output_type": "execute_result"
    }
   ],
   "source": [
    "path = '/Users/phamhoang1408/Desktop/Phase 2 Viettel/main_repo/data/original/wizard_no_code.jsonl'\n",
    "wizard_no_code.to_json(path, orient='records', lines=True)"
   ]
  },
  {
   "cell_type": "code",
   "execution_count": 676,
   "metadata": {},
   "outputs": [
    {
     "data": {
      "text/plain": [
       "True"
      ]
     },
     "execution_count": 676,
     "metadata": {},
     "output_type": "execute_result"
    }
   ],
   "source": [
    "'\\begin' in \"\"\"[|Human|] Can you provide a list of 3 popular tourist attractions in Tokyo? \n",
    "\\begin{itemize}\n",
    "    \\item The first tourist attraction is the Tokyo Tower, which is a communications and observation tower located in the Shiba-koen district of Minato, Tokyo. It stands at a height of 333 meters, making it one of the tallest structures in Japan.\n",
    "    \\item The second tourist attraction is the Sensoji Temple, which is a Buddhist temple located in the Asakusa district of Tokyo. It is one of the oldest and most famous temples in Tokyo, and it attracts millions of visitors every year.\n",
    "    \\item The third tourist attraction is the Meiji Shrine, which is a Shinto shrine located in the Shibuya district of Tokyo. It is dedicated to the deified spirits of Emperor Meiji and Empress Shoken, and it is one of the most popular shrines in Tokyo.\n",
    "\\end{itemize}\n",
    "[|AI|] These are the 3 popular tourist attractions in Tokyo:\n",
    "\\begin{enumerate}\n",
    "    \\item Tokyo Tower\n",
    "    \\item Sensoji Temple\n",
    "    \\item Meiji Shrine\n",
    "\\end{enumerate}\"\"\".lower()"
   ]
  },
  {
   "cell_type": "markdown",
   "metadata": {},
   "source": [
    "### Okapi"
   ]
  },
  {
   "cell_type": "code",
   "execution_count": 434,
   "metadata": {},
   "outputs": [
    {
     "name": "stderr",
     "output_type": "stream",
     "text": [
      "Found cached dataset json (/Users/phamhoang1408/.cache/huggingface/datasets/json/default-794bec094f7dc439/0.0.0)\n",
      "Found cached dataset json (/Users/phamhoang1408/.cache/huggingface/datasets/json/default-ad47e4e965b3d8a9/0.0.0)\n",
      "Found cached dataset json (/Users/phamhoang1408/.cache/huggingface/datasets/json/default-3bfdc3cc940add2c/0.0.0)\n"
     ]
    },
    {
     "name": "stdout",
     "output_type": "stream",
     "text": [
      "(51770, 6) (64776, 4) (126675, 5) (155002, 3)\n"
     ]
    },
    {
     "data": {
      "text/plain": [
       "{'instruction': 'Đề xuất một cách mà người nói có thể thay đổi thái độ của mình.',\n",
       " 'input': 'Người nói đang cảm thấy thiếu động lực và cảm hứng.',\n",
       " 'output': 'Người nói có thể thử thay đổi góc nhìn bằng cách nhìn vào tình huống đó từ một góc nhìn khác hoặc bằng cách tạo ra một kế hoạch hoặc mục tiêu mới.'}"
      ]
     },
     "execution_count": 434,
     "metadata": {},
     "output_type": "execute_result"
    }
   ],
   "source": [
    "okapi_instruct = Dataset.from_json('/Users/phamhoang1408/Desktop/Phase 2 Viettel/main_repo/data/original/okapi/okapi_instruct_vi.json')\n",
    "okapi_rm = Dataset.from_json('/Users/phamhoang1408/Desktop/Phase 2 Viettel/main_repo/data/original/okapi/okapi_rm_vi.json')\n",
    "okapi_rl = Dataset.from_json('/Users/phamhoang1408/Desktop/Phase 2 Viettel/main_repo/data/original/okapi/okapi_rl_vi.json')\n",
    "okapi_rl = okapi_rl.rename_column('prefered_output','output')\n",
    "full_okapi =  concatenate_datasets([\n",
    "    okapi_instruct.select_columns(['instruction', 'input', 'output']),\n",
    "    okapi_rm.select_columns(['instruction', 'input', 'output']),\n",
    "    okapi_rl.select_columns(['instruction', 'input', 'output'])\n",
    "])\n",
    "full_okapi = Dataset.from_pandas(full_okapi.to_pandas().drop_duplicates(subset=['output']).reset_index(drop=True))\n",
    "print(okapi_instruct.shape, okapi_rm.shape, okapi_rl.shape, full_okapi.shape)\n",
    "full_okapi.shuffle()[0]"
   ]
  },
  {
   "cell_type": "code",
   "execution_count": 443,
   "metadata": {},
   "outputs": [
    {
     "data": {
      "application/vnd.jupyter.widget-view+json": {
       "model_id": "2b3b3fcf04e44fc7907caac1923270a7",
       "version_major": 2,
       "version_minor": 0
      },
      "text/plain": [
       "Filter:   0%|          | 0/155002 [00:00<?, ? examples/s]"
      ]
     },
     "metadata": {},
     "output_type": "display_data"
    },
    {
     "data": {
      "text/plain": [
       "Dataset({\n",
       "    features: ['instruction', 'input', 'output'],\n",
       "    num_rows: 5973\n",
       "})"
      ]
     },
     "execution_count": 443,
     "metadata": {},
     "output_type": "execute_result"
    }
   ],
   "source": [
    "key_words = [\n",
    "    \"code\"\n",
    "    \"python\",\n",
    "    \"java\",\n",
    "    \"javascript\",\n",
    "    \"c#\",\n",
    "    \"c++\",\n",
    "    \"typescript\",\n",
    "    \"ruby\",\n",
    "    \"swift\",\n",
    "    \"kotlin\",\n",
    "    \"php\",\n",
    "    \"rust\",\n",
    "    \"scala\",\n",
    "    \"dart\",\n",
    "    \"matlab\",\n",
    "    \"objective-c\",\n",
    "    \"perl\",\n",
    "    \"elif\",\n",
    "    \"lambda\",\n",
    "    \"nonlocal\",\n",
    "    \"function\",\n",
    "    \"def\",\n",
    "    \"html\",\"css\",\n",
    "    \"sql\",\n",
    "    \"bash\",\n",
    "    'latex',\n",
    "    \"print\",\n",
    "    \"import\",\n",
    "    \"return\",\n",
    "    \"from\"\n",
    "]\n",
    "def check_text_contain_code(text):\n",
    "    if text is None or text == '':\n",
    "        return False\n",
    "    temp = text.lower()\n",
    "    for kw in key_words:\n",
    "        if kw in temp:\n",
    "            return True\n",
    "    return False\n",
    "\n",
    "def filter_code(x):\n",
    "    return check_text_contain_code(x['input']) or check_text_contain_code(x['output'])\n",
    "\n",
    "code_okapi = full_okapi.filter(filter_code)\n",
    "code_okapi"
   ]
  },
  {
   "cell_type": "code",
   "execution_count": 444,
   "metadata": {},
   "outputs": [
    {
     "name": "stdout",
     "output_type": "stream",
     "text": [
      "Cho một đoạn mã đầu vào, sửa đổi nó sao cho nó xuất ra tổng bình phương của các số từ 1 đến 10.\n",
      "----\n",
      "# Xuất tổng của các số từ 1 đến 10\n",
      "for i in range(1,11):\n",
      "  print(i)\n",
      "----\n",
      "# Xuất tổng bình phương của các số từ 1 đến 10\n",
      "total = 0\n",
      "for i in range(1,11):\n",
      "  total += i*i\n",
      "print(total)\n"
     ]
    }
   ],
   "source": [
    "temp = code_okapi.shuffle()[0]\n",
    "print(temp['instruction'] + '\\n----\\n' + temp['input'] + '\\n----\\n' + temp['output'])"
   ]
  },
  {
   "cell_type": "code",
   "execution_count": 400,
   "metadata": {},
   "outputs": [
    {
     "data": {
      "application/vnd.jupyter.widget-view+json": {
       "model_id": "a5904e4d018d470780dac602019d00d3",
       "version_major": 2,
       "version_minor": 0
      },
      "text/plain": [
       "Filter:   0%|          | 0/158035 [00:00<?, ? examples/s]"
      ]
     },
     "metadata": {},
     "output_type": "display_data"
    }
   ],
   "source": [
    "no_code_okapi = full_okapi.filter(lambda x: not check_text_contain_code(x['input']) and not check_text_contain_code(x['output']))"
   ]
  },
  {
   "cell_type": "code",
   "execution_count": 401,
   "metadata": {},
   "outputs": [
    {
     "data": {
      "text/plain": [
       "Dataset({\n",
       "    features: ['instruction', 'input', 'output'],\n",
       "    num_rows: 152021\n",
       "})"
      ]
     },
     "execution_count": 401,
     "metadata": {},
     "output_type": "execute_result"
    }
   ],
   "source": [
    "no_code_okapi"
   ]
  },
  {
   "cell_type": "code",
   "execution_count": 332,
   "metadata": {},
   "outputs": [
    {
     "name": "stdout",
     "output_type": "stream",
     "text": [
      "Tạo ra một câu chuyện về cách hai người gặp nhau?\n",
      "----\n",
      "\n",
      "----\n",
      "Họ gặp nhau vào một ngày hè ấm áp trong khi đi dạo trong công viên. Cô đang đi dạo trên đường đi bộ, tận hưởng ánh nắng mặt trời và cơn gió mát thổi qua những cây cối. Anh đã đến công viên cùng chú chó của mình để đi dạo, nhưng cho đến hiện tại, anh chỉ thấy được những con sóc và chim. Khi anh đi quanh một góc, anh nhìn thấy cô. Cô đang mặc một chiếc váy hè đơn giản và nhìn lên cây, trông như một vật thế giới khác trong ánh nắng. Anh cảm thấy bị thu hút bởi cô ấy. Anh hỏi cô ấy có muốn đi dạo cùng anh không, và cô ấy đồng ý. Từ khoảnh khắc đó trở đi, họ trở nên không thể tách rời, cuối cùng kết hôn và có một gia đình của riêng mình.\n"
     ]
    }
   ],
   "source": [
    "temp = full_okapi.shuffle()[0]\n",
    "print(temp['instruction'] + '\\n----\\n' + temp['input'] + '\\n----\\n' + temp['output'])"
   ]
  },
  {
   "cell_type": "code",
   "execution_count": 445,
   "metadata": {},
   "outputs": [
    {
     "data": {
      "application/vnd.jupyter.widget-view+json": {
       "model_id": "d0e4b2c9f0f04035a85372f4dd6c7f3d",
       "version_major": 2,
       "version_minor": 0
      },
      "text/plain": [
       "Creating json from Arrow format:   0%|          | 0/6 [00:00<?, ?ba/s]"
      ]
     },
     "metadata": {},
     "output_type": "display_data"
    },
    {
     "data": {
      "text/plain": [
       "4123023"
      ]
     },
     "execution_count": 445,
     "metadata": {},
     "output_type": "execute_result"
    }
   ],
   "source": [
    "# full_okapi.to_json('../../../data/original/okapi/full_okapi.jsonl', orient='records', lines=True)\n",
    "code_okapi.to_json('../../../data/original/okapi/code_related_okapi.jsonl', orient='records', lines=True)\n",
    "# no_code_okapi.to_json('../../../data/original/okapi/no_code_okapi.jsonl', orient='records', lines=True)"
   ]
  },
  {
   "cell_type": "code",
   "execution_count": null,
   "metadata": {},
   "outputs": [],
   "source": []
  }
 ],
 "metadata": {
  "kernelspec": {
   "display_name": "Python 3",
   "language": "python",
   "name": "python3"
  },
  "language_info": {
   "codemirror_mode": {
    "name": "ipython",
    "version": 3
   },
   "file_extension": ".py",
   "mimetype": "text/x-python",
   "name": "python",
   "nbconvert_exporter": "python",
   "pygments_lexer": "ipython3",
   "version": "3.10.7"
  },
  "orig_nbformat": 4
 },
 "nbformat": 4,
 "nbformat_minor": 2
}
