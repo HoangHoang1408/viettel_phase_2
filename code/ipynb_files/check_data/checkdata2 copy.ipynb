{
 "cells": [
  {
   "cell_type": "code",
   "execution_count": 1,
   "metadata": {},
   "outputs": [],
   "source": [
    "import numpy as np\n",
    "import pandas as pd\n",
    "import matplotlib.pyplot as plt\n",
    "from matplotlib import rcParams\n",
    "import seaborn as sns\n",
    "import warnings\n",
    "\n",
    "sns.set()\n",
    "rcParams['figure.figsize'] = (20,10)\n",
    "pd.options.display.max_columns = None\n",
    "warnings.filterwarnings('ignore')\n",
    "from pprint import pprint\n",
    "import json\n",
    "\n",
    "from transformers import AutoTokenizer, AutoModel, AutoConfig, pipeline\n",
    "from datasets import load_dataset, Dataset, concatenate_datasets"
   ]
  },
  {
   "cell_type": "code",
   "execution_count": 3,
   "metadata": {},
   "outputs": [],
   "source": [
    "tokenizer = AutoTokenizer.from_pretrained(\"bigscience/bloom-3b\")"
   ]
  },
  {
   "cell_type": "markdown",
   "metadata": {},
   "source": [
    "### CNN_DAILY"
   ]
  },
  {
   "cell_type": "code",
   "execution_count": null,
   "metadata": {},
   "outputs": [],
   "source": [
    "cnn = Dataset.from_json('../../data/translated/cnn_dailymail_30k_samples_len_100_1200_words_translated.json')"
   ]
  },
  {
   "cell_type": "code",
   "execution_count": null,
   "metadata": {},
   "outputs": [],
   "source": [
    "input_template=\"Cuộc trò chuyện giữa con người và trợ lý AI.\\n[|Con người|] Tóm tắt ngắn gọn đoạn văn bản sau đây:\\n{article_translated}\\n[|AI|] \"\n",
    "def mapper(x):\n",
    "    return {\n",
    "        'input': input_template.format(article_translated=x['article_translated']),\n",
    "        'output': 'Đoạn văn bản đã được tóm tắt:\\n' + x['highlights_translated'] + '\\n[|Con người|]'\n",
    "    }\n",
    "\n",
    "temp_cnn = cnn.shuffle().select(range(15000)).map(mapper,batched=False, remove_columns=['article_translated','highlights_translated'])"
   ]
  },
  {
   "cell_type": "code",
   "execution_count": null,
   "metadata": {},
   "outputs": [],
   "source": [
    "print(temp_cnn[1]['input'] + temp_cnn[1]['output'])"
   ]
  },
  {
   "cell_type": "code",
   "execution_count": null,
   "metadata": {},
   "outputs": [],
   "source": [
    "length = temp_cnn.shuffle().select(range(1000)).map(lambda x: {'len':len(tokenizer.tokenize(x['input'] + x['output']))})\n",
    "length.to_pandas().hist(bins=100)"
   ]
  },
  {
   "cell_type": "code",
   "execution_count": null,
   "metadata": {},
   "outputs": [],
   "source": [
    "temp_cnn[0]"
   ]
  },
  {
   "cell_type": "code",
   "execution_count": null,
   "metadata": {},
   "outputs": [],
   "source": [
    "temp_cnn.to_json('../../data/training_3_8/cnn_15k_samples.jsonl', orient='records', lines=True)"
   ]
  },
  {
   "cell_type": "markdown",
   "metadata": {},
   "source": [
    "### DIALOG SUMMARY"
   ]
  },
  {
   "cell_type": "code",
   "execution_count": null,
   "metadata": {},
   "outputs": [],
   "source": [
    "dialog = Dataset.from_json('../../data/translated/dialogsum_10k_samples_len_50_words_translated.json')"
   ]
  },
  {
   "cell_type": "code",
   "execution_count": null,
   "metadata": {},
   "outputs": [],
   "source": [
    "dialog"
   ]
  },
  {
   "cell_type": "code",
   "execution_count": null,
   "metadata": {},
   "outputs": [],
   "source": [
    "input_template=\"Tóm tắt ngắn gọn đoạn hội thoại sau đây:\\n{dialogue_translated}\\nĐoạn hội thoại đã được tóm tắt:\\n\"\n",
    "def mapper(x):\n",
    "    return {\n",
    "        'input': input_template.format(dialogue_translated=x['dialogue_translated']),\n",
    "        'output': x['summary_translated']\n",
    "    }\n",
    "\n",
    "temp_dialog = dialog.shuffle().select(range(10000)).map(mapper,batched=False, remove_columns=['dialogue_translated','summary_translated'])"
   ]
  },
  {
   "cell_type": "code",
   "execution_count": null,
   "metadata": {},
   "outputs": [],
   "source": [
    "print(temp_dialog[1]['input'] + temp_dialog[1]['output'])"
   ]
  },
  {
   "cell_type": "code",
   "execution_count": null,
   "metadata": {},
   "outputs": [],
   "source": [
    "temp_dialog[0]"
   ]
  },
  {
   "cell_type": "code",
   "execution_count": null,
   "metadata": {},
   "outputs": [],
   "source": [
    "temp_dialog.to_json('../../data/training_3_8/dialogsum_10k_samples.jsonl', orient='records', lines=True)"
   ]
  },
  {
   "cell_type": "markdown",
   "metadata": {},
   "source": [
    "### FAQS"
   ]
  },
  {
   "cell_type": "code",
   "execution_count": null,
   "metadata": {},
   "outputs": [],
   "source": [
    "faqs = Dataset.from_json('../../data/training_31_7/faq_chat_10k.jsonl')"
   ]
  },
  {
   "cell_type": "code",
   "execution_count": null,
   "metadata": {},
   "outputs": [],
   "source": [
    "length = faqs.map(lambda x: {'length':len(tokenizer.tokenize(x['input']))})"
   ]
  },
  {
   "cell_type": "code",
   "execution_count": null,
   "metadata": {},
   "outputs": [],
   "source": [
    "pd.length['length']"
   ]
  },
  {
   "cell_type": "code",
   "execution_count": null,
   "metadata": {},
   "outputs": [],
   "source": [
    "print(faqs.shuffle()[0]['input'])"
   ]
  },
  {
   "cell_type": "code",
   "execution_count": null,
   "metadata": {},
   "outputs": [],
   "source": [
    "text = 'Cuộc trò chuyện giữa con người và trợ lý AI.\\n'\n",
    "text2 = ' Nếu không đủ thông tin để trả lời thì trả lời: Tôi không biết.'\n",
    "text3 = 'Điều luật liên quan: '\n",
    "text4 = 'Chỉ được trả lời dựa trên điều luật được cung cấp'\n",
    "def mapper(x):\n",
    "    return {\n",
    "        'input': text,\n",
    "        'output': x['input'].removeprefix(text).replace(text2,'').replace(text3, 'Điều luật liên quan:\\n').replace(text4, 'Chỉ được trả lời dựa trên thông tin nằm trong điều luật được cung cấp') + '\\n[|Con người|]',\n",
    "    }\n",
    "\n",
    "temp_faqs = faqs.map(mapper, batched=False)"
   ]
  },
  {
   "cell_type": "code",
   "execution_count": null,
   "metadata": {},
   "outputs": [],
   "source": [
    "temp = temp_faqs.shuffle()[0]\n",
    "temp"
   ]
  },
  {
   "cell_type": "code",
   "execution_count": null,
   "metadata": {},
   "outputs": [],
   "source": [
    "print(temp['input'] + temp['output'])"
   ]
  },
  {
   "cell_type": "code",
   "execution_count": null,
   "metadata": {},
   "outputs": [],
   "source": [
    "temp_faqs.to_json('../../data/training_3_8/faqs.jsonl', orient='records', lines=True)"
   ]
  },
  {
   "cell_type": "markdown",
   "metadata": {},
   "source": [
    "### SHARE_GPT"
   ]
  },
  {
   "cell_type": "code",
   "execution_count": 58,
   "metadata": {},
   "outputs": [],
   "source": [
    "share = pd.read_json('/Users/phamhoang1408/Desktop/Phase 2 Viettel/main_repo/data/original/share_gpt_no_code_conversations_40k.json', orient='records', lines=True)\n",
    "share.columns = ['input']\n",
    "share.dropna(inplace=True)\n",
    "share.reset_index(drop=True, inplace=True)\n",
    "share = Dataset.from_pandas(share)"
   ]
  },
  {
   "cell_type": "code",
   "execution_count": null,
   "metadata": {},
   "outputs": [],
   "source": [
    "share = share.filter(lambda x: len(tokenizer.tokenize(x[\"input\"])) < 2000)"
   ]
  },
  {
   "cell_type": "code",
   "execution_count": null,
   "metadata": {},
   "outputs": [],
   "source": [
    "share.shuffle().select(range(1000)).map(lambda x: {'len':len(tokenizer.tokenize(x['input']))}).to_pandas().hist(bins=100)"
   ]
  },
  {
   "cell_type": "code",
   "execution_count": 59,
   "metadata": {},
   "outputs": [
    {
     "data": {
      "application/vnd.jupyter.widget-view+json": {
       "model_id": "9f15195a261c4134b34cddb25f032d68",
       "version_major": 2,
       "version_minor": 0
      },
      "text/plain": [
       "Map:   0%|          | 0/38419 [00:00<?, ? examples/s]"
      ]
     },
     "metadata": {},
     "output_type": "display_data"
    }
   ],
   "source": [
    "# text = 'Cuộc trò chuyện giữa con người và trợ lý AI.\\n'\n",
    "text = 'The conversation between human and AI assistant.\\n'\n",
    "def mapper(x):\n",
    "    return {\n",
    "        'input': text,\n",
    "        'output': x['input'].removeprefix(text) + '[|Human|]'\n",
    "    }\n",
    "share = share.map(mapper, batched=False)"
   ]
  },
  {
   "cell_type": "code",
   "execution_count": 51,
   "metadata": {},
   "outputs": [
    {
     "data": {
      "text/plain": [
       "Dataset({\n",
       "    features: ['input', 'output'],\n",
       "    num_rows: 38419\n",
       "})"
      ]
     },
     "execution_count": 51,
     "metadata": {},
     "output_type": "execute_result"
    }
   ],
   "source": [
    "share"
   ]
  },
  {
   "cell_type": "code",
   "execution_count": 62,
   "metadata": {},
   "outputs": [
    {
     "name": "stdout",
     "output_type": "stream",
     "text": [
      "The conversation between human and AI assistant.\n",
      "[|AI|] The immune response is the body's response to the presence of a foreign substance, such as a pathogen or toxin. The immune response involves the activation of various cells, tissues, and organs of the immune system to recognize and eliminate the foreign substance.\n",
      "\n",
      "Here are some key features of the immune response:\n",
      "\n",
      "1. Specificity: The immune response is specific to the foreign substance that is present, meaning that it is able to recognize and attack a particular pathogen or toxin.\n",
      "2. Diversity: The immune system has a diverse range of cells and proteins that can recognize and attack a wide range of foreign substances.\n",
      "3. Memory: The immune system has the ability to \"remember\" past infections, allowing it to mount a more rapid and effective response to future encounters with the same pathogen.\n",
      "4. Cooperation: The immune response involves the coordination and cooperation of various cells and tissues, such as T cells, B cells, and antibodies, to effectively eliminate the foreign substance.\n",
      "5. Self/non-self recognition: The immune system is able to distinguish between the body's own cells and foreign substances, allowing it to attack the latter while leaving the former intact.\n",
      "6. Inflammation: The immune response often involves inflammation, which is the body's response to tissue damage or infection. Inflammation involves the activation of immune cells, the release of chemical signals, and the increased blood flow to the affected area.\n",
      "\n",
      "I hope this information is helpful. Let me know if you have any further questions or if you would like more information on any particular aspect of the immune response.\n",
      "[|Human|] more about this\n",
      "[|AI|] Certainly! Here is some additional information about the immune response:\n",
      "\n",
      "1. Activation of the immune response: The immune response is activated when the body detects the presence of a foreign substance, such as a pathogen or toxin. This detection can occur through various mechanisms, including physical barriers (such as the skin and mucous membranes) and cells of the immune system (such as neutrophils and macrophages).\n",
      "2. Recognition of the foreign substance: Once a foreign substance has been detected, the immune system must recognize it as being non-self. This recognition occurs through the use of receptors on immune cells that can bind to specific molecules on the surface of the foreign substance.\n",
      "3. Activation of immune cells: Once the foreign substance has been recognized, immune cells such as T cells and B cells are activated to attack and eliminate it. T cells can recognize and kill infected cells or produce chemical signals that activate other immune cells. B cells produce antibodies, which are proteins that can recognize and bind to specific pathogens or toxins, neutralizing or removing them from the body.\n",
      "4. Inflammation: The immune response often involves inflammation, which is the body's response to tissue damage or infection. Inflammation involves the activation of immune cells, the release of chemical signals, and the increased blood flow to the affected area. This can cause symptoms such as redness, swelling, pain, and heat.\n",
      "5. Resolution of the immune response: Once the foreign substance has been eliminated, the immune response is resolved and the body returns to a state of homeostasis.\n",
      "\n",
      "I hope this additional information is helpful. Let me know if you have any further questions or if you would like more information on any particular aspect of the immune response.\n",
      "[|Human|] Cells And Organs Of The Immune System\n",
      "[|AI|] The immune system is made up of a complex network of cells, tissues, and organs that work together to defend the body against foreign substances, such as bacteria, viruses, and toxins. Here is a list of some of the key cells and organs of the immune system:\n",
      "\n",
      "1. White blood cells (leukocytes): White blood cells, also known as leukocytes, are a type of immune cell that plays a key role in defending the body against infection. There are several different types of white blood cells, including neutrophils, monocytes, and lymphocytes.\n",
      "2. T cells (T lymphocytes): T cells, also known as T lymphocytes, are a type of white blood cell that plays a central role in cell-mediated immunity. They can recognize and kill infected cells or produce chemical signals that activate other immune cells.\n",
      "3. B cells (B lymphocytes): B cells, also known as B lymphocytes, are a type of white blood cell that produces antibodies, which are proteins that can recognize and bind to specific pathogens or toxins. Antibodies can help to neutralize or remove the pathogen from the body.\n",
      "4. Macrophages: Macrophages are a type of white blood cell that can engulf and digest foreign substances, such as bacteria and debris. They also play a role in activating other immune cells.\n",
      "5. Neutrophils: Neutrophils are a type of white blood cell that can recognize and attack foreign substances in a non-specific manner. They are important in the early stages of an immune response.\n",
      "6. Lymphoid organs: Lymphoid organs are specialized organs that are involved in the immune response. Examples include the spleen, lymph nodes, and tonsils. These organs contain immune cells such as T cells and B cells, and are involved in the production of antibodies.\n",
      "\n",
      "I hope this list of cells and organs of the immune system is helpful. Let me know if you have any further questions or if you would like more information on any particular aspect of the immune system.\n",
      "[|Human|] lymphoid cells\n",
      "[|AI|] Lymphoid cells are a type of immune cell that plays a key role in the immune response. Lymphoid cells include T cells (T lymphocytes), B cells (B lymphocytes), and natural killer (NK) cells.\n",
      "\n",
      "T cells are a type of white blood cell that plays a central role in cell-mediated immunity. They can recognize and kill infected cells or produce chemical signals that activate other immune cells.\n",
      "\n",
      "B cells are a type of white blood cell that produces antibodies, which are proteins that can recognize and bind to specific pathogens or toxins. Antibodies can help to neutralize or remove the pathogen from the body.\n",
      "\n",
      "NK cells are a type of white blood cell that can recognize and attack abnormal cells, such as cancer cells or infected cells. They do not require activation by other immune cells and can attack these cells directly.\n",
      "\n",
      "Lymphoid cells are produced in the bone marrow and mature in the thymus or bone marrow. They are important in the immune response because they can recognize and attack specific pathogens or abnormal cells, providing immunity to the body.\n",
      "\n",
      "I hope this information is helpful. Let me know if you have any further questions or if you would like more information on any particular aspect of the immune system.\n",
      "[|Human|] more about this\n",
      "[|AI|] Certainly! Here is some additional information about lymphoid cells:\n",
      "\n",
      "1. T cells: T cells, also known as T lymphocytes, are a type of white blood cell that plays a central role in cell-mediated immunity. They are produced in the bone marrow and mature in the thymus. T cells have receptors on their surface that can recognize specific molecules on the surface of pathogens or infected cells. There are several types of T cells, including CD4+ T cells (also known as helper T cells) and CD8+ T cells (also known as cytotoxic T cells). CD4+ T cells help to coordinate the immune response by producing chemical signals that activate other immune cells, while CD8+ T cells can directly kill infected cells.\n",
      "2. B cells: B cells, also known as B lymphocytes, are a type of white blood cell that produces antibodies, which are proteins that can recognize and bind to specific pathogens or toxins. B cells are produced in the bone marrow and mature in the bone marrow. When a B cell encounters a pathogen or toxin, it becomes activated and begins to produce antibodies. These antibodies can help to neutralize or remove the pathogen from the body.\n",
      "3. NK cells: NK cells, also known as natural killer cells, are a type of white blood cell that can recognize and attack abnormal cells, such as cancer cells or infected cells. They do not require activation by other immune cells and can attack these cells directly. NK cells are produced in the bone marrow and can be found in various tissues throughout the body.\n",
      "\n",
      "I hope this additional information is helpful. Let me know if you have any further questions or if you would like more information on any particular aspect of the immune system.\n",
      "[|Human|] heterogenecity of lymphoid cells\n",
      "[|AI|] Lymphoid cells are a diverse group of immune cells that play a key role in the immune response. There is a wide range of lymphoid cells, each with its own specific functions and characteristics.\n",
      "\n",
      "One aspect of the heterogeneity of lymphoid cells is the diversity of their receptors. T cells and B cells, for example, have receptors on their surface that can recognize specific molecules on the surface of pathogens or infected cells. These receptors are highly specific and allow the immune system to distinguish between different types of pathogens or infected cells.\n",
      "\n",
      "Another aspect of the heterogeneity of lymphoid cells is the diversity of their functions. T cells, for example, can be divided into several different types based on their function, such as CD4+ T cells (helper T cells) and CD8+ T cells (cytotoxic T cells). CD4+ T cells help to coordinate the immune response by producing chemical signals that activate other immune cells, while CD8+ T cells can directly kill infected cells. B cells, on the other hand, produce antibodies that can recognize and bind to specific pathogens or toxins, helping to neutralize or remove them from the body.\n",
      "\n",
      "The heterogeneity of lymphoid cells is important because it allows the immune system to mount a highly specific and diverse response to a wide range of foreign substances, such as bacteria, viruses, and toxins.\n",
      "\n",
      "I hope this information is helpful. Let me know if you have any further questions or if you would like more information on any particular aspect of the immune system.\n",
      "[|Human|]\n"
     ]
    }
   ],
   "source": [
    "temp = share.shuffle()[0]\n",
    "print(temp['input'] + temp['output'])"
   ]
  },
  {
   "cell_type": "code",
   "execution_count": 47,
   "metadata": {},
   "outputs": [
    {
     "data": {
      "text/plain": [
       "Dataset({\n",
       "    features: ['input', 'output'],\n",
       "    num_rows: 38419\n",
       "})"
      ]
     },
     "execution_count": 47,
     "metadata": {},
     "output_type": "execute_result"
    }
   ],
   "source": [
    "share"
   ]
  },
  {
   "cell_type": "code",
   "execution_count": 63,
   "metadata": {},
   "outputs": [
    {
     "data": {
      "application/vnd.jupyter.widget-view+json": {
       "model_id": "5e69465e77c84202bf16541a771bab5d",
       "version_major": 2,
       "version_minor": 0
      },
      "text/plain": [
       "Creating json from Arrow format:   0%|          | 0/39 [00:00<?, ?ba/s]"
      ]
     },
     "metadata": {},
     "output_type": "display_data"
    },
    {
     "data": {
      "text/plain": [
       "294659991"
      ]
     },
     "execution_count": 63,
     "metadata": {},
     "output_type": "execute_result"
    }
   ],
   "source": [
    "share.to_json('../../data/training_english/share_gpt_38k.jsonl', orient='records', lines=True)"
   ]
  },
  {
   "cell_type": "markdown",
   "metadata": {},
   "source": [
    "### QUORA"
   ]
  },
  {
   "cell_type": "code",
   "execution_count": null,
   "metadata": {},
   "outputs": [],
   "source": [
    "quora = Dataset.from_json('../../data/translated/quora_chat_data_translated.json')"
   ]
  },
  {
   "cell_type": "code",
   "execution_count": null,
   "metadata": {},
   "outputs": [],
   "source": [
    "print(quora.shuffle()[0]['prompt'])"
   ]
  },
  {
   "cell_type": "code",
   "execution_count": null,
   "metadata": {},
   "outputs": [],
   "source": [
    "quora.shuffle().select(range(1000)).map(lambda x: {'len':len(tokenizer.tokenize(x['prompt']))}).to_pandas().hist(bins=100)"
   ]
  },
  {
   "cell_type": "code",
   "execution_count": null,
   "metadata": {},
   "outputs": [],
   "source": [
    "temp_quora = quora.shuffle().select(range(20000))\n",
    "temp_quora"
   ]
  },
  {
   "cell_type": "code",
   "execution_count": null,
   "metadata": {},
   "outputs": [],
   "source": [
    "text = 'Cuộc trò chuyện giữa con người và trợ lý AI.\\n'\n",
    "def mapper(x):\n",
    "    return {\n",
    "        'input': text,\n",
    "        'output': x['prompt'].removeprefix(text) + '\\n[|Con người|]',\n",
    "    }\n",
    "\n",
    "temp_quora = temp_quora.map(mapper, batched=False, remove_columns=['prompt'])"
   ]
  },
  {
   "cell_type": "code",
   "execution_count": null,
   "metadata": {},
   "outputs": [],
   "source": [
    "temp_quora.to_json('../../data/training_3_8/quora_20k_samples.jsonl', orient='records', lines=True)"
   ]
  },
  {
   "cell_type": "markdown",
   "metadata": {},
   "source": [
    "### OASST"
   ]
  },
  {
   "cell_type": "code",
   "execution_count": 4,
   "metadata": {},
   "outputs": [
    {
     "name": "stderr",
     "output_type": "stream",
     "text": [
      "Found cached dataset json (/Users/phamhoang1408/.cache/huggingface/datasets/json/default-c507d95be8d43b3a/0.0.0)\n"
     ]
    }
   ],
   "source": [
    "# en_oasst = Dataset.from_json('../../data/translated/en_oasst_translated.json')\n",
    "# en_oasst = en_oasst.rename_column('text_translated','text')\n",
    "# vi_oasst = Dataset.from_json('../../data/original/oasst/vi_oasst.json')\n",
    "\n",
    "ds = Dataset.from_json('/Users/phamhoang1408/Desktop/Phase 2 Viettel/main_repo/data/original/oasst/en_oasst.json')"
   ]
  },
  {
   "cell_type": "code",
   "execution_count": 27,
   "metadata": {},
   "outputs": [
    {
     "data": {
      "text/plain": [
       "{'text': 'The conversation between human and AI assistant.\\n[|Human|] Can you write a short introduction about the relevance of the term \"monopsony\" in economics? Please use examples related to potential monopsonies in the labour market and cite relevant research.\\n[|AI|] \"Monopsony\" refers to a market structure where there is only one buyer for a particular good or service. In economics, this term is particularly relevant in the labor market, where a monopsony employer has significant power over the wages and working conditions of their employees. The presence of a monopsony can result in lower wages and reduced employment opportunities for workers, as the employer has little incentive to increase wages or provide better working conditions.\\n\\nRecent research has identified potential monopsonies in industries such as retail and fast food, where a few large companies control a significant portion of the market (Bivens & Mishel, 2013). In these industries, workers often face low wages, limited benefits, and reduced bargaining power, leading to a situation where they are dependent on the employer for their livelihood. This dependence can result in further suppression of wages and a decline in working conditions.\\n\\nOverall, the concept of monopsony is essential to understanding the dynamics of labor markets and the impact of market power on workers. Further research is needed to understand the extent and impact of monopsonies on the economy and to develop policies to address this issue.\\n\\nReferences:\\nBivens, J., & Mishel, L. (2013). The Pay of Corporate Executives and Financial Professionals as Evidence of Rents in Top 1 Percent Incomes. Journal of Economic Perspectives, 27(3), 57-78.\\n[|Human|] Now explain it to a dog\\n'}"
      ]
     },
     "execution_count": 27,
     "metadata": {},
     "output_type": "execute_result"
    }
   ],
   "source": [
    "ds[0]"
   ]
  },
  {
   "cell_type": "code",
   "execution_count": 14,
   "metadata": {},
   "outputs": [
    {
     "data": {
      "application/vnd.jupyter.widget-view+json": {
       "model_id": "67a8301a11194813b05a0f2db8bebcc0",
       "version_major": 2,
       "version_minor": 0
      },
      "text/plain": [
       "Map:   0%|          | 0/21164 [00:00<?, ? examples/s]"
      ]
     },
     "metadata": {},
     "output_type": "display_data"
    }
   ],
   "source": [
    "# text = 'Cuộc trò chuyện giữa con người và trợ lý AI.\\n'\n",
    "text = 'The conversation between human and AI assistant.\\n'\n",
    "def mapper(x):\n",
    "    return {\n",
    "        'input': text,\n",
    "        'output': x['text'].removeprefix(text),\n",
    "    }\n",
    "\n",
    "temp_oasst = ds.map(mapper, batched=False, remove_columns=['text'])"
   ]
  },
  {
   "cell_type": "code",
   "execution_count": 15,
   "metadata": {},
   "outputs": [
    {
     "data": {
      "text/plain": [
       "Dataset({\n",
       "    features: ['input', 'output'],\n",
       "    num_rows: 21164\n",
       "})"
      ]
     },
     "execution_count": 15,
     "metadata": {},
     "output_type": "execute_result"
    }
   ],
   "source": [
    "temp_oasst"
   ]
  },
  {
   "cell_type": "code",
   "execution_count": 69,
   "metadata": {},
   "outputs": [
    {
     "name": "stdout",
     "output_type": "stream",
     "text": [
      "The conversation between human and AI assistant.\n",
      "[|Human|] Explain the rules of field hockey to a novice.\n",
      "[|AI|] Field hockey is a team sport played on a rectangular field, typically measuring 100 yards long and 60 yards wide. Each team consists of 11 players, including a goalkeeper. The objective of the game is to score more goals than the opposing team by hitting a small, hard ball into the opponent's goal using a hockey stick.\n",
      "\n",
      "Here are the basic rules of field hockey:\n",
      "\n",
      "1. Starting the game: The game starts with a coin toss to determine which team will take the first pass. The team that wins the toss starts with the ball in the center of the field.\n",
      "\n",
      "2. Game duration: A game is typically divided into two halves of 35 minutes each, with a 10-minute halftime break in between.\n",
      "\n",
      "3. Scoring: A goal is scored when the ball completely crosses the opponent's goal line between the goalposts and under the crossbar.\n",
      "\n",
      "4. Equipment: Players wear shin guards, mouthguards, and usually cleats. The goalkeeper also wears protective gear, including a helmet, padded gloves, and a body protector.\n",
      "\n",
      "5. Stick handling: Players can only use the flat side of their hockey stick to hit the ball. The stick cannot be raised above shoulder height, and players cannot use their feet or any other body part to control the ball.\n",
      "\n",
      "6. Fouls: Fouls can be called for various infractions, such as hitting an opponent's stick, playing the ball dangerously, or obstructing an opponent. When a foul is called, the opposing team is awarded a free hit or penalty corner, depending on the severity of the offense.\n",
      "\n",
      "7. Free hits: When a free hit is awarded, the ball is placed on the ground and the opposing team must be at least 5 yards away from the ball.\n",
      "\n",
      "8. Penalty corners: A penalty corner is awarded to the attacking team when a foul occurs inside the defending team's circle. The ball is placed on a spot 10 yards from the nearest goalpost, and the attacking team has one attempt to score.\n",
      "\n",
      "9. Substitutions: Players can be substituted during the game, but only when play has stopped.\n",
      "\n",
      "10. Offside: In field hockey, there is no offside rule, so players can move freely around the field. However, players cannot enter the opposing team's circle until the ball does.\n",
      "\n",
      "These are the basic rules of field hockey. As you continue to learn and play the game, you will become more familiar with the finer details and strategies involved.\n",
      "[|Human|] Thank you! If I wanted to prepare a field for field hockey on property I own, what kinds of steps would be necessary to ensure a safe and fair game?\n",
      "[|AI|] If you are looking to prepare a field for field hockey on your property, here are some steps you can take to ensure a safe and fair game:\n",
      "1. Choose a suitable location: The field should be relatively flat and free of obstacles or hazards that could cause injury. It should also be of the appropriate size for field hockey, which is typically around 100 yards long and 60 yards wide.\n",
      "2. Determine the playing surface: Field hockey is typically played on a grass field, but synthetic turf is also a popular option. If you choose to use grass, make sure it is properly maintained and watered to provide a smooth and even playing surface.\n",
      "3. Install boundary lines and goals: Use boundary lines to mark the edges of the field and ensure that players stay within the designated playing area. Install goals at each end of the field with nets to help keep track of scoring.\n",
      "4. Ensure proper lighting: If you plan to play games in the evening, ensure that the field is well-lit to allow for safe and fair play.\n",
      "5. Provide appropriate equipment: Players will need field hockey sticks, balls, shin guards, mouthguards, and appropriate footwear. Make sure that all equipment is properly maintained and in good condition to prevent injuries.\n",
      "6. Establish rules and regulations: Set clear rules and regulations for the game, including rules for fouls and penalties, and appoint a neutral referee to enforce the rules.\n",
      "\n",
      "By following these steps, you can create a safe and fair playing field for field hockey on your property. Additionally, it is recommended that you consult with local authorities or field hockey organizations to ensure that your field meets all relevant safety and regulation standards.\n",
      "[|Human|] how can I counter some players when they are found to be playing without following the rules\n",
      "\n"
     ]
    }
   ],
   "source": [
    "temp = temp_oasst.shuffle()[0]\n",
    "print(temp['input'] + temp['output'])"
   ]
  },
  {
   "cell_type": "code",
   "execution_count": null,
   "metadata": {},
   "outputs": [],
   "source": [
    "temp_oasst.to_json('../../data/training_3_8/oasst_21k_samples.jsonl', orient='records', lines=True)"
   ]
  },
  {
   "cell_type": "code",
   "execution_count": null,
   "metadata": {},
   "outputs": [],
   "source": [
    "oasst.shuffle().select(range(1000)).map(lambda x: {'len':len(tokenizer.tokenize(x['text']))}).to_pandas().hist(bins=100)"
   ]
  },
  {
   "cell_type": "code",
   "execution_count": null,
   "metadata": {},
   "outputs": [],
   "source": [
    "print(temp_oasst.shuffle()[0])"
   ]
  },
  {
   "cell_type": "code",
   "execution_count": 70,
   "metadata": {},
   "outputs": [
    {
     "data": {
      "application/vnd.jupyter.widget-view+json": {
       "model_id": "65448d27ee914427b9bf94c2ec7f393d",
       "version_major": 2,
       "version_minor": 0
      },
      "text/plain": [
       "Creating json from Arrow format:   0%|          | 0/22 [00:00<?, ?ba/s]"
      ]
     },
     "metadata": {},
     "output_type": "display_data"
    },
    {
     "data": {
      "text/plain": [
       "35941652"
      ]
     },
     "execution_count": 70,
     "metadata": {},
     "output_type": "execute_result"
    }
   ],
   "source": [
    "temp_oasst.to_json('../../data/training_english/oasst_20k_samples.jsonl', orient='records', lines=True)"
   ]
  },
  {
   "cell_type": "markdown",
   "metadata": {},
   "source": [
    "### ALPACA CHAT"
   ]
  },
  {
   "cell_type": "code",
   "execution_count": null,
   "metadata": {},
   "outputs": [],
   "source": [
    "alpaca = Dataset.from_json('../../data/training_31_7/alpaca_chat_15k.jsonl')\n",
    "alpaca"
   ]
  },
  {
   "cell_type": "code",
   "execution_count": null,
   "metadata": {},
   "outputs": [],
   "source": [
    "alpaca"
   ]
  },
  {
   "cell_type": "code",
   "execution_count": null,
   "metadata": {},
   "outputs": [],
   "source": [
    "text = 'Cuộc trò chuyện giữa con người và trợ lý AI.\\n'\n",
    "def mapper(x):\n",
    "    return {\n",
    "        'input': text,\n",
    "        'output': x['input'].removeprefix(text)\n",
    "    }\n",
    "temp_alpaca = alpaca.map(mapper, batched=False, remove_columns=['input'])"
   ]
  },
  {
   "cell_type": "code",
   "execution_count": null,
   "metadata": {},
   "outputs": [],
   "source": [
    "temp_alpaca[0]"
   ]
  },
  {
   "cell_type": "code",
   "execution_count": null,
   "metadata": {},
   "outputs": [],
   "source": [
    "temp_alpaca.to_json('../../data/training_3_8/alpaca_chat_15k_samples.jsonl', orient='records', lines=True)"
   ]
  },
  {
   "cell_type": "markdown",
   "metadata": {},
   "source": [
    "### GPT4 INSTRUCT"
   ]
  },
  {
   "cell_type": "code",
   "execution_count": 93,
   "metadata": {},
   "outputs": [
    {
     "name": "stderr",
     "output_type": "stream",
     "text": [
      "Found cached dataset json (/Users/phamhoang1408/.cache/huggingface/datasets/json/default-1ec4cd6bcffd1298/0.0.0)\n"
     ]
    },
    {
     "data": {
      "text/plain": [
       "Dataset({\n",
       "    features: ['instruction', 'input', 'response'],\n",
       "    num_rows: 17873\n",
       "})"
      ]
     },
     "execution_count": 93,
     "metadata": {},
     "output_type": "execute_result"
    }
   ],
   "source": [
    "gpt4 = Dataset.from_json('/Users/phamhoang1408/Desktop/Phase 2 Viettel/main_repo/data/original/gpt4_instruct_similarity_0_9.json')\n",
    "gpt4"
   ]
  },
  {
   "cell_type": "code",
   "execution_count": 72,
   "metadata": {},
   "outputs": [
    {
     "data": {
      "text/plain": [
       "Dataset({\n",
       "    features: ['instruction', 'input', 'response'],\n",
       "    num_rows: 17873\n",
       "})"
      ]
     },
     "execution_count": 72,
     "metadata": {},
     "output_type": "execute_result"
    }
   ],
   "source": [
    "gpt4"
   ]
  },
  {
   "cell_type": "code",
   "execution_count": 94,
   "metadata": {},
   "outputs": [
    {
     "data": {
      "application/vnd.jupyter.widget-view+json": {
       "model_id": "a03440db5d064072995cbdf4b2cafb63",
       "version_major": 2,
       "version_minor": 0
      },
      "text/plain": [
       "Map:   0%|          | 0/17873 [00:00<?, ? examples/s]"
      ]
     },
     "metadata": {},
     "output_type": "display_data"
    }
   ],
   "source": [
    "template1 = \"[|Human|] {instruction}\\n{input}\\n[|AI|] \"\n",
    "template2 = \"[|Human|] {instruction}\\n[|AI|] \"\n",
    "\n",
    "def mapper(x):\n",
    "    if x['input'] != '' and x['input'] is not None:\n",
    "        template = template1.format(\n",
    "            instruction=x['instruction'], \n",
    "            input=x['input']\n",
    "        )\n",
    "    else:\n",
    "        template = template2.format(instruction=x['instruction'])\n",
    "    return {\n",
    "        'input': template,\n",
    "        'output': x['response']\n",
    "    }\n",
    "\n",
    "temp_gpt4 = gpt4.map(mapper,batched=False, remove_columns=gpt4.column_names)"
   ]
  },
  {
   "cell_type": "code",
   "execution_count": 95,
   "metadata": {},
   "outputs": [
    {
     "data": {
      "text/plain": [
       "Dataset({\n",
       "    features: ['input', 'output'],\n",
       "    num_rows: 17873\n",
       "})"
      ]
     },
     "execution_count": 95,
     "metadata": {},
     "output_type": "execute_result"
    }
   ],
   "source": [
    "temp_gpt4"
   ]
  },
  {
   "cell_type": "code",
   "execution_count": 100,
   "metadata": {},
   "outputs": [
    {
     "name": "stdout",
     "output_type": "stream",
     "text": [
      "[|Human|] Rewrite the following paragraph to be more concise.\n",
      "One of the key aspects of nanotechnology, which involves the application of engineering at the molecular and atomic level, is that it has the potential to provide significant advancements in a variety of fields. These may include areas such as energy production, medical applications, environmental management, and material science. Due to the inherently smaller scale upon which nanotechnology operates, researchers and engineers have the ability to manipulate and control materials at the atomic level. This can lead to more efficient, effective, and powerful products and technologies being developed.\n",
      "[|AI|] Nanotechnology, the manipulation of materials at the molecular and atomic level, has the potential to revolutionize fields like energy production, medicine, environmental management, and material science by creating more efficient and powerful products.\n"
     ]
    }
   ],
   "source": [
    "a = temp_gpt4.shuffle()[0]\n",
    "print(a['input']+a['output'])"
   ]
  },
  {
   "cell_type": "code",
   "execution_count": 101,
   "metadata": {},
   "outputs": [
    {
     "data": {
      "application/vnd.jupyter.widget-view+json": {
       "model_id": "91c71eef3bd848e1ab3d8399ff3fd555",
       "version_major": 2,
       "version_minor": 0
      },
      "text/plain": [
       "Creating json from Arrow format:   0%|          | 0/18 [00:00<?, ?ba/s]"
      ]
     },
     "metadata": {},
     "output_type": "display_data"
    },
    {
     "data": {
      "text/plain": [
       "11710929"
      ]
     },
     "execution_count": 101,
     "metadata": {},
     "output_type": "execute_result"
    }
   ],
   "source": [
    "temp_gpt4.to_json('../../data/training_english/gpt4_instruct.jsonl', orient='records', lines=True)"
   ]
  },
  {
   "cell_type": "markdown",
   "metadata": {},
   "source": [
    "### DOLLY WITH CONTEXT"
   ]
  },
  {
   "cell_type": "code",
   "execution_count": 149,
   "metadata": {},
   "outputs": [
    {
     "name": "stderr",
     "output_type": "stream",
     "text": [
      "Found cached dataset json (/Users/phamhoang1408/.cache/huggingface/datasets/json/default-88170a2f4a3af818/0.0.0)\n"
     ]
    }
   ],
   "source": [
    "dolly = Dataset.from_json('/Users/phamhoang1408/Desktop/Phase 2 Viettel/main_repo/data/original/dolly_with_context.jsonl')"
   ]
  },
  {
   "cell_type": "code",
   "execution_count": 150,
   "metadata": {},
   "outputs": [
    {
     "data": {
      "text/plain": [
       "{'instruction': 'What is handscroll used for',\n",
       " 'context': 'The handscroll is a long, narrow, horizontal scroll format in East Asia used for calligraphy or paintings. A handscroll usually measures up to several meters in length and around 25–40 cm in height. Handscrolls are generally viewed starting from the right end. This kind of scroll is intended to be read or viewed flat on a table, in sections. The format thus allows for the depiction of a continuous narrative or journey. The traditional alternative format in East Asian paintings is the vertical hanging scroll, which is rarely as long.',\n",
       " 'response': 'The handscroll is a long, narrow, horizontal scroll format in East Asia used for calligraphy or paintings.',\n",
       " 'category': 'closed_qa'}"
      ]
     },
     "execution_count": 150,
     "metadata": {},
     "output_type": "execute_result"
    }
   ],
   "source": [
    "dolly.shuffle()[0]"
   ]
  },
  {
   "cell_type": "code",
   "execution_count": 151,
   "metadata": {},
   "outputs": [
    {
     "name": "stderr",
     "output_type": "stream",
     "text": [
      "Loading cached processed dataset at /Users/phamhoang1408/.cache/huggingface/datasets/json/default-88170a2f4a3af818/0.0.0/cache-cc2e3641bc588444.arrow\n"
     ]
    }
   ],
   "source": [
    "# template1 = \"The conversation between human and AI assistant.\\n[|Human|] Trả lời câu hỏi dựa vào đoạn văn bản dưới đây. Chỉ được trả lời dựa trên thông tin nằm trong văn bản được cung cấp.\\nCâu hỏi: {instruction}\\nĐoạn văn bản:\\n{context}\\n[|AI|] \"\n",
    "template1 = \"[|Human|] Answer the question given the following context.\\nQuestion: {instruction}\\Context:\\n{context}\\n[|AI|] \"\n",
    "\n",
    "def mapper(x):\n",
    "    ip = template1.format(\n",
    "        instruction=x['instruction'], \n",
    "        context=x['context']\n",
    "    )\n",
    "    return {\n",
    "        'input': ip,\n",
    "        'output': x['response']\n",
    "    }\n",
    "\n",
    "temp_dolly = dolly.map(mapper,batched=False, remove_columns=dolly.column_names)"
   ]
  },
  {
   "cell_type": "code",
   "execution_count": 152,
   "metadata": {},
   "outputs": [],
   "source": [
    "df = temp_dolly.to_pandas()\n",
    "df = df.sample(8000, random_state=42, replace=True)\n",
    "df = df.reset_index(drop=True)\n",
    "temp_dolly = Dataset.from_pandas(df)"
   ]
  },
  {
   "cell_type": "code",
   "execution_count": 91,
   "metadata": {},
   "outputs": [
    {
     "name": "stdout",
     "output_type": "stream",
     "text": [
      "[|Human|] Answer the question given the following context.\n",
      "Question: Extract the different storage configurations available to the iPhone 14 that are mentioned in the text. Put them in a comma separated list.\\Context:\n",
      "iPhone 14 and 14 Plus are available in three internal storage configurations: 128, 256, and 512 GB. It has 6 GB of RAM, an increase over the iPhone 13 and 13 mini model's 4 GB of RAM. The iPhone 14 and 14 Plus have the same IP68 rating for dust and water resistance as their predecessors.\n",
      "[|AI|] 128 GB, 256 GB, 512 GB\n"
     ]
    }
   ],
   "source": [
    "temp = temp_dolly.shuffle()[0]\n",
    "print(temp['input'] + temp['output'])"
   ]
  },
  {
   "cell_type": "markdown",
   "metadata": {},
   "source": [
    "Cuộc trò chuyện giữa con người và trợ lý AI.\n",
    "[|Con người|] Trả lời câu hỏi pháp luật dựa vào những điều luật liên quan dưới đây. Chỉ được trả lời dựa trên thông tin nằm trong điều luật được cung cấp.\n",
    "Câu hỏi: Phạm tội trong trạng thái tinh thần bị kích động mạnh bị xử lý thế nào?\n",
    "Điều luật liên quan:\n",
    "Điều 125. Tội giết người trong trạng thái tinh thần bị kích động mạnh 1. Người nào giết người trong trạng thái tinh thần bị kích động mạnh do hành vi trái pháp luật nghiêm trọng của nạn nhân đối với người đó hoặc đối với người thân thích của người đó, thì bị phạt tù từ 06 tháng đến 03 năm. 2. Phạm tội đối với 02 người trở lên, thì bị phạt tù từ 03 năm đến 07 năm.\n",
    "[|AI|] Giết người trong trạng thái tinh thần bị kích động mạnh Tội giết người trong trạng thái tinh thần bị kích động mạnh được quy định tại Điều 125 Bộ luật Hình sự 2015 sửa đổi, bổ sung 2017 với mức hình phạt như sau: Khung 1: Người nào giết người trong trạng thái tinh thần bị kích động mạnh do hành vi trái pháp luật nghiêm trọng của nạn nhân đối với người đó hoặc đối với người thân thích của người đó, thì bị phạt tù từ 06 tháng đến 03 năm. Khung 2: Phạm tội đối với 02 người trở lên, thì bị phạt tù từ 03 năm đến 07 năm.\n",
    "[|Con người|]"
   ]
  },
  {
   "cell_type": "code",
   "execution_count": 153,
   "metadata": {},
   "outputs": [
    {
     "data": {
      "application/vnd.jupyter.widget-view+json": {
       "model_id": "54644ee887014554b6154a093f25a73d",
       "version_major": 2,
       "version_minor": 0
      },
      "text/plain": [
       "Creating json from Arrow format:   0%|          | 0/8 [00:00<?, ?ba/s]"
      ]
     },
     "metadata": {},
     "output_type": "display_data"
    },
    {
     "data": {
      "text/plain": [
       "12791456"
      ]
     },
     "execution_count": 153,
     "metadata": {},
     "output_type": "execute_result"
    }
   ],
   "source": [
    "temp_dolly.to_json('../../data/training_english/dolly_4k_samples.jsonl', orient='records', lines=True)"
   ]
  },
  {
   "cell_type": "markdown",
   "metadata": {},
   "source": [
    "### Load all"
   ]
  },
  {
   "cell_type": "code",
   "execution_count": 154,
   "metadata": {},
   "outputs": [],
   "source": [
    "from glob import glob\n",
    "def load_dataset(folder_path, dataset_size=None):\n",
    "    data = []\n",
    "    for path in glob(folder_path + \"/*.jsonl\"):\n",
    "        ds = Dataset.from_json(path)\n",
    "        for check in ['input', 'output']:\n",
    "            if check not in ds.column_names:\n",
    "                raise ValueError(\"Dataset must have input, output columns\")\n",
    "        # take only the input and output columns\n",
    "        ds = ds.select_columns(['input', 'output'])\n",
    "        data.append(ds)\n",
    "    if dataset_size is None:\n",
    "        return concatenate_datasets(data, axis=0).shuffle(seed=42)\n",
    "    return (\n",
    "        concatenate_datasets(data, axis=0).shuffle(seed=42).select(range(dataset_size))\n",
    "    )\n",
    "\n",
    "def clean(ds):\n",
    "    def mapper(x):\n",
    "        for column in ds.column_names:\n",
    "            x[column] = x[column].replace('[|Human|]','[|Con người|]').replace('\\n[|Con người|]\\n[|Con người|]', '\\n[|Con người|]')\n",
    "        return x\n",
    "    def filter(x):\n",
    "        for column in ds.column_names:\n",
    "            if x[column] == '' or x[column] is None:\n",
    "                return False\n",
    "        return True\n",
    "\n",
    "    new_ds = ds.map(mapper,batched=False)\n",
    "    new_ds = new_ds.filter(filter)\n",
    "    return new_ds        "
   ]
  },
  {
   "cell_type": "code",
   "execution_count": 155,
   "metadata": {},
   "outputs": [
    {
     "name": "stderr",
     "output_type": "stream",
     "text": [
      "Found cached dataset json (/Users/phamhoang1408/.cache/huggingface/datasets/json/default-154e9ac7b45b6cea/0.0.0)\n"
     ]
    },
    {
     "name": "stdout",
     "output_type": "stream",
     "text": [
      "Downloading and preparing dataset json/default to /Users/phamhoang1408/.cache/huggingface/datasets/json/default-0721c5b65b2c181d/0.0.0...\n"
     ]
    },
    {
     "data": {
      "application/vnd.jupyter.widget-view+json": {
       "model_id": "104bb4d5728c4a0d94c4d568cc67ee97",
       "version_major": 2,
       "version_minor": 0
      },
      "text/plain": [
       "Downloading data files:   0%|          | 0/1 [00:00<?, ?it/s]"
      ]
     },
     "metadata": {},
     "output_type": "display_data"
    },
    {
     "data": {
      "application/vnd.jupyter.widget-view+json": {
       "model_id": "c0132b26ce3c47d0af33a9b2b4d72102",
       "version_major": 2,
       "version_minor": 0
      },
      "text/plain": [
       "Extracting data files:   0%|          | 0/1 [00:00<?, ?it/s]"
      ]
     },
     "metadata": {},
     "output_type": "display_data"
    },
    {
     "data": {
      "application/vnd.jupyter.widget-view+json": {
       "model_id": "1be02711ba2247aeb412768042e4f698",
       "version_major": 2,
       "version_minor": 0
      },
      "text/plain": [
       "Generating train split: 0 examples [00:00, ? examples/s]"
      ]
     },
     "metadata": {},
     "output_type": "display_data"
    },
    {
     "name": "stderr",
     "output_type": "stream",
     "text": [
      "Found cached dataset json (/Users/phamhoang1408/.cache/huggingface/datasets/json/default-f2def6352b4e3016/0.0.0)\n",
      "Found cached dataset json (/Users/phamhoang1408/.cache/huggingface/datasets/json/default-e8f787b4afeee828/0.0.0)\n"
     ]
    },
    {
     "name": "stdout",
     "output_type": "stream",
     "text": [
      "Dataset json downloaded and prepared to /Users/phamhoang1408/.cache/huggingface/datasets/json/default-0721c5b65b2c181d/0.0.0. Subsequent calls will reuse this data.\n"
     ]
    }
   ],
   "source": [
    "ds = load_dataset('../../data/training_english')"
   ]
  },
  {
   "cell_type": "code",
   "execution_count": 156,
   "metadata": {},
   "outputs": [
    {
     "data": {
      "text/plain": [
       "Dataset({\n",
       "    features: ['input', 'output'],\n",
       "    num_rows: 85456\n",
       "})"
      ]
     },
     "execution_count": 156,
     "metadata": {},
     "output_type": "execute_result"
    }
   ],
   "source": [
    "ds"
   ]
  },
  {
   "cell_type": "code",
   "execution_count": 216,
   "metadata": {},
   "outputs": [
    {
     "name": "stdout",
     "output_type": "stream",
     "text": [
      "The conversation between human and AI assistant.\n",
      "\n",
      "[|Human|] What is the typical wattage of bulb in a lightbox?\n",
      "[|AI|] The amount of electricity that a light bulb uses depends on its size and type. Traditional incandescent bulbs usually consume between 25 to 100 watts, while LED bulbs use between 2 to 18 watts. Most light bulbs draw around 110 volts and less than 1 amp.\n",
      "\n",
      "However, the biggest factor that affects the amount of electricity a light bulb uses is how often it is used. In the United States, the average time that lights are on per day is about 2 hours. For example, using an average 60 watt incandescent bulb:\n",
      "\n",
      "Using the light bulb for 1 hour per day results in 0.42 kilowatt-hours (kWh) of electricity per week, 1.83 kWh per month, and 21.9 kWh per year.\n",
      "Using the light bulb for 2 hours per day results in 0.84 kWh per week, 3.65 kWh per month, and 43.8 kWh per year.\n",
      "On the other hand, using the light bulb for 3 hours per day results in 1.26 kWh of electricity per week, 5.48 kWh per month, and 65.7 kWh per year.\n",
      "\n",
      "An LED light bulb, which is more energy-efficient and averages around 10 watts, uses less electricity than a traditional incandescent bulb. \n",
      "For instance, using an LED bulb for one hour per day results in 0.07 kilowatt-hours of electricity per week, 0.30 kWh per month, and 3.65 kWh per year. \n",
      "Using an LED bulb for two hours per day uses 0.14 kWh per week, 0.61 kWh per month, and 7.30 kWh per year, while using an LED bulb for three hours per day uses 0.21 kWh per week, 0.92 kWh per month, and 11.0 kWh per year. \n",
      "\n",
      "Keep in mind that you usually use more than one light bulb when turning on the lights, so the actual energy usage may be higher. By multiplying the numbers above by the number of light bulbs used in a room or throughout a house, you can get a more realistic estimate of energy usage.\n",
      "[|Human|] How much power does a fluorescent lightbulb typically use?\n",
      "[|AI|] Fluorescent light bulbs usually consume between 8 to 100 watts depending on their size and type. Compact fluorescent bulbs, which are the most common type, typically use between 13 to 23 watts, while larger fluorescent tubes may use up to 100 watts or more. Like other types of light bulbs, the actual electricity usage will depend on how often the bulb is used.\n",
      "\n"
     ]
    }
   ],
   "source": [
    "a = ds.shuffle()[0]\n",
    "print(a['input'])\n",
    "print(a['output'])"
   ]
  },
  {
   "cell_type": "code",
   "execution_count": 162,
   "metadata": {},
   "outputs": [
    {
     "data": {
      "application/vnd.jupyter.widget-view+json": {
       "model_id": "0f66993458e84b4d8cc0949a6d33448a",
       "version_major": 2,
       "version_minor": 0
      },
      "text/plain": [
       "Creating json from Arrow format:   0%|          | 0/86 [00:00<?, ?ba/s]"
      ]
     },
     "metadata": {},
     "output_type": "display_data"
    },
    {
     "data": {
      "text/plain": [
       "355104028"
      ]
     },
     "execution_count": 162,
     "metadata": {},
     "output_type": "execute_result"
    }
   ],
   "source": [
    "path_to_save = '../../data/english_training/all_11_8.jsonl'\n",
    "ds.to_json(path_to_save, orient='records', lines=True)"
   ]
  },
  {
   "cell_type": "code",
   "execution_count": 165,
   "metadata": {},
   "outputs": [
    {
     "data": {
      "text/plain": [
       "Dataset({\n",
       "    features: ['input', 'output'],\n",
       "    num_rows: 85456\n",
       "})"
      ]
     },
     "execution_count": 165,
     "metadata": {},
     "output_type": "execute_result"
    }
   ],
   "source": [
    "ds"
   ]
  },
  {
   "cell_type": "code",
   "execution_count": null,
   "metadata": {},
   "outputs": [],
   "source": [
    "ds.shuffle().select(range(1000)).map(lambda x: {'len':len(tokenizer.tokenize(x['input']+x['output']))}).to_pandas().hist(bins=100)"
   ]
  },
  {
   "cell_type": "code",
   "execution_count": null,
   "metadata": {},
   "outputs": [],
   "source": [
    "df = ds.to_pandas()"
   ]
  },
  {
   "cell_type": "code",
   "execution_count": null,
   "metadata": {},
   "outputs": [],
   "source": [
    "df_length = df.apply(lambda x: len(tokenizer.tokenize(x['input']+x['output'])), axis=1)"
   ]
  },
  {
   "cell_type": "code",
   "execution_count": null,
   "metadata": {},
   "outputs": [],
   "source": [
    "temp_df = df[df_length <= 512].reset_index(drop=True)\n",
    "temp_df.shape"
   ]
  },
  {
   "cell_type": "code",
   "execution_count": null,
   "metadata": {},
   "outputs": [],
   "source": [
    "final_df = temp_df.sample(60000).reset_index(drop=True)"
   ]
  },
  {
   "cell_type": "code",
   "execution_count": null,
   "metadata": {},
   "outputs": [],
   "source": [
    "ds = Dataset.from_pandas(final_df)"
   ]
  },
  {
   "cell_type": "code",
   "execution_count": null,
   "metadata": {},
   "outputs": [],
   "source": [
    "ds.to_json('../../data/temp_training/final_dataset.jsonl', orient='records', lines=True)"
   ]
  },
  {
   "cell_type": "code",
   "execution_count": null,
   "metadata": {},
   "outputs": [],
   "source": [
    "ds = Dataset.from_json('/Users/phamhoang1408/Desktop/Phase 2 Viettel/main_repo/data/original/formatted_toolformer-similarity-0.8-dataset.json')"
   ]
  },
  {
   "cell_type": "code",
   "execution_count": null,
   "metadata": {},
   "outputs": [],
   "source": [
    "ds.shuffle()[0]"
   ]
  },
  {
   "cell_type": "code",
   "execution_count": 4,
   "metadata": {},
   "outputs": [
    {
     "name": "stderr",
     "output_type": "stream",
     "text": [
      "Found cached dataset json (/Users/phamhoang1408/.cache/huggingface/datasets/WizardLM___json/WizardLM--WizardLM_evol_instruct_V2_196k-ce2aea5a7424f8ea/0.0.0/0f7e3662623656454fcd2b650f34e886a7db4b9104504885bd462096cc7a9f51)\n"
     ]
    },
    {
     "data": {
      "application/vnd.jupyter.widget-view+json": {
       "model_id": "fa03fba32c734d4ba5852f997ae7ad86",
       "version_major": 2,
       "version_minor": 0
      },
      "text/plain": [
       "  0%|          | 0/1 [00:00<?, ?it/s]"
      ]
     },
     "metadata": {},
     "output_type": "display_data"
    }
   ],
   "source": [
    "wizard = load_dataset('WizardLM/WizardLM_evol_instruct_V2_196k')['train']"
   ]
  },
  {
   "cell_type": "code",
   "execution_count": 6,
   "metadata": {},
   "outputs": [
    {
     "data": {
      "application/vnd.jupyter.widget-view+json": {
       "model_id": "030ae064f2524c50aa6c74c1bc7a242b",
       "version_major": 2,
       "version_minor": 0
      },
      "text/plain": [
       "Creating json from Arrow format:   0%|          | 0/143 [00:00<?, ?ba/s]"
      ]
     },
     "metadata": {},
     "output_type": "display_data"
    },
    {
     "data": {
      "text/plain": [
       "351972540"
      ]
     },
     "execution_count": 6,
     "metadata": {},
     "output_type": "execute_result"
    }
   ],
   "source": [
    "wizard.to_json('../../../data/original/wizard_full.jsonl', orient='records', lines=True)"
   ]
  },
  {
   "cell_type": "code",
   "execution_count": null,
   "metadata": {},
   "outputs": [],
   "source": []
  }
 ],
 "metadata": {
  "kernelspec": {
   "display_name": "Python 3",
   "language": "python",
   "name": "python3"
  },
  "language_info": {
   "codemirror_mode": {
    "name": "ipython",
    "version": 3
   },
   "file_extension": ".py",
   "mimetype": "text/x-python",
   "name": "python",
   "nbconvert_exporter": "python",
   "pygments_lexer": "ipython3",
   "version": "3.10.7"
  },
  "orig_nbformat": 4
 },
 "nbformat": 4,
 "nbformat_minor": 2
}
