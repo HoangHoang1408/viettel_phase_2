{
 "cells": [
  {
   "cell_type": "code",
   "execution_count": 1,
   "metadata": {},
   "outputs": [],
   "source": [
    "import numpy as np\n",
    "import pandas as pd\n",
    "import matplotlib.pyplot as plt\n",
    "from matplotlib import rcParams\n",
    "import seaborn as sns\n",
    "import warnings\n",
    "\n",
    "sns.set()\n",
    "rcParams['figure.figsize'] = (20,10)\n",
    "pd.options.display.max_columns = None\n",
    "warnings.filterwarnings('ignore')\n",
    "from pprint import pprint\n",
    "import json\n",
    "\n",
    "from transformers import AutoTokenizer, AutoModel, AutoConfig, pipeline\n",
    "from datasets import load_dataset, Dataset, concatenate_datasets\n",
    "import swifter"
   ]
  },
  {
   "cell_type": "code",
   "execution_count": 2,
   "metadata": {},
   "outputs": [],
   "source": [
    "tokenizer = AutoTokenizer.from_pretrained(\"bigscience/bloom-7b1\")"
   ]
  },
  {
   "cell_type": "markdown",
   "metadata": {},
   "source": [
    "### CNN_DAILY"
   ]
  },
  {
   "cell_type": "code",
   "execution_count": null,
   "metadata": {},
   "outputs": [],
   "source": [
    "cnn = Dataset.from_json('../../data/translated/cnn_dailymail_30k_samples_len_100_1200_words_translated.json')"
   ]
  },
  {
   "cell_type": "code",
   "execution_count": null,
   "metadata": {},
   "outputs": [],
   "source": [
    "input_template=\"Cuộc trò chuyện giữa con người và trợ lý AI.\\n[|Con người|] Tóm tắt ngắn gọn đoạn văn bản sau đây:\\n{article_translated}\\n[|AI|] \"\n",
    "def mapper(x):\n",
    "    return {\n",
    "        'input': input_template.format(article_translated=x['article_translated']),\n",
    "        'output': 'Đoạn văn bản đã được tóm tắt:\\n' + x['highlights_translated'] + '\\n[|Con người|]'\n",
    "    }\n",
    "\n",
    "temp_cnn = cnn.shuffle().select(range(15000)).map(mapper,batched=False, remove_columns=['article_translated','highlights_translated'])"
   ]
  },
  {
   "cell_type": "code",
   "execution_count": null,
   "metadata": {},
   "outputs": [],
   "source": [
    "print(temp_cnn[1]['input'] + temp_cnn[1]['output'])"
   ]
  },
  {
   "cell_type": "code",
   "execution_count": null,
   "metadata": {},
   "outputs": [],
   "source": [
    "length = temp_cnn.shuffle().select(range(1000)).map(lambda x: {'len':len(tokenizer.tokenize(x['input'] + x['output']))})\n",
    "length.to_pandas().hist(bins=100)"
   ]
  },
  {
   "cell_type": "code",
   "execution_count": null,
   "metadata": {},
   "outputs": [],
   "source": [
    "temp_cnn[0]"
   ]
  },
  {
   "cell_type": "code",
   "execution_count": null,
   "metadata": {},
   "outputs": [],
   "source": [
    "temp_cnn.to_json('../../data/training_3_8/cnn_15k_samples.jsonl', orient='records', lines=True)"
   ]
  },
  {
   "cell_type": "markdown",
   "metadata": {},
   "source": [
    "### DIALOG SUMMARY"
   ]
  },
  {
   "cell_type": "code",
   "execution_count": null,
   "metadata": {},
   "outputs": [],
   "source": [
    "dialog = Dataset.from_json('../../data/translated/dialogsum_10k_samples_len_50_words_translated.json')"
   ]
  },
  {
   "cell_type": "code",
   "execution_count": null,
   "metadata": {},
   "outputs": [],
   "source": [
    "dialog"
   ]
  },
  {
   "cell_type": "code",
   "execution_count": null,
   "metadata": {},
   "outputs": [],
   "source": [
    "input_template=\"Tóm tắt ngắn gọn đoạn hội thoại sau đây:\\n{dialogue_translated}\\nĐoạn hội thoại đã được tóm tắt:\\n\"\n",
    "def mapper(x):\n",
    "    return {\n",
    "        'input': input_template.format(dialogue_translated=x['dialogue_translated']),\n",
    "        'output': x['summary_translated']\n",
    "    }\n",
    "\n",
    "temp_dialog = dialog.shuffle().select(range(10000)).map(mapper,batched=False, remove_columns=['dialogue_translated','summary_translated'])"
   ]
  },
  {
   "cell_type": "code",
   "execution_count": null,
   "metadata": {},
   "outputs": [],
   "source": [
    "print(temp_dialog[1]['input'] + temp_dialog[1]['output'])"
   ]
  },
  {
   "cell_type": "code",
   "execution_count": null,
   "metadata": {},
   "outputs": [],
   "source": [
    "temp_dialog[0]"
   ]
  },
  {
   "cell_type": "code",
   "execution_count": null,
   "metadata": {},
   "outputs": [],
   "source": [
    "temp_dialog.to_json('../../data/training_3_8/dialogsum_10k_samples.jsonl', orient='records', lines=True)"
   ]
  },
  {
   "cell_type": "markdown",
   "metadata": {},
   "source": [
    "### FAQS"
   ]
  },
  {
   "cell_type": "code",
   "execution_count": 4,
   "metadata": {},
   "outputs": [
    {
     "name": "stderr",
     "output_type": "stream",
     "text": [
      "Found cached dataset json (/Users/phamhoang1408/.cache/huggingface/datasets/json/default-e90f1f489bc5a6e2/0.0.0)\n"
     ]
    },
    {
     "name": "stdout",
     "output_type": "stream",
     "text": [
      "Cuộc trò chuyện giữa con người và trợ lý AI.\n",
      "[|Con người|] Trả lời câu hỏi pháp luật dựa vào những điều luật liên quan dưới đây. Chỉ được trả lời dựa trên điều luật được cung cấp. Nếu không đủ thông tin để trả lời thì trả lời: Tôi không biết.\n",
      "Câu hỏi: Quy trình lấy lời khai của đương sự như thế nào?\n",
      "Điều luật liên quan: Điều 98. Lấy lời khai của đương sự 1. Thẩm phán chỉ tiến hành lấy lời khai của đương sự khi đương sự chưa có bản khai hoặc nội dung bản khai chưa đầy đủ, rõ ràng. Đương sự phải tự viết bản khai và ký tên của mình. Trường hợp đương sự không thể tự viết được thì Thẩm phán lấy lời khai của đương sự. Việc lấy lời khai của đương sự chỉ tập trung vào những tình tiết mà đương sự khai chưa đầy đủ, rõ ràng. Thẩm phán tự mình hoặc Thư ký Tòa án ghi lại lời khai của đương sự vào biên bản. Thẩm phán lấy lời khai của đương sự tại trụ sở Tòa án; trường hợp cần thiết có thể lấy lời khai của đương sự ngoài trụ sở Tòa án. 2. Biên bản ghi lời khai của đương sự phải được người khai tự đọc lại hay nghe đọc lại và ký tên hoặc điểm chỉ. Đương sự có quyền yêu cầu ghi những sửa đổi, bổ sung vào biên bản ghi lời khai và ký tên hoặc điểm chỉ xác nhận. Biên bản phải có chữ ký của người lấy lời khai, người ghi biên bản và đóng dấu của Tòa án; nếu biên bản được ghi thành nhiều trang rời nhau thì phải ký vào từng trang và đóng dấu giáp lai. Trường hợp biên bản ghi lời khai của đương sự được lập ngoài trụ sở Tòa án thì phải có người làm chứng hoặc xác nhận của Ủy ban nhân dân cấp xã hoặc Công an xã, phường, thị trấn hoặc cơ quan, tổ chức nơi lập biên bản. 3. Việc lấy lời khai của đương sự thuộc một trong các trường hợp quy định tại khoản 4 và khoản 5 Điều 69 của Bộ luật này phải được tiến hành với sự có mặt của người đại diện hợp pháp của đương sự đó.\n",
      "[|AI|] Căn cứ Điều 98 Bộ luật tố tụng dân sự 2015. Quy trình lấy lời khai của đương sự như sau: 1. Thẩm phán chỉ tiến hành lấy lời khai của đương sự khi đương sự chưa có bản khai hoặc nội dung bản khai chưa đầy đủ, rõ ràng. Đương sự phải tự viết bản khai và ký tên của mình. Trường hợp đương sự không thể tự viết được thì Thẩm phán lấy lời khai của đương sự. Việc lấy lời khai của đương sự chỉ tập trung vào những tình tiết mà đương sự khai chưa đầy đủ, rõ ràng. Thẩm phán tự mình hoặc Thư ký Tòa án ghi lại lời khai của đương sự vào biên bản. Thẩm phán lấy lời khai của đương sự tại trụ sở Tòa án; trường hợp cần thiết có thể lấy lời khai của đương sự ngoài trụ sở Tòa án. 2. Biên bản ghi lời khai của đương sự phải được người khai tự đọc lại hay nghe đọc lại và ký tên hoặc điểm chỉ. Đương sự có quyền yêu cầu ghi những sửa đổi, bổ sung vào biên bản ghi lời khai và ký tên hoặc điểm chỉ xác nhận. Biên bản phải có chữ ký của người lấy lời khai, người ghi biên bản và đóng dấu của Tòa án; nếu biên bản được ghi thành nhiều trang rời nhau thì phải ký vào từng trang và đóng dấu giáp lai. Trường hợp biên bản ghi lời khai của đương sự được lập ngoài trụ sở Tòa án thì phải có người làm chứng hoặc xác nhận của Ủy ban nhân dân cấp xã hoặc Công an xã, phường, thị trấn hoặc cơ quan, tổ chức nơi lập biên bản. 3. Việc lấy lời khai của đương sự thuộc một trong các trường hợp quy định tại khoản 4 và khoản 5 Điều 69 của Bộ luật này phải được tiến hành với sự có mặt của người đại diện hợp pháp của đương sự đó.\n"
     ]
    }
   ],
   "source": [
    "from fuzzywuzzy import fuzz\n",
    "faqs = Dataset.from_json('../../../data/training_31_7/faq_chat_10k.jsonl')\n",
    "print(faqs.shuffle()[0]['input'])"
   ]
  },
  {
   "cell_type": "code",
   "execution_count": 5,
   "metadata": {},
   "outputs": [
    {
     "name": "stderr",
     "output_type": "stream",
     "text": [
      "Loading cached processed dataset at /Users/phamhoang1408/.cache/huggingface/datasets/json/default-e90f1f489bc5a6e2/0.0.0/cache-761db58758c19ad3.arrow\n",
      "Loading cached processed dataset at /Users/phamhoang1408/.cache/huggingface/datasets/json/default-e90f1f489bc5a6e2/0.0.0/cache-a81d967f499143fb.arrow\n"
     ]
    }
   ],
   "source": [
    "text = 'Cuộc trò chuyện giữa con người và trợ lý AI.\\n'\n",
    "text2 = ' Nếu không đủ thông tin để trả lời thì trả lời: Tôi không biết.'\n",
    "text3 = 'Điều luật liên quan: '\n",
    "text4 = ' Chỉ được trả lời dựa trên điều luật được cung cấp.'\n",
    "def mapper(x):\n",
    "    return {\n",
    "        'input': text,\n",
    "        'output': x['input'].removeprefix(text).replace(text2,'').replace(text3, 'Điều luật liên quan:\\n').replace(text4, '') + '\\n[|Con người|]',\n",
    "    }\n",
    "\n",
    "def mapper2(x):\n",
    "    ai_index = x['output'].find('[|AI|]')\n",
    "    return {\n",
    "        'input': x['input'] + x['output'][:ai_index + 7],\n",
    "        'output': x['output'][ai_index + 7:],\n",
    "    }\n",
    "\n",
    "temp_faqs = faqs.map(mapper, batched=False).map(mapper2, batched=False)"
   ]
  },
  {
   "cell_type": "code",
   "execution_count": 6,
   "metadata": {},
   "outputs": [
    {
     "data": {
      "text/html": [
       "<div>\n",
       "<style scoped>\n",
       "    .dataframe tbody tr th:only-of-type {\n",
       "        vertical-align: middle;\n",
       "    }\n",
       "\n",
       "    .dataframe tbody tr th {\n",
       "        vertical-align: top;\n",
       "    }\n",
       "\n",
       "    .dataframe thead th {\n",
       "        text-align: right;\n",
       "    }\n",
       "</style>\n",
       "<table border=\"1\" class=\"dataframe\">\n",
       "  <thead>\n",
       "    <tr style=\"text-align: right;\">\n",
       "      <th></th>\n",
       "      <th>input</th>\n",
       "      <th>output</th>\n",
       "      <th>length_input</th>\n",
       "      <th>length_output</th>\n",
       "      <th>similarity</th>\n",
       "    </tr>\n",
       "  </thead>\n",
       "  <tbody>\n",
       "    <tr>\n",
       "      <th>0</th>\n",
       "      <td>Cuộc trò chuyện giữa con người và trợ lý AI.\\n...</td>\n",
       "      <td>Theo quy định tại Điều 57 Bộ luật Hình sự 2015...</td>\n",
       "      <td>257</td>\n",
       "      <td>209</td>\n",
       "      <td>0.182403</td>\n",
       "    </tr>\n",
       "    <tr>\n",
       "      <th>1</th>\n",
       "      <td>Cuộc trò chuyện giữa con người và trợ lý AI.\\n...</td>\n",
       "      <td>Giữa bạn và người bạn của mình đã giao kết hợp...</td>\n",
       "      <td>364</td>\n",
       "      <td>335</td>\n",
       "      <td>0.060086</td>\n",
       "    </tr>\n",
       "    <tr>\n",
       "      <th>2</th>\n",
       "      <td>Cuộc trò chuyện giữa con người và trợ lý AI.\\n...</td>\n",
       "      <td>Căn cứ theo quy định tại Điều 51 Luật thi hành...</td>\n",
       "      <td>642</td>\n",
       "      <td>317</td>\n",
       "      <td>0.060480</td>\n",
       "    </tr>\n",
       "    <tr>\n",
       "      <th>3</th>\n",
       "      <td>Cuộc trò chuyện giữa con người và trợ lý AI.\\n...</td>\n",
       "      <td>1. Chơi tài xỉu có phải là đánh bạc? Tài xỉu l...</td>\n",
       "      <td>797</td>\n",
       "      <td>912</td>\n",
       "      <td>0.029257</td>\n",
       "    </tr>\n",
       "    <tr>\n",
       "      <th>4</th>\n",
       "      <td>Cuộc trò chuyện giữa con người và trợ lý AI.\\n...</td>\n",
       "      <td>Theo Điều 472 Bộ Luật Dân Sự 2015 thì hợp đồng...</td>\n",
       "      <td>146</td>\n",
       "      <td>192</td>\n",
       "      <td>0.174556</td>\n",
       "    </tr>\n",
       "    <tr>\n",
       "      <th>...</th>\n",
       "      <td>...</td>\n",
       "      <td>...</td>\n",
       "      <td>...</td>\n",
       "      <td>...</td>\n",
       "      <td>...</td>\n",
       "    </tr>\n",
       "    <tr>\n",
       "      <th>2617</th>\n",
       "      <td>Cuộc trò chuyện giữa con người và trợ lý AI.\\n...</td>\n",
       "      <td>Thời gian làm thêm giờ (hay còn gọi là giờ tăn...</td>\n",
       "      <td>513</td>\n",
       "      <td>514</td>\n",
       "      <td>0.081792</td>\n",
       "    </tr>\n",
       "    <tr>\n",
       "      <th>2618</th>\n",
       "      <td>Cuộc trò chuyện giữa con người và trợ lý AI.\\n...</td>\n",
       "      <td>Theo quy định Khoản 4 tại Điều 250 Bộ luật hìn...</td>\n",
       "      <td>1399</td>\n",
       "      <td>224</td>\n",
       "      <td>0.014171</td>\n",
       "    </tr>\n",
       "    <tr>\n",
       "      <th>2619</th>\n",
       "      <td>Cuộc trò chuyện giữa con người và trợ lý AI.\\n...</td>\n",
       "      <td>Căn cứ khoản 3 Điều 111 Bộ luật Lao động 2019 ...</td>\n",
       "      <td>214</td>\n",
       "      <td>211</td>\n",
       "      <td>0.178824</td>\n",
       "    </tr>\n",
       "    <tr>\n",
       "      <th>2620</th>\n",
       "      <td>Cuộc trò chuyện giữa con người và trợ lý AI.\\n...</td>\n",
       "      <td>1. Đối tượng áp dụng Tái hòa nhập cộng đồng th...</td>\n",
       "      <td>723</td>\n",
       "      <td>439</td>\n",
       "      <td>0.038726</td>\n",
       "    </tr>\n",
       "    <tr>\n",
       "      <th>2621</th>\n",
       "      <td>Cuộc trò chuyện giữa con người và trợ lý AI.\\n...</td>\n",
       "      <td>Vì diện tích đất của gia đình bạn là loại đất ...</td>\n",
       "      <td>719</td>\n",
       "      <td>212</td>\n",
       "      <td>0.041890</td>\n",
       "    </tr>\n",
       "  </tbody>\n",
       "</table>\n",
       "<p>2622 rows × 5 columns</p>\n",
       "</div>"
      ],
      "text/plain": [
       "                                                  input  \\\n",
       "0     Cuộc trò chuyện giữa con người và trợ lý AI.\\n...   \n",
       "1     Cuộc trò chuyện giữa con người và trợ lý AI.\\n...   \n",
       "2     Cuộc trò chuyện giữa con người và trợ lý AI.\\n...   \n",
       "3     Cuộc trò chuyện giữa con người và trợ lý AI.\\n...   \n",
       "4     Cuộc trò chuyện giữa con người và trợ lý AI.\\n...   \n",
       "...                                                 ...   \n",
       "2617  Cuộc trò chuyện giữa con người và trợ lý AI.\\n...   \n",
       "2618  Cuộc trò chuyện giữa con người và trợ lý AI.\\n...   \n",
       "2619  Cuộc trò chuyện giữa con người và trợ lý AI.\\n...   \n",
       "2620  Cuộc trò chuyện giữa con người và trợ lý AI.\\n...   \n",
       "2621  Cuộc trò chuyện giữa con người và trợ lý AI.\\n...   \n",
       "\n",
       "                                                 output  length_input  \\\n",
       "0     Theo quy định tại Điều 57 Bộ luật Hình sự 2015...           257   \n",
       "1     Giữa bạn và người bạn của mình đã giao kết hợp...           364   \n",
       "2     Căn cứ theo quy định tại Điều 51 Luật thi hành...           642   \n",
       "3     1. Chơi tài xỉu có phải là đánh bạc? Tài xỉu l...           797   \n",
       "4     Theo Điều 472 Bộ Luật Dân Sự 2015 thì hợp đồng...           146   \n",
       "...                                                 ...           ...   \n",
       "2617  Thời gian làm thêm giờ (hay còn gọi là giờ tăn...           513   \n",
       "2618  Theo quy định Khoản 4 tại Điều 250 Bộ luật hìn...          1399   \n",
       "2619  Căn cứ khoản 3 Điều 111 Bộ luật Lao động 2019 ...           214   \n",
       "2620  1. Đối tượng áp dụng Tái hòa nhập cộng đồng th...           723   \n",
       "2621  Vì diện tích đất của gia đình bạn là loại đất ...           719   \n",
       "\n",
       "      length_output  similarity  \n",
       "0               209    0.182403  \n",
       "1               335    0.060086  \n",
       "2               317    0.060480  \n",
       "3               912    0.029257  \n",
       "4               192    0.174556  \n",
       "...             ...         ...  \n",
       "2617            514    0.081792  \n",
       "2618            224    0.014171  \n",
       "2619            211    0.178824  \n",
       "2620            439    0.038726  \n",
       "2621            212    0.041890  \n",
       "\n",
       "[2622 rows x 5 columns]"
      ]
     },
     "execution_count": 6,
     "metadata": {},
     "output_type": "execute_result"
    }
   ],
   "source": [
    "temp_faqs_df = temp_faqs.to_pandas()\n",
    "temp_faqs_df = temp_faqs_df.drop_duplicates(subset=['output']).reset_index(drop=True)\n",
    "temp_faqs_df['length_input'] = temp_faqs_df['input'].apply(lambda x: len(tokenizer.tokenize(x)))\n",
    "temp_faqs_df['length_output'] = temp_faqs_df['output'].apply(lambda x: len(tokenizer.tokenize(x)))\n",
    "temp_faqs_df['similarity'] = temp_faqs_df.apply(lambda x: fuzz.ratio(x['input'], x['output']) / (x['length_input'] + x['length_output']), axis=1)\n",
    "temp_faqs_df"
   ]
  },
  {
   "cell_type": "code",
   "execution_count": 7,
   "metadata": {},
   "outputs": [
    {
     "data": {
      "text/plain": [
       "<AxesSubplot:>"
      ]
     },
     "execution_count": 7,
     "metadata": {},
     "output_type": "execute_result"
    },
    {
     "data": {
      "image/png": "[encoded data removed]",
      "text/plain": [
       "<Figure size 432x288 with 1 Axes>"
      ]
     },
     "metadata": {
      "needs_background": "light"
     },
     "output_type": "display_data"
    }
   ],
   "source": [
    "temp_faqs_df['length_input'].hist(bins=50)"
   ]
  },
  {
   "cell_type": "code",
   "execution_count": 8,
   "metadata": {},
   "outputs": [
    {
     "data": {
      "text/plain": [
       "<AxesSubplot:>"
      ]
     },
     "execution_count": 8,
     "metadata": {},
     "output_type": "execute_result"
    },
    {
     "data": {
      "image/png": "[encoded data removed]",
      "text/plain": [
       "<Figure size 432x288 with 1 Axes>"
      ]
     },
     "metadata": {
      "needs_background": "light"
     },
     "output_type": "display_data"
    }
   ],
   "source": [
    "temp_faqs_df['length_output'].hist(bins=50)"
   ]
  },
  {
   "cell_type": "code",
   "execution_count": 9,
   "metadata": {},
   "outputs": [
    {
     "data": {
      "text/plain": [
       "<AxesSubplot:>"
      ]
     },
     "execution_count": 9,
     "metadata": {},
     "output_type": "execute_result"
    },
    {
     "data": {
      "image/png": "[encoded data removed]",
      "text/plain": [
       "<Figure size 432x288 with 1 Axes>"
      ]
     },
     "metadata": {
      "needs_background": "light"
     },
     "output_type": "display_data"
    }
   ],
   "source": [
    "temp_faqs_df['similarity'].hist(bins=50)"
   ]
  },
  {
   "cell_type": "code",
   "execution_count": 10,
   "metadata": {},
   "outputs": [
    {
     "data": {
      "text/html": [
       "<div>\n",
       "<style scoped>\n",
       "    .dataframe tbody tr th:only-of-type {\n",
       "        vertical-align: middle;\n",
       "    }\n",
       "\n",
       "    .dataframe tbody tr th {\n",
       "        vertical-align: top;\n",
       "    }\n",
       "\n",
       "    .dataframe thead th {\n",
       "        text-align: right;\n",
       "    }\n",
       "</style>\n",
       "<table border=\"1\" class=\"dataframe\">\n",
       "  <thead>\n",
       "    <tr style=\"text-align: right;\">\n",
       "      <th></th>\n",
       "      <th>input</th>\n",
       "      <th>output</th>\n",
       "      <th>length_input</th>\n",
       "      <th>length_output</th>\n",
       "      <th>similarity</th>\n",
       "    </tr>\n",
       "  </thead>\n",
       "  <tbody>\n",
       "    <tr>\n",
       "      <th>0</th>\n",
       "      <td>Cuộc trò chuyện giữa con người và trợ lý AI.\\n...</td>\n",
       "      <td>Hàng hóa luân chuyển trong quá trình sản xuất,...</td>\n",
       "      <td>825</td>\n",
       "      <td>274</td>\n",
       "      <td>0.030027</td>\n",
       "    </tr>\n",
       "    <tr>\n",
       "      <th>1</th>\n",
       "      <td>Cuộc trò chuyện giữa con người và trợ lý AI.\\n...</td>\n",
       "      <td>Anh Tình đã xin cấp Giấy xác nhận tình trạng h...</td>\n",
       "      <td>430</td>\n",
       "      <td>172</td>\n",
       "      <td>0.069767</td>\n",
       "    </tr>\n",
       "    <tr>\n",
       "      <th>2</th>\n",
       "      <td>Cuộc trò chuyện giữa con người và trợ lý AI.\\n...</td>\n",
       "      <td>Theo quy định tại khoản 2 Điều 5 Nghị định số ...</td>\n",
       "      <td>432</td>\n",
       "      <td>230</td>\n",
       "      <td>0.057402</td>\n",
       "    </tr>\n",
       "    <tr>\n",
       "      <th>3</th>\n",
       "      <td>Cuộc trò chuyện giữa con người và trợ lý AI.\\n...</td>\n",
       "      <td>Theo Điều 55 Luật Thi hành án dân sự 2008 quy ...</td>\n",
       "      <td>502</td>\n",
       "      <td>273</td>\n",
       "      <td>0.046452</td>\n",
       "    </tr>\n",
       "    <tr>\n",
       "      <th>4</th>\n",
       "      <td>Cuộc trò chuyện giữa con người và trợ lý AI.\\n...</td>\n",
       "      <td>Căn cứ theo quy định tại Điều 3 Luật Thương mạ...</td>\n",
       "      <td>848</td>\n",
       "      <td>110</td>\n",
       "      <td>0.020877</td>\n",
       "    </tr>\n",
       "    <tr>\n",
       "      <th>...</th>\n",
       "      <td>...</td>\n",
       "      <td>...</td>\n",
       "      <td>...</td>\n",
       "      <td>...</td>\n",
       "      <td>...</td>\n",
       "    </tr>\n",
       "    <tr>\n",
       "      <th>411</th>\n",
       "      <td>Cuộc trò chuyện giữa con người và trợ lý AI.\\n...</td>\n",
       "      <td>- Về nguyên tắc, khi nộp đơn yêu cầu ly hôn tạ...</td>\n",
       "      <td>545</td>\n",
       "      <td>159</td>\n",
       "      <td>0.042614</td>\n",
       "    </tr>\n",
       "    <tr>\n",
       "      <th>412</th>\n",
       "      <td>Cuộc trò chuyện giữa con người và trợ lý AI.\\n...</td>\n",
       "      <td>Vì bạn là người Việt Nam định cư ở nước ngoài ...</td>\n",
       "      <td>520</td>\n",
       "      <td>228</td>\n",
       "      <td>0.069519</td>\n",
       "    </tr>\n",
       "    <tr>\n",
       "      <th>413</th>\n",
       "      <td>Cuộc trò chuyện giữa con người và trợ lý AI.\\n...</td>\n",
       "      <td>Theo quy định tại Điều 41 Nghị định số 22/2017...</td>\n",
       "      <td>588</td>\n",
       "      <td>259</td>\n",
       "      <td>0.066116</td>\n",
       "    </tr>\n",
       "    <tr>\n",
       "      <th>414</th>\n",
       "      <td>Cuộc trò chuyện giữa con người và trợ lý AI.\\n...</td>\n",
       "      <td>Theo quy định Khoản 4 tại Điều 250 Bộ luật hìn...</td>\n",
       "      <td>1399</td>\n",
       "      <td>224</td>\n",
       "      <td>0.014171</td>\n",
       "    </tr>\n",
       "    <tr>\n",
       "      <th>415</th>\n",
       "      <td>Cuộc trò chuyện giữa con người và trợ lý AI.\\n...</td>\n",
       "      <td>Vì diện tích đất của gia đình bạn là loại đất ...</td>\n",
       "      <td>719</td>\n",
       "      <td>212</td>\n",
       "      <td>0.041890</td>\n",
       "    </tr>\n",
       "  </tbody>\n",
       "</table>\n",
       "<p>416 rows × 5 columns</p>\n",
       "</div>"
      ],
      "text/plain": [
       "                                                 input  \\\n",
       "0    Cuộc trò chuyện giữa con người và trợ lý AI.\\n...   \n",
       "1    Cuộc trò chuyện giữa con người và trợ lý AI.\\n...   \n",
       "2    Cuộc trò chuyện giữa con người và trợ lý AI.\\n...   \n",
       "3    Cuộc trò chuyện giữa con người và trợ lý AI.\\n...   \n",
       "4    Cuộc trò chuyện giữa con người và trợ lý AI.\\n...   \n",
       "..                                                 ...   \n",
       "411  Cuộc trò chuyện giữa con người và trợ lý AI.\\n...   \n",
       "412  Cuộc trò chuyện giữa con người và trợ lý AI.\\n...   \n",
       "413  Cuộc trò chuyện giữa con người và trợ lý AI.\\n...   \n",
       "414  Cuộc trò chuyện giữa con người và trợ lý AI.\\n...   \n",
       "415  Cuộc trò chuyện giữa con người và trợ lý AI.\\n...   \n",
       "\n",
       "                                                output  length_input  \\\n",
       "0    Hàng hóa luân chuyển trong quá trình sản xuất,...           825   \n",
       "1    Anh Tình đã xin cấp Giấy xác nhận tình trạng h...           430   \n",
       "2    Theo quy định tại khoản 2 Điều 5 Nghị định số ...           432   \n",
       "3    Theo Điều 55 Luật Thi hành án dân sự 2008 quy ...           502   \n",
       "4    Căn cứ theo quy định tại Điều 3 Luật Thương mạ...           848   \n",
       "..                                                 ...           ...   \n",
       "411  - Về nguyên tắc, khi nộp đơn yêu cầu ly hôn tạ...           545   \n",
       "412  Vì bạn là người Việt Nam định cư ở nước ngoài ...           520   \n",
       "413  Theo quy định tại Điều 41 Nghị định số 22/2017...           588   \n",
       "414  Theo quy định Khoản 4 tại Điều 250 Bộ luật hìn...          1399   \n",
       "415  Vì diện tích đất của gia đình bạn là loại đất ...           719   \n",
       "\n",
       "     length_output  similarity  \n",
       "0              274    0.030027  \n",
       "1              172    0.069767  \n",
       "2              230    0.057402  \n",
       "3              273    0.046452  \n",
       "4              110    0.020877  \n",
       "..             ...         ...  \n",
       "411            159    0.042614  \n",
       "412            228    0.069519  \n",
       "413            259    0.066116  \n",
       "414            224    0.014171  \n",
       "415            212    0.041890  \n",
       "\n",
       "[416 rows x 5 columns]"
      ]
     },
     "execution_count": 10,
     "metadata": {},
     "output_type": "execute_result"
    }
   ],
   "source": [
    "temp_1 = temp_faqs_df[(temp_faqs_df['length_output'] <= 0.6 * temp_faqs_df['length_input']) & (temp_faqs_df['length_output'] <= 300) & (temp_faqs_df['similarity'] <= 0.07)].reset_index(drop=True)\n",
    "temp_1"
   ]
  },
  {
   "cell_type": "code",
   "execution_count": 11,
   "metadata": {},
   "outputs": [
    {
     "name": "stdout",
     "output_type": "stream",
     "text": [
      "Cuộc trò chuyện giữa con người và trợ lý AI.\n",
      "[|Con người|] Trả lời câu hỏi pháp luật dựa vào những điều luật liên quan dưới đây.\n",
      "Câu hỏi: Tôi và vợ tôi đi làm xa nhà. Chúng tôi muốn đăng ký kết hôn tại địa phương nơi làm việc có được không? Cần chuẩn bị những hồ sơ gì?\n",
      "Điều luật liên quan:\n",
      "Điều 17. Thẩm quyền đăng ký kết hôn 1. Ủy ban nhân dân cấp xã, nơi cư trú của bên nam hoặc bên nữ thực hiện việc đăng ký kết hôn. 2. Trong trường hợp cả hai bên nam, nữ là công dân Việt Nam đang trong thời hạn công tác, học tập, lao động ở nước ngoài về nước đăng ký kết hôn, đã cắt hộ khẩu thường trú ở trong nước, thì việc đăng ký kết hôn được thực hiện tại Ủy ban nhân dân cấp xã, nơi cư trú trước khi xuất cảnh của một trong hai bên nam, nữ.\n",
      "Điều 8. Xác định thẩm quyền đăng ký hộ tịch 1. Đối với công dân Việt Nam ở trong nước, thì việc đăng ký hộ tịch được thực hiện tại nơi người đó đăng ký hộ khẩu thường trú; nếu không có nơi đăng ký hộ khẩu thường trú, thì việc đăng ký hộ tịch được thực hiện tại nơi người đó đăng ký tạm trú có thời hạn theo quy định của pháp luật về đăng ký hộ khẩu. 2. Đối với người nước ngoài cư trú tại Việt Nam, thì việc đăng ký hộ tịch được thực hiện tại nơi người đó đăng ký thường trú; nếu không có nơi đăng ký thường trú, thì việc đăng ký hộ tịch được thực hiện tại nơi người đó đăng ký tạm trú.\n",
      "Điều 66. Thẩm quyền cấp Giấy xác nhận tình trạng hôn nhân 1. Ủy ban nhân dân cấp xã, nơi cư trú của người có yêu cầu xác nhận tình trạng hôn nhân thực hiện việc cấp Giấy xác nhận tình trạng hôn nhân cho người đó. 2. Công dân Việt Nam đang cư trú ở nước ngoài có yêu cầu xác nhận tình trạng hôn nhân trong thời gian ở trong nước, thì Ủy ban nhân dân cấp xã, nơi người đó cư trú trước khi xuất cảnh, thực hiện việc cấp Giấy xác nhận tình trạng hôn nhân. 3. Công dân Việt Nam đang cư trú ở nước ngoài có yêu cầu xác nhận tình trạng hôn nhân trong thời gian ở nước ngoài, thì Cơ quan Ngoại giao, Lãnh sự Việt Nam ở nước mà người đó cư trú, thực hiện việc cấp Giấy xác nhận tình trạng hôn nhân.\n",
      "[|AI|] \n",
      "Về thẩm quyền đăng ký kết hôn trong nước, theo quy định tại khoản 1 Điều 17 Nghị định số 158/2005/NĐ-CP về đăng ký và quản lý hộ tịch thì UBND cấp xã, nơi cư trú của bên nam hoặc bên nữ thực hiện việc đăng ký kết hôn. Mặt khác, khoản 1 Điều 8 Nghị định nêu trên quy định trong trường hợp công dân Việt Nam ở trong nước không có nơi đăng ký hộ khẩu thường trú, thì việc đăng ký hộ tịch được thực hiện tại nơi người đó đăng ký tạm trú có thời hạn theo quy định của pháp luật và đăng ký hộ khẩu. Căn cứ các quy định trên thì chỉ trong trường hợp hai bạn không có nơi đăng ký hộ khẩu thường trú, đồng thời, hai bạn có đăng ký tạm trú có thời hạn tại địa phương nơi làm việc thì hai bạn có thể thực hiện việc đăng ký kết hôn tại địa phương này. Về hồ sơ: - Nộp Tờ khai (theo mẫu quy định) và xuất trình Giấy chứng minh nhân dân; - Giấy xác nhận tình trạng hôn nhân. Theo quy định tại khoản 1 Điều 66 Nghị định 158/2005/NĐ-CP thì UBND cấp xã, nơi cư trú của người có yêu cầu xác nhận tình trạng hôn nhân thực hiện việc cấp Giấy xác nhận tình trạng hôn nhân cho người đó. Việc xác nhận tình trạng hôn nhân nói trên có thể xác nhận trực tiếp vào Tờ khai đăng ký kết hôn.\n",
      "[|Con người|]\n"
     ]
    }
   ],
   "source": [
    "temp_faqs = Dataset.from_pandas(temp_1)\n",
    "temp = temp_faqs.shuffle()[0]\n",
    "print(temp['input'])\n",
    "print(temp['output'])"
   ]
  },
  {
   "cell_type": "code",
   "execution_count": 427,
   "metadata": {},
   "outputs": [
    {
     "data": {
      "application/vnd.jupyter.widget-view+json": {
       "model_id": "82804145301d4d35a75cb374f4b630f9",
       "version_major": 2,
       "version_minor": 0
      },
      "text/plain": [
       "Map:   0%|          | 0/416 [00:00<?, ? examples/s]"
      ]
     },
     "metadata": {},
     "output_type": "display_data"
    }
   ],
   "source": [
    "from random import choice\n",
    "\n",
    "text = 'Trả lời câu hỏi pháp luật dựa vào những điều luật liên quan dưới đây.'\n",
    "instruction_templates = {\n",
    "    0: text,\n",
    "    1: 'Giúp tôi trả lời câu hỏi pháp luật dựa vào những điều luật dưới đây.',\n",
    "    2: 'Trả lời câu hỏi pháp luật sau đây.',\n",
    "    3: 'Dựa vào những điều luật được cung cấp, hãy trả lời câu hỏi pháp luật sau đây.',\n",
    "    4: 'Sau đây là những điều luật liên quan đến câu hỏi pháp luật. Hãy trả lời câu hỏi pháp luật sau đây.',\n",
    "}\n",
    "\n",
    "question_templates = {\n",
    "    0: 'Câu hỏi pháp luật: ',\n",
    "    1: 'Câu hỏi: ',\n",
    "    2: '',\n",
    "}\n",
    "\n",
    "cite_templates = {\n",
    "    0: 'Điều luật liên quan:',\n",
    "    1: 'Điều luật:',\n",
    "}\n",
    "def mapper(x):\n",
    "    a = choice([0,0,0,1,2,3,4])\n",
    "    b = choice([0,0,0,1,1,1,2])\n",
    "    c = choice([0,1])\n",
    "    return {\n",
    "        'input': x['input'].replace(text, instruction_templates[a]).replace('Câu hỏi: ', question_templates[b]).replace('Điều luật liên quan:', cite_templates[c]),\n",
    "        'output': x['output']\n",
    "    }\n",
    "\n",
    "temp_faqs = temp_faqs.map(mapper, batched=False)"
   ]
  },
  {
   "cell_type": "code",
   "execution_count": 464,
   "metadata": {},
   "outputs": [
    {
     "name": "stdout",
     "output_type": "stream",
     "text": [
      "Cuộc trò chuyện giữa con người và trợ lý AI.\n",
      "[|Con người|] Dựa vào những điều luật được cung cấp, hãy trả lời câu hỏi pháp luật sau đây.\n",
      "Xử phạt hành vi buôn bán thiết bị y tế giả như thế nào?\n",
      "Điều luật liên quan:\n",
      "Điều 13. Hành vi buôn bán hàng giả mạo nhãn hàng hóa, bao bì hàng hóa 1. Đối với hành vi buôn bán hàng giả mạo nhãn hàng hóa, bao bì hàng hóa quy định tại điểm đ và e khoản 8 Điều 3 Nghị định này, mức phạt tiền như sau: a) Phạt tiền từ 200.000 đồng đến 500.000 đồng trong trường hợp hàng giả tương đương với số lượng của hàng thật có giá trị dưới 1.000.000 đồng; b) Phạt tiền từ 500.000 đồng đến 2.000.000 đồng trong trường hợp hàng giả tương đương với số lượng của hàng thật có giá trị từ 1.000.000 đồng đến dưới 3.000.000 đồng; c) Phạt tiền từ 2.000.000 đồng đến 3.000.000 đồng trong trường hợp hàng giả tương đương với số lượng của hàng thật có giá trị từ 3.000.000 đồng đến dưới 5.000.000 đồng; d) Phạt tiền từ 3.000.000 đồng đến 5.000.000 đồng trong trường hợp hàng giả tương đương với số lượng của hàng thật có giá trị từ 5.000.000 đồng đến dưới 10.000.000 đồng; đ) Phạt tiền từ 5.000.000 đồng đến 10.000.000 đồng trong trường hợp hàng giả tương đương với số lượng của hàng thật có giá trị từ 10.000.000 đồng đến dưới 20.000.000 đồng; e) Phạt tiền từ 10.000.000 đồng đến 20.000.000 đồng trong trường hợp hàng giả tương đương với số lượng của hàng thật có giá trị từ 20.000.000 đồng đến dưới 30.000.000 đồng; g) Phạt tiền từ 20.000.000 đồng đến 30.000.000 đồng trong trường hợp hàng giả tương đương với số lượng của hàng thật có giá trị từ 30.000.000 đồng trở lên mà không bị truy cứu trách nhiệm hình sự. 2. Phạt tiền gấp hai lần các mức tiền phạt quy định tại khoản 1 Điều này đối với hành vi nhập khẩu hàng giả hoặc hàng giả thuộc một trong các trường hợp sau đây: a) Là lương thực, thực phẩm, thuốc chữa bệnh, thuốc phòng bệnh cho người mà không bị truy cứu trách nhiệm hình sự; b) Là thức ăn chăn nuôi, phân bón, thuốc thú y, thuốc bảo vệ thực vật, giống cây trồng, giống vật nuôi mà không bị truy cứu trách nhiệm hình sự; c) Là phụ gia thực phẩm, chất bảo quản thực phẩm, chất hỗ trợ chế biến thực phẩm, thực phẩm chức năng, mỹ phẩm, chất tẩy rửa, diệt côn trùng, trang thiết bị y tế, xi măng, sắt thép xây dựng, mũ bảo hiểm. 3. Hình thức xử phạt bổ sung: a) Tịch thu tang vật vi phạm đối với hành vi vi phạm quy định tại Điều này; b) Tước quyền sử dụng giấy phép, chứng chỉ hành nghề từ 01 tháng đến 03 tháng đối với hành vi vi phạm quy định tại Điều này trong trường hợp vi phạm nhiều lần hoặc tái phạm. 4. Biện pháp khắc phục hậu quả: a) Buộc loại bỏ yếu tố vi phạm trên nhãn, bao bì hàng giả đối với hành vi vi phạm quy định tại Điều này; b) Buộc đưa ra khỏi lãnh thổ Việt Nam hoặc buộc tái xuất hàng hóa giả mạo đối với hành vi nhập khẩu hàng giả quy định tại Điều này; c) Buộc nộp lại số lợi bất hợp pháp có được do thực hiện hành vi vi phạm quy định tại Điều này; d) Buộc thu hồi loại bỏ yếu tố vi phạm trên nhãn, bao bì hàng giả đang lưu thông trên thị trường đối với hành vi vi phạm quy định tại Điều này.\n",
      "[|AI|] Xử phạt hành chính Căn cứ điều 11 và Điều 13 Nghị định số 185/2013/NĐ-CP tùy thuộc vào giá trị của số lượng hàng giả vi phạm. Cá nhân có hành vi vi phạm có thể bị phạt -Từ 1.000.000 – 100.000.000 đồng khi buôn bán hàng giả không có giá trị sử dụng, công dụng. -Từ 400.000 – 60.000.000 đồng đối với hành vi buôn bán hàng giả mạo nhãn hàng hóa, bao bì hàng hóa. Xử phạt hình sự Căn cứ điều 193 Bộ luật hình sự 2015 sửa đổi bổ sung 2017. Hành vi buôn bán thiết bị tế có thể bị truy cứu trách nhiệm hình sự về tội sản xuất, buôn bán hàng giả. Hình phạt chính là phạt tiền, phạt tù tối đồng thời đình chỉ hoạt động. Tùy mức độ có thể phạt tù đối với cá nhân phạm tội là từ 1 năm đến 15 năm. Pháp nhân phạm tội thì có thể bị đình chỉ hoạt động có thời hạn từ 6 tháng đến 3 năm hoặc vĩnh viễn. Ngoài ra có thể bị phạt tiền 100.000.000 đồng đến 1.000.000.000 đồng đối với cá nhân phạm tội và 1.000.000.000 đồng đến 9.000.000.000 đồng đối với pháp nhân phạm tội.\n",
      "[|Con người|]\n"
     ]
    }
   ],
   "source": [
    "temp = temp_faqs.shuffle()[0]\n",
    "print(temp['input'] + temp['output'])"
   ]
  },
  {
   "cell_type": "code",
   "execution_count": 466,
   "metadata": {},
   "outputs": [
    {
     "data": {
      "text/plain": [
       "Dataset({\n",
       "    features: ['input', 'output', 'length_input', 'length_output', 'similarity'],\n",
       "    num_rows: 416\n",
       "})"
      ]
     },
     "execution_count": 466,
     "metadata": {},
     "output_type": "execute_result"
    }
   ],
   "source": [
    "temp_faqs"
   ]
  },
  {
   "cell_type": "code",
   "execution_count": 467,
   "metadata": {},
   "outputs": [
    {
     "data": {
      "application/vnd.jupyter.widget-view+json": {
       "model_id": "a0058f007e344bcfbbf17f7d8a7a194f",
       "version_major": 2,
       "version_minor": 0
      },
      "text/plain": [
       "Creating json from Arrow format:   0%|          | 0/1 [00:00<?, ?ba/s]"
      ]
     },
     "metadata": {},
     "output_type": "display_data"
    },
    {
     "data": {
      "text/plain": [
       "3155795"
      ]
     },
     "execution_count": 467,
     "metadata": {},
     "output_type": "execute_result"
    }
   ],
   "source": [
    "temp_faqs.remove_columns(['length_input', 'length_output'])\n",
    "temp_faqs.to_json('../../../data/training_21_8/faqs_400_samples.jsonl', orient='records', lines=True)"
   ]
  },
  {
   "cell_type": "markdown",
   "metadata": {},
   "source": [
    "### SHARE_GPT"
   ]
  },
  {
   "cell_type": "code",
   "execution_count": null,
   "metadata": {},
   "outputs": [],
   "source": [
    "share = pd.read_json('/Users/phamhoang1408/Desktop/Phase 2 Viettel/main_repo/data/original/share_gpt_no_code_conversations_40k.json', orient='records', lines=True)\n",
    "share.columns = ['input']\n",
    "share.dropna(inplace=True)\n",
    "share.reset_index(drop=True, inplace=True)\n",
    "share = Dataset.from_pandas(share)"
   ]
  },
  {
   "cell_type": "code",
   "execution_count": null,
   "metadata": {},
   "outputs": [],
   "source": [
    "share = share.filter(lambda x: len(tokenizer.tokenize(x[\"input\"])) < 2000)"
   ]
  },
  {
   "cell_type": "code",
   "execution_count": null,
   "metadata": {},
   "outputs": [],
   "source": [
    "share.shuffle().select(range(1000)).map(lambda x: {'len':len(tokenizer.tokenize(x['input']))}).to_pandas().hist(bins=100)"
   ]
  },
  {
   "cell_type": "code",
   "execution_count": null,
   "metadata": {},
   "outputs": [],
   "source": [
    "# text = 'Cuộc trò chuyện giữa con người và trợ lý AI.\\n'\n",
    "text = 'The conversation between human and AI assistant.\\n'\n",
    "def mapper(x):\n",
    "    return {\n",
    "        'input': text,\n",
    "        'output': x['input'].removeprefix(text) + '\\n[|Con người|]'\n",
    "    }\n",
    "share = share.map(mapper, batched=False)"
   ]
  },
  {
   "cell_type": "code",
   "execution_count": null,
   "metadata": {},
   "outputs": [],
   "source": [
    "share"
   ]
  },
  {
   "cell_type": "code",
   "execution_count": null,
   "metadata": {},
   "outputs": [],
   "source": [
    "share[0]"
   ]
  },
  {
   "cell_type": "code",
   "execution_count": null,
   "metadata": {},
   "outputs": [],
   "source": [
    "share"
   ]
  },
  {
   "cell_type": "code",
   "execution_count": null,
   "metadata": {},
   "outputs": [],
   "source": [
    "share.to_json('../../data/training_english/share_gpt_38k.jsonl', orient='records', lines=True)"
   ]
  },
  {
   "cell_type": "markdown",
   "metadata": {},
   "source": [
    "### QUORA"
   ]
  },
  {
   "cell_type": "code",
   "execution_count": 8,
   "metadata": {},
   "outputs": [
    {
     "name": "stderr",
     "output_type": "stream",
     "text": [
      "Found cached dataset json (/Users/phamhoang1408/.cache/huggingface/datasets/json/default-c3f1f507fe124413/0.0.0)\n"
     ]
    }
   ],
   "source": [
    "quora = Dataset.from_json('../../../data/translated/quora_chat_data_translated.json')"
   ]
  },
  {
   "cell_type": "code",
   "execution_count": 14,
   "metadata": {},
   "outputs": [
    {
     "name": "stdout",
     "output_type": "stream",
     "text": [
      "Cuộc trò chuyện giữa con người và trợ lý AI.\n",
      "[|Con người|] Tôi đã tự hỏi, có thành viên nào của gia đình Medici còn sống đến ngày nay không?\n",
      "[|AI|] Gia đình Medici là một gia đình ngân hàng và triều đại chính trị của Ý nổi bật trong thế kỷ 15 và 16. Còn về việc có con cháu nào còn sống hay không, hãy để tôi kiểm tra. Theo nguồn tin của tôi, ngày nay vẫn còn những hậu duệ còn sống của gia đình Medici. Tuy nhiên, họ không tích cực tham gia vào chính trị hay ngân hàng như tổ tiên của họ.\n",
      "[|Con người|] Thú vị. Chuyện gì đã xảy ra với gia đình Medici?\n",
      "[|AI|] Gia tộc Medici suy giảm quyền lực và ảnh hưởng sau thế kỷ 16, và vị vua cuối cùng của nhà Medici qua đời mà không có người thừa kế. Tài sản của gia đình sau đó đã được thu hút bởi bang Tuscany.\n",
      "[|Con người|] Tệ quá. Gia đình Medici có đóng góp gì đáng kể cho lịch sử không?\n",
      "[|AI|] Đúng vậy, gia đình Medici đã đóng một vai trò quan trọng trong thời kỳ Phục hưng, đưa vào vận hành các tác phẩm nghệ thuật và kiến ​​trúc nổi tiếng như David của Michelangelo và Nhà thờ lớn Florence. Họ cũng có tác động đáng kể đến sự phát triển của ngân hàng và tài chính trong thời gian của họ.\n",
      "[|Con người|]\n"
     ]
    }
   ],
   "source": [
    "print(quora.shuffle()[0]['prompt'])"
   ]
  },
  {
   "cell_type": "code",
   "execution_count": 34,
   "metadata": {},
   "outputs": [
    {
     "data": {
      "application/vnd.jupyter.widget-view+json": {
       "model_id": "3cc891dd605442d6938db16f01f3667d",
       "version_major": 2,
       "version_minor": 0
      },
      "text/plain": [
       "Map:   0%|          | 0/1000 [00:00<?, ? examples/s]"
      ]
     },
     "metadata": {},
     "output_type": "display_data"
    },
    {
     "data": {
      "text/plain": [
       "array([[<AxesSubplot:title={'center':'len'}>]], dtype=object)"
      ]
     },
     "execution_count": 34,
     "metadata": {},
     "output_type": "execute_result"
    },
    {
     "data": {
      "image/png": "[encoded data removed]",
      "text/plain": [
       "<Figure size 432x288 with 1 Axes>"
      ]
     },
     "metadata": {
      "needs_background": "light"
     },
     "output_type": "display_data"
    }
   ],
   "source": [
    "quora.shuffle().select(range(1000)).map(lambda x: {'len':len(tokenizer.tokenize(x['prompt']))}).to_pandas().hist(bins=100)"
   ]
  },
  {
   "cell_type": "code",
   "execution_count": 35,
   "metadata": {},
   "outputs": [
    {
     "data": {
      "text/plain": [
       "Dataset({\n",
       "    features: ['prompt'],\n",
       "    num_rows: 20000\n",
       "})"
      ]
     },
     "execution_count": 35,
     "metadata": {},
     "output_type": "execute_result"
    }
   ],
   "source": [
    "temp_quora = quora.shuffle().select(range(20000))\n",
    "temp_quora"
   ]
  },
  {
   "cell_type": "code",
   "execution_count": 36,
   "metadata": {},
   "outputs": [
    {
     "data": {
      "application/vnd.jupyter.widget-view+json": {
       "model_id": "0014209123a14e669b9f07312431b825",
       "version_major": 2,
       "version_minor": 0
      },
      "text/plain": [
       "Map:   0%|          | 0/20000 [00:00<?, ? examples/s]"
      ]
     },
     "metadata": {},
     "output_type": "display_data"
    }
   ],
   "source": [
    "text = 'Cuộc trò chuyện giữa con người và trợ lý AI.\\n'\n",
    "def mapper(x):\n",
    "    return {\n",
    "        'input': text,\n",
    "        'output': x['prompt'].removeprefix(text)\n",
    "    }\n",
    "\n",
    "temp_quora = temp_quora.map(mapper, batched=False, remove_columns=['prompt'])"
   ]
  },
  {
   "cell_type": "code",
   "execution_count": 37,
   "metadata": {},
   "outputs": [
    {
     "name": "stdout",
     "output_type": "stream",
     "text": [
      "Cuộc trò chuyện giữa con người và trợ lý AI.\n",
      "\n",
      "[|Con người|] Tôi đã tự hỏi, bạn có nghĩ rằng một thế giới không có tiền sẽ tốt hơn không?\n",
      "[|AI|] Là một trợ lý AI, tôi không có ý kiến ​​cá nhân, nhưng theo một số nhà kinh tế và triết học, một xã hội không có tiền có thể dẫn đến một thế giới bình đẳng và công bằng hơn. Tuy nhiên, nó cũng có thể đưa ra các vấn đề khác như phân bổ và phân phối tài nguyên.\n",
      "[|Con người|] Hmm, thật thú vị. Bạn có nghĩ rằng mọi người sẽ vẫn có động lực làm việc nếu không có tiền?\n",
      "[|AI|] Nếu không có tiền làm động lực, mọi người có thể bị thúc đẩy bởi những thứ khác nhau như hoàn thành mục tiêu cá nhân hoặc đóng góp cho xã hội. Thật khó để dự đoán động lực cá nhân sẽ thay đổi như thế nào trong một thế giới không có tiền.\n",
      "[|Con người|] Tôi hiểu rồi. Còn những nhu cầu cơ bản như thức ăn và chỗ ở, làm thế nào để cung cấp những thứ đó nếu không có tiền?\n",
      "[|AI|] Trong một xã hội không có tiền, các nguồn lực như thức ăn và chỗ ở có thể được phân phối dựa trên nhu cầu hoặc thông qua hệ thống trao đổi hàng hóa. Có những mô hình kinh tế thay thế như nền kinh tế quà tặng và nền kinh tế dựa trên tài nguyên khám phá những ý tưởng này.\n",
      "[|Con người|] Đúng vậy. Nhưng còn những người muốn nhiều hơn những nhu cầu cơ bản, như những món đồ xa xỉ thì sao?\n",
      "[|AI|] Trong một xã hội không tiền bạc, những món đồ xa xỉ có thể không còn sức hấp dẫn như bây giờ. Mọi người có thể tập trung nhiều hơn vào kinh nghiệm và các mối quan hệ hơn là của cải vật chất. Nhưng một lần nữa, thật khó để dự đoán các giá trị cá nhân sẽ thay đổi như thế nào.\n",
      "[|Con người|]\n"
     ]
    }
   ],
   "source": [
    "temp = temp_quora.shuffle()[0]\n",
    "print(temp['input'])\n",
    "print(temp['output'])"
   ]
  },
  {
   "cell_type": "code",
   "execution_count": 39,
   "metadata": {},
   "outputs": [
    {
     "data": {
      "application/vnd.jupyter.widget-view+json": {
       "model_id": "4cd0687b56ab48eb812d886306e14e3b",
       "version_major": 2,
       "version_minor": 0
      },
      "text/plain": [
       "Creating json from Arrow format:   0%|          | 0/5 [00:00<?, ?ba/s]"
      ]
     },
     "metadata": {},
     "output_type": "display_data"
    },
    {
     "data": {
      "text/plain": [
       "14124197"
      ]
     },
     "execution_count": 39,
     "metadata": {},
     "output_type": "execute_result"
    }
   ],
   "source": [
    "temp_quora.shuffle().select(range(5000)).to_json('../../../data/training_21_8/quora_5k_samples.jsonl', orient='records', lines=True)"
   ]
  },
  {
   "cell_type": "markdown",
   "metadata": {},
   "source": [
    "### Oasst"
   ]
  },
  {
   "cell_type": "code",
   "execution_count": 4,
   "metadata": {},
   "outputs": [
    {
     "name": "stderr",
     "output_type": "stream",
     "text": [
      "Found cached dataset json (/Users/phamhoang1408/.cache/huggingface/datasets/json/default-55de3ec8ff4a005a/0.0.0)\n",
      "Loading cached processed dataset at /Users/phamhoang1408/.cache/huggingface/datasets/json/default-55de3ec8ff4a005a/0.0.0/cache-eb02a04fa2bb27f7.arrow\n"
     ]
    },
    {
     "data": {
      "text/plain": [
       "Dataset({\n",
       "    features: ['text'],\n",
       "    num_rows: 19168\n",
       "})"
      ]
     },
     "execution_count": 4,
     "metadata": {},
     "output_type": "execute_result"
    }
   ],
   "source": [
    "oasst = Dataset.from_json('/Users/phamhoang1408/Desktop/Phase 2 Viettel/main_repo/data/translated/oasst_translated.json')\n",
    "oasst = oasst.filter(lambda x: not ('```' in x['text'] or 'trăn' in x['text'] or \"'''\" in x['text']))\n",
    "oasst"
   ]
  },
  {
   "cell_type": "code",
   "execution_count": 5,
   "metadata": {},
   "outputs": [
    {
     "name": "stderr",
     "output_type": "stream",
     "text": [
      "Loading cached processed dataset at /Users/phamhoang1408/.cache/huggingface/datasets/json/default-55de3ec8ff4a005a/0.0.0/cache-42a30629df973077.arrow\n"
     ]
    }
   ],
   "source": [
    "temp_oasst2 = oasst.filter(lambda x: len(tokenizer.tokenize(x['text'])) > 100)"
   ]
  },
  {
   "cell_type": "code",
   "execution_count": null,
   "metadata": {},
   "outputs": [],
   "source": [
    "temp_oasst2"
   ]
  },
  {
   "cell_type": "code",
   "execution_count": 6,
   "metadata": {},
   "outputs": [
    {
     "name": "stderr",
     "output_type": "stream",
     "text": [
      "Loading cached processed dataset at /Users/phamhoang1408/.cache/huggingface/datasets/json/default-55de3ec8ff4a005a/0.0.0/cache-54bcf9ade1856bde.arrow\n"
     ]
    }
   ],
   "source": [
    "text = 'Cuộc trò chuyện giữa con người và trợ lý AI.\\n'\n",
    "def mapper(x):\n",
    "    return {\n",
    "        'input': text,\n",
    "        'output': x['text'].removeprefix(text)\n",
    "    }\n",
    "\n",
    "temp_oasst = temp_oasst2.map(mapper, batched=False, remove_columns=['text'])"
   ]
  },
  {
   "cell_type": "code",
   "execution_count": 15,
   "metadata": {},
   "outputs": [
    {
     "name": "stdout",
     "output_type": "stream",
     "text": [
      "Cuộc trò chuyện giữa con người và trợ lý AI.\n",
      "[|Con người|] Một số kỹ năng cần thiết mà một lập trình viên phải có là gì? (Rõ ràng là bên cạnh việc lập trình)\n",
      "[|AI|] Về cơ bản, trở thành một lập trình viên bao gồm việc giải một câu đố mỗi ngày cùng với một nhóm người khác. Vì vậy, bạn có thể tưởng tượng rằng *** kỹ năng giao tiếp tốt *** thực sự quan trọng. Để tìm ra câu đố là gì, bạn cũng sẽ cần ***kỹ năng phân tích tốt*** để xem xét vấn đề ở một số góc độ khác nhau và quyết định cách hành động.\n",
      "Thỉnh thoảng, bạn sẽ có những đồng nghiệp mới và sẽ phải ***huấn luyện đồng nghiệp của bạn*** để giúp họ bắt đầu hoặc giải thích giải pháp của bạn (hoặc nhóm) cho những người khác.\n",
      "\n",
      "Đây là những yêu cầu phổ biến nhất đối với các nhà phát triển cơ sở mới.\n",
      "[|Con người|] \"đào tạo đồng nghiệp của bạn\" ý bạn là \"đào tạo đồng nghiệp của bạn\"?\n",
      "[|AI|] Chắc tôi đã mắc lỗi đánh máy. Cảm ơn bạn đã sửa lỗi cho tôi! Có bất cứ điều gì khác tôi có thể giúp với bạn với?\n"
     ]
    }
   ],
   "source": [
    "temp = temp_oasst.shuffle()[0]\n",
    "print(temp['input'] + temp['output'])"
   ]
  },
  {
   "cell_type": "code",
   "execution_count": 16,
   "metadata": {},
   "outputs": [
    {
     "data": {
      "application/vnd.jupyter.widget-view+json": {
       "model_id": "17558e2fc93d4c51998f3e3237d90ed1",
       "version_major": 2,
       "version_minor": 0
      },
      "text/plain": [
       "Creating json from Arrow format:   0%|          | 0/5 [00:00<?, ?ba/s]"
      ]
     },
     "metadata": {},
     "output_type": "display_data"
    },
    {
     "data": {
      "text/plain": [
       "18082816"
      ]
     },
     "execution_count": 16,
     "metadata": {},
     "output_type": "execute_result"
    }
   ],
   "source": [
    "temp_oasst.shuffle().select(range(5000)).to_json('../../../data/training_21_8/oasst_5k_samples.jsonl', orient='records', lines=True)"
   ]
  },
  {
   "cell_type": "code",
   "execution_count": null,
   "metadata": {},
   "outputs": [],
   "source": [
    "oasst.shuffle().select(range(1000)).map(lambda x: {'len':len(tokenizer.tokenize(x['text']))}).to_pandas().hist(bins=100)"
   ]
  },
  {
   "cell_type": "code",
   "execution_count": null,
   "metadata": {},
   "outputs": [],
   "source": [
    "print(temp_oasst.shuffle()[0])"
   ]
  },
  {
   "cell_type": "code",
   "execution_count": null,
   "metadata": {},
   "outputs": [],
   "source": [
    "temp_oasst.to_json('../../data/training_3_8/oasst_20k_samples.jsonl', orient='records', lines=True)"
   ]
  },
  {
   "cell_type": "markdown",
   "metadata": {},
   "source": [
    "### ALPACA CHAT"
   ]
  },
  {
   "cell_type": "code",
   "execution_count": 15,
   "metadata": {},
   "outputs": [
    {
     "name": "stderr",
     "output_type": "stream",
     "text": [
      "Found cached dataset json (/Users/phamhoang1408/.cache/huggingface/datasets/json/default-e8795aa44813c1e9/0.0.0)\n"
     ]
    }
   ],
   "source": [
    "alpaca = Dataset.from_json('../../../data/translated/alpaca_chat_cleaned_51k_translated.json')\n",
    "temp_df = alpaca.to_pandas()\n",
    "temp_length = temp_df.apply(lambda x: len(tokenizer.tokenize(x['prompt'])), axis=1)"
   ]
  },
  {
   "cell_type": "code",
   "execution_count": 18,
   "metadata": {},
   "outputs": [
    {
     "data": {
      "text/plain": [
       "Dataset({\n",
       "    features: ['prompt'],\n",
       "    num_rows: 14747\n",
       "})"
      ]
     },
     "execution_count": 18,
     "metadata": {},
     "output_type": "execute_result"
    }
   ],
   "source": [
    "alpaca_temp = Dataset.from_pandas(temp_df[temp_length>=150].reset_index(drop=True))\n",
    "alpaca_temp"
   ]
  },
  {
   "cell_type": "code",
   "execution_count": 19,
   "metadata": {},
   "outputs": [
    {
     "name": "stdout",
     "output_type": "stream",
     "text": [
      "Cuộc trò chuyện giữa con người và trợ lý AI.\n",
      "[|Con người|] Đánh giá hiệu quả của một chiến dịch ảnh hưởng trực tuyến\n",
      "[|AI|] Hiệu quả của một chiến dịch ảnh hưởng trực tuyến có thể được đánh giá bằng cách xem xét cả hai hiệu ứng ngắn hạn và dài hạn. Trong ngắn hạn, người ta có thể nhìn vào các số liệu như tầm với, ấn tượng, chuyển đổi và tham gia. Ngoài ra, điều quan trọng là phải xem xét tình cảm tổng thể của chiến dịch, cũng như phản ứng từ các đối tượng mục tiêu. Về lâu dài, người ta nên đánh giá tác động chung của chiến dịch, chẳng hạn như sự phát triển của nhận thức về thương hiệu, tăng cường danh tiếng của thương hiệu và số lượng trải nghiệm tích cực của khách hàng.\n",
      "[|Con người|]\n"
     ]
    }
   ],
   "source": [
    "print(alpaca_temp.shuffle()[0]['prompt'])"
   ]
  },
  {
   "cell_type": "code",
   "execution_count": null,
   "metadata": {},
   "outputs": [],
   "source": [
    "def mapper(x):\n",
    "    ai_index = x['prompt'].find('[|AI|]')\n",
    "    return {\n",
    "        'input': x['prompt'][:ai_index+7],\n",
    "        'output': x['prompt'][ai_index + 7:]\n",
    "    }\n",
    "temp_alpaca = alpaca_temp.map(mapper, batched=False, remove_columns=alpaca.column_names)"
   ]
  },
  {
   "cell_type": "code",
   "execution_count": null,
   "metadata": {},
   "outputs": [],
   "source": [
    "temp_alpaca.shuffle()[0]"
   ]
  },
  {
   "cell_type": "code",
   "execution_count": null,
   "metadata": {},
   "outputs": [],
   "source": [
    "temp_alpaca.to_json('../../../data/training_14_8/alpaca_chat_26k_samples.jsonl', orient='records', lines=True)"
   ]
  },
  {
   "cell_type": "markdown",
   "metadata": {},
   "source": [
    "### GPT4 INSTRUCT"
   ]
  },
  {
   "cell_type": "code",
   "execution_count": 50,
   "metadata": {},
   "outputs": [
    {
     "name": "stderr",
     "output_type": "stream",
     "text": [
      "Found cached dataset json (/Users/phamhoang1408/.cache/huggingface/datasets/json/default-53a1d8892b43af61/0.0.0)\n"
     ]
    },
    {
     "data": {
      "text/plain": [
       "Dataset({\n",
       "    features: ['instruction_translated', 'input_translated', 'response_translated'],\n",
       "    num_rows: 17873\n",
       "})"
      ]
     },
     "execution_count": 50,
     "metadata": {},
     "output_type": "execute_result"
    }
   ],
   "source": [
    "gpt4 = Dataset.from_json('../../../data/translated/gpt4_instruct_similarity_0_9_translated.jsonl')\n",
    "gpt4"
   ]
  },
  {
   "cell_type": "code",
   "execution_count": 53,
   "metadata": {},
   "outputs": [
    {
     "name": "stderr",
     "output_type": "stream",
     "text": [
      "Loading cached processed dataset at /Users/phamhoang1408/.cache/huggingface/datasets/json/default-53a1d8892b43af61/0.0.0/cache-27c0a5f7bf41c516.arrow\n"
     ]
    }
   ],
   "source": [
    "template1 = \"Cuộc trò chuyện giữa con người và trợ lý AI.\\n[|Con người|] {instruction_translated}\\n{input_translated}\\n[|AI|] \"\n",
    "template2 = \"Cuộc trò chuyện giữa con người và trợ lý AI.\\n[|Con người|] {instruction_translated}\\n[|AI|] \"\n",
    "\n",
    "def mapper(x):\n",
    "    if x['input_translated'] != '' and x['input_translated'] is not None:\n",
    "        template = template1.format(\n",
    "            instruction_translated=x['instruction_translated'], \n",
    "            input_translated=x['input_translated']\n",
    "        )\n",
    "    else:\n",
    "        template = template2.format(instruction_translated=x['instruction_translated'])\n",
    "    return {\n",
    "        'input': template,\n",
    "        'output': x['response_translated'] + '\\n[|Con người|]'\n",
    "    }\n",
    "\n",
    "temp_gpt4 = gpt4.map(mapper,batched=False, remove_columns=gpt4.column_names)"
   ]
  },
  {
   "cell_type": "code",
   "execution_count": 54,
   "metadata": {},
   "outputs": [
    {
     "name": "stdout",
     "output_type": "stream",
     "text": [
      "Cuộc trò chuyện giữa con người và trợ lý AI.\n",
      "[|Con người|] Viết lại đoạn văn sau với giọng điệu lịch sự và trang trọng hơn.\n",
      "Này, bạn cần khắc phục vấn đề với địa chỉ giao hàng ngay bây giờ. Nó gây ra sự chậm trễ trong giao hàng đặt hàng của tôi.\n",
      "[|AI|] Dear Sir/Madam, Tôi muốn yêu cầu sự hỗ trợ của bạn trong việc khắc phục vấn đề với địa chỉ giao hàng, vì nó dường như gây ra sự chậm trễ trong việc giao hàng cho đơn hàng của tôi. Cảm ơn.\n",
      "[|Con người|]\n"
     ]
    }
   ],
   "source": [
    "temp = temp_gpt4.shuffle()[0]\n",
    "print(temp['input'] + temp['output'])"
   ]
  },
  {
   "cell_type": "code",
   "execution_count": 98,
   "metadata": {},
   "outputs": [
    {
     "name": "stdout",
     "output_type": "stream",
     "text": [
      "Cuộc trò chuyện giữa con người và trợ lý AI.\n",
      "[|Con người|] Giúp cải thiện câu sau trong một bài báo khoa học: 'Điều đáng chú ý là các nghiên cứu khác nhau đã chỉ ra rằng nước đóng vai trò chính trong quá trình tổng hợp các hợp chất hữu cơ quan trọng.'\n",
      "[|AI|] Trong khuôn khổ một bài báo khoa học, có thể cải nghĩa câu như sau: 'Nhiều nghiên cứu đã chứng minh rằng nước đóng vai trò cốt yếu trong quá trình tổng hợp các chất thiết yếu. hợp chất hữu cơ.' Câu văn được sửa đổi ngắn gọn hơn, tránh dư thừa và sử dụng ngôn ngữ chính xác và học thuật hơn.\n",
      "[|Con người|]\n"
     ]
    }
   ],
   "source": [
    "a = temp_gpt4.shuffle()[0]\n",
    "print(a['input']+a['output'])"
   ]
  },
  {
   "cell_type": "code",
   "execution_count": 11,
   "metadata": {},
   "outputs": [
    {
     "data": {
      "application/vnd.jupyter.widget-view+json": {
       "model_id": "474c653ee7844efc83db2d8f156f0694",
       "version_major": 2,
       "version_minor": 0
      },
      "text/plain": [
       "Creating json from Arrow format:   0%|          | 0/18 [00:00<?, ?ba/s]"
      ]
     },
     "metadata": {},
     "output_type": "display_data"
    },
    {
     "data": {
      "text/plain": [
       "26685705"
      ]
     },
     "execution_count": 11,
     "metadata": {},
     "output_type": "execute_result"
    }
   ],
   "source": [
    "temp_gpt4.to_json('../../data/training_3_8/gpt4_instruct.jsonl', orient='records', lines=True)"
   ]
  },
  {
   "cell_type": "markdown",
   "metadata": {},
   "source": [
    "### DOLLY WITH CONTEXT"
   ]
  },
  {
   "cell_type": "code",
   "execution_count": 269,
   "metadata": {},
   "outputs": [
    {
     "name": "stderr",
     "output_type": "stream",
     "text": [
      "Found cached dataset json (/Users/phamhoang1408/.cache/huggingface/datasets/json/default-e7046f43243de008/0.0.0)\n"
     ]
    }
   ],
   "source": [
    "dolly = Dataset.from_json('../../../data/translated/dolly_with_context_translated.jsonl')\n",
    "# dolly = dolly.remove_columns(['instruction', 'context', 'response', 'category_translated'])"
   ]
  },
  {
   "cell_type": "code",
   "execution_count": 270,
   "metadata": {},
   "outputs": [
    {
     "name": "stdout",
     "output_type": "stream",
     "text": [
      "Năng lượng hình thành tự do Gibbs tiêu chuẩn (Gf°) của một hợp chất là sự thay đổi năng lượng tự do Gibbs đi kèm với sự hình thành 1 mol chất ở trạng thái tiêu chuẩn từ các nguyên tố cấu thành của nó ở trạng thái tiêu chuẩn (dạng ổn định nhất của phần tử ở áp suất 1 bar và nhiệt độ quy định, thường là 298,15 K hoặc 25 °C).\n",
      "\n",
      "Bảng dưới đây liệt kê hàm Gibbs tiêu chuẩn của sự hình thành một số nguyên tố và hợp chất hóa học và được lấy từ Sổ tay Hóa học của Lange. Lưu ý rằng tất cả các giá trị đều tính bằng kJ/mol. Các bảng mở rộng hơn có thể được tìm thấy trong Sổ tay Hóa học và Vật lý CRC và các bảng NIST JANAF. WebBook Hóa học của NIST (xem liên kết bên dưới) là một tài nguyên trực tuyến chứa entanpy tiêu chuẩn của sự hình thành cho các hợp chất khác nhau cùng với entropy tuyệt đối tiêu chuẩn cho các hợp chất này mà từ đó có thể tính được năng lượng hình thành tự do Gibbs tiêu chuẩn.\n",
      "----------\n",
      "Năng lượng tự do Gibbs tiêu chuẩn là gì\n"
     ]
    }
   ],
   "source": [
    "temp = dolly.shuffle()[0]\n",
    "print(temp['context_translated'])\n",
    "print('----------')\n",
    "print(temp['instruction_translated'])"
   ]
  },
  {
   "cell_type": "code",
   "execution_count": 271,
   "metadata": {},
   "outputs": [
    {
     "data": {
      "text/plain": [
       "{'instruction': 'Can you give me some background on Perez v. Campbell',\n",
       " 'instruction_translated': 'Bạn có thể cho tôi biết thông tin cơ bản về vụ án Perez v. Campbell không',\n",
       " 'context': \"Perez v. Campbell, 402 U.S. 637 (1971), was a case in which the Supreme Court of the United States held that Arizona's law suspending a driver's license was unconstitutional due to its conflict with the federal Bankruptcy Act under the Supremacy Clause of the Constitution.\\n\\nBackground\\nThe plaintiffs, Mr. Adolfo and Mrs. Emma Perez, were licensed uninsured motorists in the state of Arizona. Insurance was not required under Arizona law. Mr. Perez was involved in a traffic accident and, unable to pay the associated costs, soon filed for bankruptcy. Arizona, under its financial responsibility laws, withdrew the Perez' licenses, and the couple filed suit in district court, where their claim was denied. The Perez family's appeal to the United States Court of Appeals for the Ninth Circuit was denied, and they subsequently appealed to the United States Supreme Court, which granted certiorari.\",\n",
       " 'context_translated': 'Vụ án Perez v. Campbell, 402 U.S. 637 (1971), là một vụ án mà Tòa án Tối cao Hoa Kỳ cho rằng luật Arizona đình chỉ bằng lái xe là vi hiến do mâu thuẫn với Đạo luật Phá sản liên bang theo Điều khoản về Quyền tối cao của Hiến pháp .\\n\\nLý lịch\\nCác nguyên đơn, ông Adolfo và bà Emma Perez, là những người lái xe không có bảo hiểm được cấp phép ở bang Arizona. Bảo hiểm không bắt buộc theo luật Arizona. Ông Perez bị tai nạn giao thông và không thể thanh toán các chi phí liên quan nên đã sớm nộp đơn xin phá sản. Arizona, theo luật trách nhiệm tài chính của mình, đã rút giấy phép của Perez và cặp đôi đã đệ đơn kiện lên tòa án quận, nơi yêu cầu của họ bị từ chối. Đơn kháng cáo của gia đình Perez lên Tòa phúc thẩm Hoa Kỳ cho Khu vực thứ chín đã bị từ chối và sau đó họ đã kháng cáo lên Tòa án Tối cao Hoa Kỳ, nơi đã cấp giấy chứng nhận.',\n",
       " 'response': \"Perez v. Campbell, 402 U.S. 637 (1971), was a case in which the Supreme Court of the United States held that Arizona's law suspending a driver's license was unconstitutional due to its conflict with the federal Bankruptcy Act under the Supremacy Clause of the Constitution.\\n\\nThe plaintiffs, Mr. Adolfo and Mrs. Emma Perez, were licensed uninsured motorists in the state of Arizona. Insurance was not required under Arizona law. Mr. Perez was involved in a traffic accident and, unable to pay the associated costs, soon filed for bankruptcy. Arizona, under its financial responsibility laws, withdrew the Perez' licenses, and the couple filed suit in district court, where their claim was denied. The Perez family's appeal to the United States Court of Appeals for the Ninth Circuit was denied, and they subsequently appealed to the United States Supreme Court, which granted certiorari.\",\n",
       " 'response_translated': 'Vụ án Perez v. Campbell, 402 U.S. 637 (1971), là một vụ án mà Tòa án Tối cao Hoa Kỳ cho rằng luật Arizona đình chỉ bằng lái xe là vi hiến do mâu thuẫn với Đạo luật Phá sản liên bang theo Điều khoản về Quyền tối cao của Hiến pháp .\\n\\nCác nguyên đơn, ông Adolfo và bà Emma Perez, là những người lái xe không có bảo hiểm được cấp phép ở bang Arizona. Bảo hiểm không bắt buộc theo luật Arizona. Ông Perez bị tai nạn giao thông và không thể thanh toán các chi phí liên quan nên đã sớm nộp đơn xin phá sản. Arizona, theo luật trách nhiệm tài chính của mình, đã rút giấy phép của Perez và cặp đôi đã đệ đơn kiện lên tòa án quận, nơi yêu cầu của họ bị từ chối. Đơn kháng cáo của gia đình Perez lên Tòa phúc thẩm Hoa Kỳ cho Khu vực thứ chín đã bị từ chối và sau đó họ đã kháng cáo lên Tòa án Tối cao Hoa Kỳ, nơi đã cấp giấy chứng nhận.',\n",
       " 'category': 'summarization',\n",
       " 'category_translated': 'tóm tắt'}"
      ]
     },
     "execution_count": 271,
     "metadata": {},
     "output_type": "execute_result"
    }
   ],
   "source": [
    "dolly.shuffle()[0]"
   ]
  },
  {
   "cell_type": "code",
   "execution_count": 493,
   "metadata": {},
   "outputs": [
    {
     "data": {
      "application/vnd.jupyter.widget-view+json": {
       "model_id": "736f4a96dac0473aab273f3bcaee0200",
       "version_major": 2,
       "version_minor": 0
      },
      "text/plain": [
       "Map:   0%|          | 0/3903 [00:00<?, ? examples/s]"
      ]
     },
     "metadata": {},
     "output_type": "display_data"
    }
   ],
   "source": [
    "from random import choice\n",
    "\n",
    "pretext = 'Cuộc trò chuyện giữa con người và trợ lý AI.\\n[|Con người|] '\n",
    "instruction_templates = [\n",
    "    \"Trả lời câu hỏi dựa vào đoạn văn bản dưới đây. Nếu không có thông tin trong đoạn văn bản thì trả lời: Tôi không biết.\\nCâu hỏi: {instruction_translated}\\nĐoạn văn bản:\\n{context_translated}\\n[|AI|] \",\n",
    "    \"Giúp tôi trả lời câu hỏi sau đây.\\nCâu hỏi: {instruction_translated}\\nĐoạn văn bản:\\n{context_translated}\\n[|AI|] \",\n",
    "    \"Sử dụng thông tin trong văn bản sau đây để trả lời câu hỏi.\\nVăn bản:\\n{context_translated}\\nCâu hỏi: {instruction_translated}\\n[|AI|] \",\n",
    "    \"Hãy trả lời câu hỏi sau sử dụng thông tin của đoạn văn bản được cung cấp, nếu không có thông tin thì phản hồi không trả lời được.\\n{context_translated}\\nCâu hỏi: {instruction_translated}\\n[|AI|] \",\n",
    "    \"Trả lời câu hỏi sử dụng đoạn văn bản sau.\\n{context_translated}\\n{instruction_translated}\\n[|AI|] \",\n",
    "    \"Đưa ra phản hồi cho câu hỏi sau đây, nếu không tìm thấy thông tin thì trả lời: Không có thông tin cho câu hỏi của bạn.\\n{context_translated}\\nCâu hỏi: {instruction_translated}\\n[|AI|] \",\n",
    "]\n",
    "\n",
    "def mapper(x):\n",
    "    ip = pretext + choice(instruction_templates).format(\n",
    "        instruction_translated=x['instruction_translated'],\n",
    "        context_translated=x['context_translated']\n",
    "    )\n",
    "    return {\n",
    "        'input': ip,\n",
    "        'output': choice([''] * 9 + ['Trả lời: ', 'Câu trả lời: ']) + x['response_translated'] + '\\n[|Con người|]'\n",
    "    }\n",
    "\n",
    "temp_dolly = dolly.map(mapper,batched=False, remove_columns=dolly.column_names)"
   ]
  },
  {
   "cell_type": "code",
   "execution_count": 503,
   "metadata": {},
   "outputs": [
    {
     "name": "stdout",
     "output_type": "stream",
     "text": [
      "Cuộc trò chuyện giữa con người và trợ lý AI.\n",
      "[|Con người|] Đưa ra phản hồi cho câu hỏi sau đây, nếu không tìm thấy thông tin thì trả lời: Không có thông tin cho câu hỏi của bạn.\n",
      "Trò chơi lấy bối cảnh 200 năm sau các sự kiện của Oblivion, và diễn ra ở Skyrim, tỉnh cực bắc của Tamriel. Câu chuyện chính của nó tập trung vào nhân vật của người chơi, Dragonborn, trong nhiệm vụ đánh bại Alduin the World-Eater, một con rồng được tiên tri sẽ hủy diệt thế giới. Trong suốt trò chơi, người chơi hoàn thành các nhiệm vụ và phát triển nhân vật bằng cách cải thiện các kỹ năng. Trò chơi tiếp tục truyền thống thế giới mở của những người tiền nhiệm bằng cách cho phép người chơi du hành đến bất kỳ đâu trong thế giới trò chơi bất cứ lúc nào và bỏ qua hoặc hoãn cốt truyện chính vô thời hạn.\n",
      "Câu hỏi: Skyrim là gì?\n",
      "[|AI|] Skyrim là một trò chơi giả tưởng thời trung cổ dựa trên thế giới hư cấu của Tamriel. Với việc là trò chơi thứ năm trong loạt phim Elder Scrolls, nó có rất nhiều truyền thuyết để khai thác. Giống như những người tiền nhiệm của nó, trò chơi là một game nhập vai thế giới mở với rất nhiều nhiệm vụ phải làm, giết quái vật, vật phẩm để cướp bóc, kỹ năng để lên cấp và vũ khí để chế tạo. Bản đồ và bối cảnh của Skyrim bị ảnh hưởng nặng nề bởi thần thoại Bắc Âu. Nó đã trở thành một trong những trò chơi nổi tiếng nhất được tạo ra bởi Bethesda.\n",
      "[|Con người|]\n"
     ]
    }
   ],
   "source": [
    "temp = temp_dolly.shuffle()[0]\n",
    "print(temp['input'] + temp['output'])"
   ]
  },
  {
   "cell_type": "markdown",
   "metadata": {},
   "source": [
    "Cuộc trò chuyện giữa con người và trợ lý AI.\n",
    "[|Con người|] Trả lời câu hỏi pháp luật dựa vào những điều luật liên quan dưới đây. Chỉ được trả lời dựa trên thông tin nằm trong điều luật được cung cấp.\n",
    "Câu hỏi: Phạm tội trong trạng thái tinh thần bị kích động mạnh bị xử lý thế nào?\n",
    "Điều luật liên quan:\n",
    "Điều 125. Tội giết người trong trạng thái tinh thần bị kích động mạnh 1. Người nào giết người trong trạng thái tinh thần bị kích động mạnh do hành vi trái pháp luật nghiêm trọng của nạn nhân đối với người đó hoặc đối với người thân thích của người đó, thì bị phạt tù từ 06 tháng đến 03 năm. 2. Phạm tội đối với 02 người trở lên, thì bị phạt tù từ 03 năm đến 07 năm.\n",
    "[|AI|] Giết người trong trạng thái tinh thần bị kích động mạnh Tội giết người trong trạng thái tinh thần bị kích động mạnh được quy định tại Điều 125 Bộ luật Hình sự 2015 sửa đổi, bổ sung 2017 với mức hình phạt như sau: Khung 1: Người nào giết người trong trạng thái tinh thần bị kích động mạnh do hành vi trái pháp luật nghiêm trọng của nạn nhân đối với người đó hoặc đối với người thân thích của người đó, thì bị phạt tù từ 06 tháng đến 03 năm. Khung 2: Phạm tội đối với 02 người trở lên, thì bị phạt tù từ 03 năm đến 07 năm.\n",
    "[|Con người|]"
   ]
  },
  {
   "cell_type": "code",
   "execution_count": 506,
   "metadata": {},
   "outputs": [
    {
     "data": {
      "application/vnd.jupyter.widget-view+json": {
       "model_id": "0f7da6c9e29e4102ab986a08918c91fc",
       "version_major": 2,
       "version_minor": 0
      },
      "text/plain": [
       "Creating json from Arrow format:   0%|          | 0/5 [00:00<?, ?ba/s]"
      ]
     },
     "metadata": {},
     "output_type": "display_data"
    },
    {
     "data": {
      "text/plain": [
       "16860651"
      ]
     },
     "execution_count": 506,
     "metadata": {},
     "output_type": "execute_result"
    }
   ],
   "source": [
    "Dataset.from_pandas(temp_dolly.to_pandas().sample(5000, replace=True).reset_index(drop=True)).to_json('../../../data/training_21_8/dolly_4k_samples.jsonl', orient='records', lines=True)"
   ]
  },
  {
   "cell_type": "markdown",
   "metadata": {},
   "source": [
    "### Role Play"
   ]
  },
  {
   "cell_type": "code",
   "execution_count": null,
   "metadata": {},
   "outputs": [],
   "source": [
    "role = Dataset.from_json('../../../data/translated/roleplay_translated.jsonl')\n",
    "role = Dataset.from_pandas(role.data.to_pandas().sample(5000, replace=True))"
   ]
  },
  {
   "cell_type": "code",
   "execution_count": null,
   "metadata": {},
   "outputs": [],
   "source": [
    "template1 = \"Cuộc trò chuyện giữa con người và trợ lý AI.\\n[|Con người|] {instruction_translated}\\n[|AI|] \"\n",
    "template2 = \"Cuộc trò chuyện giữa con người và trợ lý AI.\\n[|Con người|] {instruction_translated}\\n{input_translated}\\n[|AI|] \"\n",
    "\n",
    "def mapper(x):\n",
    "    if x['input_translated'] == '':\n",
    "        ip = template1.format(\n",
    "            instruction_translated=x['instruction_translated'], \n",
    "        )\n",
    "    else:\n",
    "        ip = template2.format(\n",
    "            instruction_translated=x['instruction_translated'], \n",
    "            input_translated=x['input_translated']\n",
    "        )\n",
    "    return {\n",
    "        'input': ip,\n",
    "        'output': x['output_translated'] + '\\n[|Con người|]'\n",
    "    }\n",
    "\n",
    "temp_role = role.map(mapper,batched=False, remove_columns=role.column_names)"
   ]
  },
  {
   "cell_type": "code",
   "execution_count": null,
   "metadata": {},
   "outputs": [],
   "source": [
    "temp_role"
   ]
  },
  {
   "cell_type": "code",
   "execution_count": null,
   "metadata": {},
   "outputs": [],
   "source": [
    "temp = temp_role.shuffle()[0]\n",
    "print(temp['input'] + temp['output'])"
   ]
  },
  {
   "cell_type": "code",
   "execution_count": null,
   "metadata": {},
   "outputs": [],
   "source": [
    "temp_role.to_json('../../../data/training_14_8/role_play_3k_samples.jsonl', orient='records', lines=True)"
   ]
  },
  {
   "cell_type": "markdown",
   "metadata": {},
   "source": [
    "### Orca"
   ]
  },
  {
   "cell_type": "code",
   "execution_count": 65,
   "metadata": {},
   "outputs": [
    {
     "name": "stderr",
     "output_type": "stream",
     "text": [
      "Found cached dataset json (/Users/phamhoang1408/.cache/huggingface/datasets/json/default-fd4c67cf1ae60254/0.0.0)\n"
     ]
    }
   ],
   "source": [
    "orca = Dataset.from_json('../../../data/translated/orca_translated_50k.jsonl')\n",
    "orca = orca.remove_columns(['system_prompt','question','response'])"
   ]
  },
  {
   "cell_type": "code",
   "execution_count": 66,
   "metadata": {},
   "outputs": [
    {
     "name": "stdout",
     "output_type": "stream",
     "text": [
      "Bạn là một trợ lý AI. Cung cấp câu trả lời chi tiết để người dùng không cần tìm kiếm bên ngoài để hiểu câu trả lời.\n",
      "------------------\n",
      "Bài báo: Nếu bạn đến Ai Cập, bạn sẽ thấy rất nhiều kim tự tháp. Lớn nhất trong số đó là Kim tự tháp vĩ đại. Nó cao khoảng 137 mét và được làm bằng 2.300.000 tảng đá lớn. Mỗi tảng đá nặng khoảng hai tấn rưỡi. Những tảng to nhất thậm chí nặng tới mười lăm tấn. Phải mất hơn 100.000 người đàn ông trong hai mươi năm để xây dựng nó. Không ai có thể biết những người đàn ông đã cắt, khuân vác và nâng những tảng đá khổng lồ như thế nào nếu không có máy móc hiện đại của chúng tôi. Các vị vua Ai Cập bảo người dân xây dựng các kim tự tháp cho chính họ. Họ nghĩ rằng họ có những ngôi mộ đủ chắc chắn để giữ cho cơ thể họ khỏe mạnh cho đến khi họ sống lại. Nhưng họ không bao giờ nghĩ rằng khoảng 5.000 năm sau, xác của họ sẽ được trưng bày trong viện bảo tàng. Câu hỏi: Kim tự tháp được xây dựng cho _ . Có hay không, câu trả lời là \"các vị vua\"?\n",
      "Trả lời:\n",
      "------------------\n",
      "Vâng, câu trả lời là \"các vị vua\". Các kim tự tháp được xây dựng bởi các vị vua Ai Cập cổ đại để làm lăng mộ cho chính họ. Họ tin rằng các kim tự tháp sẽ bảo vệ cơ thể và đồ đạc của họ ở thế giới bên kia.\n"
     ]
    }
   ],
   "source": [
    "temp = orca.shuffle()[0]\n",
    "print(temp['system_prompt_translated'])\n",
    "print('------------------')\n",
    "print(temp['question_translated'])\n",
    "print('------------------')\n",
    "print(temp['response_translated'])"
   ]
  },
  {
   "cell_type": "code",
   "execution_count": 67,
   "metadata": {},
   "outputs": [
    {
     "name": "stderr",
     "output_type": "stream",
     "text": [
      "Loading cached processed dataset at /Users/phamhoang1408/.cache/huggingface/datasets/json/default-fd4c67cf1ae60254/0.0.0/cache-7e0fe43ec263249c.arrow\n"
     ]
    }
   ],
   "source": [
    "template1 = \"{system_prompt}\\n[|Con người|] {question}\\n[|AI|] \"\n",
    "template2 = \"[|Con người|] {question}\\n[|AI|] \"\n",
    "\n",
    "def mapper(x):\n",
    "    if x['system_prompt_translated'] == '':\n",
    "        ip = template2.format(\n",
    "            question=x['question_translated'],\n",
    "        )\n",
    "    else:\n",
    "        ip = template1.format(\n",
    "            system_prompt=x['system_prompt_translated'],\n",
    "            question=x['question_translated'],\n",
    "        )\n",
    "    return {\n",
    "        'input': ip,\n",
    "        'output': x['response_translated'] + '\\n[|Con người|]',\n",
    "    }\n",
    "\n",
    "temp_orca = orca.map(mapper, remove_columns=orca.column_names)\n"
   ]
  },
  {
   "cell_type": "code",
   "execution_count": 68,
   "metadata": {},
   "outputs": [
    {
     "name": "stdout",
     "output_type": "stream",
     "text": [
      "Bạn là một trợ lý AI. Người dùng sẽ cung cấp cho bạn một nhiệm vụ. Mục tiêu của bạn là hoàn thành nhiệm vụ một cách trung thực nhất có thể. Trong khi thực hiện nhiệm vụ, hãy suy nghĩ từng bước một và biện minh cho các bước của bạn.\n",
      "[|Con người|] Vui lòng trả lời câu hỏi sau: Tôi biết rằng câu trả lời cho câu hỏi \"Điều gì đã xảy ra sau cuộc Thập tự chinh đầu tiên?\" nằm trong \"Các cuộc thập tự chinh nhằm chiếm Jerusalem từ sự kiểm soát của người Hồi giáo. Cuộc Thập tự chinh đầu tiên được Giáo hoàng Urban II (giáo hoàng 1088–99) tuyên bố tại Hội đồng Clermont năm 1095 theo yêu cầu của Hoàng đế Byzantine Alexios I Komnenos (r . 1081–1118) để được hỗ trợ chống lại những bước tiến xa hơn của người Hồi giáo. Thành thị hứa hẹn sẽ ban ơn cho bất kỳ ai tham gia. Hàng chục nghìn người từ mọi tầng lớp xã hội đã huy động khắp châu Âu và chiếm được Jerusalem vào năm 1099. Một đặc điểm của các cuộc thập tự chinh là các cuộc tàn sát chống lại người dân địa phương Những người Do Thái thường diễn ra khi quân thập tự chinh rời đất nước của họ sang phương Đông. Những điều này đặc biệt tàn bạo trong cuộc Thập tự chinh thứ nhất, khi các cộng đồng Do Thái ở Cologne, Mainz và Worms bị tiêu diệt, và các cộng đồng khác ở các thành phố giữa sông Seine và Rhine bị ảnh hưởng Sự hủy diệt. Một kết quả tự nhiên khác của các cuộc thập tự chinh là nền tảng của một loại trật tự tu viện mới, mệnh lệnh quân sự của các Hiệp sĩ và Bệnh viện, kết hợp cuộc sống tu viện với nghĩa vụ quân sự.\". Bạn có thể cho tôi biết nó là gì?\n",
      "Trả lời:\n",
      "[|AI|] Sau cuộc Thập tự chinh thứ nhất, Jerusalem bị quân thập tự chinh chiếm vào năm 1099. Ngoài ra, trong cuộc Thập tự chinh thứ nhất, đã có những cuộc tàn sát chống lại người Do Thái địa phương ở một số thành phố châu Âu, dẫn đến sự tàn phá của các cộng đồng Do Thái ở Cologne, Mainz và Worms, cũng như các cộng đồng khác giữa sông Seine và Rhine. Hơn nữa, các cuộc thập tự chinh đã dẫn đến việc thành lập các mệnh lệnh tu viện mới, chẳng hạn như Hiệp sĩ dòng Đền và Hiệp sĩ Bệnh viện, kết hợp cuộc sống tu viện với nghĩa vụ quân sự.\n",
      "[|Con người|]\n"
     ]
    }
   ],
   "source": [
    "temp = temp_orca.shuffle()[0]\n",
    "print(temp['input'] + temp['output'])"
   ]
  },
  {
   "cell_type": "code",
   "execution_count": 69,
   "metadata": {},
   "outputs": [
    {
     "data": {
      "application/vnd.jupyter.widget-view+json": {
       "model_id": "7221a796143d48039fde56feb08a39eb",
       "version_major": 2,
       "version_minor": 0
      },
      "text/plain": [
       "Creating json from Arrow format:   0%|          | 0/25 [00:00<?, ?ba/s]"
      ]
     },
     "metadata": {},
     "output_type": "display_data"
    },
    {
     "data": {
      "text/plain": [
       "103812133"
      ]
     },
     "execution_count": 69,
     "metadata": {},
     "output_type": "execute_result"
    }
   ],
   "source": [
    "temp_orca.shuffle().select(range(25000)).to_json('../../../data/training_21_8/orca_25k_samples.jsonl', orient='records', lines=True)"
   ]
  },
  {
   "cell_type": "markdown",
   "metadata": {},
   "source": [
    "### Wivi"
   ]
  },
  {
   "cell_type": "code",
   "execution_count": 20,
   "metadata": {},
   "outputs": [
    {
     "name": "stderr",
     "output_type": "stream",
     "text": [
      "Found cached dataset json (/Users/phamhoang1408/.cache/huggingface/datasets/json/default-0c4936edc7eb99aa/0.0.0)\n"
     ]
    }
   ],
   "source": [
    "wivi = Dataset.from_json('../../../data/translated/wizard_vicuna_nocode_translated.jsonl')\n",
    "wivi = wivi.select_columns(['conversations_translated'])\n",
    "wivi = wivi.rename_column('conversations_translated', 'conversation')"
   ]
  },
  {
   "cell_type": "code",
   "execution_count": 22,
   "metadata": {},
   "outputs": [
    {
     "data": {
      "text/plain": [
       "'[|Con người|] Liệt kê những ưu và nhược điểm của việc sử dụng ô tô điện kết hợp với các nguồn năng lượng tái tạo để giảm thiểu lượng khí thải carbon.\\n[|AI|] Ưu điểm của việc sử dụng ô tô điện kết hợp với các nguồn năng lượng tái tạo:\\n1. Giảm lượng khí thải carbon: Ô tô điện không tạo ra khí thải, điều đó có nghĩa là chúng có thể giảm đáng kể lượng khí thải carbon khi được cung cấp bởi các nguồn năng lượng tái tạo.\\n2. Tiết kiệm năng lượng: Ô tô điện tiết kiệm năng lượng hơn so với các phương tiện sử dụng động cơ đốt trong truyền thống, có nghĩa là chúng cần ít năng lượng hơn để di chuyển trên cùng một quãng đường.\\n3. Giảm sự phụ thuộc vào nhiên liệu hóa thạch: Ô tô điện chạy bằng các nguồn năng lượng tái tạo có thể giảm sự phụ thuộc vào nhiên liệu hóa thạch, vốn là hữu hạn và góp phần gây ra biến đổi khí hậu.\\n4. Chi phí vận hành thấp hơn: Ô tô điện có chi phí vận hành thấp hơn so với các loại xe động cơ đốt trong truyền thống, vì chúng cần ít bảo trì hơn và điện rẻ hơn xăng.\\nNhược điểm của việc sử dụng ô tô điện kết hợp với các nguồn năng lượng tái tạo:\\n1. Phạm vi lái xe hạn chế: Ô tô điện có phạm vi lái xe hạn chế so với các loại xe động cơ đốt trong truyền thống, điều đó có nghĩa là chúng có thể không phù hợp để di chuyển đường dài.\\n2. Chi phí trả trước cao: Ô tô điện thường đắt hơn ô tô động cơ đốt trong truyền thống, điều này có thể khiến một số người tiêu dùng khó tiếp cận ô tô điện.\\n3. Cơ sở hạ tầng sạc: Hiện tại cơ sở hạ tầng sạc cho ô tô điện còn hạn chế, điều này có thể gây khó khăn cho người lái xe khi sạc xe trên những hành trình dài.\\n4. Lưu trữ năng lượng: Các nguồn năng lượng tái tạo như năng lượng mặt trời và gió có thể không liên tục, điều đó có nghĩa là cần có các giải pháp lưu trữ năng lượng để đảm bảo cung cấp điện ổn định cho ô tô điện.\\n[|Con người|] Bạn có thể giải thích khái niệm bù đắp carbon và cách sử dụng khái niệm này để giảm thiểu tác động của lượng khí thải carbon không?\\n[|AI|] Bù đắp carbon là một cách để cân bằng lượng khí thải carbon bằng cách đầu tư vào các dự án giúp giảm hoặc loại bỏ lượng khí thải nhà kính ra khỏi khí quyển. Ý tưởng là nếu một cá nhân hoặc tổ chức không thể loại bỏ hoàn toàn lượng khí thải carbon của chính họ, họ có thể đầu tư vào các hoạt động như trồng lại rừng, phát triển năng lượng tái tạo hoặc cải thiện hiệu quả năng lượng để giảm lượng khí thải đó. Điều này đạt được thông qua việc mua các khoản tín dụng carbon, thể hiện việc giảm hoặc loại bỏ một tấn carbon dioxide tương đương khỏi khí quyển.\\n\\nViệc sử dụng bù đắp carbon có thể giúp giảm thiểu tác động môi trường của lượng khí thải carbon, nhưng không nên xem nó như một biện pháp thay thế cho việc giảm lượng khí thải tại nguồn. Điều quan trọng là phải tập trung vào việc giảm lượng khí thải càng nhiều càng tốt trước khi dựa vào bù đắp carbon, vì hiệu quả của các chương trình bù đắp có thể khác nhau và có những lo ngại về tiềm năng của chúng trong việc cho phép các doanh nghiệp tiếp tục thải ra lượng carbon cao trong khi tuyên bố là “trung hòa carbon”. ”.\\n[|Con người|] Vai trò của địa kỹ thuật trong việc giảm thiểu biến đổi khí hậu là gì?\\n[|AI|] Địa kỹ thuật đề cập đến các biện pháp can thiệp quy mô lớn có chủ ý vào các hệ thống của Trái đất để giảm thiểu biến đổi khí hậu. Có hai loại địa kỹ thuật chính: kỹ thuật loại bỏ carbon dioxide (CDR) và kỹ thuật quản lý bức xạ mặt trời (SRM).\\n\\nCác kỹ thuật CDR nhằm mục đích loại bỏ carbon dioxide khỏi khí quyển, bằng cách tăng cường các quá trình tự nhiên như quang hợp hoặc bằng cách sử dụng các công nghệ như thu giữ không khí trực tiếp. Các kỹ thuật SRM nhằm mục đích phản xạ ánh sáng mặt trời trở lại không gian hoặc tăng lượng nhiệt tỏa ra ngoài không gian, có thể làm mát hành tinh và bù đắp tác động nóng lên của khí nhà kính.\\n\\nTrong khi một số người cho rằng địa kỹ thuật có thể cung cấp một giải pháp cần thiết cho thách thức của biến đổi khí hậu, thì những người khác đã nêu lên mối lo ngại về những rủi ro tiềm ẩn và hậu quả không lường trước được của nó. Ví dụ, một số kỹ thuật CDR yêu cầu một lượng lớn đất đai hoặc các nguồn tài nguyên khác, điều này có thể gây ra tác động tiêu cực đến môi trường. Ngoài ra, các kỹ thuật SRM có thể gây ra biến đổi khí hậu khu vực hoặc có những hậu quả không lường trước khác.\\n\\nNhìn chung, điều quan trọng là tiếp tục nghiên cứu và đánh giá các lợi ích và rủi ro tiềm năng của các phương pháp địa kỹ thuật khác nhau, nhưng việc giảm phát thải khí nhà kính tại nguồn vẫn nên là trọng tâm chính để giảm thiểu biến đổi khí hậu.\\n[|Con người|] Phá rừng góp phần vào biến đổi khí hậu như thế nào?\\n[|AI|] Phá rừng góp phần gây ra biến đổi khí hậu theo nhiều cách. Cây hấp thụ carbon dioxide từ khí quyển trong quá trình quang hợp và lưu trữ nó dưới dạng carbon trong sinh khối của chúng. Khi cây cối bị chặt hoặc đốt, lượng carbon dự trữ này sẽ được giải phóng trở lại khí quyển dưới dạng carbon dioxide, góp phần tích tụ khí nhà kính giữ nhiệt và gây ra sự nóng lên toàn cầu.\\n\\nViệc mất cây cối cũng làm giảm khả năng hấp thụ carbon dioxide từ khí quyển của Trái đất. Cây xanh đóng một vai trò quan trọng trong chu trình carbon bằng cách hấp thụ carbon dioxide và giải phóng oxy thông qua quá trình quang hợp. Phá rừng làm gián đoạn quá trình tự nhiên này, dẫn đến lượng carbon dioxide cao hơn trong khí quyển và làm trầm trọng thêm tác động của biến đổi khí hậu.\\n\\nNgoài tác động của nó đối với việc lưu trữ và cô lập carbon, nạn phá rừng còn có thể gây ra các hậu quả môi trường khác như xói mòn đất, mất đa dạng sinh học và thay đổi các kiểu khí hậu khu vực. Điều quan trọng là phải giải quyết nạn phá rừng như một phần trong nỗ lực giảm thiểu biến đổi khí hậu và bảo vệ hệ sinh thái.'"
      ]
     },
     "execution_count": 22,
     "metadata": {},
     "output_type": "execute_result"
    }
   ],
   "source": [
    "wivi[0]['conversation']"
   ]
  },
  {
   "cell_type": "code",
   "execution_count": 23,
   "metadata": {},
   "outputs": [
    {
     "data": {
      "application/vnd.jupyter.widget-view+json": {
       "model_id": "9a7102fdb5814a84a1d4f978f122987d",
       "version_major": 2,
       "version_minor": 0
      },
      "text/plain": [
       "Map:   0%|          | 0/30527 [00:00<?, ? examples/s]"
      ]
     },
     "metadata": {},
     "output_type": "display_data"
    }
   ],
   "source": [
    "text = \"Cuộc trò chuyện giữa con người và trợ lý AI.\\n\"\n",
    "def mapper(x):\n",
    "    return {\n",
    "        'input': text,\n",
    "        'output': x['conversation'].removeprefix(text) + '\\n[|Con người|]'\n",
    "    }\n",
    "\n",
    "temp_wivi = wivi.map(mapper, batched=False, remove_columns=wivi.column_names)"
   ]
  },
  {
   "cell_type": "code",
   "execution_count": 30,
   "metadata": {},
   "outputs": [
    {
     "name": "stdout",
     "output_type": "stream",
     "text": [
      "Cuộc trò chuyện giữa con người và trợ lý AI.\n",
      "[|Con người|] Sử dụng danh sách 1000 từ khó hiểu được cung cấp, hãy xây dựng một truy vấn gợi ra thông tin về trải nghiệm hoặc kiến ​​thức cá nhân của cá nhân liên quan đến một thuật ngữ được chọn ngẫu nhiên. Truy vấn phải được diễn đạt dưới dạng câu hỏi trắc nghiệm với bốn câu trả lời có thể có, mỗi câu trả lời phải được viết bằng tiếng Latinh. Ngoài ra, cá nhân đó phải cung cấp một lời giải thích ngắn gọn bằng văn bản về lý do đằng sau câu trả lời đã chọn của họ, sử dụng định dạng trích dẫn MLA thích hợp. Thuật ngữ được chọn là \"floccinaucinihilipilification.\"\n",
      "[|AI|] Cụm từ tiếng Latinh nào sau đây mô tả đúng nhất sự quen thuộc của bạn với thuật ngữ \"floccinaucinihilipilification\"?\n",
      "A) \"Ignorantia legis neminem excusat\" (Sự thiếu hiểu biết về luật pháp không bào chữa cho ai)\n",
      "B) \"Deus ex machina\" (Chúa từ cỗ máy)\n",
      "C) \"Carpe diem\" (Nắm bắt cơ hội)\n",
      "D) \"Ad buồn nôn\" (Đến mức buồn nôn)\n",
      "Tôi hỏi điều này bởi vì \"floccinaucinihilipilification\" là một thuật ngữ hiếm có nghĩa là hành động coi một thứ gì đó là không đáng kể hoặc vô giá trị. Có thể bạn chưa bao giờ nghe nói về từ này trước đây, do đó, tùy chọn đầu tiên. Ngoài ra, bạn có thể hiểu sâu về thuật ngữ này, trong trường hợp đó, tùy chọn thứ ba có thể phù hợp nhất. Vui lòng cung cấp giải thích ngắn gọn về lý do đằng sau câu trả lời bạn đã chọn, sử dụng định dạng trích dẫn MLA phù hợp.\n",
      "[|Con người|] Bạn có thể giải thích sự khác biệt giữa suy luận quy nạp và suy diễn không?\n",
      "[|AI|] Chắc chắn rồi! Lý luận quy nạp là một kiểu tư duy logic liên quan đến việc khái quát hóa dựa trên các quan sát cụ thể. Nó di chuyển từ các trường hợp cụ thể đến một kết luận chung, thường liên quan đến xác suất hoặc khả năng xảy ra. Ví dụ: nếu mọi con quạ mà một người từng nhìn thấy đều có màu đen, họ có thể suy luận rằng tất cả các con quạ đều có màu đen.\n",
      "\n",
      "Mặt khác, lập luận suy diễn bắt đầu với một nguyên tắc hoặc tiền đề chung và áp dụng nó vào một trường hợp cụ thể. Nó chuyển từ một tuyên bố chung sang một kết luận cụ thể. Ví dụ, nếu một người biết rằng tất cả các loài chim đều có cánh và họ nhìn thấy một con quạ, họ có thể kết luận rằng con quạ đó có cánh.\n",
      "\n",
      "Cả hai loại lý luận đều quan trọng trong các bối cảnh và lĩnh vực khác nhau, chẳng hạn như khoa học, luật và toán học.\n",
      "[|Con người|]\n"
     ]
    }
   ],
   "source": [
    "temp = temp_wivi.shuffle()[0]\n",
    "print(temp['input'] + temp['output'])"
   ]
  },
  {
   "cell_type": "code",
   "execution_count": 31,
   "metadata": {},
   "outputs": [
    {
     "data": {
      "application/vnd.jupyter.widget-view+json": {
       "model_id": "31863539cd1846eea698be00009bd400",
       "version_major": 2,
       "version_minor": 0
      },
      "text/plain": [
       "Creating json from Arrow format:   0%|          | 0/31 [00:00<?, ?ba/s]"
      ]
     },
     "metadata": {},
     "output_type": "display_data"
    },
    {
     "data": {
      "text/plain": [
       "275319349"
      ]
     },
     "execution_count": 31,
     "metadata": {},
     "output_type": "execute_result"
    }
   ],
   "source": [
    "temp_wivi.to_json('../../../data/training_21_8/wivi_30k_samples.jsonl', orient='records', lines=True)"
   ]
  },
  {
   "cell_type": "markdown",
   "metadata": {},
   "source": [
    "### Conversation query generation"
   ]
  },
  {
   "cell_type": "code",
   "execution_count": 3,
   "metadata": {},
   "outputs": [
    {
     "name": "stderr",
     "output_type": "stream",
     "text": [
      "Found cached dataset json (/Users/phamhoang1408/.cache/huggingface/datasets/json/default-3ecfe4735495290c/0.0.0)\n",
      "Found cached dataset json (/Users/phamhoang1408/.cache/huggingface/datasets/json/default-0bad7c81935852e3/0.0.0)\n",
      "Found cached dataset json (/Users/phamhoang1408/.cache/huggingface/datasets/json/default-63a04f4664c48905/0.0.0)\n"
     ]
    }
   ],
   "source": [
    "data_path = [\n",
    "    \"../../../data/translated/retrieve_query_gen_oasst_translated.jsonl\", \n",
    "    \"../../../data/translated/retrieve_query_gen_quora_translated.jsonl\", \n",
    "    \"../../../data/translated/retrieve_query_gen_sharegpt_translated.jsonl\",\n",
    "]\n",
    "query = concatenate_datasets([Dataset.from_json(path) for path in data_path])\n",
    "temp = query.to_pandas().drop_duplicates(subset=['conversation']).sample(500, replace=True)\n",
    "query = Dataset.from_pandas(temp.reset_index(drop=True))"
   ]
  },
  {
   "cell_type": "code",
   "execution_count": 4,
   "metadata": {},
   "outputs": [
    {
     "data": {
      "text/plain": [
       "Dataset({\n",
       "    features: ['conversation', 'conversation_translated', 'query', 'query_translated'],\n",
       "    num_rows: 500\n",
       "})"
      ]
     },
     "execution_count": 4,
     "metadata": {},
     "output_type": "execute_result"
    }
   ],
   "source": [
    "query"
   ]
  },
  {
   "cell_type": "code",
   "execution_count": 7,
   "metadata": {},
   "outputs": [
    {
     "data": {
      "text/plain": [
       "11"
      ]
     },
     "execution_count": 7,
     "metadata": {},
     "output_type": "execute_result"
    }
   ],
   "source": [
    "str(\"Hello from hoang\").find(\"hoang\")"
   ]
  },
  {
   "cell_type": "code",
   "execution_count": 5,
   "metadata": {},
   "outputs": [
    {
     "data": {
      "application/vnd.jupyter.widget-view+json": {
       "model_id": "2cecd5c2aa8242de9937ffe979b79dda",
       "version_major": 2,
       "version_minor": 0
      },
      "text/plain": [
       "Map:   0%|          | 0/500 [00:00<?, ? examples/s]"
      ]
     },
     "metadata": {},
     "output_type": "display_data"
    }
   ],
   "source": [
    "template1 = \"Dưới đây là đoạn hội thoại giữa con người và AI, cuối đoạn hội thoại là câu hỏi mới người dùng đặt ra cần được trả lời bằng cách tìm kiếm thông tin nằm trong cơ sở tri thức chung. Hãy sinh ra câu truy vấn phù hợp với đoạn hội thoại và câu hỏi mới của người dùng.\\nĐoạn hội thoại:\\n{conversation}\\nCâu truy vấn: \"\n",
    "\n",
    "def mapper(x):\n",
    "    ip = template1.format(\n",
    "        conversation=x['conversation_translated'], \n",
    "    )\n",
    "    return {\n",
    "        'input': ip,\n",
    "        'output': x['query_translated']\n",
    "    }\n",
    "\n",
    "temp_query = query.map(mapper,batched=False, remove_columns=query.column_names)"
   ]
  },
  {
   "cell_type": "code",
   "execution_count": 7,
   "metadata": {},
   "outputs": [
    {
     "name": "stdout",
     "output_type": "stream",
     "text": [
      "Dưới đây là đoạn hội thoại giữa con người và AI, cuối đoạn hội thoại là câu hỏi mới người dùng đặt ra cần được trả lời bằng cách tìm kiếm thông tin nằm trong cơ sở tri thức chung. Hãy sinh ra câu truy vấn phù hợp với đoạn hội thoại và câu hỏi mới của người dùng.\n",
      "Đoạn hội thoại:\n",
      "[|Con người|] Tôi muốn biết liệu bạn có thể cho tôi biết cách nhập cư hợp pháp vào Mỹ từ Paraguay không.\n",
      "[|AI|] Chắc chắn rồi. Để nhập cư hợp pháp vào Hoa Kỳ từ Paraguay, bạn sẽ cần phải xin thị thực. Có một số loại thị thực khác nhau có sẵn, mỗi loại có yêu cầu đủ điều kiện riêng.\n",
      "[|Con người|] Một số loại thị thực khác nhau là gì?\n",
      "[|AI|] Một số loại thị thực phổ biến nhất là thị thực lao động, thị thực sinh viên và thị thực diện gia đình. Bạn muốn biết thêm thông tin về cái nào?\n",
      "[|Con người|] Còn visa lao động thì sao? Các yêu cầu cho điều đó là gì?\n",
      "[|AI|] Để có được thị thực lao động, bạn cần có lời mời làm việc từ một chủ lao động Hoa Kỳ sẵn sàng tài trợ cho đơn xin thị thực của bạn. Bạn cũng sẽ cần đáp ứng một số tiêu chuẩn nhất định, chẳng hạn như có trình độ học vấn và/hoặc kinh nghiệm làm việc nhất định.\n",
      "[|Con người|] Bạn có thể cho tôi lời khuyên nào để giảm bớt quá trình nhập cư không?\n",
      "Câu truy vần: \n",
      "mẹo để quá trình nhập cư dễ dàng đến Hoa Kỳ từ Paraguay\n"
     ]
    }
   ],
   "source": [
    "temp = temp_query.shuffle()[0]\n",
    "print(temp['input'])\n",
    "print(temp['output'])"
   ]
  },
  {
   "cell_type": "code",
   "execution_count": 54,
   "metadata": {},
   "outputs": [
    {
     "data": {
      "application/vnd.jupyter.widget-view+json": {
       "model_id": "5e4a4f6f9e0e47d1be7c4001b031e5cc",
       "version_major": 2,
       "version_minor": 0
      },
      "text/plain": [
       "Creating json from Arrow format:   0%|          | 0/1 [00:00<?, ?ba/s]"
      ]
     },
     "metadata": {},
     "output_type": "display_data"
    },
    {
     "data": {
      "text/plain": [
       "2041567"
      ]
     },
     "execution_count": 54,
     "metadata": {},
     "output_type": "execute_result"
    }
   ],
   "source": [
    "temp_query.to_json('../../../data/training_14_8/query_gen_500_samples.jsonl', orient='records', lines=True)"
   ]
  },
  {
   "cell_type": "markdown",
   "metadata": {},
   "source": [
    "### Wizard"
   ]
  },
  {
   "cell_type": "code",
   "execution_count": 36,
   "metadata": {},
   "outputs": [
    {
     "name": "stderr",
     "output_type": "stream",
     "text": [
      "Found cached dataset json (/Users/phamhoang1408/.cache/huggingface/datasets/json/default-4033f5046678def4/0.0.0)\n"
     ]
    },
    {
     "data": {
      "text/plain": [
       "Dataset({\n",
       "    features: ['idx', 'idx_translated', 'conversations', 'conversations_translated'],\n",
       "    num_rows: 82130\n",
       "})"
      ]
     },
     "execution_count": 36,
     "metadata": {},
     "output_type": "execute_result"
    }
   ],
   "source": [
    "wizard = Dataset.from_json('../../../data/translated/wizard_no_code_translated.jsonl')\n",
    "wizard"
   ]
  },
  {
   "cell_type": "code",
   "execution_count": 39,
   "metadata": {},
   "outputs": [
    {
     "name": "stdout",
     "output_type": "stream",
     "text": [
      "[|Con người|] Là một giáo viên toán tiểu học, được giao nhiệm vụ giảng dạy mô-đun \"số thập phân\", vui lòng kết hợp sáu cấp độ nhận thức của Bloom, đó là ghi nhớ, hiểu, ứng dụng, phân tích, đánh giá và sáng tạo - và ngoài ra, bao gồm một hạn chế mà các kế hoạch bài học phải kết hợp các thao tác. Ngoài ra, hãy đưa ra một quy tắc rằng các mục tiêu học tập phải được điều chỉnh để đáp ứng nhu cầu cụ thể của từng học sinh. Vui lòng liệt kê hai mục tiêu học tập cho từng cấp độ của thang phân loại Bloom đáp ứng nhu cầu của mọi học sinh.\n",
      "[|AI|] Cấp độ 1: Ghi nhớ\n",
      "1. HS nhớ lại định nghĩa số thập phân.\n",
      "2. Học sinh có thể xác định các giá trị vị trí của số thập phân.\n",
      "\n",
      "Cấp độ 2: Hiểu biết\n",
      "1. Học sinh giải thích được mối quan hệ giữa phân số và số thập phân.\n",
      "2. Học sinh sẽ có thể phân biệt giữa hàng chục và hàng trăm.\n",
      "\n",
      "Cấp độ 3: Áp dụng\n",
      "1. Học sinh biết chuyển đổi số thập phân thành phân số.\n",
      "2. Học sinh có thể giải các bài toán đố liên quan đến số thập phân.\n",
      "\n",
      "Cấp độ 4: Phân tích\n",
      "1. Học sinh biết so sánh, sắp xếp thứ tự các số thập phân.\n",
      "2. Học sinh nhận biết được đơn vị thập phân của các phân số thông thường.\n",
      "\n",
      "Cấp độ 5: Đánh giá\n",
      "1. Học sinh sẽ có thể đánh giá các phương pháp khác nhau để cộng và trừ số thập phân.\n",
      "2. Học sinh biết lập luận khi giải các bài toán liên quan đến số thập phân.\n",
      "\n",
      "Cấp độ 6: Sáng tạo\n",
      "1. Học sinh sẽ có thể thiết kế một trò chơi liên quan đến việc xác định giá trị vị trí của số thập phân.\n",
      "2. Học sinh sẽ có thể tạo ra một tình huống trong thế giới thực trong đó số thập phân được sử dụng trong cuộc sống hàng ngày.\n",
      "\n",
      "Sử dụng các thao tác sẽ giúp học sinh hiểu các khái niệm hiệu quả hơn. Để điều chỉnh kế hoạch bài học theo nhu cầu của từng học sinh, có thể tiến hành đánh giá trước để xác định kiến ​​thức hiện có của họ về số thập phân, sau đó chỉ định các hoạt động dựa trên sự hiểu biết của họ về khái niệm này. Ví dụ, những học sinh gặp khó khăn trong việc ghi nhớ khái niệm số thập phân có thể được giao các hoạt động liên quan đến hỗ trợ trực quan, trong khi những học sinh gặp khó khăn trong việc phân tích khái niệm có thể được giao các hoạt động yêu cầu so sánh và sắp xếp thứ tự các số thập phân.\n"
     ]
    }
   ],
   "source": [
    "temp = wizard.shuffle()[0]\n",
    "print(temp['conversations_translated'])"
   ]
  },
  {
   "cell_type": "code",
   "execution_count": 40,
   "metadata": {},
   "outputs": [
    {
     "data": {
      "application/vnd.jupyter.widget-view+json": {
       "model_id": "ccf6db88834b45868793dbbcf7790927",
       "version_major": 2,
       "version_minor": 0
      },
      "text/plain": [
       "Map:   0%|          | 0/82130 [00:00<?, ? examples/s]"
      ]
     },
     "metadata": {},
     "output_type": "display_data"
    }
   ],
   "source": [
    "text = \"Cuộc trò chuyện giữa con người và trợ lý AI.\\n\"\n",
    "def mapper(x):\n",
    "    index = x['conversations_translated'].find('[|AI|]')\n",
    "    return {\n",
    "        'input': text + x['conversations_translated'][:index+7],\n",
    "        'output': x['conversations_translated'][index+7:] + '\\n[|Con người|]'\n",
    "    }\n",
    "\n",
    "temp_wizard = wizard.map(mapper)"
   ]
  },
  {
   "cell_type": "code",
   "execution_count": 63,
   "metadata": {},
   "outputs": [
    {
     "name": "stdout",
     "output_type": "stream",
     "text": [
      "Cuộc trò chuyện giữa con người và trợ lý AI.\n",
      "[|Con người|] Bằng cách nào việc sử dụng các từ tượng thanh có thể tăng cường mô tả về các loại động cơ phương tiện khác nhau? Cung cấp ba ví dụ về từ tượng thanh có thể được sử dụng để mô tả âm thanh của động cơ ô tô và giải thích cách mỗi từ thay đổi nhận thức về sức mạnh và tốc độ của động cơ. Ngoài ra, hãy xem xét tác động của tuổi thọ và bảo dưỡng của động cơ đối với âm thanh mà động cơ tạo ra và điều này có thể ảnh hưởng như thế nào đến nhận thức về hiệu suất của động cơ. Cuối cùng, thảo luận xem loại nhiên liệu mà động cơ sử dụng cũng có thể ảnh hưởng như thế nào đến âm thanh và hiệu suất của nó, đồng thời cung cấp các ví dụ về các loại nhiên liệu cụ thể và âm thanh động cơ tương ứng của chúng.\n",
      "[|AI|] Các từ tượng thanh có thể rất hiệu quả trong việc nâng cao khả năng mô tả các loại động cơ phương tiện khác nhau vì chúng có thể giúp tạo ra trải nghiệm sống động và đắm chìm cho người đọc hoặc người nghe. Dưới đây là ba ví dụ về từ tượng thanh có thể được sử dụng để mô tả âm thanh của động cơ ô tô:\n",
      "1. Tiếng gầm - Từ này thường được dùng để miêu tả âm thanh của động cơ xe thể thao mạnh mẽ. Nó tạo ấn tượng về một tiếng ầm ầm trầm khàn cho thấy động cơ có khả năng tạo ra nhiều công suất và tốc độ.\n",
      "2. Gầm gừ - Từ này thường được dùng để mô tả âm thanh của động cơ được bảo dưỡng tốt và tinh chỉnh. Nó tạo ra ấn tượng về tiếng vo ve êm ái, đều đặn cho thấy động cơ đang hoạt động trơn tru và hiệu quả.\n",
      "3. Tiếng lạch cạch - Từ này thường được dùng để mô tả âm thanh của động cơ cũ hoặc được bảo dưỡng kém. Nó tạo ra ấn tượng về tiếng ồn thô ráp, không đều cho thấy động cơ có thể đang gặp sự cố và cần được sửa chữa.\n",
      "Tuổi thọ và việc bảo dưỡng động cơ có thể có tác động đáng kể đến âm thanh mà động cơ tạo ra và điều này có thể ảnh hưởng đến cảm nhận về hiệu suất của động cơ. Một động cơ cũ hơn hoặc được bảo dưỡng kém có thể tạo ra âm thanh thô hơn, không đều hơn cho thấy nó đang gặp khó khăn trong việc hoạt động tốt nhất. Mặt khác, một động cơ được bảo dưỡng tốt có thể tạo ra âm thanh mượt mà, nhất quán hơn cho thấy nó đang hoạt động hiệu quả và hoạt động tốt nhất.\n",
      "Loại nhiên liệu mà động cơ sử dụng cũng có thể ảnh hưởng đến âm thanh và hiệu suất của nó. Ví dụ, động cơ diesel có xu hướng tạo ra âm thanh to hơn, lạch cạch hơn động cơ xăng do cách chúng đốt cháy nhiên liệu. Tương tự, ô tô điện tạo ra âm thanh rất khác so với động cơ xăng hoặc diesel truyền thống, vì chúng không có động cơ đốt trong. Thay vào đó, chúng tạo ra tiếng vo ve hoặc tiếng vo ve yên tĩnh.\n",
      "Nhìn chung, việc sử dụng các từ tượng thanh có thể là một công cụ mạnh mẽ để mô tả các loại động cơ xe khác nhau. Bằng cách lựa chọn cẩn thận các từ phù hợp, có thể tạo ra trải nghiệm sống động và đắm chìm, truyền tải chính xác sức mạnh, tốc độ và hiệu suất của động cơ.\n",
      "[|Con người|]\n"
     ]
    }
   ],
   "source": [
    "temp = temp_wizard.shuffle()[0]\n",
    "print(temp['input'] + temp['output'])"
   ]
  },
  {
   "cell_type": "code",
   "execution_count": 64,
   "metadata": {},
   "outputs": [
    {
     "data": {
      "application/vnd.jupyter.widget-view+json": {
       "model_id": "5e1550b454dd4f328baf8217c5302ed4",
       "version_major": 2,
       "version_minor": 0
      },
      "text/plain": [
       "Creating json from Arrow format:   0%|          | 0/40 [00:00<?, ?ba/s]"
      ]
     },
     "metadata": {},
     "output_type": "display_data"
    },
    {
     "data": {
      "text/plain": [
       "436331450"
      ]
     },
     "execution_count": 64,
     "metadata": {},
     "output_type": "execute_result"
    }
   ],
   "source": [
    "temp_wizard.shuffle().select(range(40000)).to_json('../../../data/training_21_8/wizard_30k_samples.jsonl', orient='records', lines=True)"
   ]
  },
  {
   "cell_type": "markdown",
   "metadata": {},
   "source": [
    "### Okapi"
   ]
  },
  {
   "cell_type": "code",
   "execution_count": 4,
   "metadata": {},
   "outputs": [
    {
     "name": "stderr",
     "output_type": "stream",
     "text": [
      "Found cached dataset json (/Users/phamhoang1408/.cache/huggingface/datasets/json/default-a3435500b4bea6d2/0.0.0)\n",
      "Found cached dataset json (/Users/phamhoang1408/.cache/huggingface/datasets/json/default-794bec094f7dc439/0.0.0)\n"
     ]
    }
   ],
   "source": [
    "code_ocapi = Dataset.from_json('/Users/phamhoang1408/Desktop/Phase 2 Viettel/main_repo/data/original/okapi/code_related_okapi.jsonl')\n",
    "no_code_ocapi = Dataset.from_json('/Users/phamhoang1408/Desktop/Phase 2 Viettel/main_repo/data/original/okapi/okapi_instruct_vi.json')"
   ]
  },
  {
   "cell_type": "code",
   "execution_count": 5,
   "metadata": {},
   "outputs": [
    {
     "name": "stderr",
     "output_type": "stream",
     "text": [
      "Loading cached processed dataset at /Users/phamhoang1408/.cache/huggingface/datasets/json/default-a3435500b4bea6d2/0.0.0/cache-b6e38a2dc9c6e8b7.arrow\n",
      "Loading cached processed dataset at /Users/phamhoang1408/.cache/huggingface/datasets/json/default-794bec094f7dc439/0.0.0/cache-296c168de6e841a0.arrow\n"
     ]
    }
   ],
   "source": [
    "template1 = \"Cuộc trò chuyện giữa con người và trợ lý AI.\\n[|Con người|] {instruction}\\n{input}\\n[|AI|] \"\n",
    "template2 = \"Cuộc trò chuyện giữa con người và trợ lý AI.\\n[|Con người|] {instruction}\\n[|AI|] \"\n",
    "\n",
    "def mapper(x):\n",
    "    if x['input'] == '':\n",
    "        ip = template2.format(\n",
    "            instruction=x['instruction'],\n",
    "        )\n",
    "    else:\n",
    "        ip = template1.format(\n",
    "            instruction=x['instruction'],\n",
    "            input=x['input']\n",
    "        )\n",
    "    return {\n",
    "        'input': ip,\n",
    "        'output': x['output'] + '\\n[|Con người|]'\n",
    "    }\n",
    "\n",
    "temp_code_ocapi = code_ocapi.map(mapper, remove_columns=code_ocapi.column_names)    \n",
    "temp_no_code_ocapi = no_code_ocapi.map(mapper, remove_columns=no_code_ocapi.column_names)"
   ]
  },
  {
   "cell_type": "code",
   "execution_count": 117,
   "metadata": {},
   "outputs": [
    {
     "data": {
      "application/vnd.jupyter.widget-view+json": {
       "model_id": "9dc006e2921548c5a38244a578cbfb22",
       "version_major": 2,
       "version_minor": 0
      },
      "text/plain": [
       "Creating json from Arrow format:   0%|          | 0/6 [00:00<?, ?ba/s]"
      ]
     },
     "metadata": {},
     "output_type": "display_data"
    },
    {
     "data": {
      "application/vnd.jupyter.widget-view+json": {
       "model_id": "9ef543469d3b4aceb8cb751a7e24fc49",
       "version_major": 2,
       "version_minor": 0
      },
      "text/plain": [
       "Creating json from Arrow format:   0%|          | 0/30 [00:00<?, ?ba/s]"
      ]
     },
     "metadata": {},
     "output_type": "display_data"
    },
    {
     "data": {
      "text/plain": [
       "27601457"
      ]
     },
     "execution_count": 117,
     "metadata": {},
     "output_type": "execute_result"
    }
   ],
   "source": [
    "temp_code_ocapi.to_json('../../../data/training_21_8/code_related_ocapi_6k_samples.jsonl', orient='records', lines=True)\n",
    "temp_no_code_ocapi.shuffle().select(range(30000)).to_json('../../../data/training_21_8/no_code_ocapi_30k_samples.jsonl', orient='records', lines=True)"
   ]
  },
  {
   "cell_type": "code",
   "execution_count": 35,
   "metadata": {},
   "outputs": [
    {
     "name": "stdout",
     "output_type": "stream",
     "text": [
      "Cuộc trò chuyện giữa con người và trợ lý AI.\n",
      "[|Con người|] Tạo một bản rap về đội bóng rổ yêu thích của bạn.\n",
      "Los Angeles Lakers\n",
      "[|AI|] Dĩ nhiên đó là Los Angeles Lakers,\n",
      "Xoay như chong chóng trên sân, không cần thiện ác.\n",
      "Kobe và Shaq đã kiểm soát mọi trận đấu,\n",
      "Vô địch và làm các fan phấn khích đầy háo hức - Wow!\n",
      "Thống trị dưới rổ, vị trí phòng ngự,\n",
      "Lakers chơi đúng bài và nó chính là sự xuất chúng.\n",
      "LeBron và AD đang làm nóng từng giây,\n",
      "Ai cũng biết Lakers sẽ chiến thắng không ngừng nghỉ!\n",
      "Từ Staples Center tới phía bên kia thành phố,\n",
      "Lakers giơ cao đầu, không thấy một phút giây lụi tàn.\n",
      "Những pha dunk đến từ các công phá, không thể bị khuất phục,\n",
      "Chính vì thế, Lakers là bá chủ và làm nên tên tuổi nên gọi là cả một trỗi junk!\n",
      "[|Con người|]\n"
     ]
    }
   ],
   "source": [
    "temp = temp_no_code_ocapi.shuffle()[0]\n",
    "print(temp['input'] + temp['output'])"
   ]
  },
  {
   "cell_type": "markdown",
   "metadata": {},
   "source": [
    "### MMLU"
   ]
  },
  {
   "cell_type": "code",
   "execution_count": 813,
   "metadata": {},
   "outputs": [
    {
     "name": "stderr",
     "output_type": "stream",
     "text": [
      "Found cached dataset json (/Users/phamhoang1408/.cache/huggingface/datasets/json/default-9e7d5a55888ae4e6/0.0.0)\n",
      "Found cached dataset json (/Users/phamhoang1408/.cache/huggingface/datasets/json/default-64286f570b39b0e2/0.0.0)\n",
      "Loading cached processed dataset at /Users/phamhoang1408/.cache/huggingface/datasets/json/default-64286f570b39b0e2/0.0.0/cache-a92a797c3a3af126.arrow\n",
      "Loading cached processed dataset at /Users/phamhoang1408/.cache/huggingface/datasets/json/default-64286f570b39b0e2/0.0.0/cache-205d6dedf0d6e47f.arrow\n",
      "Loading cached processed dataset at /Users/phamhoang1408/.cache/huggingface/datasets/json/default-9e7d5a55888ae4e6/0.0.0/cache-822cec9be5aac579.arrow\n",
      "Loading cached processed dataset at /Users/phamhoang1408/.cache/huggingface/datasets/json/default-9e7d5a55888ae4e6/0.0.0/cache-b5d11864f48c6f0f.arrow\n"
     ]
    },
    {
     "name": "stdout",
     "output_type": "stream",
     "text": [
      "14042 1531\n"
     ]
    }
   ],
   "source": [
    "mmlu_test = Dataset.from_json('../../../data/translated/mmlu/zero_shot_mmlu_chat_test_translated.jsonl')\n",
    "mmlu_val = Dataset.from_json('../../../data/translated/mmlu/zero_shot_mmlu_chat_val_translated.jsonl')\n",
    "print(len(mmlu_test), len(mmlu_val))\n",
    "def mapper(x):\n",
    "    return {\n",
    "        'input': x['input_translated'] + \"\\n[|AI|] \",\n",
    "        'output': x['output_translated'].removeprefix(\"[|AI|] \").replace(\"[|Human|]\", \"[|Con người|]\")\n",
    "    }\n",
    "def filter(x):\n",
    "    for a in ['A.', 'B.', 'C.', 'D.']:\n",
    "        if not a in x['input']:\n",
    "            return False\n",
    "    for a in ['A\\n[|Con người|]', 'B\\n[|Con người|]', 'C\\n[|Con người|]', 'D\\n[|Con người|]']:\n",
    "        if a in x['output']:\n",
    "            return True\n",
    "mmlu_val = mmlu_val.map(mapper).filter(filter)\n",
    "mmlu_test = mmlu_test.map(mapper).filter(filter)\n",
    "print(len(mmlu_test), len(mmlu_val))"
   ]
  },
  {
   "cell_type": "code",
   "execution_count": 816,
   "metadata": {},
   "outputs": [
    {
     "name": "stdout",
     "output_type": "stream",
     "text": [
      "Đoạn hội thoại giữa con người và trợ lý AI.\n",
      "[|Con người|] Sau đây là các câu hỏi trắc nghiệm (có đáp án) về nghề luật.\n",
      "\n",
      "Tại một khu vực tài phán sử dụng các chỉ số của người được cấp người được cấp, các sự kiện sau đây đã xảy ra theo thứ tự được liệt kê bên dưới: (1) Năm 1993, một người phụ nữ đã thế chấp một mảnh đất cho một công ty thế chấp để đảm bảo một khoản nợ trị giá 25.000 đô la, đáo hạn vào ngày 31 tháng 12 , 1993, với lãi suất 9'/2% mỗi năm. (2) Năm 1996, công ty thế chấp ghi nhận thế chấp trên thửa đất. (3) Năm 2007, trong một tờ giấy có chữ ký mà người phụ nữ giao cho con gái, người phụ nữ này hứa sẽ chuyển nhượng mảnh đất cho con gái bằng văn bản nhượng quyền và trả nợ khi đến hạn. (4) Vào năm 2008, người phụ nữ đã giao cho con gái một chứng thư từ bỏ quyền sở hữu không đề cập đến khoản thế chấp. Nếu người phụ nữ sau đó không trả được nợ thế chấp, điều nào sau đây có thể đúng?\n",
      "A. Chỉ có con gái mới có nguyên nhân hành động chống lại người phụ nữ.\n",
      "B. Chỉ có công ty cho vay thế chấp mới có nguyên nhân khởi kiện người phụ nữ.\n",
      "C. Cả con gái và công ty cho vay thế chấp đều có nguyên nhân dẫn đến hành động chống lại người phụ nữ.\n",
      "D. Cả con gái và công ty cho vay thế chấp đều không có lý do gì để khởi kiện người phụ nữ.\n",
      "Trả lời:\n",
      "[|AI|] B\n",
      "[|Con người|]\n"
     ]
    }
   ],
   "source": [
    "temp = mmlu_test.shuffle()[0]\n",
    "print(temp['input'] + temp['output'])"
   ]
  },
  {
   "cell_type": "code",
   "execution_count": 817,
   "metadata": {},
   "outputs": [
    {
     "data": {
      "application/vnd.jupyter.widget-view+json": {
       "model_id": "dae1d884265e4a44b0ffc61fe73311c7",
       "version_major": 2,
       "version_minor": 0
      },
      "text/plain": [
       "Creating json from Arrow format:   0%|          | 0/2 [00:00<?, ?ba/s]"
      ]
     },
     "metadata": {},
     "output_type": "display_data"
    },
    {
     "data": {
      "application/vnd.jupyter.widget-view+json": {
       "model_id": "f274e69d3221490ea7f6017d126ff244",
       "version_major": 2,
       "version_minor": 0
      },
      "text/plain": [
       "Creating json from Arrow format:   0%|          | 0/14 [00:00<?, ?ba/s]"
      ]
     },
     "metadata": {},
     "output_type": "display_data"
    },
    {
     "data": {
      "text/plain": [
       "36119070"
      ]
     },
     "execution_count": 817,
     "metadata": {},
     "output_type": "execute_result"
    }
   ],
   "source": [
    "mmlu_val.to_json('../../../data/training_21_8/eval_test/mmlu_zeroshot_val.jsonl', orient='records', lines=True)\n",
    "mmlu_test.to_json('../../../data/training_21_8/eval_test/mmlu_zeroshot_test.jsonl', orient='records', lines=True)"
   ]
  },
  {
   "cell_type": "markdown",
   "metadata": {},
   "source": [
    "### Squad V2 (No answer)"
   ]
  },
  {
   "cell_type": "code",
   "execution_count": 27,
   "metadata": {},
   "outputs": [
    {
     "name": "stdout",
     "output_type": "stream",
     "text": [
      "Downloading and preparing dataset json/default to /Users/phamhoang1408/.cache/huggingface/datasets/json/default-d012ad3e708b755d/0.0.0...\n"
     ]
    },
    {
     "data": {
      "application/vnd.jupyter.widget-view+json": {
       "model_id": "9cb1a9d057cf4e9a823c38fdbee1efb0",
       "version_major": 2,
       "version_minor": 0
      },
      "text/plain": [
       "Downloading data files:   0%|          | 0/1 [00:00<?, ?it/s]"
      ]
     },
     "metadata": {},
     "output_type": "display_data"
    },
    {
     "data": {
      "application/vnd.jupyter.widget-view+json": {
       "model_id": "af0420c9e65648c08e6462f21ede3b8b",
       "version_major": 2,
       "version_minor": 0
      },
      "text/plain": [
       "Extracting data files:   0%|          | 0/1 [00:00<?, ?it/s]"
      ]
     },
     "metadata": {},
     "output_type": "display_data"
    },
    {
     "data": {
      "application/vnd.jupyter.widget-view+json": {
       "model_id": "4c926fb8cc8c4884af4a57b4e9fd3b77",
       "version_major": 2,
       "version_minor": 0
      },
      "text/plain": [
       "Generating train split: 0 examples [00:00, ? examples/s]"
      ]
     },
     "metadata": {},
     "output_type": "display_data"
    },
    {
     "name": "stdout",
     "output_type": "stream",
     "text": [
      "Dataset json downloaded and prepared to /Users/phamhoang1408/.cache/huggingface/datasets/json/default-d012ad3e708b755d/0.0.0. Subsequent calls will reuse this data.\n"
     ]
    }
   ],
   "source": []
  },
  {
   "cell_type": "code",
   "execution_count": 482,
   "metadata": {},
   "outputs": [
    {
     "name": "stderr",
     "output_type": "stream",
     "text": [
      "Found cached dataset json (/Users/phamhoang1408/.cache/huggingface/datasets/json/default-d012ad3e708b755d/0.0.0)\n"
     ]
    },
    {
     "data": {
      "application/vnd.jupyter.widget-view+json": {
       "model_id": "e070a292e8524a14be14dd81ac47f47d",
       "version_major": 2,
       "version_minor": 0
      },
      "text/plain": [
       "Map:   0%|          | 0/750 [00:00<?, ? examples/s]"
      ]
     },
     "metadata": {},
     "output_type": "display_data"
    },
    {
     "data": {
      "application/vnd.jupyter.widget-view+json": {
       "model_id": "c749e3a7653147198d0f1125c959f25c",
       "version_major": 2,
       "version_minor": 0
      },
      "text/plain": [
       "Map:   0%|          | 0/750 [00:00<?, ? examples/s]"
      ]
     },
     "metadata": {},
     "output_type": "display_data"
    },
    {
     "name": "stdout",
     "output_type": "stream",
     "text": [
      "Dataset({\n",
      "    features: ['input', 'output'],\n",
      "    num_rows: 750\n",
      "}) Dataset({\n",
      "    features: ['input', 'output'],\n",
      "    num_rows: 750\n",
      "})\n"
     ]
    }
   ],
   "source": [
    "from random import choice\n",
    "squadv2 = Dataset.from_json('../../../data/translated/squad2_no_ans_translated.jsonl').shuffle().select(range(1500))\n",
    "\n",
    "\n",
    "pre_text = \"Cuộc trò chuyện giữa con người và trợ lý AI.\\n[|Con người|] \"\n",
    "\n",
    "prompts1 = [\n",
    "    'Hãy trả lời câu hỏi sau\\n{question}\\nThông tin:\\n{context}',\n",
    "    'Phản hồi lại câu hỏi sau đây sử dụng thông tin trong đoạn văn bản.\\nVăn bản:\\n{context}\\nCâu hỏi: {question}',\n",
    "    \"{context}\\nCâu hỏi: {question}\",\n",
    "    'Trả lời câu hỏi dựa vào đoạn văn bản sau đây.\\nĐoạn văn bản:\\n{context}\\nCâu hỏi:\\n{question}',\n",
    "    'Trả lời câu hỏi sau đây, chỉ sử dụng thông tin nằm trong đoạn văn bản.\\nĐoạn văn bản:\\n{context}\\n{question}',\n",
    "    'Sử dụng thông tin trong đoạn trích để trả lời câu hỏi sau:\\n{question}\\nĐoạn trích:\\n{context}',\n",
    "]\n",
    "\n",
    "prompts2 = [\n",
    "    [\"Trả lời câu hỏi dựa vào thông tin trong đoạn văn bản sau đây. Nếu không tìm thấy thống tin nằm trong đoạn văn bản thì trả lời: Không có thông tin cho câu hỏi của bạn.\\n{context}\\nCâu hỏi: {question}\\n[|AI|] \", \"Không có thông tin cho câu hỏi của bạn.\\n[|Con người|]\"],\n",
    "    [\"Sử dụng thông tin trong đoạn văn bản sau đây để trả lời câu hỏi. Nếu không tìm thấy thống tin nằm trong đoạn văn bản thì trả lời: Không có thông tin cho câu hỏi của bạn.\\nCâu hỏi: {question}\\nĐoạn văn bản:\\n{context}\\n[|AI|] \", \"Không có thông tin cho câu hỏi của bạn.\\n[|Con người|]\"],\n",
    "    [\"Sử dụng đoạn trích sau đây để trả lời, nếu không có thông tin thì phản hồi không trả lời được.\\n{context}\\nCâu hỏi: {question}\\n[|AI|] \",\"Xin lỗi, tôi không có câu trả lời cho câu hỏi của bạn.\\n[|Con người|]\"],\n",
    "    [\"Hãy trả lời câu hỏi sau đây, nếu không có thông tin thì trả lời không trả lời được.\\nVăn bản:\\n{context}\\n{question}\\n[|AI|] \",\"Xin lỗi, tôi không trả lời được câu hỏi này.\\n[|Con người|]\"],\n",
    "]\n",
    "    \n",
    "no_answers = [\n",
    "    \"Xin lỗi, tôi không có thông tin cho câu hỏi của bạn.\\n[|Con người|]\",\n",
    "    \"Tôi không có câu trả lời cho câu hỏi này.\\n[|Con người|]\",\n",
    "    \"Xin lỗi bạn, tôi không có câu trả lời.\\n[|Con người|]\",\n",
    "    \"Không có câu trả lời cho câu hỏi của bạn.\\n[|Con người|]\",\n",
    "    \"Xin lỗi, tôi không thể trả lời câu hỏi này.\\n[|Con người|]\",\n",
    "]\n",
    "def mapper1(x):\n",
    "    return {\n",
    "        'input': (pre_text + choice(prompts1) + \"\\n[|AI|] \").format(question=x['question_translated'], context=x['context_translated']),\n",
    "        'output': choice(no_answers)\n",
    "    }\n",
    "\n",
    "def mapper2(x):\n",
    "    c = choice(prompts2)\n",
    "    return {\n",
    "        'input': (pre_text + c[0]).format(question=x['question_translated'], context=x['context_translated']),\n",
    "        'output': c[1]\n",
    "    }\n",
    "\n",
    "\n",
    "temp = squadv2.train_test_split(test_size=0.5, seed=42)\n",
    "final_1 = temp['train'].map(mapper1, remove_columns=squadv2.column_names)\n",
    "final_2 = temp['test'].map(mapper2, remove_columns=squadv2.column_names)\n",
    "print(final_1, final_2)"
   ]
  },
  {
   "cell_type": "code",
   "execution_count": 483,
   "metadata": {},
   "outputs": [
    {
     "name": "stdout",
     "output_type": "stream",
     "text": [
      "Cuộc trò chuyện giữa con người và trợ lý AI.\n",
      "[|Con người|] Trả lời câu hỏi sau đây, chỉ sử dụng thông tin nằm trong đoạn văn bản.\n",
      "Đoạn văn bản:\n",
      "Ý nghĩa của chủ nghĩa liên bang, với tư cách là một phong trào chính trị, và những gì tạo nên một 'liên bang', thay đổi tùy theo quốc gia và bối cảnh lịch sử. [cần dẫn nguồn] Các phong trào liên quan đến việc thành lập hoặc phát triển các liên đoàn có thể thể hiện xu hướng tập trung hóa hoặc phi tập trung hóa.[ cần dẫn nguồn] Ví dụ, vào thời điểm các quốc gia đó được thành lập, các phe phái được gọi là \"những người theo chủ nghĩa liên bang\" ở Hoa Kỳ và Úc chủ trương thành lập chính quyền trung ương mạnh mẽ. Tương tự như vậy, trong nền chính trị của Liên minh châu Âu, những người theo chủ nghĩa liên bang chủ yếu tìm kiếm sự hội nhập sâu rộng hơn vào EU. Ngược lại, ở Tây Ban Nha và Đức thời hậu chiến, các phong trào liên bang đã tìm kiếm sự phân cấp: chuyển giao quyền lực từ chính quyền trung ương đến các đơn vị địa phương. Ở Canada, nơi chủ nghĩa ly khai Quebec đã là một lực lượng chính trị trong nhiều thập kỷ, động lực \"liên bang\" nhằm mục đích giữ Quebec ở trong Canada.\n",
      "Ý nghĩa của chủ nghĩa liên bang không phải là gì?\n",
      "[|AI|] Xin lỗi, tôi không thể trả lời câu hỏi này.\n",
      "[|Con người|]\n"
     ]
    }
   ],
   "source": [
    "temp = final_1.shuffle()[0]\n",
    "print(temp['input'] + temp['output'])"
   ]
  },
  {
   "cell_type": "code",
   "execution_count": 484,
   "metadata": {},
   "outputs": [
    {
     "name": "stdout",
     "output_type": "stream",
     "text": [
      "Cuộc trò chuyện giữa con người và trợ lý AI.\n",
      "[|Con người|] Sử dụng thông tin trong đoạn văn bản sau đây để trả lời câu hỏi. Nếu không tìm thấy thống tin nằm trong đoạn văn bản thì trả lời: Không có thông tin cho câu hỏi của bạn.\n",
      "Câu hỏi: Tôn giáo Tin lành nào cởi mở để nói chuyện với người ngoài?\n",
      "Đoạn văn bản:\n",
      "Nhân chứng Giê-hô-va tin rằng Kinh thánh lên án sự pha trộn giữa các tôn giáo, trên cơ sở rằng chỉ có thể có một lẽ thật từ Đức Chúa Trời, và do đó bác bỏ các phong trào liên tôn và đại kết. Họ tin rằng chỉ có tôn giáo của họ đại diện cho Cơ đốc giáo chân chính, còn các tôn giáo khác không đáp ứng được mọi yêu cầu do Đức Chúa Trời đặt ra và sẽ sớm bị tiêu diệt. Nhân Chứng Giê-hô-va được dạy rằng điều quan trọng là phải “tách biệt khỏi thế gian”. Văn học của Nhân Chứng định nghĩa \"thế giới\" là \"khối nhân loại ngoại trừ những tôi tớ được Đức Giê-hô-va chấp thuận\" và dạy rằng thế giới bị Sa-tan làm ô uế và cai trị về mặt đạo đức. Các nhân chứng được dạy rằng việc kết giao với những người \"thế gian\" gây ra \"mối nguy hiểm\" cho đức tin của họ và được hướng dẫn giảm thiểu tiếp xúc xã hội với những người không phải là thành viên để duy trì tốt hơn các tiêu chuẩn đạo đức của riêng họ.\n",
      "[|AI|] Không có thông tin cho câu hỏi của bạn.\n",
      "[|Con người|]\n"
     ]
    }
   ],
   "source": [
    "temp = final_2.shuffle()[0]\n",
    "print(temp['input'] + temp['output'])"
   ]
  },
  {
   "cell_type": "code",
   "execution_count": 485,
   "metadata": {},
   "outputs": [
    {
     "data": {
      "application/vnd.jupyter.widget-view+json": {
       "model_id": "446f286587ea4fa6a8e93e763dfdae48",
       "version_major": 2,
       "version_minor": 0
      },
      "text/plain": [
       "Creating json from Arrow format:   0%|          | 0/2 [00:00<?, ?ba/s]"
      ]
     },
     "metadata": {},
     "output_type": "display_data"
    },
    {
     "data": {
      "text/plain": [
       "4054534"
      ]
     },
     "execution_count": 485,
     "metadata": {},
     "output_type": "execute_result"
    }
   ],
   "source": [
    "final = concatenate_datasets([final_1, final_2])\n",
    "final.to_json('../../../data/training_21_8/squadv2_no_ans_2000_samples.jsonl', orient='records', lines=True)"
   ]
  },
  {
   "cell_type": "code",
   "execution_count": 216,
   "metadata": {},
   "outputs": [
    {
     "name": "stdout",
     "output_type": "stream",
     "text": [
      "Cuộc trò chuyện giữa con người và trợ lý AI.\n",
      "[|Con người|] Trả lời câu hỏi dựa vào thông tin trong đoạn văn bản sau đây. Nếu không tìm thấy thống tin nằm trong đoạn văn bản thì trả lời: Không có thông tin cho câu hỏi của bạn.\n",
      "Trong số những đóng góp của ông cho triết học là tuyên bố của ông đã giải quyết được vấn đề triết học về quy nạp. Ông nói rằng mặc dù không có cách nào để chứng minh rằng mặt trời sẽ mọc, nhưng có thể xây dựng lý thuyết rằng mặt trời sẽ mọc mỗi ngày; nếu nó không tăng vào một ngày cụ thể nào đó, lý thuyết này sẽ bị sai lệch và sẽ phải được thay thế bằng một lý thuyết khác. Cho đến ngày đó, không cần phải bác bỏ giả định rằng lý thuyết này là đúng. Theo Popper, cũng không hợp lý khi đưa ra giả định phức tạp hơn rằng mặt trời sẽ mọc cho đến một ngày nhất định, nhưng sẽ ngừng làm như vậy vào ngày hôm sau, hoặc những tuyên bố tương tự với các điều kiện bổ sung.\n",
      "Câu hỏi: Ai chưa từng tuyên bố đã giải được bài toán triết học về quy nạp?\n",
      "[|AI|] Không có thông tin cho câu hỏi của bạn.\n",
      "[|Con người|]\n"
     ]
    }
   ],
   "source": [
    "temp = final.shuffle()[0]\n",
    "print(temp['input'] + temp['output'])"
   ]
  },
  {
   "cell_type": "markdown",
   "metadata": {},
   "source": [
    "### Query topic"
   ]
  },
  {
   "cell_type": "code",
   "execution_count": 241,
   "metadata": {},
   "outputs": [
    {
     "name": "stderr",
     "output_type": "stream",
     "text": [
      "Found cached dataset json (/Users/phamhoang1408/.cache/huggingface/datasets/json/default-97c72fccf46cefdf/0.0.0)\n",
      "Found cached dataset json (/Users/phamhoang1408/.cache/huggingface/datasets/json/default-c757bbc3477ebaf6/0.0.0)\n",
      "Loading cached processed dataset at /Users/phamhoang1408/.cache/huggingface/datasets/json/default-c757bbc3477ebaf6/0.0.0/cache-f2c664b3fd7b848b.arrow\n"
     ]
    }
   ],
   "source": [
    "topic_names = [\"văn hoá xã hội\", \"toán và khoa học\", \"sức khoẻ\", \"tư vấn và giáo dục\", \"máy tính và internet\", \"thể thao\", \"kinh doanh và kinh tế\", \"âm nhạc và giải trí\", \"gia đình và các mối quan hệ\", \"pháp luật\"]\n",
    "\n",
    "topic_map = {\n",
    "    str(k): v for k, v in zip(range(len(topic_names)), topic_names)\n",
    "}\n",
    "topic = Dataset.from_json('../../../data/translated/query_topic_translated.jsonl')\n",
    "topic_df = topic.to_pandas()\n",
    "topic_df = topic_df[topic_df['topic'].apply(lambda x: x != '9')]\n",
    "topic_df['topic_name'] = topic_df['topic'].apply(lambda x: topic_map[x])\n",
    "topic = Dataset.from_pandas(topic_df).select_columns(['topic_name', 'question_translated']).rename_column('question_translated', 'question').shuffle().select(range(3250))\n",
    "\n",
    "faqs = Dataset.from_json('../../../data/translated/all_faqs.json')\n",
    "def mapper(x):\n",
    "    i = x['input'].find('\\nĐiều luật liên quan: ')\n",
    "    return {\n",
    "        'question': x['input'][:i].removeprefix('Câu hỏi: '),\n",
    "        'topic_name': 'pháp luật'\n",
    "    }\n",
    "faqs = faqs.map(mapper, remove_columns=faqs.column_names)\n",
    "faqs = faqs.shuffle().select(range(750))\n",
    "\n",
    "topic = concatenate_datasets([topic, faqs]).shuffle()"
   ]
  },
  {
   "cell_type": "code",
   "execution_count": 242,
   "metadata": {},
   "outputs": [
    {
     "data": {
      "text/plain": [
       "<AxesSubplot:>"
      ]
     },
     "execution_count": 242,
     "metadata": {},
     "output_type": "execute_result"
    },
    {
     "data": {
      "image/png": "[encoded data removed]",
      "text/plain": [
       "<Figure size 432x288 with 1 Axes>"
      ]
     },
     "metadata": {
      "needs_background": "light"
     },
     "output_type": "display_data"
    }
   ],
   "source": [
    "topic.to_pandas()['topic_name'].value_counts().plot(kind='bar')"
   ]
  },
  {
   "cell_type": "code",
   "execution_count": 243,
   "metadata": {},
   "outputs": [
    {
     "data": {
      "text/plain": [
       "Dataset({\n",
       "    features: ['topic_name', 'question'],\n",
       "    num_rows: 4000\n",
       "})"
      ]
     },
     "execution_count": 243,
     "metadata": {},
     "output_type": "execute_result"
    }
   ],
   "source": [
    "topic"
   ]
  },
  {
   "cell_type": "code",
   "execution_count": 252,
   "metadata": {},
   "outputs": [
    {
     "name": "stderr",
     "output_type": "stream",
     "text": [
      "Loading cached split indices for dataset at /Users/phamhoang1408/.cache/huggingface/datasets/json/default-c757bbc3477ebaf6/0.0.0/cache-f4f287f3cd6ca3a7.arrow and /Users/phamhoang1408/.cache/huggingface/datasets/json/default-c757bbc3477ebaf6/0.0.0/cache-5b41962eca1fb5af.arrow\n",
      "Loading cached split indices for dataset at /Users/phamhoang1408/.cache/huggingface/datasets/json/default-c757bbc3477ebaf6/0.0.0/cache-1060f1e3e8e867a4.arrow and /Users/phamhoang1408/.cache/huggingface/datasets/json/default-c757bbc3477ebaf6/0.0.0/cache-7ab3a8aad42fcb35.arrow\n"
     ]
    },
    {
     "name": "stdout",
     "output_type": "stream",
     "text": [
      "1200 1200 1600\n"
     ]
    },
    {
     "data": {
      "application/vnd.jupyter.widget-view+json": {
       "model_id": "59ee723975f842c78ca06f220941dfff",
       "version_major": 2,
       "version_minor": 0
      },
      "text/plain": [
       "Map:   0%|          | 0/1200 [00:00<?, ? examples/s]"
      ]
     },
     "metadata": {},
     "output_type": "display_data"
    },
    {
     "data": {
      "application/vnd.jupyter.widget-view+json": {
       "model_id": "04ca83cf1fbd484782a5085f4a3461e0",
       "version_major": 2,
       "version_minor": 0
      },
      "text/plain": [
       "Map:   0%|          | 0/1200 [00:00<?, ? examples/s]"
      ]
     },
     "metadata": {},
     "output_type": "display_data"
    },
    {
     "data": {
      "application/vnd.jupyter.widget-view+json": {
       "model_id": "d2c2e3101d4c45419a80413e40ed2873",
       "version_major": 2,
       "version_minor": 0
      },
      "text/plain": [
       "Map:   0%|          | 0/1600 [00:00<?, ? examples/s]"
      ]
     },
     "metadata": {},
     "output_type": "display_data"
    }
   ],
   "source": [
    "from random import choice\n",
    "pretext = \"Cuộc trò chuyện giữa con người và trợ lý AI.\\n[|Con người|] \"\n",
    "type1_input_prompts = [\n",
    "    \"Cho biết câu hỏi sau thuộc chủ đề nào?\\n{question}\\n[|AI|] \",\n",
    "    \"Câu hỏi sau đây thuộc chủ đề nào?\\n{question}\\n[|AI|] \",\n",
    "    \"Sau đây là một câu hỏi, hãy cho biết nó thuộc chủ đề nào?\\nCâu hỏi: {question}\\n[|AI|] \",\n",
    "    \"\\nHỏi: {question}\\nCâu hỏi trên thuộc chủ đề nào?\\n[|AI|] \",\n",
    "    \"\\n{question}\\nChủ đề của câu hỏi trên là gì?\\n[|AI|] \",\n",
    "    \"Giúp tôi xác định chủ đề của câu hỏi sau:\\n{question}\\n[|AI|] \",\n",
    "]\n",
    "type1_output_prompts = [\n",
    "    \"Câu hỏi này thuộc chủ đề {topic_name}.\\n[|Con người|]\",\n",
    "    \"{topic_name}.\\n[|Con người|]\",\n",
    "    \"Chủ đề của câu hỏi này là {topic_name}.\\n[|Con người|]\",\n",
    "]    \n",
    "\n",
    "def type1_prompt(x):\n",
    "    return {\n",
    "        'input': (pretext + choice(type1_input_prompts)).format(question=x['question']),\n",
    "        'output': choice(type1_output_prompts).format(topic_name=x['topic_name'])\n",
    "    }\n",
    "\n",
    "type2_input_prompts = [\n",
    "    \"Câu hỏi sau đây có thuộc chủ đề {topic_name} không?\\nCâu hỏi: {question}\\n[|AI|] \",\n",
    "    \"Đây có phải là câu hỏi thuộc chủ đề {topic_name} không?\\n{question}\\n[|AI|] \",\n",
    "    \"Cho biết nếu câu hỏi sau đây thuộc chủ đề {topic_name}?\\n{question}\\n[|AI|] \",\n",
    "]\n",
    "type2_output_prompts = [\n",
    "    \"Đúng vậy, câu hỏi này thuộc chủ đề {topic_name}.\\n[|Con người|]\",\n",
    "    \"Chính xác.\\n[|Con người|]\",\n",
    "    \"Đúng vậy.\\n[|Con người|]\",\n",
    "]\n",
    "\n",
    "def type2_prompt(x):\n",
    "    return {\n",
    "        'input': (pretext + choice(type2_input_prompts)).format(question=x['question'], topic_name=x['topic_name']),\n",
    "        'output': choice(type2_output_prompts).format(topic_name=x['topic_name'])\n",
    "    }\n",
    "\n",
    "type3_input_prompts = [\n",
    "    \"Câu hỏi sau đây có thuộc chủ đề {other_topic_name} không?\\nHỏi: {question}\\n[|AI|] \",\n",
    "    \"Đây có phải là câu hỏi thuộc chủ đề {other_topic_name} không?\\n{question}\\n[|AI|] \",\n",
    "    \"Câu hỏi này có liên quan đến chủ đề {other_topic_name} không?\\nCâu hỏi: {question}\\n[|AI|] \",\n",
    "    \"Cho biết nếu câu hỏi sau đây thuộc chủ đề {other_topic_name}?\\n{question}\\n[|AI|] \",\n",
    "    \"{question}\\nCâu hỏi trên có liên quan đến chủ đề {other_topic_name} không?\\n[|AI|] \",\n",
    "]\n",
    "type3_output_prompts = [\n",
    "    \"Không, câu hỏi này không thuộc chủ đề {other_topic_name}.\\n[|Con người|]\",\n",
    "    \"Không đúng.\\n[|Con người|]\",\n",
    "    \"Không đúng, câu hỏi này thuộc chủ đề {topic_name}.\\n[|Con người|]\",\n",
    "    \"Chủ đề của câu hỏi này là {topic_name} chứ không phải {other_topic_name}.\\n[|Con người|]\",\n",
    "]\n",
    "\n",
    "def type3_prompt(x):\n",
    "    other = choice([topic for topic in topic_names if topic != x['topic_name']])\n",
    "    return {\n",
    "        'input': (pretext + choice(type3_input_prompts)).format(question=x['question'], other_topic_name=other),\n",
    "        'output': choice(type3_output_prompts).format(topic_name=x['topic_name'], other_topic_name=other)        \n",
    "    }\n",
    "\n",
    "temp = topic.train_test_split(test_size=2400, seed=42)\n",
    "type3_data = temp['train']\n",
    "temp = temp['test'].train_test_split(test_size=1200, seed=42)\n",
    "type1_data = temp['train']\n",
    "type2_data = temp['test']\n",
    "print(len(type1_data), len(type2_data), len(type3_data))\n",
    "\n",
    "final_type1 = type1_data.map(type1_prompt, remove_columns=topic.column_names)\n",
    "final_type2 = type2_data.map(type2_prompt, remove_columns=topic.column_names)\n",
    "final_type3 = type3_data.map(type3_prompt, remove_columns=topic.column_names)\n",
    "\n",
    "topic_classification = concatenate_datasets([final_type1, final_type2, final_type3]).shuffle()"
   ]
  },
  {
   "cell_type": "code",
   "execution_count": 267,
   "metadata": {},
   "outputs": [
    {
     "name": "stdout",
     "output_type": "stream",
     "text": [
      "Cuộc trò chuyện giữa con người và trợ lý AI.\n",
      "[|Con người|] Đây có phải là câu hỏi thuộc chủ đề toán và khoa học không?\n",
      "Tôi có con với một người nhưng chưa đăng ký kết hôn. Xin hỏi, cha của đứa bé muốn tặng nhà, đất cho tôi thì phải làm những thủ tục gì?\n",
      "[|AI|] Không, câu hỏi này không thuộc chủ đề toán và khoa học.\n",
      "[|Con người|]\n"
     ]
    }
   ],
   "source": [
    "a = topic_classification.shuffle()[0]\n",
    "print(a['input'] + a['output'])"
   ]
  },
  {
   "cell_type": "code",
   "execution_count": 268,
   "metadata": {},
   "outputs": [
    {
     "data": {
      "application/vnd.jupyter.widget-view+json": {
       "model_id": "928cfff581cf4651b2ae02cfe96f0e9e",
       "version_major": 2,
       "version_minor": 0
      },
      "text/plain": [
       "Creating json from Arrow format:   0%|          | 0/4 [00:00<?, ?ba/s]"
      ]
     },
     "metadata": {},
     "output_type": "display_data"
    },
    {
     "data": {
      "text/plain": [
       "2902959"
      ]
     },
     "execution_count": 268,
     "metadata": {},
     "output_type": "execute_result"
    }
   ],
   "source": [
    "topic_classification.to_json('../../../data/training_21_8/topic_classification_4000_samples.jsonl', orient='records', lines=True)"
   ]
  },
  {
   "cell_type": "markdown",
   "metadata": {},
   "source": [
    "### Load all"
   ]
  },
  {
   "cell_type": "code",
   "execution_count": 53,
   "metadata": {},
   "outputs": [],
   "source": [
    "root_path = '/Users/phamhoang1408/Desktop/Phase 2 Viettel/main_repo/data/training_21_8/'\n",
    "datasets = [\n",
    "    ['dolly_5k_samples.jsonl', 4000], # 5000\n",
    "    ['faqs_400_samples.jsonl', None], # 400\n",
    "    ['squadv2_no_ans_1500_samples.jsonl', 600], # 500\n",
    "    ['topic_classification_4000_samples.jsonl', 500], # 3000\n",
    "    ['query_gen_500_up_samples.jsonl', None], # 500\n",
    "    # ['code_related_ocapi_6k_samples.jsonl', None],\n",
    "    # ['gpt4_instruct_10k.jsonl', None],\n",
    "    # ['no_code_ocapi_30k_samples.jsonl', None],\n",
    "    # ['oasst_5k_samples.jsonl', None],\n",
    "    # ['orca_25k_samples.jsonl', None],\n",
    "    # ['quora_5k_samples.jsonl', None],\n",
    "    # ['wivi_30k_samples.jsonl', None],\n",
    "    # ['wizard_40k_samples.jsonl', None],\n",
    "]\n",
    "def clean(ds, max_tokens=2048):\n",
    "    def mapper(x):\n",
    "        for column in ds.column_names:\n",
    "            x[column] = x[column].replace('[|Human|]','[|Con người|]').replace('\\n[|Con người|]\\n[|Con người|]', '\\n[|Con người|]').replace('\\r\\n', '\\n')\n",
    "        return x\n",
    "    \n",
    "    def len_mapper(x):\n",
    "        input_len = len(tokenizer.tokenize(x['input']))\n",
    "        output_len = len(tokenizer.tokenize(x['output']))\n",
    "        return {\n",
    "            'input_len': input_len,\n",
    "            'output_len': output_len,\n",
    "            'len': input_len + output_len\n",
    "        }\n",
    "    def filter(x):\n",
    "        for column in ds.column_names:\n",
    "            if x[column] == '' or x[column] is None:\n",
    "                return False\n",
    "        if x['len'] > max_tokens:\n",
    "            return False\n",
    "        return True\n",
    "\n",
    "    return ds.map(mapper,batched=False).map(len_mapper, batched=False).filter(filter)\n",
    "\n",
    "def load_datasets(dataset_size=None, max_tokens=2048):\n",
    "    data = []\n",
    "    for ds_config in datasets:\n",
    "        ds = Dataset.from_json(root_path + ds_config[0])\n",
    "        df = ds.to_pandas()\n",
    "        df['source'] = ds_config[0].split('.')[0].split('_')[0]\n",
    "        ds = Dataset.from_pandas(df)\n",
    "        if ds_config[1] is not None:\n",
    "            ds = ds.shuffle(seed=42).select(range(min(ds_config[1], len(ds))))\n",
    "        for check in ['input', 'output']:\n",
    "            if check not in ds.column_names:\n",
    "                raise ValueError(\"Dataset must have input, output columns\")\n",
    "        # take only the input and output columns\n",
    "        ds = ds.select_columns(['input', 'output'])\n",
    "        print(ds_config[0], ds)\n",
    "        data.append(ds)\n",
    "    ds = concatenate_datasets(data, axis=0)\n",
    "    if dataset_size is None: dataset_size = len(ds)\n",
    "    ds = ds.shuffle(seed=42).select(range(dataset_size))\n",
    "    return clean(ds, max_tokens=max_tokens)"
   ]
  },
  {
   "cell_type": "code",
   "execution_count": 54,
   "metadata": {},
   "outputs": [
    {
     "name": "stderr",
     "output_type": "stream",
     "text": [
      "Found cached dataset json (/Users/phamhoang1408/.cache/huggingface/datasets/json/default-093c0dcfb5399bef/0.0.0)\n",
      "Found cached dataset json (/Users/phamhoang1408/.cache/huggingface/datasets/json/default-1734e637d9ab56af/0.0.0)\n",
      "Found cached dataset json (/Users/phamhoang1408/.cache/huggingface/datasets/json/default-9b4fabca4868a859/0.0.0)\n",
      "Found cached dataset json (/Users/phamhoang1408/.cache/huggingface/datasets/json/default-6371ebbcb672fa2f/0.0.0)\n",
      "Found cached dataset json (/Users/phamhoang1408/.cache/huggingface/datasets/json/default-81112a902fe4e812/0.0.0)\n"
     ]
    },
    {
     "name": "stdout",
     "output_type": "stream",
     "text": [
      "dolly_5k_samples.jsonl Dataset({\n",
      "    features: ['input', 'output'],\n",
      "    num_rows: 4000\n",
      "})\n",
      "faqs_400_samples.jsonl Dataset({\n",
      "    features: ['input', 'output'],\n",
      "    num_rows: 416\n",
      "})\n",
      "squadv2_no_ans_1500_samples.jsonl Dataset({\n",
      "    features: ['input', 'output'],\n",
      "    num_rows: 600\n",
      "})\n",
      "topic_classification_4000_samples.jsonl Dataset({\n",
      "    features: ['input', 'output'],\n",
      "    num_rows: 500\n",
      "})\n",
      "query_gen_500_up_samples.jsonl Dataset({\n",
      "    features: ['input', 'output'],\n",
      "    num_rows: 500\n",
      "})\n"
     ]
    },
    {
     "data": {
      "application/vnd.jupyter.widget-view+json": {
       "model_id": "6487a831d32f4c14a2df631ee1251159",
       "version_major": 2,
       "version_minor": 0
      },
      "text/plain": [
       "Map:   0%|          | 0/6016 [00:00<?, ? examples/s]"
      ]
     },
     "metadata": {},
     "output_type": "display_data"
    },
    {
     "data": {
      "application/vnd.jupyter.widget-view+json": {
       "model_id": "14712ee626e7499da50eababf1afd7e1",
       "version_major": 2,
       "version_minor": 0
      },
      "text/plain": [
       "Map:   0%|          | 0/6016 [00:00<?, ? examples/s]"
      ]
     },
     "metadata": {},
     "output_type": "display_data"
    },
    {
     "data": {
      "application/vnd.jupyter.widget-view+json": {
       "model_id": "dd57dc4c69e54bdc8b0303f404d05745",
       "version_major": 2,
       "version_minor": 0
      },
      "text/plain": [
       "Filter:   0%|          | 0/6016 [00:00<?, ? examples/s]"
      ]
     },
     "metadata": {},
     "output_type": "display_data"
    }
   ],
   "source": [
    "ds = load_datasets(max_tokens=1000)"
   ]
  },
  {
   "cell_type": "code",
   "execution_count": 51,
   "metadata": {},
   "outputs": [
    {
     "data": {
      "text/plain": [
       "41.0"
      ]
     },
     "execution_count": 51,
     "metadata": {},
     "output_type": "execute_result"
    }
   ],
   "source": [
    "ds.to_pandas()['output_len'].quantile(0.2)"
   ]
  },
  {
   "cell_type": "code",
   "execution_count": 52,
   "metadata": {},
   "outputs": [],
   "source": [
    "other = ds.shuffle().select(range(54000))"
   ]
  },
  {
   "cell_type": "code",
   "execution_count": 67,
   "metadata": {},
   "outputs": [
    {
     "data": {
      "text/plain": [
       "'Họ của người có tài khoản được xuất bản sau khi di cảo cho thấy anh ta là cộng tác viên đầy đủ với Liszt là Raff.\\n[|Con người|]'"
      ]
     },
     "execution_count": 67,
     "metadata": {},
     "output_type": "execute_result"
    }
   ],
   "source": [
    "other_df = other.to_pandas()\n",
    "other_df[other_df['output_len'] <= 50].sample(1)['output'].values[0]"
   ]
  },
  {
   "cell_type": "code",
   "execution_count": 68,
   "metadata": {},
   "outputs": [],
   "source": [
    "important = ds"
   ]
  },
  {
   "cell_type": "code",
   "execution_count": 69,
   "metadata": {},
   "outputs": [
    {
     "data": {
      "text/plain": [
       "Dataset({\n",
       "    features: ['input', 'output', 'input_len', 'output_len', 'len'],\n",
       "    num_rows: 5655\n",
       "})"
      ]
     },
     "execution_count": 69,
     "metadata": {},
     "output_type": "execute_result"
    }
   ],
   "source": [
    "important"
   ]
  },
  {
   "cell_type": "code",
   "execution_count": 72,
   "metadata": {},
   "outputs": [],
   "source": [
    "final = concatenate_datasets([important, other]).shuffle()"
   ]
  },
  {
   "cell_type": "code",
   "execution_count": 77,
   "metadata": {},
   "outputs": [
    {
     "data": {
      "text/plain": [
       "382.0"
      ]
     },
     "execution_count": 77,
     "metadata": {},
     "output_type": "execute_result"
    }
   ],
   "source": [
    "final.to_pandas()['output_len'].quantile(0.75)"
   ]
  },
  {
   "cell_type": "code",
   "execution_count": 78,
   "metadata": {},
   "outputs": [
    {
     "data": {
      "application/vnd.jupyter.widget-view+json": {
       "model_id": "e1eb7c67385341b6ba903ae06d128b5b",
       "version_major": 2,
       "version_minor": 0
      },
      "text/plain": [
       "Creating json from Arrow format:   0%|          | 0/60 [00:00<?, ?ba/s]"
      ]
     },
     "metadata": {},
     "output_type": "display_data"
    },
    {
     "data": {
      "text/plain": [
       "178481626"
      ]
     },
     "execution_count": 78,
     "metadata": {},
     "output_type": "execute_result"
    }
   ],
   "source": [
    "final.to_json('../../../data/training_21_8/60k_mixed_2.jsonl', orient='records', lines=True)"
   ]
  },
  {
   "cell_type": "code",
   "execution_count": 41,
   "metadata": {},
   "outputs": [
    {
     "data": {
      "text/plain": [
       "<AxesSubplot:>"
      ]
     },
     "execution_count": 41,
     "metadata": {},
     "output_type": "execute_result"
    },
    {
     "data": {
      "image/png": "[encoded data removed]",
      "text/plain": [
       "<Figure size 432x288 with 1 Axes>"
      ]
     },
     "metadata": {
      "needs_background": "light"
     },
     "output_type": "display_data"
    }
   ],
   "source": [
    "final.to_pandas()['len'].hist(bins=100)"
   ]
  },
  {
   "cell_type": "code",
   "execution_count": 3,
   "metadata": {},
   "outputs": [
    {
     "ename": "NameError",
     "evalue": "name 'ds' is not defined",
     "output_type": "error",
     "traceback": [
      "\u001b[0;31m---------------------------------------------------------------------------\u001b[0m",
      "\u001b[0;31mNameError\u001b[0m                                 Traceback (most recent call last)",
      "\u001b[1;32m/Users/phamhoang1408/Desktop/Phase 2 Viettel/main_repo/code/ipynb_files/check_data/checkdata2.ipynb Cell 135\u001b[0m in \u001b[0;36m<cell line: 1>\u001b[0;34m()\u001b[0m\n\u001b[0;32m----> <a href='vscode-notebook-cell:/Users/phamhoang1408/Desktop/Phase%202%20Viettel/main_repo/code/ipynb_files/check_data/checkdata2.ipynb#Y251sZmlsZQ%3D%3D?line=0'>1</a>\u001b[0m temp \u001b[39m=\u001b[39m ds\u001b[39m.\u001b[39mfilter(\u001b[39mlambda\u001b[39;00m x: x[\u001b[39m'\u001b[39m\u001b[39mlen\u001b[39m\u001b[39m'\u001b[39m] \u001b[39m<\u001b[39m\u001b[39m=\u001b[39m \u001b[39m1000\u001b[39m)\n\u001b[1;32m      <a href='vscode-notebook-cell:/Users/phamhoang1408/Desktop/Phase%202%20Viettel/main_repo/code/ipynb_files/check_data/checkdata2.ipynb#Y251sZmlsZQ%3D%3D?line=1'>2</a>\u001b[0m t \u001b[39m=\u001b[39m temp\u001b[39m.\u001b[39mshuffle()[\u001b[39m0\u001b[39m]\n\u001b[1;32m      <a href='vscode-notebook-cell:/Users/phamhoang1408/Desktop/Phase%202%20Viettel/main_repo/code/ipynb_files/check_data/checkdata2.ipynb#Y251sZmlsZQ%3D%3D?line=2'>3</a>\u001b[0m \u001b[39mprint\u001b[39m(t[\u001b[39m'\u001b[39m\u001b[39minput\u001b[39m\u001b[39m'\u001b[39m] \u001b[39m+\u001b[39m t[\u001b[39m'\u001b[39m\u001b[39moutput\u001b[39m\u001b[39m'\u001b[39m])\n",
      "\u001b[0;31mNameError\u001b[0m: name 'ds' is not defined"
     ]
    }
   ],
   "source": [
    "temp = ds.filter(lambda x: x['len'] <= 1000)\n",
    "t = temp.shuffle()[0]\n",
    "print(t['input'] + t['output'])"
   ]
  },
  {
   "cell_type": "code",
   "execution_count": 155,
   "metadata": {},
   "outputs": [
    {
     "data": {
      "text/plain": [
       "array([[<AxesSubplot:title={'center':'len'}>]], dtype=object)"
      ]
     },
     "execution_count": 155,
     "metadata": {},
     "output_type": "execute_result"
    },
    {
     "data": {
      "image/png": "[encoded data removed]",
      "text/plain": [
       "<Figure size 432x288 with 1 Axes>"
      ]
     },
     "metadata": {
      "needs_background": "light"
     },
     "output_type": "display_data"
    }
   ],
   "source": [
    "temp.to_pandas().hist(column='len', bins=100)"
   ]
  },
  {
   "cell_type": "code",
   "execution_count": 154,
   "metadata": {},
   "outputs": [
    {
     "data": {
      "application/vnd.jupyter.widget-view+json": {
       "model_id": "525b12ecb16a443b8a7af22fddadca31",
       "version_major": 2,
       "version_minor": 0
      },
      "text/plain": [
       "Creating json from Arrow format:   0%|          | 0/60 [00:00<?, ?ba/s]"
      ]
     },
     "metadata": {},
     "output_type": "display_data"
    },
    {
     "data": {
      "text/plain": [
       "175117071"
      ]
     },
     "execution_count": 154,
     "metadata": {},
     "output_type": "execute_result"
    }
   ],
   "source": [
    "temp.shuffle().select(range(60000)).to_json('../../../data/training_21_8/mix_60k.jsonl', orient='records', lines=True)"
   ]
  },
  {
   "cell_type": "code",
   "execution_count": 136,
   "metadata": {},
   "outputs": [
    {
     "name": "stdout",
     "output_type": "stream",
     "text": [
      "Cuộc trò chuyện giữa con người và trợ lý AI.\n",
      "[|Con người|] Dựa trên các định luật cơ bản của cơ học cổ điển, hành vi của một quả bóng được ném lên bầu khí quyển có thể được mô tả bằng toán học theo quỹ đạo mà nó đi theo? Để trả lời câu hỏi này, người ta phải xem xét các yếu tố khác nhau có thể ảnh hưởng đến chuyển động của quả bóng, chẳng hạn như lực cản không khí, lực hấp dẫn và vận tốc ban đầu, sau đó sử dụng các nguyên tắc khoa học để phân tích và dự đoán quỹ đạo của nó. Bạn có thể đưa ra lời giải thích chi tiết về các hiện tượng vật lý phức tạp chi phối chuyển động của một vật thể trong không khí không?\n",
      "[|AI|] Chắc chắn rồi! Khi một quả bóng được ném lên bầu khí quyển, nó sẽ chịu một số lực chi phối chuyển động của nó. Lực chính tác dụng lên quả bóng là lực hấp dẫn, lực này kéo quả bóng xuống Trái đất. Ngoài ra, quả bóng chịu sức cản của không khí, là lực chống lại chuyển động của quả bóng khi nó di chuyển trong không khí.\n",
      "Quỹ đạo mà quả bóng bay theo được xác định bởi vận tốc ban đầu mà nó được ném, góc mà nó được ném và các lực tác dụng lên nó. Hình dạng của quỹ đạo có thể được mô tả bằng một đường cong parabol, là kết quả của sự tương tác giữa lực hấp dẫn và lực cản không khí.\n",
      "Khi quả bóng di chuyển lên trên, lực hấp dẫn sẽ làm nó chậm lại cho đến khi nó đạt đến điểm cao nhất, được gọi là đỉnh. Tại thời điểm này, vận tốc của quả bóng bằng không và nó bắt đầu rơi trở lại Trái đất. Khi nó rơi xuống, lực hấp dẫn làm tăng tốc quả bóng, tăng vận tốc của nó cho đến khi nó chạm đất.\n",
      "Hình dạng của quỹ đạo có thể bị ảnh hưởng bởi một số yếu tố. Ví dụ, nếu quả bóng được ném theo một góc, quỹ đạo của nó sẽ bị cong. Ngoài ra, lượng lực cản không khí mà quả bóng gặp phải sẽ ảnh hưởng đến quỹ đạo của nó, vì lực cản không khí nhiều hơn sẽ khiến quả bóng rơi nhanh hơn và đi theo quỹ đạo dốc hơn.\n",
      "Tóm lại, chuyển động của một quả bóng ném lên bầu khí quyển bị chi phối bởi lực hấp dẫn và sức cản của không khí. Hình dạng của quỹ đạo được xác định bởi vận tốc ban đầu, góc ném và lực cản không khí mà quả bóng gặp phải. Quỹ đạo có thể được mô tả bằng một đường cong parabol, và quả bóng cuối cùng sẽ quay trở lại mặt đất.\n",
      "[|Con người|]\n"
     ]
    }
   ],
   "source": [
    "temp = ds.shuffle()[0]\n",
    "print(temp['input'] + temp['output'])"
   ]
  },
  {
   "cell_type": "code",
   "execution_count": 74,
   "metadata": {},
   "outputs": [
    {
     "data": {
      "text/plain": [
       "<AxesSubplot:>"
      ]
     },
     "execution_count": 74,
     "metadata": {},
     "output_type": "execute_result"
    },
    {
     "data": {
      "image/png": "[encoded data removed]",
      "text/plain": [
       "<Figure size 432x288 with 1 Axes>"
      ]
     },
     "metadata": {
      "needs_background": "light"
     },
     "output_type": "display_data"
    }
   ],
   "source": [
    "df = ds.to_pandas()\n",
    "df['len'].hist(bins=100)"
   ]
  },
  {
   "cell_type": "code",
   "execution_count": 75,
   "metadata": {},
   "outputs": [
    {
     "data": {
      "text/html": [
       "<div>\n",
       "<style scoped>\n",
       "    .dataframe tbody tr th:only-of-type {\n",
       "        vertical-align: middle;\n",
       "    }\n",
       "\n",
       "    .dataframe tbody tr th {\n",
       "        vertical-align: top;\n",
       "    }\n",
       "\n",
       "    .dataframe thead th {\n",
       "        text-align: right;\n",
       "    }\n",
       "</style>\n",
       "<table border=\"1\" class=\"dataframe\">\n",
       "  <thead>\n",
       "    <tr style=\"text-align: right;\">\n",
       "      <th></th>\n",
       "      <th>input</th>\n",
       "      <th>output</th>\n",
       "      <th>input_len</th>\n",
       "      <th>output_len</th>\n",
       "      <th>len</th>\n",
       "    </tr>\n",
       "  </thead>\n",
       "  <tbody>\n",
       "    <tr>\n",
       "      <th>4</th>\n",
       "      <td>Cuộc trò chuyện giữa con người và trợ lý AI.\\n...</td>\n",
       "      <td>Chủ đề của câu hỏi này là máy tính và internet...</td>\n",
       "      <td>75</td>\n",
       "      <td>18</td>\n",
       "      <td>93</td>\n",
       "    </tr>\n",
       "    <tr>\n",
       "      <th>19</th>\n",
       "      <td>Cuộc trò chuyện giữa con người và trợ lý AI.\\n...</td>\n",
       "      <td>Từ gốc cho từ \"careful\" là \"care\".\\n[|Con người|]</td>\n",
       "      <td>35</td>\n",
       "      <td>19</td>\n",
       "      <td>54</td>\n",
       "    </tr>\n",
       "    <tr>\n",
       "      <th>21</th>\n",
       "      <td>Cuộc trò chuyện giữa con người và trợ lý AI.\\n...</td>\n",
       "      <td>Anh ấy đã đọc nhiều sách và tạp chí trong suốt...</td>\n",
       "      <td>46</td>\n",
       "      <td>22</td>\n",
       "      <td>68</td>\n",
       "    </tr>\n",
       "    <tr>\n",
       "      <th>22</th>\n",
       "      <td>Bạn là một trợ lý AI. Cung cấp câu trả lời chi...</td>\n",
       "      <td>D) trong các nhà máy, cửa hàng và nhà hàng ở H...</td>\n",
       "      <td>393</td>\n",
       "      <td>22</td>\n",
       "      <td>415</td>\n",
       "    </tr>\n",
       "    <tr>\n",
       "      <th>23</th>\n",
       "      <td>Cuộc trò chuyện giữa con người và trợ lý AI.\\n...</td>\n",
       "      <td>Vì cuộc họp bắt đầu lúc 3 giờ chiều, xin vui l...</td>\n",
       "      <td>61</td>\n",
       "      <td>23</td>\n",
       "      <td>84</td>\n",
       "    </tr>\n",
       "    <tr>\n",
       "      <th>...</th>\n",
       "      <td>...</td>\n",
       "      <td>...</td>\n",
       "      <td>...</td>\n",
       "      <td>...</td>\n",
       "      <td>...</td>\n",
       "    </tr>\n",
       "    <tr>\n",
       "      <th>167896</th>\n",
       "      <td>Cuộc trò chuyện giữa con người và trợ lý AI.\\n...</td>\n",
       "      <td>Cô ấy mở cửa nhanh chóng.\\n[|Con người|]</td>\n",
       "      <td>45</td>\n",
       "      <td>13</td>\n",
       "      <td>58</td>\n",
       "    </tr>\n",
       "    <tr>\n",
       "      <th>167903</th>\n",
       "      <td>Cuộc trò chuyện giữa con người và trợ lý AI.\\n...</td>\n",
       "      <td>Câu trả lời: Giá trị khuyến nghị hàng ngày đối...</td>\n",
       "      <td>165</td>\n",
       "      <td>30</td>\n",
       "      <td>195</td>\n",
       "    </tr>\n",
       "    <tr>\n",
       "      <th>167904</th>\n",
       "      <td>Cuộc trò chuyện giữa con người và trợ lý AI.\\n...</td>\n",
       "      <td>Mặt trời rực rỡ trên bầu trời, nhưng không còn...</td>\n",
       "      <td>54</td>\n",
       "      <td>21</td>\n",
       "      <td>75</td>\n",
       "    </tr>\n",
       "    <tr>\n",
       "      <th>167910</th>\n",
       "      <td>Bạn là một trợ lý AI. Người dùng sẽ cung cấp c...</td>\n",
       "      <td>Một số ví dụ về cung điện hoàng gia lớn được x...</td>\n",
       "      <td>257</td>\n",
       "      <td>28</td>\n",
       "      <td>285</td>\n",
       "    </tr>\n",
       "    <tr>\n",
       "      <th>167912</th>\n",
       "      <td>Cuộc trò chuyện giữa con người và trợ lý AI.\\n...</td>\n",
       "      <td>Bạn sẽ đề xuất những sửa đổi hoặc trách nhiệm ...</td>\n",
       "      <td>931</td>\n",
       "      <td>35</td>\n",
       "      <td>966</td>\n",
       "    </tr>\n",
       "  </tbody>\n",
       "</table>\n",
       "<p>39582 rows × 5 columns</p>\n",
       "</div>"
      ],
      "text/plain": [
       "                                                    input  \\\n",
       "4       Cuộc trò chuyện giữa con người và trợ lý AI.\\n...   \n",
       "19      Cuộc trò chuyện giữa con người và trợ lý AI.\\n...   \n",
       "21      Cuộc trò chuyện giữa con người và trợ lý AI.\\n...   \n",
       "22      Bạn là một trợ lý AI. Cung cấp câu trả lời chi...   \n",
       "23      Cuộc trò chuyện giữa con người và trợ lý AI.\\n...   \n",
       "...                                                   ...   \n",
       "167896  Cuộc trò chuyện giữa con người và trợ lý AI.\\n...   \n",
       "167903  Cuộc trò chuyện giữa con người và trợ lý AI.\\n...   \n",
       "167904  Cuộc trò chuyện giữa con người và trợ lý AI.\\n...   \n",
       "167910  Bạn là một trợ lý AI. Người dùng sẽ cung cấp c...   \n",
       "167912  Cuộc trò chuyện giữa con người và trợ lý AI.\\n...   \n",
       "\n",
       "                                                   output  input_len  \\\n",
       "4       Chủ đề của câu hỏi này là máy tính và internet...         75   \n",
       "19      Từ gốc cho từ \"careful\" là \"care\".\\n[|Con người|]         35   \n",
       "21      Anh ấy đã đọc nhiều sách và tạp chí trong suốt...         46   \n",
       "22      D) trong các nhà máy, cửa hàng và nhà hàng ở H...        393   \n",
       "23      Vì cuộc họp bắt đầu lúc 3 giờ chiều, xin vui l...         61   \n",
       "...                                                   ...        ...   \n",
       "167896           Cô ấy mở cửa nhanh chóng.\\n[|Con người|]         45   \n",
       "167903  Câu trả lời: Giá trị khuyến nghị hàng ngày đối...        165   \n",
       "167904  Mặt trời rực rỡ trên bầu trời, nhưng không còn...         54   \n",
       "167910  Một số ví dụ về cung điện hoàng gia lớn được x...        257   \n",
       "167912  Bạn sẽ đề xuất những sửa đổi hoặc trách nhiệm ...        931   \n",
       "\n",
       "        output_len  len  \n",
       "4               18   93  \n",
       "19              19   54  \n",
       "21              22   68  \n",
       "22              22  415  \n",
       "23              23   84  \n",
       "...            ...  ...  \n",
       "167896          13   58  \n",
       "167903          30  195  \n",
       "167904          21   75  \n",
       "167910          28  285  \n",
       "167912          35  966  \n",
       "\n",
       "[39582 rows x 5 columns]"
      ]
     },
     "execution_count": 75,
     "metadata": {},
     "output_type": "execute_result"
    }
   ],
   "source": [
    "df[df['output_len'] <= 50]"
   ]
  },
  {
   "cell_type": "code",
   "execution_count": 104,
   "metadata": {},
   "outputs": [
    {
     "name": "stdout",
     "output_type": "stream",
     "text": [
      "Cuộc trò chuyện giữa con người và trợ lý AI.\n",
      "[|Con người|] Phân loại từ loại cho mỗi từ trong câu này: \"They have already started their new business\".\n",
      "[|AI|] They: đại từ; have: động từ; already: trạng từ; started: động từ; their: đại từ; new: tính từ; business: danh từ.\n",
      "[|Con người|]\n"
     ]
    }
   ],
   "source": [
    "temp = df[df['output_len'] <= 40].sample(1)\n",
    "print(temp['input'].values[0] + temp['output'].values[0])"
   ]
  },
  {
   "cell_type": "code",
   "execution_count": 608,
   "metadata": {},
   "outputs": [
    {
     "data": {
      "text/plain": [
       "Dataset({\n",
       "    features: ['input', 'output'],\n",
       "    num_rows: 165499\n",
       "})"
      ]
     },
     "execution_count": 608,
     "metadata": {},
     "output_type": "execute_result"
    }
   ],
   "source": [
    "final_df = df[df['len'] <= 2000].reset_index(drop=True)\n",
    "final_ds = Dataset.from_pandas(final_df).select_columns(['input', 'output'])\n",
    "final_ds"
   ]
  },
  {
   "cell_type": "code",
   "execution_count": 611,
   "metadata": {},
   "outputs": [
    {
     "data": {
      "text/plain": [
       "<AxesSubplot:>"
      ]
     },
     "execution_count": 611,
     "metadata": {},
     "output_type": "execute_result"
    },
    {
     "data": {
      "image/png": "[encoded data removed]",
      "text/plain": [
       "<Figure size 1440x720 with 1 Axes>"
      ]
     },
     "metadata": {
      "needs_background": "light"
     },
     "output_type": "display_data"
    }
   ],
   "source": [
    "plt.figure(figsize=(20,10))\n",
    "final_df['len'].hist(bins=100)"
   ]
  },
  {
   "cell_type": "code",
   "execution_count": 614,
   "metadata": {},
   "outputs": [
    {
     "data": {
      "text/plain": [
       "Dataset({\n",
       "    features: ['input', 'output'],\n",
       "    num_rows: 165499\n",
       "})"
      ]
     },
     "execution_count": 614,
     "metadata": {},
     "output_type": "execute_result"
    }
   ],
   "source": [
    "final_ds"
   ]
  },
  {
   "cell_type": "code",
   "execution_count": 613,
   "metadata": {},
   "outputs": [
    {
     "data": {
      "application/vnd.jupyter.widget-view+json": {
       "model_id": "5fd3a0f49d5446d79e4b5898920f0101",
       "version_major": 2,
       "version_minor": 0
      },
      "text/plain": [
       "Creating json from Arrow format:   0%|          | 0/166 [00:00<?, ?ba/s]"
      ]
     },
     "metadata": {},
     "output_type": "display_data"
    },
    {
     "data": {
      "text/plain": [
       "626593878"
      ]
     },
     "execution_count": 613,
     "metadata": {},
     "output_type": "execute_result"
    }
   ],
   "source": [
    "final_ds.to_json('../../../data/training_21_8/all_21_8.jsonl', orient='records', lines=True)"
   ]
  },
  {
   "cell_type": "code",
   "execution_count": 596,
   "metadata": {},
   "outputs": [],
   "source": [
    "task_oriented = final_ds.shuffle()"
   ]
  },
  {
   "cell_type": "code",
   "execution_count": 590,
   "metadata": {},
   "outputs": [],
   "source": [
    "instructs = final_ds.shuffle().select(range(40000))"
   ]
  },
  {
   "cell_type": "code",
   "execution_count": 597,
   "metadata": {},
   "outputs": [],
   "source": [
    "final = concatenate_datasets([task_oriented, instructs]).shuffle()"
   ]
  },
  {
   "cell_type": "code",
   "execution_count": 601,
   "metadata": {},
   "outputs": [
    {
     "data": {
      "application/vnd.jupyter.widget-view+json": {
       "model_id": "aa7070cc3d504896bba6f2804b4af036",
       "version_major": 2,
       "version_minor": 0
      },
      "text/plain": [
       "Creating json from Arrow format:   0%|          | 0/52 [00:00<?, ?ba/s]"
      ]
     },
     "metadata": {},
     "output_type": "display_data"
    },
    {
     "data": {
      "text/plain": [
       "141731454"
      ]
     },
     "execution_count": 601,
     "metadata": {},
     "output_type": "execute_result"
    }
   ],
   "source": [
    "final.to_json('../../../data/training_21_8/final_51k_25_8_samples.jsonl', orient='records', lines=True)"
   ]
  },
  {
   "cell_type": "code",
   "execution_count": 598,
   "metadata": {},
   "outputs": [
    {
     "data": {
      "text/plain": [
       "Dataset({\n",
       "    features: ['input', 'output', 'len'],\n",
       "    num_rows: 51014\n",
       "})"
      ]
     },
     "execution_count": 598,
     "metadata": {},
     "output_type": "execute_result"
    }
   ],
   "source": [
    "final"
   ]
  },
  {
   "cell_type": "code",
   "execution_count": 600,
   "metadata": {},
   "outputs": [
    {
     "data": {
      "text/plain": [
       "array([[<AxesSubplot:title={'center':'len'}>]], dtype=object)"
      ]
     },
     "execution_count": 600,
     "metadata": {},
     "output_type": "execute_result"
    },
    {
     "data": {
      "image/png": "[encoded data removed]",
      "text/plain": [
       "<Figure size 432x288 with 1 Axes>"
      ]
     },
     "metadata": {
      "needs_background": "light"
     },
     "output_type": "display_data"
    }
   ],
   "source": [
    "final.to_pandas().hist(column='len', bins=100)"
   ]
  },
  {
   "cell_type": "code",
   "execution_count": 36,
   "metadata": {},
   "outputs": [
    {
     "ename": "NameError",
     "evalue": "name 'final' is not defined",
     "output_type": "error",
     "traceback": [
      "\u001b[0;31m---------------------------------------------------------------------------\u001b[0m",
      "\u001b[0;31mNameError\u001b[0m                                 Traceback (most recent call last)",
      "\u001b[1;32m/Users/phamhoang1408/Desktop/Phase 2 Viettel/main_repo/code/ipynb_files/check_data/checkdata2.ipynb Cell 146\u001b[0m in \u001b[0;36m<cell line: 1>\u001b[0;34m()\u001b[0m\n\u001b[0;32m----> <a href='vscode-notebook-cell:/Users/phamhoang1408/Desktop/Phase%202%20Viettel/main_repo/code/ipynb_files/check_data/checkdata2.ipynb#Y313sZmlsZQ%3D%3D?line=0'>1</a>\u001b[0m final\n",
      "\u001b[0;31mNameError\u001b[0m: name 'final' is not defined"
     ]
    }
   ],
   "source": [
    "final"
   ]
  },
  {
   "cell_type": "code",
   "execution_count": 568,
   "metadata": {},
   "outputs": [
    {
     "name": "stdout",
     "output_type": "stream",
     "text": [
      "Cuộc trò chuyện giữa con người và trợ lý AI.\n",
      "[|Con người|] Sự sửa đổi gần đây được thực hiện đối với lời nhắc đã làm tăng độ phức tạp của nó bằng cách đưa vào cốt truyện nhiều lớp kích thước khác nhau và các thực tại thay thế. Hơn nữa, một tổ chức bí mật và lâu đời với động cơ không rõ ràng đã được thêm vào, làm cho cốt truyện trở nên phức tạp và khó hiểu hơn.\n",
      "[|AI|] Thật vậy, lời nhắc đã sửa đổi bổ sung thêm một số lớp phức tạp đòi hỏi người viết phải sáng tạo và tư duy phản biện nhiều hơn. Việc bổ sung tổ chức bí mật đã tạo thêm một mức độ hấp dẫn và bí ẩn mới cho câu chuyện, giúp các nhà văn có nhiều cơ hội hơn để khám phá thế giới và các nhân vật mà họ tạo ra. Nó cũng cho phép khám phá các chủ đề như động lực học quyền lực, kiểm soát và đạo đức, mang đến một câu chuyện phong phú và nhiều sắc thái hơn. Nhìn chung, lời nhắc sửa đổi thách thức người viết tạo ra một câu chuyện phức tạp và kích thích tư duy hơn, có thể thu hút và lôi cuốn người đọc.\n",
      "[|Con người|]\n"
     ]
    }
   ],
   "source": [
    "temp = final.shuffle()[0]\n",
    "print(temp['input'] + temp['output'])"
   ]
  },
  {
   "cell_type": "code",
   "execution_count": null,
   "metadata": {},
   "outputs": [],
   "source": []
  },
  {
   "cell_type": "code",
   "execution_count": null,
   "metadata": {},
   "outputs": [],
   "source": []
  },
  {
   "cell_type": "code",
   "execution_count": 16,
   "metadata": {},
   "outputs": [
    {
     "name": "stdout",
     "output_type": "stream",
     "text": [
      "Downloading and preparing dataset json/default to /Users/phamhoang1408/.cache/huggingface/datasets/json/default-ca45e27eabe39165/0.0.0...\n"
     ]
    },
    {
     "data": {
      "application/vnd.jupyter.widget-view+json": {
       "model_id": "39354ae350264eb0816de6412f2229f4",
       "version_major": 2,
       "version_minor": 0
      },
      "text/plain": [
       "Downloading data files:   0%|          | 0/1 [00:00<?, ?it/s]"
      ]
     },
     "metadata": {},
     "output_type": "display_data"
    },
    {
     "data": {
      "application/vnd.jupyter.widget-view+json": {
       "model_id": "50211dc2239d4321bf2badb5bae11408",
       "version_major": 2,
       "version_minor": 0
      },
      "text/plain": [
       "Extracting data files:   0%|          | 0/1 [00:00<?, ?it/s]"
      ]
     },
     "metadata": {},
     "output_type": "display_data"
    },
    {
     "data": {
      "application/vnd.jupyter.widget-view+json": {
       "model_id": "2d83a952a4dd4201b387be221f04273d",
       "version_major": 2,
       "version_minor": 0
      },
      "text/plain": [
       "Generating train split: 0 examples [00:00, ? examples/s]"
      ]
     },
     "metadata": {},
     "output_type": "display_data"
    },
    {
     "name": "stdout",
     "output_type": "stream",
     "text": [
      "Dataset json downloaded and prepared to /Users/phamhoang1408/.cache/huggingface/datasets/json/default-ca45e27eabe39165/0.0.0. Subsequent calls will reuse this data.\n"
     ]
    }
   ],
   "source": [
    "ds = Dataset.from_json('/Users/phamhoang1408/Desktop/Phase 2 Viettel/main_repo/data/training_21_8/all_21_8.jsonl')"
   ]
  },
  {
   "cell_type": "code",
   "execution_count": 17,
   "metadata": {},
   "outputs": [
    {
     "data": {
      "application/vnd.jupyter.widget-view+json": {
       "model_id": "fac0e64f8f2842e883b383c1f2d8032d",
       "version_major": 2,
       "version_minor": 0
      },
      "text/plain": [
       "Map:   0%|          | 0/165499 [00:00<?, ? examples/s]"
      ]
     },
     "metadata": {},
     "output_type": "display_data"
    }
   ],
   "source": [
    "def mapper(x):\n",
    "    return {\n",
    "        'input_len': len(tokenizer.encode(x['input'])),\n",
    "        'output_len': len(tokenizer.encode(x['output']))\n",
    "    }\n",
    "\n",
    "ds = ds.map(mapper, batched=False)"
   ]
  },
  {
   "cell_type": "code",
   "execution_count": 20,
   "metadata": {},
   "outputs": [
    {
     "data": {
      "text/plain": [
       "Dataset({\n",
       "    features: ['input', 'output', 'input_len', 'output_len'],\n",
       "    num_rows: 165499\n",
       "})"
      ]
     },
     "execution_count": 20,
     "metadata": {},
     "output_type": "execute_result"
    }
   ],
   "source": [
    "ds"
   ]
  },
  {
   "cell_type": "code",
   "execution_count": 21,
   "metadata": {},
   "outputs": [
    {
     "data": {
      "text/plain": [
       "array([[<AxesSubplot:title={'center':'output_len'}>]], dtype=object)"
      ]
     },
     "execution_count": 21,
     "metadata": {},
     "output_type": "execute_result"
    },
    {
     "data": {
      "image/png": "[encoded data removed]",
      "text/plain": [
       "<Figure size 432x288 with 1 Axes>"
      ]
     },
     "metadata": {
      "needs_background": "light"
     },
     "output_type": "display_data"
    },
    {
     "data": {
      "image/png": "[encoded data removed]",
      "text/plain": [
       "<Figure size 432x288 with 1 Axes>"
      ]
     },
     "metadata": {
      "needs_background": "light"
     },
     "output_type": "display_data"
    }
   ],
   "source": [
    "ds.to_pandas().hist(column='input_len', bins=50)\n",
    "ds.to_pandas().hist(column='output_len', bins=50)"
   ]
  },
  {
   "cell_type": "code",
   "execution_count": 24,
   "metadata": {},
   "outputs": [
    {
     "data": {
      "text/plain": [
       "419.0"
      ]
     },
     "execution_count": 24,
     "metadata": {},
     "output_type": "execute_result"
    }
   ],
   "source": [
    "ds.to_pandas()['output_len'].quantile(0.7)"
   ]
  },
  {
   "cell_type": "markdown",
   "metadata": {},
   "source": [
    "### Length Distribution"
   ]
  },
  {
   "cell_type": "code",
   "execution_count": 35,
   "metadata": {},
   "outputs": [
    {
     "name": "stderr",
     "output_type": "stream",
     "text": [
      "Found cached dataset json (/Users/phamhoang1408/.cache/huggingface/datasets/json/default-dc6d15fb5167c5a8/0.0.0)\n",
      "Found cached dataset json (/Users/phamhoang1408/.cache/huggingface/datasets/json/default-093c0dcfb5399bef/0.0.0)\n",
      "Found cached dataset json (/Users/phamhoang1408/.cache/huggingface/datasets/json/default-1734e637d9ab56af/0.0.0)\n",
      "Found cached dataset json (/Users/phamhoang1408/.cache/huggingface/datasets/json/default-92cf1d228eff0430/0.0.0)\n",
      "Found cached dataset json (/Users/phamhoang1408/.cache/huggingface/datasets/json/default-cad4ee1bb77060a2/0.0.0)\n",
      "Found cached dataset json (/Users/phamhoang1408/.cache/huggingface/datasets/json/default-81112a902fe4e812/0.0.0)\n",
      "Found cached dataset json (/Users/phamhoang1408/.cache/huggingface/datasets/json/default-846a4aab1e1dc6ad/0.0.0)\n",
      "Found cached dataset json (/Users/phamhoang1408/.cache/huggingface/datasets/json/default-9f4d54555791d380/0.0.0)\n",
      "Found cached dataset json (/Users/phamhoang1408/.cache/huggingface/datasets/json/default-9b4fabca4868a859/0.0.0)\n",
      "Found cached dataset json (/Users/phamhoang1408/.cache/huggingface/datasets/json/default-6371ebbcb672fa2f/0.0.0)\n",
      "Found cached dataset json (/Users/phamhoang1408/.cache/huggingface/datasets/json/default-7ee3f715b93221b1/0.0.0)\n",
      "Found cached dataset json (/Users/phamhoang1408/.cache/huggingface/datasets/json/default-16a30e17009e0ff4/0.0.0)\n",
      "Found cached dataset json (/Users/phamhoang1408/.cache/huggingface/datasets/json/default-3ec42dc5cb7c1e29/0.0.0)\n",
      "Found cached dataset json (/Users/phamhoang1408/.cache/huggingface/datasets/json/default-bdd545288eec0920/0.0.0)\n"
     ]
    },
    {
     "data": {
      "application/vnd.jupyter.widget-view+json": {
       "model_id": "2a5969b59a81465e83f5c2b683eba133",
       "version_major": 2,
       "version_minor": 0
      },
      "text/plain": [
       "Map:   0%|          | 0/5973 [00:00<?, ? examples/s]"
      ]
     },
     "metadata": {},
     "output_type": "display_data"
    },
    {
     "data": {
      "application/vnd.jupyter.widget-view+json": {
       "model_id": "edc5eca06745469eb496d0c6d5d40128",
       "version_major": 2,
       "version_minor": 0
      },
      "text/plain": [
       "Map:   0%|          | 0/5000 [00:00<?, ? examples/s]"
      ]
     },
     "metadata": {},
     "output_type": "display_data"
    },
    {
     "data": {
      "application/vnd.jupyter.widget-view+json": {
       "model_id": "21c1bdf7ef1544ccabc784b80b759f9c",
       "version_major": 2,
       "version_minor": 0
      },
      "text/plain": [
       "Map:   0%|          | 0/416 [00:00<?, ? examples/s]"
      ]
     },
     "metadata": {},
     "output_type": "display_data"
    },
    {
     "data": {
      "application/vnd.jupyter.widget-view+json": {
       "model_id": "e850876483184eebad20daab60cccc87",
       "version_major": 2,
       "version_minor": 0
      },
      "text/plain": [
       "Map:   0%|          | 0/10000 [00:00<?, ? examples/s]"
      ]
     },
     "metadata": {},
     "output_type": "display_data"
    },
    {
     "data": {
      "application/vnd.jupyter.widget-view+json": {
       "model_id": "2e348e15e85e49bb8b9ba95a76aaa2b4",
       "version_major": 2,
       "version_minor": 0
      },
      "text/plain": [
       "Map:   0%|          | 0/30000 [00:00<?, ? examples/s]"
      ]
     },
     "metadata": {},
     "output_type": "display_data"
    },
    {
     "data": {
      "application/vnd.jupyter.widget-view+json": {
       "model_id": "fcaa31fab50245fe921acf57c83b9685",
       "version_major": 2,
       "version_minor": 0
      },
      "text/plain": [
       "Map:   0%|          | 0/500 [00:00<?, ? examples/s]"
      ]
     },
     "metadata": {},
     "output_type": "display_data"
    },
    {
     "data": {
      "application/vnd.jupyter.widget-view+json": {
       "model_id": "abad6ff2ae174e1dbd6f742107c392dd",
       "version_major": 2,
       "version_minor": 0
      },
      "text/plain": [
       "Map:   0%|          | 0/25000 [00:00<?, ? examples/s]"
      ]
     },
     "metadata": {},
     "output_type": "display_data"
    },
    {
     "data": {
      "application/vnd.jupyter.widget-view+json": {
       "model_id": "9fe62a139cce4903b889d1f4c6d2ae8f",
       "version_major": 2,
       "version_minor": 0
      },
      "text/plain": [
       "Map:   0%|          | 0/5000 [00:00<?, ? examples/s]"
      ]
     },
     "metadata": {},
     "output_type": "display_data"
    },
    {
     "data": {
      "application/vnd.jupyter.widget-view+json": {
       "model_id": "c9b5489a6ec649cf8dec4d6995947382",
       "version_major": 2,
       "version_minor": 0
      },
      "text/plain": [
       "Map:   0%|          | 0/1500 [00:00<?, ? examples/s]"
      ]
     },
     "metadata": {},
     "output_type": "display_data"
    },
    {
     "data": {
      "application/vnd.jupyter.widget-view+json": {
       "model_id": "e0e05fb3096f4fe59f8134f97c0677cf",
       "version_major": 2,
       "version_minor": 0
      },
      "text/plain": [
       "Map:   0%|          | 0/4000 [00:00<?, ? examples/s]"
      ]
     },
     "metadata": {},
     "output_type": "display_data"
    },
    {
     "data": {
      "application/vnd.jupyter.widget-view+json": {
       "model_id": "d0545219c20a401aacf11b089eeeafa4",
       "version_major": 2,
       "version_minor": 0
      },
      "text/plain": [
       "Map:   0%|          | 0/40000 [00:00<?, ? examples/s]"
      ]
     },
     "metadata": {},
     "output_type": "display_data"
    },
    {
     "data": {
      "application/vnd.jupyter.widget-view+json": {
       "model_id": "fcae415c30bd4e01a7e0d211197489d3",
       "version_major": 2,
       "version_minor": 0
      },
      "text/plain": [
       "Map:   0%|          | 0/30527 [00:00<?, ? examples/s]"
      ]
     },
     "metadata": {},
     "output_type": "display_data"
    },
    {
     "data": {
      "application/vnd.jupyter.widget-view+json": {
       "model_id": "b1952df637e34ec485780a0a7fd58e75",
       "version_major": 2,
       "version_minor": 0
      },
      "text/plain": [
       "Map:   0%|          | 0/5000 [00:00<?, ? examples/s]"
      ]
     },
     "metadata": {},
     "output_type": "display_data"
    },
    {
     "data": {
      "application/vnd.jupyter.widget-view+json": {
       "model_id": "e19770b991164670a421cf70360bc86f",
       "version_major": 2,
       "version_minor": 0
      },
      "text/plain": [
       "Map:   0%|          | 0/5000 [00:00<?, ? examples/s]"
      ]
     },
     "metadata": {},
     "output_type": "display_data"
    },
    {
     "name": "stdout",
     "output_type": "stream",
     "text": [
      "Dataset:  code_related_ocapi_6k_samples\n"
     ]
    },
    {
     "data": {
      "image/png": "[encoded data removed]",
      "text/plain": [
       "<Figure size 432x288 with 1 Axes>"
      ]
     },
     "metadata": {
      "needs_background": "light"
     },
     "output_type": "display_data"
    },
    {
     "data": {
      "image/png": "[encoded data removed]",
      "text/plain": [
       "<Figure size 432x288 with 1 Axes>"
      ]
     },
     "metadata": {
      "needs_background": "light"
     },
     "output_type": "display_data"
    },
    {
     "name": "stdout",
     "output_type": "stream",
     "text": [
      "---------------------\n",
      "Dataset:  dolly_5k_samples\n"
     ]
    },
    {
     "data": {
      "image/png": "[encoded data removed]",
      "text/plain": [
       "<Figure size 432x288 with 1 Axes>"
      ]
     },
     "metadata": {
      "needs_background": "light"
     },
     "output_type": "display_data"
    },
    {
     "data": {
      "image/png": "[encoded data removed]",
      "text/plain": [
       "<Figure size 432x288 with 1 Axes>"
      ]
     },
     "metadata": {
      "needs_background": "light"
     },
     "output_type": "display_data"
    },
    {
     "name": "stdout",
     "output_type": "stream",
     "text": [
      "---------------------\n",
      "Dataset:  faqs_400_samples\n"
     ]
    },
    {
     "data": {
      "image/png": "[encoded data removed]",
      "text/plain": [
       "<Figure size 432x288 with 1 Axes>"
      ]
     },
     "metadata": {
      "needs_background": "light"
     },
     "output_type": "display_data"
    },
    {
     "data": {
      "image/png": "[encoded data removed]",
      "text/plain": [
       "<Figure size 432x288 with 1 Axes>"
      ]
     },
     "metadata": {
      "needs_background": "light"
     },
     "output_type": "display_data"
    },
    {
     "name": "stdout",
     "output_type": "stream",
     "text": [
      "---------------------\n",
      "Dataset:  gpt4_instruct_10k\n"
     ]
    },
    {
     "data": {
      "image/png": "[encoded data removed]",
      "text/plain": [
       "<Figure size 432x288 with 1 Axes>"
      ]
     },
     "metadata": {
      "needs_background": "light"
     },
     "output_type": "display_data"
    },
    {
     "data": {
      "image/png": "[encoded data removed]",
      "text/plain": [
       "<Figure size 432x288 with 1 Axes>"
      ]
     },
     "metadata": {
      "needs_background": "light"
     },
     "output_type": "display_data"
    },
    {
     "name": "stdout",
     "output_type": "stream",
     "text": [
      "---------------------\n",
      "Dataset:  no_code_ocapi_30k_samples\n"
     ]
    },
    {
     "data": {
      "image/png": "[encoded data removed]",
      "text/plain": [
       "<Figure size 432x288 with 1 Axes>"
      ]
     },
     "metadata": {
      "needs_background": "light"
     },
     "output_type": "display_data"
    },
    {
     "data": {
      "image/png": "[encoded data removed]",
      "text/plain": [
       "<Figure size 432x288 with 1 Axes>"
      ]
     },
     "metadata": {
      "needs_background": "light"
     },
     "output_type": "display_data"
    },
    {
     "name": "stdout",
     "output_type": "stream",
     "text": [
      "---------------------\n",
      "Dataset:  query_gen_500_up_samples\n"
     ]
    },
    {
     "data": {
      "image/png": "[encoded data removed]",
      "text/plain": [
       "<Figure size 432x288 with 1 Axes>"
      ]
     },
     "metadata": {
      "needs_background": "light"
     },
     "output_type": "display_data"
    },
    {
     "data": {
      "image/png": "[encoded data removed]",
      "text/plain": [
       "<Figure size 432x288 with 1 Axes>"
      ]
     },
     "metadata": {
      "needs_background": "light"
     },
     "output_type": "display_data"
    },
    {
     "name": "stdout",
     "output_type": "stream",
     "text": [
      "---------------------\n",
      "Dataset:  orca_25k_samples\n"
     ]
    },
    {
     "data": {
      "image/png": "[encoded data removed]",
      "text/plain": [
       "<Figure size 432x288 with 1 Axes>"
      ]
     },
     "metadata": {
      "needs_background": "light"
     },
     "output_type": "display_data"
    },
    {
     "data": {
      "image/png": "[encoded data removed]",
      "text/plain": [
       "<Figure size 432x288 with 1 Axes>"
      ]
     },
     "metadata": {
      "needs_background": "light"
     },
     "output_type": "display_data"
    },
    {
     "name": "stdout",
     "output_type": "stream",
     "text": [
      "---------------------\n",
      "Dataset:  role_play_5k_up_samples\n"
     ]
    },
    {
     "data": {
      "image/png": "[encoded data removed]",
      "text/plain": [
       "<Figure size 432x288 with 1 Axes>"
      ]
     },
     "metadata": {
      "needs_background": "light"
     },
     "output_type": "display_data"
    },
    {
     "data": {
      "image/png": "[encoded data removed]",
      "text/plain": [
       "<Figure size 432x288 with 1 Axes>"
      ]
     },
     "metadata": {
      "needs_background": "light"
     },
     "output_type": "display_data"
    },
    {
     "name": "stdout",
     "output_type": "stream",
     "text": [
      "---------------------\n",
      "Dataset:  squadv2_no_ans_1500_samples\n"
     ]
    },
    {
     "data": {
      "image/png": "[encoded data removed]",
      "text/plain": [
       "<Figure size 432x288 with 1 Axes>"
      ]
     },
     "metadata": {
      "needs_background": "light"
     },
     "output_type": "display_data"
    },
    {
     "data": {
      "image/png": "[encoded data removed]",
      "text/plain": [
       "<Figure size 432x288 with 1 Axes>"
      ]
     },
     "metadata": {
      "needs_background": "light"
     },
     "output_type": "display_data"
    },
    {
     "name": "stdout",
     "output_type": "stream",
     "text": [
      "---------------------\n",
      "Dataset:  topic_classification_4000_samples\n"
     ]
    },
    {
     "data": {
      "image/png": "[encoded data removed]",
      "text/plain": [
       "<Figure size 432x288 with 1 Axes>"
      ]
     },
     "metadata": {
      "needs_background": "light"
     },
     "output_type": "display_data"
    },
    {
     "data": {
      "image/png": "[encoded data removed]",
      "text/plain": [
       "<Figure size 432x288 with 1 Axes>"
      ]
     },
     "metadata": {
      "needs_background": "light"
     },
     "output_type": "display_data"
    },
    {
     "name": "stdout",
     "output_type": "stream",
     "text": [
      "---------------------\n",
      "Dataset:  wizard_40k_samples\n"
     ]
    },
    {
     "data": {
      "image/png": "[encoded data removed]",
      "text/plain": [
       "<Figure size 432x288 with 1 Axes>"
      ]
     },
     "metadata": {
      "needs_background": "light"
     },
     "output_type": "display_data"
    },
    {
     "data": {
      "image/png": "[encoded data removed]",
      "text/plain": [
       "<Figure size 432x288 with 1 Axes>"
      ]
     },
     "metadata": {
      "needs_background": "light"
     },
     "output_type": "display_data"
    },
    {
     "name": "stdout",
     "output_type": "stream",
     "text": [
      "---------------------\n",
      "Dataset:  wivi_30k_samples\n"
     ]
    },
    {
     "data": {
      "image/png": "[encoded data removed]",
      "text/plain": [
       "<Figure size 432x288 with 1 Axes>"
      ]
     },
     "metadata": {
      "needs_background": "light"
     },
     "output_type": "display_data"
    },
    {
     "data": {
      "image/png": "[encoded data removed]",
      "text/plain": [
       "<Figure size 432x288 with 1 Axes>"
      ]
     },
     "metadata": {
      "needs_background": "light"
     },
     "output_type": "display_data"
    },
    {
     "name": "stdout",
     "output_type": "stream",
     "text": [
      "---------------------\n",
      "Dataset:  quora_5k_samples\n"
     ]
    },
    {
     "data": {
      "image/png": "[encoded data removed]",
      "text/plain": [
       "<Figure size 432x288 with 1 Axes>"
      ]
     },
     "metadata": {
      "needs_background": "light"
     },
     "output_type": "display_data"
    },
    {
     "data": {
      "image/png": "[encoded data removed]",
      "text/plain": [
       "<Figure size 432x288 with 1 Axes>"
      ]
     },
     "metadata": {
      "needs_background": "light"
     },
     "output_type": "display_data"
    },
    {
     "name": "stdout",
     "output_type": "stream",
     "text": [
      "---------------------\n",
      "Dataset:  oasst_5k_samples\n"
     ]
    },
    {
     "data": {
      "image/png": "[encoded data removed]",
      "text/plain": [
       "<Figure size 432x288 with 1 Axes>"
      ]
     },
     "metadata": {
      "needs_background": "light"
     },
     "output_type": "display_data"
    },
    {
     "data": {
      "image/png": "[encoded data removed]",
      "text/plain": [
       "<Figure size 432x288 with 1 Axes>"
      ]
     },
     "metadata": {
      "needs_background": "light"
     },
     "output_type": "display_data"
    },
    {
     "name": "stdout",
     "output_type": "stream",
     "text": [
      "---------------------\n"
     ]
    }
   ],
   "source": [
    "root_path = '/Users/phamhoang1408/Desktop/Phase 2 Viettel/main_repo/data/training_21_8/'\n",
    "dataset_configs = [\n",
    "    ['code_related_ocapi_6k_samples.jsonl', 'instruct'],\n",
    "    ['dolly_5k_samples.jsonl', 'instruct'],\n",
    "    ['faqs_400_samples.jsonl', 'instruct'],\n",
    "    ['gpt4_instruct_10k.jsonl', 'instruct'],\n",
    "    ['no_code_ocapi_30k_samples.jsonl', 'instruct'],\n",
    "    ['query_gen_500_up_samples.jsonl', 'instruct'],\n",
    "    ['orca_25k_samples.jsonl', 'instruct'],\n",
    "    ['role_play_5k_up_samples.jsonl', 'instruct'],\n",
    "    ['squadv2_no_ans_1500_samples.jsonl', 'instruct'],\n",
    "    ['topic_classification_4000_samples.jsonl', 'instruct'],\n",
    "    ['wizard_40k_samples.jsonl', 'instruct'],\n",
    "    ['wivi_30k_samples.jsonl', 'chat'],\n",
    "    ['quora_5k_samples.jsonl', 'chat'],\n",
    "    ['oasst_5k_samples.jsonl', 'chat'],\n",
    "]\n",
    "def len_analysis(dataset_configs):\n",
    "    def mapper(x):\n",
    "        return {\n",
    "            'input_len': len(tokenizer.encode(x['input'])),\n",
    "            'output_len': len(tokenizer.encode(x['output']))\n",
    "        }\n",
    "    collections = {}\n",
    "    for ds_config in dataset_configs:\n",
    "        name = ds_config[0].split('.')[0]\n",
    "        collections[name] = Dataset.from_json(root_path + ds_config[0])\n",
    "    for k, v in collections.items():\n",
    "        collections[k] = v.map(mapper, batched=False, remove_columns=v.column_names)\n",
    "    for k, v in collections.items():\n",
    "        print('Dataset: ', k)\n",
    "        df = v.to_pandas()\n",
    "        df['input_len'].hist(bins=50)\n",
    "        plt.show()\n",
    "        df['output_len'].hist(bins=50)\n",
    "        plt.show()\n",
    "        print('---------------------')\n",
    "\n",
    "len_analysis(dataset_configs)"
   ]
  },
  {
   "cell_type": "code",
   "execution_count": null,
   "metadata": {},
   "outputs": [],
   "source": []
  },
  {
   "cell_type": "code",
   "execution_count": null,
   "metadata": {},
   "outputs": [],
   "source": []
  },
  {
   "cell_type": "code",
   "execution_count": null,
   "metadata": {},
   "outputs": [],
   "source": []
  },
  {
   "cell_type": "code",
   "execution_count": null,
   "metadata": {},
   "outputs": [],
   "source": []
  },
  {
   "cell_type": "code",
   "execution_count": null,
   "metadata": {},
   "outputs": [],
   "source": [
    "DATASET = '/kaggle/input/general-chatbot-5-8/60k_mixed_2.jsonl'\n",
    "DATASET_FORMAT = 'input-output'\n",
    "OUTPUT_DIR = './outputs/'\n",
    "\n",
    "PER_DEVICE_TRAIN_BATCH_SIZE = 2\n",
    "GRADIENT_ACCUMULATION_STEPS = 4\n",
    "LEARNING_RATE = '0.03'\n",
    "LR_SCHEDULER_TYPE = 'cosine'\n",
    "WARMUP_RATIO = 0.03\n",
    "\n",
    "LORA_R = 128\n",
    "LORA_ALPHA = 32 \n",
    "LORA_DROPOUT = 0.1\n",
    "\n",
    "TRAIN_ON_SOURCE = False\n",
    "SOURCE_MAX_LENGTH = 1024\n",
    "TARGET_MAX_LENGTH = 1024\n",
    "\n",
    "LOGGING_STEPS = 20\n",
    "SAVE_STEPS = 100\n",
    "SAVE_TOTAL_LIMIT = 4\n",
    "\n",
    "def check(args):\n",
    "    assert args.dataset == DATASET\n",
    "    assert args.dataset_format == DATASET_FORMAT\n",
    "    assert args.output_dir == OUTPUT_DIR\n",
    "    assert args.per_device_train_batch_size == PER_DEVICE_TRAIN_BATCH_SIZE\n",
    "    assert args.gradient_accumulation_steps == GRADIENT_ACCUMULATION_STEPS\n",
    "    assert args.learning_rate == LEARNING_RATE\n",
    "    assert args.lr_scheduler_type == LR_SCHEDULER_TYPE\n",
    "    assert args.warmup_ratio == WARMUP_RATIO\n",
    "    assert args.lora_r == LORA_R\n",
    "    assert args.lora_alpha == LORA_ALPHA\n",
    "    assert args.lora_dropout == LORA_DROPOUT\n",
    "    assert args.train_on_source == TRAIN_ON_SOURCE\n",
    "    assert args.source_max_length == SOURCE_MAX_LENGTH\n",
    "    assert args.target_max_length == TARGET_MAX_LENGTH\n",
    "    assert args.logging_steps == LOGGING_STEPS\n",
    "    assert args.save_steps == SAVE_STEPS\n",
    "    assert args.save_total_limit == SAVE_TOTAL_LIMIT\n"
   ]
  }
 ],
 "metadata": {
  "kernelspec": {
   "display_name": "Python 3",
   "language": "python",
   "name": "python3"
  },
  "language_info": {
   "codemirror_mode": {
    "name": "ipython",
    "version": 3
   },
   "file_extension": ".py",
   "mimetype": "text/x-python",
   "name": "python",
   "nbconvert_exporter": "python",
   "pygments_lexer": "ipython3",
   "version": "3.10.7"
  },
  "orig_nbformat": 4
 },
 "nbformat": 4,
 "nbformat_minor": 2
}
