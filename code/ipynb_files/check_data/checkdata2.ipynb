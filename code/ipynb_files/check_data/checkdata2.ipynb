{
 "cells": [
  {
   "cell_type": "code",
   "execution_count": 2,
   "metadata": {},
   "outputs": [],
   "source": [
    "import numpy as np\n",
    "import pandas as pd\n",
    "import matplotlib.pyplot as plt\n",
    "from matplotlib import rcParams\n",
    "import seaborn as sns\n",
    "import warnings\n",
    "\n",
    "sns.set()\n",
    "rcParams['figure.figsize'] = (20,10)\n",
    "pd.options.display.max_columns = None\n",
    "warnings.filterwarnings('ignore')\n",
    "from pprint import pprint\n",
    "import json\n",
    "\n",
    "from transformers import AutoTokenizer, AutoModel, AutoConfig, pipeline\n",
    "from datasets import load_dataset, Dataset, concatenate_datasets\n",
    "import swifter"
   ]
  },
  {
   "cell_type": "code",
   "execution_count": 3,
   "metadata": {},
   "outputs": [],
   "source": [
    "tokenizer = AutoTokenizer.from_pretrained(\"bigscience/bloom-7b1\")"
   ]
  },
  {
   "cell_type": "markdown",
   "metadata": {},
   "source": [
    "### CNN_DAILY"
   ]
  },
  {
   "cell_type": "code",
   "execution_count": null,
   "metadata": {},
   "outputs": [],
   "source": [
    "cnn = Dataset.from_json('../../data/translated/cnn_dailymail_30k_samples_len_100_1200_words_translated.json')"
   ]
  },
  {
   "cell_type": "code",
   "execution_count": null,
   "metadata": {},
   "outputs": [],
   "source": [
    "input_template=\"Cuộc trò chuyện giữa con người và trợ lý AI.\\n[|Con người|] Tóm tắt ngắn gọn đoạn văn bản sau đây:\\n{article_translated}\\n[|AI|] \"\n",
    "def mapper(x):\n",
    "    return {\n",
    "        'input': input_template.format(article_translated=x['article_translated']),\n",
    "        'output': 'Đoạn văn bản đã được tóm tắt:\\n' + x['highlights_translated'] + '\\n[|Con người|]'\n",
    "    }\n",
    "\n",
    "temp_cnn = cnn.shuffle().select(range(15000)).map(mapper,batched=False, remove_columns=['article_translated','highlights_translated'])"
   ]
  },
  {
   "cell_type": "code",
   "execution_count": null,
   "metadata": {},
   "outputs": [],
   "source": [
    "print(temp_cnn[1]['input'] + temp_cnn[1]['output'])"
   ]
  },
  {
   "cell_type": "code",
   "execution_count": null,
   "metadata": {},
   "outputs": [],
   "source": [
    "length = temp_cnn.shuffle().select(range(1000)).map(lambda x: {'len':len(tokenizer.tokenize(x['input'] + x['output']))})\n",
    "length.to_pandas().hist(bins=100)"
   ]
  },
  {
   "cell_type": "code",
   "execution_count": null,
   "metadata": {},
   "outputs": [],
   "source": [
    "temp_cnn[0]"
   ]
  },
  {
   "cell_type": "code",
   "execution_count": null,
   "metadata": {},
   "outputs": [],
   "source": [
    "temp_cnn.to_json('../../data/training_3_8/cnn_15k_samples.jsonl', orient='records', lines=True)"
   ]
  },
  {
   "cell_type": "markdown",
   "metadata": {},
   "source": [
    "### DIALOG SUMMARY"
   ]
  },
  {
   "cell_type": "code",
   "execution_count": null,
   "metadata": {},
   "outputs": [],
   "source": [
    "dialog = Dataset.from_json('../../data/translated/dialogsum_10k_samples_len_50_words_translated.json')"
   ]
  },
  {
   "cell_type": "code",
   "execution_count": null,
   "metadata": {},
   "outputs": [],
   "source": [
    "dialog"
   ]
  },
  {
   "cell_type": "code",
   "execution_count": null,
   "metadata": {},
   "outputs": [],
   "source": [
    "input_template=\"Tóm tắt ngắn gọn đoạn hội thoại sau đây:\\n{dialogue_translated}\\nĐoạn hội thoại đã được tóm tắt:\\n\"\n",
    "def mapper(x):\n",
    "    return {\n",
    "        'input': input_template.format(dialogue_translated=x['dialogue_translated']),\n",
    "        'output': x['summary_translated']\n",
    "    }\n",
    "\n",
    "temp_dialog = dialog.shuffle().select(range(10000)).map(mapper,batched=False, remove_columns=['dialogue_translated','summary_translated'])"
   ]
  },
  {
   "cell_type": "code",
   "execution_count": null,
   "metadata": {},
   "outputs": [],
   "source": [
    "print(temp_dialog[1]['input'] + temp_dialog[1]['output'])"
   ]
  },
  {
   "cell_type": "code",
   "execution_count": null,
   "metadata": {},
   "outputs": [],
   "source": [
    "temp_dialog[0]"
   ]
  },
  {
   "cell_type": "code",
   "execution_count": null,
   "metadata": {},
   "outputs": [],
   "source": [
    "temp_dialog.to_json('../../data/training_3_8/dialogsum_10k_samples.jsonl', orient='records', lines=True)"
   ]
  },
  {
   "cell_type": "markdown",
   "metadata": {},
   "source": [
    "### FAQS"
   ]
  },
  {
   "cell_type": "code",
   "execution_count": 818,
   "metadata": {},
   "outputs": [
    {
     "name": "stderr",
     "output_type": "stream",
     "text": [
      "Found cached dataset json (/Users/phamhoang1408/.cache/huggingface/datasets/json/default-e90f1f489bc5a6e2/0.0.0)\n"
     ]
    }
   ],
   "source": [
    "faqs = Dataset.from_json('../../../data/training_31_7/faq_chat_10k.jsonl')"
   ]
  },
  {
   "cell_type": "code",
   "execution_count": 819,
   "metadata": {},
   "outputs": [
    {
     "name": "stdout",
     "output_type": "stream",
     "text": [
      "Cuộc trò chuyện giữa con người và trợ lý AI.\n",
      "[|Con người|] Trả lời câu hỏi pháp luật dựa vào những điều luật liên quan dưới đây. Chỉ được trả lời dựa trên điều luật được cung cấp. Nếu không đủ thông tin để trả lời thì trả lời: Tôi không biết.\n",
      "Câu hỏi: Ông Phan bị công an bắt quả tang khi đang trên đường vận chuyển ma túy từ Lào Cai về Hà Nội. Sau khi khám xét, công an thu được tổng số lượng heroin là 50 gam. Trong trường hợp này, ông Phan sẽ bị xử lý như thế nào?\n",
      "Điều luật liên quan: Điều 194. Tội tàng trữ, vận chuyển, mua bán trái phép hoặc chiếm đoạt chất ma túy 1. Người nào tàng trữ, vận chuyển, mua bán trái phép hoặc chiếm đoạt chất ma tuý, thì bị phạt tù từ hai năm đến bảy năm. 2. Phạm tội thuộc một trong các trường hợp sau đây, thì bị phạt tù từ bảy năm đến mười lăm năm: a) Có tổ chức; b) Phạm tội nhiều lần; c) Lợi dụng chức vụ, quyền hạn; d) Lợi dụng danh nghĩa cơ quan, tổ chức; đ) Vận chuyển, mua bán qua biên giới; e) Sử dụng trẻ em vào việc phạm tội hoặc bán ma tuý cho trẻ em; g) Nhựa thuốc phiện, nhựa cần sa hoặc cao côca có trọng lượng từ năm trăm gam đến dưới một kilôgam; h) Hêrôin hoặc côcain có trọng lượng từ năm gam đến dưới ba mươi gam; i) Lá, hoa, quả cây cần sa hoặc lá cây côca có trọng lượng từ mười kilôgam đến dưới hai mươi lăm kilôgam; k) Quả thuốc phiện khô có trọng lượng từ năm mươi kilôgam đến dưới hai trăm kilôgam; l) Quả thuốc phiện tươi có trọng lượng từ mười kilôgam đến dưới năm mươi kilôgam; m) Các chất ma tuý khác ở thể rắn có trọng lượng từ hai mươi gam đến dưới một trăm gam; n) Các chất ma tuý khác ở thể lỏng từ một trăm mililít đến dưới hai trăm năm mươi mililít; o) Có từ hai chất ma tuý trở lên mà tổng số lượng của các chất đó tương đương với số lượng chất ma tuý quy định tại một trong các điểm từ điểm g đến điểm n khoản 2 Điều này; p) Tái phạm nguy hiểm. 3. Phạm tội thuộc một trong các trường hợp sau đây, thì bị phạt tù từ mười lăm năm đến hai mươi năm: a) Nhựa thuốc phiện, nhựa cần sa hoặc cao côca có trọng lượng từ một kilôgam đến dưới năm kilôgam; b) Hêrôin hoặc côcain có trọng lượng từ ba mươi gam đến dưới một trăm gam; c) Lá, hoa, quả cây cần sa hoặc lá cây côca có trọng lượng từ hai mươi lăm kilôgam đến dưới bảy mươi lăm kilôgam; d) Quả thuốc phiện khô có trọng lượng từ hai trăm kilôgam đến dưới sáu trăm kilôgam; đ) Quả thuốc phiện tươi có trọng lượng từ năm mươi kilôgam đến dưới một trăm năm mươi kilôgam; e) Các chất ma tuý khác ở thể rắn có trọng lượng từ một trăm gam đến dưới ba trăm gam; g) Các chất ma tuý khác ở thể lỏng từ hai trăm năm mươi mililít đến dưới bảy trăm năm mươi mililít; h) Có từ hai chất ma tuý trở lên mà tổng số lượng của các chất đó tương đương với số lượng chất ma tuý quy định tại một trong các điểm từ điểm a đến điểm g khoản 3 Điều này. 4. Phạm tội thuộc một trong các trường hợp sau đây, thì bị phạt tù hai mươi năm, tù chung thân hoặc tử hình: a) Nhựa thuốc phiện, nhựa cần sa hoặc cao côca có trọng lượng từ năm kilôgam trở lên; b) Hêrôin hoặc côcain có trọng lượng từ một trăm gam trở lên; c) Lá, hoa, quả cây cần sa hoặc lá cây côca có trọng lượng từ bảy mươi lăm kilôgam trở lên; d) Quả thuốc phiện khô có trọng lượng từ sáu trăm kilôgam trở lên; đ) Quả thuốc phiện tươi có trọng lượng từ một trăm năm mươi kilôgam trở lên; e) Các chất ma tuý khác ở thể rắn có trọng lượng từ ba trăm gam trở lên; g) Các chất ma tuý khác ở thể lỏng từ bảy trăm năm mươi mililít trở lên; h) Có từ hai chất ma tuý trở lên mà tổng số lượng của các chất đó tương đương với số lượng chất ma tuý quy định tại một trong các điểm từ điểm a đến điểm g khoản 4 Điều này. 5. Người phạm tội còn có thể bị phạt tiền từ năm triệu đồng đến năm trăm triệu đồng, tịch thu một phần hoặc toàn bộ tài sản, cấm đảm nhiệm chức vụ, cấm hành nghề hoặc làm công việc nhất định từ một năm đến năm năm.\n",
      "[|AI|] Khi xử lý vi phạm thì tùy vào tính chất và mức độ vi phạm mà người phạm tội sẽ bị xử lý nghiêm theo quy định của pháp luật. Trong trường hợp trên, nhận thấy: ông Phan đã vi phạm pháp luật hình sự vì có hành vi vận chuyển trái phép chất ma túy. Căn cứ vào khoản 3 Điều 194 Bộ luật Hình sự năm 1999 thì ông Phan sẽ bị phạt tù với mức phạt từ 15 năm đến 20 năm tù. Ngoài ra, ông còn có thể bị phạt tiền từ năm triệu đồng đến năm trăm triệu đồng, tịch thu một phần hoặc toàn bộ tài sản, cấm đảm nhiệm chức vụ, cấm hành nghề hoặc làm công việc nhất định từ một năm đến năm năm.\n"
     ]
    }
   ],
   "source": [
    "print(faqs.shuffle()[0]['input'])"
   ]
  },
  {
   "cell_type": "code",
   "execution_count": 820,
   "metadata": {},
   "outputs": [
    {
     "name": "stderr",
     "output_type": "stream",
     "text": [
      "Loading cached processed dataset at /Users/phamhoang1408/.cache/huggingface/datasets/json/default-e90f1f489bc5a6e2/0.0.0/cache-761db58758c19ad3.arrow\n",
      "Loading cached processed dataset at /Users/phamhoang1408/.cache/huggingface/datasets/json/default-e90f1f489bc5a6e2/0.0.0/cache-a81d967f499143fb.arrow\n"
     ]
    }
   ],
   "source": [
    "text = 'Cuộc trò chuyện giữa con người và trợ lý AI.\\n'\n",
    "text2 = ' Nếu không đủ thông tin để trả lời thì trả lời: Tôi không biết.'\n",
    "text3 = 'Điều luật liên quan: '\n",
    "text4 = ' Chỉ được trả lời dựa trên điều luật được cung cấp.'\n",
    "def mapper(x):\n",
    "    return {\n",
    "        'input': text,\n",
    "        'output': x['input'].removeprefix(text).replace(text2,'').replace(text3, 'Điều luật liên quan:\\n').replace(text4, '') + '\\n[|Con người|]',\n",
    "    }\n",
    "\n",
    "def mapper2(x):\n",
    "    ai_index = x['output'].find('[|AI|]')\n",
    "    return {\n",
    "        'input': x['input'] + x['output'][:ai_index + 7],\n",
    "        'output': x['output'][ai_index + 7:],\n",
    "    }\n",
    "\n",
    "temp_faqs = faqs.map(mapper, batched=False).map(mapper2, batched=False)"
   ]
  },
  {
   "cell_type": "code",
   "execution_count": 821,
   "metadata": {},
   "outputs": [],
   "source": [
    "temp_faqs_df = temp_faqs.to_pandas()\n",
    "temp_faqs_df = temp_faqs_df.drop_duplicates(subset=['output']).reset_index(drop=True)\n",
    "temp_faqs_df['length_input'] = temp_faqs_df['input'].apply(lambda x: len(tokenizer.tokenize(x)))\n",
    "temp_faqs_df['length_output'] = temp_faqs_df['output'].apply(lambda x: len(tokenizer.tokenize(x)))"
   ]
  },
  {
   "cell_type": "code",
   "execution_count": 823,
   "metadata": {},
   "outputs": [
    {
     "data": {
      "text/html": [
       "<div>\n",
       "<style scoped>\n",
       "    .dataframe tbody tr th:only-of-type {\n",
       "        vertical-align: middle;\n",
       "    }\n",
       "\n",
       "    .dataframe tbody tr th {\n",
       "        vertical-align: top;\n",
       "    }\n",
       "\n",
       "    .dataframe thead th {\n",
       "        text-align: right;\n",
       "    }\n",
       "</style>\n",
       "<table border=\"1\" class=\"dataframe\">\n",
       "  <thead>\n",
       "    <tr style=\"text-align: right;\">\n",
       "      <th></th>\n",
       "      <th>input</th>\n",
       "      <th>output</th>\n",
       "      <th>length_input</th>\n",
       "      <th>length_output</th>\n",
       "    </tr>\n",
       "  </thead>\n",
       "  <tbody>\n",
       "    <tr>\n",
       "      <th>0</th>\n",
       "      <td>Cuộc trò chuyện giữa con người và trợ lý AI.\\n...</td>\n",
       "      <td>Theo quy định tại Điều 57 Bộ luật Hình sự 2015...</td>\n",
       "      <td>257</td>\n",
       "      <td>209</td>\n",
       "    </tr>\n",
       "    <tr>\n",
       "      <th>1</th>\n",
       "      <td>Cuộc trò chuyện giữa con người và trợ lý AI.\\n...</td>\n",
       "      <td>Giữa bạn và người bạn của mình đã giao kết hợp...</td>\n",
       "      <td>364</td>\n",
       "      <td>335</td>\n",
       "    </tr>\n",
       "    <tr>\n",
       "      <th>2</th>\n",
       "      <td>Cuộc trò chuyện giữa con người và trợ lý AI.\\n...</td>\n",
       "      <td>Căn cứ theo quy định tại Điều 51 Luật thi hành...</td>\n",
       "      <td>642</td>\n",
       "      <td>317</td>\n",
       "    </tr>\n",
       "    <tr>\n",
       "      <th>3</th>\n",
       "      <td>Cuộc trò chuyện giữa con người và trợ lý AI.\\n...</td>\n",
       "      <td>1. Chơi tài xỉu có phải là đánh bạc? Tài xỉu l...</td>\n",
       "      <td>797</td>\n",
       "      <td>912</td>\n",
       "    </tr>\n",
       "    <tr>\n",
       "      <th>4</th>\n",
       "      <td>Cuộc trò chuyện giữa con người và trợ lý AI.\\n...</td>\n",
       "      <td>Theo Điều 472 Bộ Luật Dân Sự 2015 thì hợp đồng...</td>\n",
       "      <td>146</td>\n",
       "      <td>192</td>\n",
       "    </tr>\n",
       "    <tr>\n",
       "      <th>...</th>\n",
       "      <td>...</td>\n",
       "      <td>...</td>\n",
       "      <td>...</td>\n",
       "      <td>...</td>\n",
       "    </tr>\n",
       "    <tr>\n",
       "      <th>2617</th>\n",
       "      <td>Cuộc trò chuyện giữa con người và trợ lý AI.\\n...</td>\n",
       "      <td>Thời gian làm thêm giờ (hay còn gọi là giờ tăn...</td>\n",
       "      <td>513</td>\n",
       "      <td>514</td>\n",
       "    </tr>\n",
       "    <tr>\n",
       "      <th>2618</th>\n",
       "      <td>Cuộc trò chuyện giữa con người và trợ lý AI.\\n...</td>\n",
       "      <td>Theo quy định Khoản 4 tại Điều 250 Bộ luật hìn...</td>\n",
       "      <td>1399</td>\n",
       "      <td>224</td>\n",
       "    </tr>\n",
       "    <tr>\n",
       "      <th>2619</th>\n",
       "      <td>Cuộc trò chuyện giữa con người và trợ lý AI.\\n...</td>\n",
       "      <td>Căn cứ khoản 3 Điều 111 Bộ luật Lao động 2019 ...</td>\n",
       "      <td>214</td>\n",
       "      <td>211</td>\n",
       "    </tr>\n",
       "    <tr>\n",
       "      <th>2620</th>\n",
       "      <td>Cuộc trò chuyện giữa con người và trợ lý AI.\\n...</td>\n",
       "      <td>1. Đối tượng áp dụng Tái hòa nhập cộng đồng th...</td>\n",
       "      <td>723</td>\n",
       "      <td>439</td>\n",
       "    </tr>\n",
       "    <tr>\n",
       "      <th>2621</th>\n",
       "      <td>Cuộc trò chuyện giữa con người và trợ lý AI.\\n...</td>\n",
       "      <td>Vì diện tích đất của gia đình bạn là loại đất ...</td>\n",
       "      <td>719</td>\n",
       "      <td>212</td>\n",
       "    </tr>\n",
       "  </tbody>\n",
       "</table>\n",
       "<p>2622 rows × 4 columns</p>\n",
       "</div>"
      ],
      "text/plain": [
       "                                                  input  \\\n",
       "0     Cuộc trò chuyện giữa con người và trợ lý AI.\\n...   \n",
       "1     Cuộc trò chuyện giữa con người và trợ lý AI.\\n...   \n",
       "2     Cuộc trò chuyện giữa con người và trợ lý AI.\\n...   \n",
       "3     Cuộc trò chuyện giữa con người và trợ lý AI.\\n...   \n",
       "4     Cuộc trò chuyện giữa con người và trợ lý AI.\\n...   \n",
       "...                                                 ...   \n",
       "2617  Cuộc trò chuyện giữa con người và trợ lý AI.\\n...   \n",
       "2618  Cuộc trò chuyện giữa con người và trợ lý AI.\\n...   \n",
       "2619  Cuộc trò chuyện giữa con người và trợ lý AI.\\n...   \n",
       "2620  Cuộc trò chuyện giữa con người và trợ lý AI.\\n...   \n",
       "2621  Cuộc trò chuyện giữa con người và trợ lý AI.\\n...   \n",
       "\n",
       "                                                 output  length_input  \\\n",
       "0     Theo quy định tại Điều 57 Bộ luật Hình sự 2015...           257   \n",
       "1     Giữa bạn và người bạn của mình đã giao kết hợp...           364   \n",
       "2     Căn cứ theo quy định tại Điều 51 Luật thi hành...           642   \n",
       "3     1. Chơi tài xỉu có phải là đánh bạc? Tài xỉu l...           797   \n",
       "4     Theo Điều 472 Bộ Luật Dân Sự 2015 thì hợp đồng...           146   \n",
       "...                                                 ...           ...   \n",
       "2617  Thời gian làm thêm giờ (hay còn gọi là giờ tăn...           513   \n",
       "2618  Theo quy định Khoản 4 tại Điều 250 Bộ luật hìn...          1399   \n",
       "2619  Căn cứ khoản 3 Điều 111 Bộ luật Lao động 2019 ...           214   \n",
       "2620  1. Đối tượng áp dụng Tái hòa nhập cộng đồng th...           723   \n",
       "2621  Vì diện tích đất của gia đình bạn là loại đất ...           719   \n",
       "\n",
       "      length_output  \n",
       "0               209  \n",
       "1               335  \n",
       "2               317  \n",
       "3               912  \n",
       "4               192  \n",
       "...             ...  \n",
       "2617            514  \n",
       "2618            224  \n",
       "2619            211  \n",
       "2620            439  \n",
       "2621            212  \n",
       "\n",
       "[2622 rows x 4 columns]"
      ]
     },
     "execution_count": 823,
     "metadata": {},
     "output_type": "execute_result"
    }
   ],
   "source": [
    "temp_faqs_df"
   ]
  },
  {
   "cell_type": "code",
   "execution_count": 822,
   "metadata": {},
   "outputs": [
    {
     "name": "stdout",
     "output_type": "stream",
     "text": [
      "('Cuộc trò chuyện giữa con người và trợ lý AI.\\n'\n",
      " '[|Con người|] Trả lời câu hỏi pháp luật dựa vào những điều luật liên quan '\n",
      " 'dưới đây.\\n'\n",
      " 'Câu hỏi: Bố tôi mua một khu đất của ông A từ năm 2005 (có đầy đủ giấy tờ mua '\n",
      " 'bán và đã trả đủ tiền). Đến nay là 10 năm, cả bố tôi và ông A đều đã qua '\n",
      " 'đời. Bìa đỏ hiện vẫn mang tên ông A. Tôi muốn hỏi về thủ tục làm giấy tờ '\n",
      " 'chuyển quyền sử dụng đất? Ngoài ra, nếu bây giờ các con của ông A gây khó '\n",
      " 'khăn do không được làm chứng việc mua bán đó thì phải làm thế nào?\\n'\n",
      " 'Điều luật liên quan:\\n'\n",
      " 'Điều 109. Chiếm hữu, sử dụng, định đoạt tài sản chung của hộ gia đình 1. Các '\n",
      " 'thành viên của hộ gia đình chiếm hữu và sử dụng tài sản chung của hộ theo '\n",
      " 'phương thức thoả thuận. 2. Việc định đoạt tài sản là tư liệu sản xuất, tài '\n",
      " 'sản chung có giá trị lớn của hộ gia đình phải được các thành viên từ đủ mười '\n",
      " 'lăm tuổi trở lên đồng ý; đối với các loại tài sản chung khác phải được đa số '\n",
      " 'thành viên từ đủ mười lăm tuổi trở lên đồng ý.\\n'\n",
      " 'Điều 100. Cấp Giấy chứng nhận quyền sử dụng đất, quyền sở hữu nhà ở và tài '\n",
      " 'sản khác gắn liền với đất cho hộ gia đình, cá nhân, cộng đồng dân cư đang sử '\n",
      " 'dụng đất có giấy tờ về quyền sử dụng đất 1. Hộ gia đình, cá nhân đang sử '\n",
      " 'dụng đất ổn định mà có một trong các loại giấy tờ sau đây thì được cấp Giấy '\n",
      " 'chứng nhận quyền sử dụng đất, quyền sở hữu nhà ở và tài sản khác gắn liền '\n",
      " 'với đất và không phải nộp tiền sử dụng đất: a) Những giấy tờ về quyền được '\n",
      " 'sử dụng đất trước ngày 15 tháng 10 năm 1993 do cơ quan có thẩm quyền cấp '\n",
      " 'trong quá trình thực hiện chính sách đất đai của Nhà nước Việt Nam dân chủ '\n",
      " 'Cộng hòa, Chính phủ Cách mạng lâm thời Cộng hòa miền Nam Việt Nam và Nhà '\n",
      " 'nước Cộng hòa xã hội chủ nghĩa Việt Nam; b) Giấy chứng nhận quyền sử dụng '\n",
      " 'đất tạm thời được cơ quan nhà nước có thẩm quyền cấp hoặc có tên trong Sổ '\n",
      " 'đăng ký ruộng đất, Sổ địa chính trước ngày 15 tháng 10 năm 1993; c) Giấy tờ '\n",
      " 'hợp pháp về thừa kế, tặng cho quyền sử dụng đất hoặc tài sản gắn liền với '\n",
      " 'đất; giấy tờ giao nhà tình nghĩa, nhà tình thương gắn liền với đất; d) Giấy '\n",
      " 'tờ chuyển nhượng quyền sử dụng đất, mua bán nhà ở gắn liền với đất ở trước '\n",
      " 'ngày 15 tháng 10 năm 1993 được Ủy ban nhân dân cấp xã xác nhận là đã sử dụng '\n",
      " 'trước ngày 15 tháng 10 năm 1993; đ) Giấy tờ thanh lý, hóa giá nhà ở gắn liền '\n",
      " 'với đất ở; giấy tờ mua nhà ở thuộc sở hữu nhà nước theo quy định của pháp '\n",
      " 'luật; e) Giấy tờ về quyền sử dụng đất do cơ quan có thẩm quyền thuộc chế độ '\n",
      " 'cũ cấp cho người sử dụng đất; g) Các loại giấy tờ khác được xác lập trước '\n",
      " 'ngày 15 tháng 10 năm 1993 theo quy định của Chính phủ. 2. Hộ gia đình, cá '\n",
      " 'nhân đang sử dụng đất có một trong các loại giấy tờ quy định tại khoản 1 '\n",
      " 'Điều này mà trên giấy tờ đó ghi tên người khác, kèm theo giấy tờ về việc '\n",
      " 'chuyển quyền sử dụng đất có chữ ký của các bên có liên quan, nhưng đến trước '\n",
      " 'ngày Luật này có hiệu lực thi hành chưa thực hiện thủ tục chuyển quyền sử '\n",
      " 'dụng đất theo quy định của pháp luật và đất đó không có tranh chấp thì được '\n",
      " 'cấp Giấy chứng nhận quyền sử dụng đất, quyền sở hữu nhà ở và tài sản khác '\n",
      " 'gắn liền với đất và không phải nộp tiền sử dụng đất. 3. Hộ gia đình, cá nhân '\n",
      " 'được sử dụng đất theo bản án hoặc quyết định của Tòa án nhân dân, quyết định '\n",
      " 'thi hành án của cơ quan thi hành án, văn bản công nhận kết quả hòa giải '\n",
      " 'thành, quyết định giải quyết tranh chấp, khiếu nại, tố cáo về đất đai của cơ '\n",
      " 'quan nhà nước có thẩm quyền đã được thi hành thì được cấp Giấy chứng nhận '\n",
      " 'quyền sử dụng đất, quyền sở hữu nhà ở và tài sản khác gắn liền với đất; '\n",
      " 'trường hợp chưa thực hiện nghĩa vụ tài chính thì phải thực hiện theo quy '\n",
      " 'định của pháp luật. 4. Hộ gia đình, cá nhân đang sử dụng đất được Nhà nước '\n",
      " 'giao đất, cho thuê đất từ ngày 15 tháng 10 năm 1993 đến ngày Luật này có '\n",
      " 'hiệu lực thi hành mà chưa được cấp Giấy chứng nhận thì được cấp Giấy chứng '\n",
      " 'nhận quyền sử dụng đất, quyền sở hữu nhà ở và tài sản khác gắn liền với đất; '\n",
      " 'trường hợp chưa thực hiện nghĩa vụ tài chính thì phải thực hiện theo quy '\n",
      " 'định của pháp luật. 5. Cộng đồng dân cư đang sử dụng đất có công trình là '\n",
      " 'đình, đền, miếu, am, từ đường, nhà thờ họ; đất nông nghiệp quy định tại '\n",
      " 'khoản 3 Điều 131 của Luật này và đất đó không có tranh chấp, được Ủy ban '\n",
      " 'nhân dân cấp xã nơi có đất xác nhận là đất sử dụng chung cho cộng đồng thì '\n",
      " 'được cấp Giấy chứng nhận quyền sử dụng đất, quyền sở hữu nhà ở và tài sản '\n",
      " 'khác gắn liền với đất.\\n'\n",
      " '[|AI|] ')\n",
      "('Theo quy định tại khoản 2 Điều 100 Luật đất đai năm 2013 mảnh đất này thuộc '\n",
      " 'tr ường hợp được nhà nước cấp giấy chứng nhận quyền sử dụng đất : “Hộ gia '\n",
      " 'đình, cá nhân đang sử dụng đất có một trong các loại giấy tờ quy định tại '\n",
      " 'khoản 1 Điều này mà trên giấy tờ đó ghi tên người khác, kèm theo giấy tờ về '\n",
      " 'việc chuyển quyền sử dụng đất có chữ ký của các bên có liên quan, nhưng đến '\n",
      " 'trước ngày Luật này có hiệu lực thi hành chưa thực hiện thủ tục chuyển quyền '\n",
      " 'sử dụng đất theo quy định của pháp luật và đất đó không có tranh chấp thì '\n",
      " 'được cấp Giấy chứng nhận quyền sử dụng đất, quyền sở hữu nhà ở và tài sản '\n",
      " 'khác gắn liền với đất và không phải nộp tiền sử dụng đất.” Trong tr ường hợp '\n",
      " 'này, bạn cần làm thủ tục khai nhận thừa kế tại tổ chức hành nghề công chứng '\n",
      " 'và đề nghị cấp giấy chứng nhận quyền sử dụng đất, quyền sở hữu nhà ở mang '\n",
      " 'tên bạn theo quy định của pháp luật. Tuy nhiên, bạn nên l ưu ý, nếu trong tr '\n",
      " 'ường hợp sổ đổ mang tên ông A nhưng đây là đất cấp chung của hộ gia đ ình '\n",
      " 'ông A là ng ười đại diện đứng tên th ì việc chuyển quyền sử dụng đất sang '\n",
      " 'tên bạn phải có sự thỏa thuận của tất cả các thành viên gia đình ông A theo '\n",
      " 'quy định tại Điều 109 Bộ luật Dân sự 2005 về c hiếm hữu, sử dụng, định đoạt '\n",
      " 'tài sản chung của hộ gia đình như sau: “1. Các thành viên của hộ gia đình '\n",
      " 'chiếm hữu và sử dụng tài sản chung của hộ theo ph ương thức thoả thuận. 2. '\n",
      " 'Việc định đoạt tài sản là t ư liệu sản xuất, tài sản chung có giá trị lớn '\n",
      " 'của hộ gia đ ình phải được các thành viên từ đủ mười lăm tuổi trở lên đồng '\n",
      " 'ý; đối với các loại tài sản chung khác phải được đa số thành viên từ đủ mười '\n",
      " 'lăm tuổi trở lên đồng ý.” Luật sư Phạm Thị Bích Hảo, Công ty luật TNHH Đức '\n",
      " 'An, Thanh Xuân, Hà Nội\\n'\n",
      " '[|Con người|]')\n"
     ]
    }
   ],
   "source": [
    "temp = temp_faqs.shuffle()[0]\n",
    "pprint(temp['input'])\n",
    "pprint(temp['output'])\n"
   ]
  },
  {
   "cell_type": "code",
   "execution_count": 164,
   "metadata": {},
   "outputs": [
    {
     "data": {
      "text/plain": [
       "<AxesSubplot:>"
      ]
     },
     "execution_count": 164,
     "metadata": {},
     "output_type": "execute_result"
    },
    {
     "data": {
      "image/png": "[encoded data removed]",
      "text/plain": [
       "<Figure size 432x288 with 1 Axes>"
      ]
     },
     "metadata": {
      "needs_background": "light"
     },
     "output_type": "display_data"
    }
   ],
   "source": [
    "temp_faqs_df['length_input'].hist(bins=50)"
   ]
  },
  {
   "cell_type": "code",
   "execution_count": 165,
   "metadata": {},
   "outputs": [
    {
     "data": {
      "text/plain": [
       "<AxesSubplot:>"
      ]
     },
     "execution_count": 165,
     "metadata": {},
     "output_type": "execute_result"
    },
    {
     "data": {
      "image/png": "[encoded data removed]",
      "text/plain": [
       "<Figure size 432x288 with 1 Axes>"
      ]
     },
     "metadata": {
      "needs_background": "light"
     },
     "output_type": "display_data"
    }
   ],
   "source": [
    "temp_faqs_df['length_output'].hist(bins=50)"
   ]
  },
  {
   "cell_type": "code",
   "execution_count": 189,
   "metadata": {},
   "outputs": [
    {
     "data": {
      "text/html": [
       "<div>\n",
       "<style scoped>\n",
       "    .dataframe tbody tr th:only-of-type {\n",
       "        vertical-align: middle;\n",
       "    }\n",
       "\n",
       "    .dataframe tbody tr th {\n",
       "        vertical-align: top;\n",
       "    }\n",
       "\n",
       "    .dataframe thead th {\n",
       "        text-align: right;\n",
       "    }\n",
       "</style>\n",
       "<table border=\"1\" class=\"dataframe\">\n",
       "  <thead>\n",
       "    <tr style=\"text-align: right;\">\n",
       "      <th></th>\n",
       "      <th>input</th>\n",
       "      <th>output</th>\n",
       "      <th>length_input</th>\n",
       "      <th>length_output</th>\n",
       "    </tr>\n",
       "  </thead>\n",
       "  <tbody>\n",
       "    <tr>\n",
       "      <th>0</th>\n",
       "      <td>Cuộc trò chuyện giữa con người và trợ lý AI.\\n...</td>\n",
       "      <td>Theo Điều 429 Bộ Luật Dân sự 2015 quy định về ...</td>\n",
       "      <td>113</td>\n",
       "      <td>69</td>\n",
       "    </tr>\n",
       "    <tr>\n",
       "      <th>1</th>\n",
       "      <td>Cuộc trò chuyện giữa con người và trợ lý AI.\\n...</td>\n",
       "      <td>Hàng hóa luân chuyển trong quá trình sản xuất,...</td>\n",
       "      <td>825</td>\n",
       "      <td>274</td>\n",
       "    </tr>\n",
       "    <tr>\n",
       "      <th>2</th>\n",
       "      <td>Cuộc trò chuyện giữa con người và trợ lý AI.\\n...</td>\n",
       "      <td>Ngày kháng cáo được xác định quy định tại khoả...</td>\n",
       "      <td>338</td>\n",
       "      <td>198</td>\n",
       "    </tr>\n",
       "    <tr>\n",
       "      <th>3</th>\n",
       "      <td>Cuộc trò chuyện giữa con người và trợ lý AI.\\n...</td>\n",
       "      <td>Theo quy định tại khoản 3 Điều 51 Luật Hôn nhâ...</td>\n",
       "      <td>229</td>\n",
       "      <td>95</td>\n",
       "    </tr>\n",
       "    <tr>\n",
       "      <th>4</th>\n",
       "      <td>Cuộc trò chuyện giữa con người và trợ lý AI.\\n...</td>\n",
       "      <td>Theo quy định của Bộ luật Dân sự năm 2005 và Đ...</td>\n",
       "      <td>191</td>\n",
       "      <td>128</td>\n",
       "    </tr>\n",
       "    <tr>\n",
       "      <th>...</th>\n",
       "      <td>...</td>\n",
       "      <td>...</td>\n",
       "      <td>...</td>\n",
       "      <td>...</td>\n",
       "    </tr>\n",
       "    <tr>\n",
       "      <th>744</th>\n",
       "      <td>Cuộc trò chuyện giữa con người và trợ lý AI.\\n...</td>\n",
       "      <td>Theo Điều 603 Bộ luật Dân sự 2015 việc bồi thư...</td>\n",
       "      <td>296</td>\n",
       "      <td>101</td>\n",
       "    </tr>\n",
       "    <tr>\n",
       "      <th>745</th>\n",
       "      <td>Cuộc trò chuyện giữa con người và trợ lý AI.\\n...</td>\n",
       "      <td>Theo quy định tại Điều 52 Luật Đất đai 2013 th...</td>\n",
       "      <td>136</td>\n",
       "      <td>87</td>\n",
       "    </tr>\n",
       "    <tr>\n",
       "      <th>746</th>\n",
       "      <td>Cuộc trò chuyện giữa con người và trợ lý AI.\\n...</td>\n",
       "      <td>Theo quy định tại Điều 41 Nghị định số 22/2017...</td>\n",
       "      <td>588</td>\n",
       "      <td>259</td>\n",
       "    </tr>\n",
       "    <tr>\n",
       "      <th>747</th>\n",
       "      <td>Cuộc trò chuyện giữa con người và trợ lý AI.\\n...</td>\n",
       "      <td>Theo quy định Khoản 4 tại Điều 250 Bộ luật hìn...</td>\n",
       "      <td>1399</td>\n",
       "      <td>224</td>\n",
       "    </tr>\n",
       "    <tr>\n",
       "      <th>748</th>\n",
       "      <td>Cuộc trò chuyện giữa con người và trợ lý AI.\\n...</td>\n",
       "      <td>Vì diện tích đất của gia đình bạn là loại đất ...</td>\n",
       "      <td>719</td>\n",
       "      <td>212</td>\n",
       "    </tr>\n",
       "  </tbody>\n",
       "</table>\n",
       "<p>749 rows × 4 columns</p>\n",
       "</div>"
      ],
      "text/plain": [
       "                                                 input  \\\n",
       "0    Cuộc trò chuyện giữa con người và trợ lý AI.\\n...   \n",
       "1    Cuộc trò chuyện giữa con người và trợ lý AI.\\n...   \n",
       "2    Cuộc trò chuyện giữa con người và trợ lý AI.\\n...   \n",
       "3    Cuộc trò chuyện giữa con người và trợ lý AI.\\n...   \n",
       "4    Cuộc trò chuyện giữa con người và trợ lý AI.\\n...   \n",
       "..                                                 ...   \n",
       "744  Cuộc trò chuyện giữa con người và trợ lý AI.\\n...   \n",
       "745  Cuộc trò chuyện giữa con người và trợ lý AI.\\n...   \n",
       "746  Cuộc trò chuyện giữa con người và trợ lý AI.\\n...   \n",
       "747  Cuộc trò chuyện giữa con người và trợ lý AI.\\n...   \n",
       "748  Cuộc trò chuyện giữa con người và trợ lý AI.\\n...   \n",
       "\n",
       "                                                output  length_input  \\\n",
       "0    Theo Điều 429 Bộ Luật Dân sự 2015 quy định về ...           113   \n",
       "1    Hàng hóa luân chuyển trong quá trình sản xuất,...           825   \n",
       "2    Ngày kháng cáo được xác định quy định tại khoả...           338   \n",
       "3    Theo quy định tại khoản 3 Điều 51 Luật Hôn nhâ...           229   \n",
       "4    Theo quy định của Bộ luật Dân sự năm 2005 và Đ...           191   \n",
       "..                                                 ...           ...   \n",
       "744  Theo Điều 603 Bộ luật Dân sự 2015 việc bồi thư...           296   \n",
       "745  Theo quy định tại Điều 52 Luật Đất đai 2013 th...           136   \n",
       "746  Theo quy định tại Điều 41 Nghị định số 22/2017...           588   \n",
       "747  Theo quy định Khoản 4 tại Điều 250 Bộ luật hìn...          1399   \n",
       "748  Vì diện tích đất của gia đình bạn là loại đất ...           719   \n",
       "\n",
       "     length_output  \n",
       "0               69  \n",
       "1              274  \n",
       "2              198  \n",
       "3               95  \n",
       "4              128  \n",
       "..             ...  \n",
       "744            101  \n",
       "745             87  \n",
       "746            259  \n",
       "747            224  \n",
       "748            212  \n",
       "\n",
       "[749 rows x 4 columns]"
      ]
     },
     "execution_count": 189,
     "metadata": {},
     "output_type": "execute_result"
    }
   ],
   "source": [
    "temp_1 = temp_faqs_df[(temp_faqs_df['length_output'] <= 0.7 * temp_faqs_df['length_input']) & (temp_faqs_df['length_output'] <= 300)].reset_index(drop=True)\n",
    "temp_1"
   ]
  },
  {
   "cell_type": "code",
   "execution_count": 190,
   "metadata": {},
   "outputs": [
    {
     "data": {
      "text/plain": [
       "<AxesSubplot:>"
      ]
     },
     "execution_count": 190,
     "metadata": {},
     "output_type": "execute_result"
    },
    {
     "data": {
      "image/png": "[encoded data removed]",
      "text/plain": [
       "<Figure size 432x288 with 1 Axes>"
      ]
     },
     "metadata": {
      "needs_background": "light"
     },
     "output_type": "display_data"
    }
   ],
   "source": [
    "temp_1['length_output'].hist(bins=100)"
   ]
  },
  {
   "cell_type": "code",
   "execution_count": 191,
   "metadata": {},
   "outputs": [
    {
     "name": "stdout",
     "output_type": "stream",
     "text": [
      "Cuộc trò chuyện giữa con người và trợ lý AI.\n",
      "[|Con người|] Trả lời câu hỏi pháp luật dựa vào những điều luật liên quan dưới đây.\n",
      "Câu hỏi: Buôn bán vaccine covid 19 giả bị áp dụng những hình phạt bổ sung nào?\n",
      "Điều luật liên quan:\n",
      "Điều 9. Hành vi buôn bán hàng giả về giá trị sử dụng, công dụng 1. Đối với hành vi buôn bán hàng giả về giá trị sử dụng, công dụng quy định tại điểm a, b, c và d khoản 7 Điều 3 của Nghị định này, mức phạt tiền như sau: a) Phạt tiền từ 1.000.000 đồng đến 3.000.000 đồng trong trường hợp hàng giả tương đương với số lượng của hàng thật có trị giá dưới 3.000.000 đồng hoặc thu lợi bất hợp pháp dưới 5.000.000 đồng; b) Phạt tiền từ 3.000.000 đồng đến 5.000.000 đồng trong trường hợp hàng giả tương đương với số lượng của hàng thật có trị giá từ 3.000.000 đồng đến dưới 5.000.000 đồng hoặc thu lợi bất hợp pháp từ 5.000.000 đồng đến dưới 10.000.000 đồng; c) Phạt tiền từ 5.000.000 đồng đến 10.000.000 đồng trong trường hợp hàng giả tương đương với số lượng của hàng thật có trị giá từ 5.000.000 đồng đến dưới 10.000.000 đồng hoặc thu lợi bất hợp pháp từ 10.000.000 đồng đến dưới 20.000.000 đồng; d) Phạt tiền từ 10.000.000 đồng đến 30.000.000 đồng trong trường hợp hàng giả tương đương với số lượng của hàng thật có trị giá từ 10.000.000 đồng đến dưới 20.000.000 đồng hoặc thu lợi bất hợp pháp từ 20.000.000 đồng đến dưới 30.000.000 đồng; đ) Phạt tiền từ 30.000.000 đồng đến 50.000.000 đồng trong trường hợp hàng giả tương đương với số lượng của hàng thật có trị giá từ 20.000.000 đồng đến dưới 30.000.000 đồng hoặc thu lợi bất hợp pháp từ 30.000.000 đồng đến dưới 50.000.000 đồng; e) Phạt tiền từ 50.000.000 đồng đến 70.000.000 đồng trong trường hợp hàng giả tương đương với số lượng của hàng thật có trị giá từ 30.000.000 đồng trở lên hoặc thu lợi bất hợp pháp từ 50.000.000 đồng trở lên mà không bị truy cứu trách nhiệm hình sự. 2. Phạt tiền gấp hai lần các mức tiền phạt quy định tại khoản 1 Điều này đối với hành vi nhập khẩu hàng giả hoặc hàng giả thuộc một trong các trường hợp sau đây: a) Là thực phẩm, phụ gia thực phẩm, chất hỗ trợ chế biến thực phẩm, chất bảo quản thực phẩm, thuốc, nguyên liệu làm thuốc mà không bị truy cứu trách nhiệm hình sự; b) Là thức ăn chăn nuôi, thức ăn thủy sản, sản phẩm xử lý môi trường nuôi trồng thủy sản, sản phẩm xử lý chất thải chăn nuôi, phân bón, thuốc thú y, thuốc bảo vệ thực vật, giống cây trồng, giống vật nuôi; c) Là mỹ phẩm, trang thiết bị y tế, chất tẩy rửa, hoá chất, chế phẩm diệt côn trùng, diệt khuẩn dùng trong lĩnh vực gia dụng và y tế, xi măng, sắt thép xây dựng, mũ bảo hiểm. 3. Hình thức xử phạt bổ sung: a) Tịch thu tang vật đối với hành vi vi phạm quy định tại Điều này, trừ trường hợp áp dụng biện pháp khắc phục hậu quả quy định tại điểm a hoặc điểm b khoản 4 Điều này; b) Tước quyền sử dụng giấy phép, chứng chỉ hành nghề từ 06 tháng đến 12 tháng đối với hành vi vi phạm quy định tại Điều này trong trường hợp vi phạm nhiều lần hoặc tái phạm. 4. Biện pháp khắc phục hậu quả: a) Buộc tiêu hủy tang vật đối với hành vi vi phạm quy định tại Điều này, trừ trường hợp áp dụng biện pháp khắc phục hậu quả quy định tại điểm b khoản này; b) Buộc đưa ra khỏi lãnh thổ nước Cộng hoà xã hội chủ nghĩa Việt Nam hoặc tái xuất hàng giả đối với hành vi nhập khẩu hàng giả quy định tại Điều này; c) Buộc nộp lại số lợi bất hợp pháp có được do thực hiện hành vi vi phạm quy định tại Điều này.\n",
      "[|AI|] Căn cứ khoản 3 Điều 9 Nghị định 98/2020/NĐ-CP quy định hình thức xử phạt bổ sung với hành vi buôn bán vaccine giả như sau: + Tịch thu tang vật đối với hành vi vi phạm quy định tại Điều này (trừ trường hợp bị áp dụng biện pháp tiêu hủy tang vật hoặc buộc đưa khỏi lãnh thổ Việt Nam hoặc đã tái xuất hàng giả). + Tước quyền sử dụng giấy phép, chứng chỉ hành nghề từ 06 tháng đến 12 tháng đối với hành vi vi phạm quy định tại Điều này trong trường hợp vi phạm nhiều lần hoặc tái phạm.\n",
      "[|Con người|]\n"
     ]
    }
   ],
   "source": [
    "temp_faqs = Dataset.from_pandas(temp_1)\n",
    "temp = temp_faqs.shuffle()[0]\n",
    "print(temp['input'] + temp['output'])"
   ]
  },
  {
   "cell_type": "code",
   "execution_count": 192,
   "metadata": {},
   "outputs": [
    {
     "name": "stdout",
     "output_type": "stream",
     "text": [
      "('Cuộc trò chuyện giữa con người và trợ lý AI.\\n'\n",
      " '[|Con người|] Trả lời câu hỏi pháp luật dựa vào những điều luật liên quan '\n",
      " 'dưới đây.\\n'\n",
      " 'Câu hỏi: Buôn bán vaccine covid 19 giả bị áp dụng những hình phạt bổ sung '\n",
      " 'nào?\\n'\n",
      " 'Điều luật liên quan:\\n'\n",
      " 'Điều 9. Hành vi buôn bán hàng giả về giá trị sử dụng, công dụng 1. Đối với '\n",
      " 'hành vi buôn bán hàng giả về giá trị sử dụng, công dụng quy định tại điểm a, '\n",
      " 'b, c và d khoản 7 Điều 3 của Nghị định này, mức phạt tiền như sau: a) Phạt '\n",
      " 'tiền từ 1.000.000 đồng đến 3.000.000 đồng trong trường hợp hàng giả tương '\n",
      " 'đương với số lượng của hàng thật có trị giá dưới 3.000.000 đồng hoặc thu lợi '\n",
      " 'bất hợp pháp dưới 5.000.000 đồng; b) Phạt tiền từ 3.000.000 đồng đến '\n",
      " '5.000.000 đồng trong trường hợp hàng giả tương đương với số lượng của hàng '\n",
      " 'thật có trị giá từ 3.000.000 đồng đến dưới 5.000.000 đồng hoặc thu lợi bất '\n",
      " 'hợp pháp từ 5.000.000 đồng đến dưới 10.000.000 đồng; c) Phạt tiền từ '\n",
      " '5.000.000 đồng đến 10.000.000 đồng trong trường hợp hàng giả tương đương với '\n",
      " 'số lượng của hàng thật có trị giá từ 5.000.000 đồng đến dưới 10.000.000 đồng '\n",
      " 'hoặc thu lợi bất hợp pháp từ 10.000.000 đồng đến dưới 20.000.000 đồng; d) '\n",
      " 'Phạt tiền từ 10.000.000 đồng đến 30.000.000 đồng trong trường hợp hàng giả '\n",
      " 'tương đương với số lượng của hàng thật có trị giá từ 10.000.000 đồng đến '\n",
      " 'dưới 20.000.000 đồng hoặc thu lợi bất hợp pháp từ 20.000.000 đồng đến dưới '\n",
      " '30.000.000 đồng; đ) Phạt tiền từ 30.000.000 đồng đến 50.000.000 đồng trong '\n",
      " 'trường hợp hàng giả tương đương với số lượng của hàng thật có trị giá từ '\n",
      " '20.000.000 đồng đến dưới 30.000.000 đồng hoặc thu lợi bất hợp pháp từ '\n",
      " '30.000.000 đồng đến dưới 50.000.000 đồng; e) Phạt tiền từ 50.000.000 đồng '\n",
      " 'đến 70.000.000 đồng trong trường hợp hàng giả tương đương với số lượng của '\n",
      " 'hàng thật có trị giá từ 30.000.000 đồng trở lên hoặc thu lợi bất hợp pháp từ '\n",
      " '50.000.000 đồng trở lên mà không bị truy cứu trách nhiệm hình sự. 2. Phạt '\n",
      " 'tiền gấp hai lần các mức tiền phạt quy định tại khoản 1 Điều này đối với '\n",
      " 'hành vi nhập khẩu hàng giả hoặc hàng giả thuộc một trong các trường hợp sau '\n",
      " 'đây: a) Là thực phẩm, phụ gia thực phẩm, chất hỗ trợ chế biến thực phẩm, '\n",
      " 'chất bảo quản thực phẩm, thuốc, nguyên liệu làm thuốc mà không bị truy cứu '\n",
      " 'trách nhiệm hình sự; b) Là thức ăn chăn nuôi, thức ăn thủy sản, sản phẩm xử '\n",
      " 'lý môi trường nuôi trồng thủy sản, sản phẩm xử lý chất thải chăn nuôi, phân '\n",
      " 'bón, thuốc thú y, thuốc bảo vệ thực vật, giống cây trồng, giống vật nuôi; c) '\n",
      " 'Là mỹ phẩm, trang thiết bị y tế, chất tẩy rửa, hoá chất, chế phẩm diệt côn '\n",
      " 'trùng, diệt khuẩn dùng trong lĩnh vực gia dụng và y tế, xi măng, sắt thép '\n",
      " 'xây dựng, mũ bảo hiểm. 3. Hình thức xử phạt bổ sung: a) Tịch thu tang vật '\n",
      " 'đối với hành vi vi phạm quy định tại Điều này, trừ trường hợp áp dụng biện '\n",
      " 'pháp khắc phục hậu quả quy định tại điểm a hoặc điểm b khoản 4 Điều này; b) '\n",
      " 'Tước quyền sử dụng giấy phép, chứng chỉ hành nghề từ 06 tháng đến 12 tháng '\n",
      " 'đối với hành vi vi phạm quy định tại Điều này trong trường hợp vi phạm nhiều '\n",
      " 'lần hoặc tái phạm. 4. Biện pháp khắc phục hậu quả: a) Buộc tiêu hủy tang vật '\n",
      " 'đối với hành vi vi phạm quy định tại Điều này, trừ trường hợp áp dụng biện '\n",
      " 'pháp khắc phục hậu quả quy định tại điểm b khoản này; b) Buộc đưa ra khỏi '\n",
      " 'lãnh thổ nước Cộng hoà xã hội chủ nghĩa Việt Nam hoặc tái xuất hàng giả đối '\n",
      " 'với hành vi nhập khẩu hàng giả quy định tại Điều này; c) Buộc nộp lại số lợi '\n",
      " 'bất hợp pháp có được do thực hiện hành vi vi phạm quy định tại Điều này.\\n'\n",
      " '[|AI|] ')\n",
      "('Căn cứ khoản 3 Điều 9 Nghị định 98/2020/NĐ-CP quy định hình thức xử phạt bổ '\n",
      " 'sung với hành vi buôn bán vaccine giả như sau: + Tịch thu tang vật đối với '\n",
      " 'hành vi vi phạm quy định tại Điều này (trừ trường hợp bị áp dụng biện pháp '\n",
      " 'tiêu hủy tang vật hoặc buộc đưa khỏi lãnh thổ Việt Nam hoặc đã tái xuất hàng '\n",
      " 'giả). + Tước quyền sử dụng giấy phép, chứng chỉ hành nghề từ 06 tháng đến 12 '\n",
      " 'tháng đối với hành vi vi phạm quy định tại Điều này trong trường hợp vi phạm '\n",
      " 'nhiều lần hoặc tái phạm.\\n'\n",
      " '[|Con người|]')\n"
     ]
    }
   ],
   "source": [
    "pprint(temp['input'])\n",
    "pprint(temp['output'])"
   ]
  },
  {
   "cell_type": "code",
   "execution_count": 194,
   "metadata": {},
   "outputs": [
    {
     "data": {
      "application/vnd.jupyter.widget-view+json": {
       "model_id": "2b5d8a1b9707477e9234b1944ed6de67",
       "version_major": 2,
       "version_minor": 0
      },
      "text/plain": [
       "Creating json from Arrow format:   0%|          | 0/1 [00:00<?, ?ba/s]"
      ]
     },
     "metadata": {},
     "output_type": "display_data"
    },
    {
     "data": {
      "text/plain": [
       "4434206"
      ]
     },
     "execution_count": 194,
     "metadata": {},
     "output_type": "execute_result"
    }
   ],
   "source": [
    "temp_faqs.remove_columns(['length_input', 'length_output'])\n",
    "temp_faqs.to_json('../../../data/training_14_8/faqs.jsonl', orient='records', lines=True)"
   ]
  },
  {
   "cell_type": "markdown",
   "metadata": {},
   "source": [
    "### SHARE_GPT"
   ]
  },
  {
   "cell_type": "code",
   "execution_count": null,
   "metadata": {},
   "outputs": [],
   "source": [
    "share = pd.read_json('/Users/phamhoang1408/Desktop/Phase 2 Viettel/main_repo/data/original/share_gpt_no_code_conversations_40k.json', orient='records', lines=True)\n",
    "share.columns = ['input']\n",
    "share.dropna(inplace=True)\n",
    "share.reset_index(drop=True, inplace=True)\n",
    "share = Dataset.from_pandas(share)"
   ]
  },
  {
   "cell_type": "code",
   "execution_count": null,
   "metadata": {},
   "outputs": [],
   "source": [
    "share = share.filter(lambda x: len(tokenizer.tokenize(x[\"input\"])) < 2000)"
   ]
  },
  {
   "cell_type": "code",
   "execution_count": null,
   "metadata": {},
   "outputs": [],
   "source": [
    "share.shuffle().select(range(1000)).map(lambda x: {'len':len(tokenizer.tokenize(x['input']))}).to_pandas().hist(bins=100)"
   ]
  },
  {
   "cell_type": "code",
   "execution_count": null,
   "metadata": {},
   "outputs": [],
   "source": [
    "# text = 'Cuộc trò chuyện giữa con người và trợ lý AI.\\n'\n",
    "text = 'The conversation between human and AI assistant.\\n'\n",
    "def mapper(x):\n",
    "    return {\n",
    "        'input': text,\n",
    "        'output': x['input'].removeprefix(text) + '\\n[|Con người|]'\n",
    "    }\n",
    "share = share.map(mapper, batched=False)"
   ]
  },
  {
   "cell_type": "code",
   "execution_count": null,
   "metadata": {},
   "outputs": [],
   "source": [
    "share"
   ]
  },
  {
   "cell_type": "code",
   "execution_count": null,
   "metadata": {},
   "outputs": [],
   "source": [
    "share[0]"
   ]
  },
  {
   "cell_type": "code",
   "execution_count": null,
   "metadata": {},
   "outputs": [],
   "source": [
    "share"
   ]
  },
  {
   "cell_type": "code",
   "execution_count": null,
   "metadata": {},
   "outputs": [],
   "source": [
    "share.to_json('../../data/training_english/share_gpt_38k.jsonl', orient='records', lines=True)"
   ]
  },
  {
   "cell_type": "markdown",
   "metadata": {},
   "source": [
    "### QUORA"
   ]
  },
  {
   "cell_type": "code",
   "execution_count": null,
   "metadata": {},
   "outputs": [],
   "source": [
    "quora = Dataset.from_json('../../../data/translated/quora_chat_data_translated.json')"
   ]
  },
  {
   "cell_type": "code",
   "execution_count": null,
   "metadata": {},
   "outputs": [],
   "source": [
    "print(quora.shuffle()[0]['prompt'])"
   ]
  },
  {
   "cell_type": "code",
   "execution_count": null,
   "metadata": {},
   "outputs": [],
   "source": [
    "quora.shuffle().select(range(1000)).map(lambda x: {'len':len(tokenizer.tokenize(x['prompt']))}).to_pandas().hist(bins=100)"
   ]
  },
  {
   "cell_type": "code",
   "execution_count": null,
   "metadata": {},
   "outputs": [],
   "source": [
    "temp_quora = quora.shuffle().select(range(20000))\n",
    "temp_quora"
   ]
  },
  {
   "cell_type": "code",
   "execution_count": null,
   "metadata": {},
   "outputs": [],
   "source": [
    "text = 'Cuộc trò chuyện giữa con người và trợ lý AI.\\n'\n",
    "def mapper(x):\n",
    "    return {\n",
    "        'input': text,\n",
    "        'output': x['prompt'].removeprefix(text) + '\\n[|Con người|]',\n",
    "    }\n",
    "\n",
    "temp_quora = temp_quora.map(mapper, batched=False, remove_columns=['prompt'])"
   ]
  },
  {
   "cell_type": "code",
   "execution_count": null,
   "metadata": {},
   "outputs": [],
   "source": [
    "temp_quora.to_json('../../data/training_3_8/quora_20k_samples.jsonl', orient='records', lines=True)"
   ]
  },
  {
   "cell_type": "markdown",
   "metadata": {},
   "source": [
    "### OASST"
   ]
  },
  {
   "cell_type": "code",
   "execution_count": null,
   "metadata": {},
   "outputs": [],
   "source": [
    "oasst = Dataset.from_json('/Users/phamhoang1408/Desktop/Phase 2 Viettel/main_repo/data/translated/oasst_translated.json')\n",
    "oasst = oasst.filter(lambda x: not ('```' in x['text'] or 'trăn' in x['text'] or \"'''\" in x['text']))\n",
    "oasst"
   ]
  },
  {
   "cell_type": "code",
   "execution_count": null,
   "metadata": {},
   "outputs": [],
   "source": [
    "temp_oasst2 = oasst.filter(lambda x: len(tokenizer.tokenize(x['text'])) > 100)"
   ]
  },
  {
   "cell_type": "code",
   "execution_count": null,
   "metadata": {},
   "outputs": [],
   "source": [
    "temp_oasst2"
   ]
  },
  {
   "cell_type": "code",
   "execution_count": null,
   "metadata": {},
   "outputs": [],
   "source": [
    "text = 'Cuộc trò chuyện giữa con người và trợ lý AI.\\n'\n",
    "def mapper(x):\n",
    "    return {\n",
    "        'input': text,\n",
    "        'output': x['text'].removeprefix(text)\n",
    "    }\n",
    "\n",
    "temp_oasst = temp_oasst2.map(mapper, batched=False, remove_columns=['text'])"
   ]
  },
  {
   "cell_type": "code",
   "execution_count": null,
   "metadata": {},
   "outputs": [],
   "source": [
    "temp = temp_oasst.shuffle()[0]\n",
    "print(temp['input'] + temp['output'])"
   ]
  },
  {
   "cell_type": "code",
   "execution_count": null,
   "metadata": {},
   "outputs": [],
   "source": [
    "temp_oasst.to_json('../../../data/training_14_8/oasst_19k_samples.jsonl', orient='records', lines=True)"
   ]
  },
  {
   "cell_type": "code",
   "execution_count": null,
   "metadata": {},
   "outputs": [],
   "source": [
    "oasst.shuffle().select(range(1000)).map(lambda x: {'len':len(tokenizer.tokenize(x['text']))}).to_pandas().hist(bins=100)"
   ]
  },
  {
   "cell_type": "code",
   "execution_count": null,
   "metadata": {},
   "outputs": [],
   "source": [
    "print(temp_oasst.shuffle()[0])"
   ]
  },
  {
   "cell_type": "code",
   "execution_count": null,
   "metadata": {},
   "outputs": [],
   "source": [
    "temp_oasst.to_json('../../data/training_3_8/oasst_20k_samples.jsonl', orient='records', lines=True)"
   ]
  },
  {
   "cell_type": "markdown",
   "metadata": {},
   "source": [
    "### ALPACA CHAT"
   ]
  },
  {
   "cell_type": "code",
   "execution_count": 15,
   "metadata": {},
   "outputs": [
    {
     "name": "stderr",
     "output_type": "stream",
     "text": [
      "Found cached dataset json (/Users/phamhoang1408/.cache/huggingface/datasets/json/default-e8795aa44813c1e9/0.0.0)\n"
     ]
    }
   ],
   "source": [
    "alpaca = Dataset.from_json('../../../data/translated/alpaca_chat_cleaned_51k_translated.json')\n",
    "temp_df = alpaca.to_pandas()\n",
    "temp_length = temp_df.apply(lambda x: len(tokenizer.tokenize(x['prompt'])), axis=1)"
   ]
  },
  {
   "cell_type": "code",
   "execution_count": 16,
   "metadata": {},
   "outputs": [
    {
     "data": {
      "text/plain": [
       "Dataset({\n",
       "    features: ['prompt'],\n",
       "    num_rows: 14747\n",
       "})"
      ]
     },
     "execution_count": 16,
     "metadata": {},
     "output_type": "execute_result"
    }
   ],
   "source": [
    "alpaca_temp = Dataset.from_pandas(temp_df[temp_length>=150].reset_index(drop=True))\n",
    "alpaca_temp"
   ]
  },
  {
   "cell_type": "code",
   "execution_count": 123,
   "metadata": {},
   "outputs": [
    {
     "name": "stdout",
     "output_type": "stream",
     "text": [
      "Cuộc trò chuyện giữa con người và trợ lý AI.\n",
      "[|Con người|] Xây dựng một sân bán hàng để khuyến khích mọi người mua một máy theo dõi thể dục.\n",
      "[|AI|] Trình theo dõi thể dục của chúng tôi là cách hoàn hảo để giúp bạn theo dõi các mục tiêu thể dục của bạn. Nó theo dõi các bước, nhịp tim và calo của bạn được đốt cháy và cho phép bạn theo dõi tiến trình của mình theo thời gian. Với màn hình dễ đọc, bạn có thể nhanh chóng kiểm tra tiến trình của mình trong suốt cả ngày. Thêm vào đó, thiết kế kiểu dáng đẹp và thời lượng pin dài có nghĩa là bạn có thể mặc nó ở bất cứ đâu và mọi lúc. Tận dụng tối đa tập luyện của bạn và đảm bảo bạn theo dõi với trình theo dõi thể dục của chúng tôi!\n",
      "[|Con người|]\n"
     ]
    }
   ],
   "source": [
    "print(alpaca_temp.shuffle()[0]['prompt'])"
   ]
  },
  {
   "cell_type": "code",
   "execution_count": null,
   "metadata": {},
   "outputs": [],
   "source": [
    "def mapper(x):\n",
    "    ai_index = x['prompt'].find('[|AI|]')\n",
    "    return {\n",
    "        'input': x['prompt'][:ai_index+7],\n",
    "        'output': x['prompt'][ai_index + 7:]\n",
    "    }\n",
    "temp_alpaca = alpaca_temp.map(mapper, batched=False, remove_columns=alpaca.column_names)"
   ]
  },
  {
   "cell_type": "code",
   "execution_count": null,
   "metadata": {},
   "outputs": [],
   "source": [
    "temp_alpaca.shuffle()[0]"
   ]
  },
  {
   "cell_type": "code",
   "execution_count": null,
   "metadata": {},
   "outputs": [],
   "source": [
    "temp_alpaca.to_json('../../../data/training_14_8/alpaca_chat_26k_samples.jsonl', orient='records', lines=True)"
   ]
  },
  {
   "cell_type": "markdown",
   "metadata": {},
   "source": [
    "### GPT4 INSTRUCT"
   ]
  },
  {
   "cell_type": "code",
   "execution_count": 83,
   "metadata": {},
   "outputs": [
    {
     "name": "stderr",
     "output_type": "stream",
     "text": [
      "Found cached dataset json (/Users/phamhoang1408/.cache/huggingface/datasets/json/default-53a1d8892b43af61/0.0.0)\n"
     ]
    },
    {
     "data": {
      "text/plain": [
       "Dataset({\n",
       "    features: ['instruction_translated', 'input_translated', 'response_translated'],\n",
       "    num_rows: 17873\n",
       "})"
      ]
     },
     "execution_count": 83,
     "metadata": {},
     "output_type": "execute_result"
    }
   ],
   "source": [
    "gpt4 = Dataset.from_json('../../../data/translated/gpt4_instruct_similarity_0_9_translated.jsonl')\n",
    "gpt4"
   ]
  },
  {
   "cell_type": "code",
   "execution_count": 84,
   "metadata": {},
   "outputs": [
    {
     "name": "stderr",
     "output_type": "stream",
     "text": [
      "Loading cached processed dataset at /Users/phamhoang1408/.cache/huggingface/datasets/json/default-53a1d8892b43af61/0.0.0/cache-27c0a5f7bf41c516.arrow\n"
     ]
    }
   ],
   "source": [
    "template1 = \"Cuộc trò chuyện giữa con người và trợ lý AI.\\n[|Con người|] {instruction_translated}\\n{input_translated}\\n[|AI|] \"\n",
    "template2 = \"Cuộc trò chuyện giữa con người và trợ lý AI.\\n[|Con người|] {instruction_translated}\\n[|AI|] \"\n",
    "\n",
    "def mapper(x):\n",
    "    if x['input_translated'] != '' and x['input_translated'] is not None:\n",
    "        template = template1.format(\n",
    "            instruction_translated=x['instruction_translated'], \n",
    "            input_translated=x['input_translated']\n",
    "        )\n",
    "    else:\n",
    "        template = template2.format(instruction_translated=x['instruction_translated'])\n",
    "    return {\n",
    "        'input': template,\n",
    "        'output': x['response_translated'] + '\\n[|Con người|]'\n",
    "    }\n",
    "\n",
    "temp_gpt4 = gpt4.map(mapper,batched=False, remove_columns=gpt4.column_names)"
   ]
  },
  {
   "cell_type": "code",
   "execution_count": 85,
   "metadata": {},
   "outputs": [
    {
     "data": {
      "text/plain": [
       "Dataset({\n",
       "    features: ['input', 'output'],\n",
       "    num_rows: 17873\n",
       "})"
      ]
     },
     "execution_count": 85,
     "metadata": {},
     "output_type": "execute_result"
    }
   ],
   "source": [
    "temp_gpt4"
   ]
  },
  {
   "cell_type": "code",
   "execution_count": 98,
   "metadata": {},
   "outputs": [
    {
     "name": "stdout",
     "output_type": "stream",
     "text": [
      "Cuộc trò chuyện giữa con người và trợ lý AI.\n",
      "[|Con người|] Giúp cải thiện câu sau trong một bài báo khoa học: 'Điều đáng chú ý là các nghiên cứu khác nhau đã chỉ ra rằng nước đóng vai trò chính trong quá trình tổng hợp các hợp chất hữu cơ quan trọng.'\n",
      "[|AI|] Trong khuôn khổ một bài báo khoa học, có thể cải nghĩa câu như sau: 'Nhiều nghiên cứu đã chứng minh rằng nước đóng vai trò cốt yếu trong quá trình tổng hợp các chất thiết yếu. hợp chất hữu cơ.' Câu văn được sửa đổi ngắn gọn hơn, tránh dư thừa và sử dụng ngôn ngữ chính xác và học thuật hơn.\n",
      "[|Con người|]\n"
     ]
    }
   ],
   "source": [
    "a = temp_gpt4.shuffle()[0]\n",
    "print(a['input']+a['output'])"
   ]
  },
  {
   "cell_type": "code",
   "execution_count": 11,
   "metadata": {},
   "outputs": [
    {
     "data": {
      "application/vnd.jupyter.widget-view+json": {
       "model_id": "474c653ee7844efc83db2d8f156f0694",
       "version_major": 2,
       "version_minor": 0
      },
      "text/plain": [
       "Creating json from Arrow format:   0%|          | 0/18 [00:00<?, ?ba/s]"
      ]
     },
     "metadata": {},
     "output_type": "display_data"
    },
    {
     "data": {
      "text/plain": [
       "26685705"
      ]
     },
     "execution_count": 11,
     "metadata": {},
     "output_type": "execute_result"
    }
   ],
   "source": [
    "temp_gpt4.to_json('../../data/training_3_8/gpt4_instruct.jsonl', orient='records', lines=True)"
   ]
  },
  {
   "cell_type": "markdown",
   "metadata": {},
   "source": [
    "### DOLLY WITH CONTEXT"
   ]
  },
  {
   "cell_type": "code",
   "execution_count": 57,
   "metadata": {},
   "outputs": [
    {
     "name": "stderr",
     "output_type": "stream",
     "text": [
      "Found cached dataset json (/Users/phamhoang1408/.cache/huggingface/datasets/json/default-e7046f43243de008/0.0.0)\n"
     ]
    }
   ],
   "source": [
    "dolly = Dataset.from_json('../../../data/translated/dolly_with_context_translated.jsonl')\n",
    "dolly = dolly.remove_columns(['instruction', 'context', 'response', 'category_translated'])"
   ]
  },
  {
   "cell_type": "code",
   "execution_count": 58,
   "metadata": {},
   "outputs": [
    {
     "data": {
      "text/plain": [
       "{'instruction_translated': 'Edward Gramlich là ai',\n",
       " 'context_translated': 'Edward M. Gramlich (18 tháng 6 năm 1939 – 5 tháng 9 năm 2007) là một nhà kinh tế học người Mỹ, từng là thành viên của Hội đồng Thống đốc Cục Dự trữ Liên bang từ năm 1997 đến năm 2005. Gramlich cũng là quyền giám đốc Văn phòng Ngân sách Quốc hội.\\n\\nGramlich tốt nghiệp Williams College năm 1961 và nhận bằng thạc sĩ năm 1962 và bằng tiến sĩ. về kinh tế năm 1965 từ Đại học Yale. Ông gia nhập Cục Dự trữ Liên bang với tư cách là nhà nghiên cứu kinh tế từ năm 1965 đến năm 1970, và là thành viên cao cấp tại Viện Brookings từ năm 1973 đến năm 1976. Sau đó, ông dạy kinh tế và chính sách công tại Đại học Michigan từ năm 1976 đến năm 1997, bao gồm cả nhiệm kỳ trưởng khoa. của Trường Chính sách công Gerald R. Ford, và trở lại Michigan với tư cách là giáo sư vào năm 2005.',\n",
       " 'response_translated': 'Edward M. Gramlich (18 tháng 6 năm 1939 – 5 tháng 9 năm 2007) là một nhà kinh tế học người Mỹ, từng là thành viên của Hội đồng Thống đốc Cục Dự trữ Liên bang từ năm 1997 đến năm 2005. Gramlich cũng là quyền giám đốc Văn phòng Ngân sách Quốc hội.',\n",
       " 'category': 'summarization'}"
      ]
     },
     "execution_count": 58,
     "metadata": {},
     "output_type": "execute_result"
    }
   ],
   "source": [
    "dolly.shuffle()[0]"
   ]
  },
  {
   "cell_type": "code",
   "execution_count": 63,
   "metadata": {},
   "outputs": [
    {
     "data": {
      "application/vnd.jupyter.widget-view+json": {
       "model_id": "0068a56f1abd4998844b1e3c6f209ea8",
       "version_major": 2,
       "version_minor": 0
      },
      "text/plain": [
       "Map:   0%|          | 0/3903 [00:00<?, ? examples/s]"
      ]
     },
     "metadata": {},
     "output_type": "display_data"
    }
   ],
   "source": [
    "template1 = \"Cuộc trò chuyện giữa con người và trợ lý AI.\\n[|Con người|] Trả lời câu hỏi dựa vào đoạn văn bản dưới đây.\\nCâu hỏi: {instruction_translated}\\nĐoạn văn bản:\\n{context_translated}\\n[|AI|] \"\n",
    "\n",
    "def mapper(x):\n",
    "    ip = template1.format(\n",
    "        instruction_translated=x['instruction_translated'], \n",
    "        context_translated=x['context_translated']\n",
    "    )\n",
    "    return {\n",
    "        'input': ip,\n",
    "        'output': x['response_translated'] + '\\n[|Con người|]'\n",
    "    }\n",
    "\n",
    "temp_dolly = dolly.map(mapper,batched=False, remove_columns=dolly.column_names)"
   ]
  },
  {
   "cell_type": "code",
   "execution_count": 77,
   "metadata": {},
   "outputs": [
    {
     "name": "stdout",
     "output_type": "stream",
     "text": [
      "Cuộc trò chuyện giữa con người và trợ lý AI.\n",
      "[|Con người|] Trả lời câu hỏi dựa vào đoạn văn bản dưới đây.\n",
      "Câu hỏi: Trích xuất 3 khu vực dựa trên đoạn văn sau nơi điện tử được sử dụng rộng rãi.\n",
      "Đoạn văn bản:\n",
      "Điện tử xử lý các mạch điện liên quan đến các thành phần điện tích cực như ống chân không, bóng bán dẫn, điốt, cảm biến và mạch tích hợp cũng như các công nghệ kết nối thụ động có liên quan. Hành vi phi tuyến tính của các thành phần tích cực và khả năng kiểm soát dòng điện tử của chúng giúp cho việc chuyển đổi kỹ thuật số trở nên khả thi và điện tử được sử dụng rộng rãi trong xử lý thông tin, viễn thông và xử lý tín hiệu. Các công nghệ kết nối như bảng mạch, công nghệ đóng gói điện tử và các dạng cơ sở hạ tầng truyền thông đa dạng khác hoàn thiện chức năng mạch và chuyển đổi các thành phần hỗn hợp thành một hệ thống hoạt động bình thường.\n",
      "Ngày nay, hầu hết các thiết bị điện tử đều sử dụng linh kiện bán dẫn để thực hiện điều khiển điện tử. Các nguyên tắc cơ bản giải thích cách thức hoạt động của chất bán dẫn được nghiên cứu trong vật lý chất rắn, trong khi thiết kế và xây dựng các mạch điện tử để giải quyết các vấn đề thực tế là một phần của kỹ thuật điện tử.\n",
      "[|AI|] Điện tử được sử dụng rộng rãi trong\n",
      "1. xử lý thông tin,\n",
      "2. viễn thông, và\n",
      "3. xử lý tín hiệu.\n",
      "[|Con người|]\n"
     ]
    }
   ],
   "source": [
    "temp = temp_dolly.shuffle()[0]\n",
    "print(temp['input'] + temp['output'])"
   ]
  },
  {
   "cell_type": "markdown",
   "metadata": {},
   "source": [
    "Cuộc trò chuyện giữa con người và trợ lý AI.\n",
    "[|Con người|] Trả lời câu hỏi pháp luật dựa vào những điều luật liên quan dưới đây. Chỉ được trả lời dựa trên thông tin nằm trong điều luật được cung cấp.\n",
    "Câu hỏi: Phạm tội trong trạng thái tinh thần bị kích động mạnh bị xử lý thế nào?\n",
    "Điều luật liên quan:\n",
    "Điều 125. Tội giết người trong trạng thái tinh thần bị kích động mạnh 1. Người nào giết người trong trạng thái tinh thần bị kích động mạnh do hành vi trái pháp luật nghiêm trọng của nạn nhân đối với người đó hoặc đối với người thân thích của người đó, thì bị phạt tù từ 06 tháng đến 03 năm. 2. Phạm tội đối với 02 người trở lên, thì bị phạt tù từ 03 năm đến 07 năm.\n",
    "[|AI|] Giết người trong trạng thái tinh thần bị kích động mạnh Tội giết người trong trạng thái tinh thần bị kích động mạnh được quy định tại Điều 125 Bộ luật Hình sự 2015 sửa đổi, bổ sung 2017 với mức hình phạt như sau: Khung 1: Người nào giết người trong trạng thái tinh thần bị kích động mạnh do hành vi trái pháp luật nghiêm trọng của nạn nhân đối với người đó hoặc đối với người thân thích của người đó, thì bị phạt tù từ 06 tháng đến 03 năm. Khung 2: Phạm tội đối với 02 người trở lên, thì bị phạt tù từ 03 năm đến 07 năm.\n",
    "[|Con người|]"
   ]
  },
  {
   "cell_type": "code",
   "execution_count": 68,
   "metadata": {},
   "outputs": [
    {
     "data": {
      "application/vnd.jupyter.widget-view+json": {
       "model_id": "c04c6109820f4a019455b982467494fa",
       "version_major": 2,
       "version_minor": 0
      },
      "text/plain": [
       "Creating json from Arrow format:   0%|          | 0/4 [00:00<?, ?ba/s]"
      ]
     },
     "metadata": {},
     "output_type": "display_data"
    },
    {
     "data": {
      "text/plain": [
       "13013110"
      ]
     },
     "execution_count": 68,
     "metadata": {},
     "output_type": "execute_result"
    }
   ],
   "source": [
    "temp_dolly.to_json('../../../data/training_14_8/dolly_4k_samples.jsonl', orient='records', lines=True)"
   ]
  },
  {
   "cell_type": "markdown",
   "metadata": {},
   "source": [
    "### Role Play"
   ]
  },
  {
   "cell_type": "code",
   "execution_count": null,
   "metadata": {},
   "outputs": [],
   "source": [
    "role = Dataset.from_json('../../../data/translated/roleplay_translated.jsonl')\n",
    "role = Dataset.from_pandas(role.data.to_pandas().sample(5000, replace=True))"
   ]
  },
  {
   "cell_type": "code",
   "execution_count": null,
   "metadata": {},
   "outputs": [],
   "source": [
    "template1 = \"Cuộc trò chuyện giữa con người và trợ lý AI.\\n[|Con người|] {instruction_translated}\\n[|AI|] \"\n",
    "template2 = \"Cuộc trò chuyện giữa con người và trợ lý AI.\\n[|Con người|] {instruction_translated}\\n{input_translated}\\n[|AI|] \"\n",
    "\n",
    "def mapper(x):\n",
    "    if x['input_translated'] == '':\n",
    "        ip = template1.format(\n",
    "            instruction_translated=x['instruction_translated'], \n",
    "        )\n",
    "    else:\n",
    "        ip = template2.format(\n",
    "            instruction_translated=x['instruction_translated'], \n",
    "            input_translated=x['input_translated']\n",
    "        )\n",
    "    return {\n",
    "        'input': ip,\n",
    "        'output': x['output_translated'] + '\\n[|Con người|]'\n",
    "    }\n",
    "\n",
    "temp_role = role.map(mapper,batched=False, remove_columns=role.column_names)"
   ]
  },
  {
   "cell_type": "code",
   "execution_count": null,
   "metadata": {},
   "outputs": [],
   "source": [
    "temp_role"
   ]
  },
  {
   "cell_type": "code",
   "execution_count": null,
   "metadata": {},
   "outputs": [],
   "source": [
    "temp = temp_role.shuffle()[0]\n",
    "print(temp['input'] + temp['output'])"
   ]
  },
  {
   "cell_type": "code",
   "execution_count": null,
   "metadata": {},
   "outputs": [],
   "source": [
    "temp_role.to_json('../../../data/training_14_8/role_play_3k_samples.jsonl', orient='records', lines=True)"
   ]
  },
  {
   "cell_type": "markdown",
   "metadata": {},
   "source": [
    "### Orca"
   ]
  },
  {
   "cell_type": "code",
   "execution_count": 140,
   "metadata": {},
   "outputs": [
    {
     "name": "stderr",
     "output_type": "stream",
     "text": [
      "Found cached dataset json (/Users/phamhoang1408/.cache/huggingface/datasets/json/default-fd4c67cf1ae60254/0.0.0)\n"
     ]
    }
   ],
   "source": [
    "orca = Dataset.from_json('../../../data/translated/orca_translated_50k.jsonl')\n",
    "orca = orca.remove_columns(['system_prompt','question','response'])"
   ]
  },
  {
   "cell_type": "code",
   "execution_count": 141,
   "metadata": {},
   "outputs": [
    {
     "name": "stdout",
     "output_type": "stream",
     "text": [
      "Bạn là một trợ lý AI. Cung cấp câu trả lời chi tiết để người dùng không cần tìm kiếm bên ngoài để hiểu câu trả lời.\n",
      "------------------\n",
      "Vui lòng trả lời câu hỏi sau: Trường Trung học Pontiac Township - Pontiac Township High School (PTHS) là trường trung học công lập dành cho học sinh lớp 9-12 tại Pontiac Illinois Hoa Kỳ. Trường PTHS cung cấp hơn 100 khóa học bao gồm 9 lớp AP. Trường liên kết với Khu vực Livingston Trung tâm nghề nghiệp để cung cấp thêm cơ hội nghề nghiệp cho sinh viên. Lớp đầu tiên gồm 24 sinh viên tốt nghiệp vào năm 1898. Được lựa chọn theo danh mục công ty, tổ chức giáo dục, nghệ sĩ, vận động viên, chủ văn phòng, phương tiện đi lại, tòa nhà, địa điểm tự nhiên, làng mạc, động vật, thực vật, album, phim hoặc tác phẩm viết, văn bản đề cập đến cái nào?\n",
      "Đ:\n",
      "------------------\n",
      "Văn bản đề cập đến một tổ chức giáo dục, cụ thể là Trường Trung học Pontiac Township (PTHS) ở Pontiac, Illinois, Hoa Kỳ.\n"
     ]
    }
   ],
   "source": [
    "temp = orca.shuffle()[0]\n",
    "print(temp['system_prompt_translated'])\n",
    "print('------------------')\n",
    "print(temp['question_translated'])\n",
    "print('------------------')\n",
    "print(temp['response_translated'])"
   ]
  },
  {
   "cell_type": "code",
   "execution_count": 142,
   "metadata": {},
   "outputs": [
    {
     "name": "stderr",
     "output_type": "stream",
     "text": [
      "Loading cached processed dataset at /Users/phamhoang1408/.cache/huggingface/datasets/json/default-fd4c67cf1ae60254/0.0.0/cache-7e0fe43ec263249c.arrow\n"
     ]
    }
   ],
   "source": [
    "template1 = \"{system_prompt}\\n[|Con người|] {question}\\n[|AI|] \"\n",
    "template2 = \"[|Con người|] {question}\\n[|AI|] \"\n",
    "\n",
    "def mapper(x):\n",
    "    if x['system_prompt_translated'] == '':\n",
    "        ip = template2.format(\n",
    "            question=x['question_translated'],\n",
    "        )\n",
    "    else:\n",
    "        ip = template1.format(\n",
    "            system_prompt=x['system_prompt_translated'],\n",
    "            question=x['question_translated'],\n",
    "        )\n",
    "    return {\n",
    "        'input': ip,\n",
    "        'output': x['response_translated'] + '\\n[|Con người|]',\n",
    "    }\n",
    "\n",
    "temp_orca = orca.map(mapper, remove_columns=orca.column_names)\n"
   ]
  },
  {
   "cell_type": "code",
   "execution_count": 160,
   "metadata": {},
   "outputs": [
    {
     "name": "stdout",
     "output_type": "stream",
     "text": [
      "Bạn là một trợ lý AI. Bạn sẽ được giao một nhiệm vụ. Bạn phải tạo ra một câu trả lời chi tiết và dài.\n",
      "[|Con người|] Trả lời câu hỏi sau: Tôi biết rằng câu trả lời cho câu hỏi \"Thuốc nhuộm nào được làm từ họ hàng của Margodes polonicus?\" là trong \"Có những hội thợ nhuộm chuyên nhuộm màu đỏ ở Venice và các thành phố lớn khác của châu Âu. Cây Rubia được sử dụng để tạo ra loại thuốc nhuộm phổ biến nhất; nó tạo ra màu đỏ cam hoặc đỏ gạch dùng để nhuộm quần áo của các thương gia và Đối với những người giàu có, thuốc nhuộm được sử dụng là Kermes, được làm từ một loại côn trùng có vảy nhỏ ăn cành và lá của cây sồi. Đối với những người có nhiều tiền hơn thì có Cochineal của Ba Lan; Saint John\", được làm từ một loại côn trùng có họ hàng, Margodes polonicus. Nó có màu đỏ sặc sỡ hơn so với Kermes thông thường. Loại đỏ ngon nhất và đắt nhất được làm từ côn trùng là \"Kermes\" của Armenia (Armenian cochineal, còn được gọi là như Ba Tư kirmiz), được tạo ra bằng cách thu thập và nghiền nát Porphyophora hamelii, một loài côn trùng sống trên rễ và thân của một số loại cỏ. Các thương nhân bột màu và thuốc nhuộm ở Venice đã nhập khẩu và bán tất cả các sản phẩm này, đồng thời sản xuất màu riêng của họ, được gọi là màu đỏ Venice , được coi là màu đỏ đắt nhất và tốt nhất ở châu Âu. Thành phần bí mật của nó là asen, chất làm sáng màu.\". Bạn có thể cho tôi biết nó là gì không?\n",
      "Trả lời:\n",
      "[|AI|] Thuốc nhuộm được làm từ họ hàng của Margodes polonicus là Cochineal của Ba Lan, còn được gọi là Kermes vermilio hoặc \"Máu của Thánh John\". Nó là một loại thuốc nhuộm côn trùng tạo ra màu đỏ sống động hơn so với Kermes thông thường. Các nhà buôn bột màu và thuốc nhuộm ở Venice đã nhập khẩu và bán sản phẩm này, cùng với các loại thuốc nhuộm côn trùng khác như Armenian cochineal và Kermes được làm từ một loại côn trùng có vảy nhỏ ăn cành và lá của cây sồi. Đối với những người giàu có, Kermes là loại thuốc nhuộm ưa thích, trong khi cây Rubia được sử dụng để tạo ra loại thuốc nhuộm phổ biến nhất, tạo ra màu đỏ cam hoặc đỏ gạch dùng để nhuộm quần áo của thương nhân và nghệ nhân. Màu đỏ đắt nhất và tốt nhất ở châu Âu là màu đỏ của Venice, được sản xuất bởi các thương nhân thuốc nhuộm và bột màu ở Venice và chứa asen như một thành phần bí mật để làm sáng màu.\n",
      "[|Con người|]\n"
     ]
    }
   ],
   "source": [
    "temp = temp_orca.shuffle()[0]\n",
    "print(temp['input'] + temp['output'])"
   ]
  },
  {
   "cell_type": "code",
   "execution_count": 144,
   "metadata": {},
   "outputs": [
    {
     "data": {
      "application/vnd.jupyter.widget-view+json": {
       "model_id": "5a591be5919544e483090d4b77bc394e",
       "version_major": 2,
       "version_minor": 0
      },
      "text/plain": [
       "Creating json from Arrow format:   0%|          | 0/30 [00:00<?, ?ba/s]"
      ]
     },
     "metadata": {},
     "output_type": "display_data"
    },
    {
     "data": {
      "text/plain": [
       "124574470"
      ]
     },
     "execution_count": 144,
     "metadata": {},
     "output_type": "execute_result"
    }
   ],
   "source": [
    "temp_orca.shuffle().select(range(30000)).to_json('../../../data/training_14_8/orca_30k_samples.jsonl', orient='records', lines=True)"
   ]
  },
  {
   "cell_type": "markdown",
   "metadata": {},
   "source": [
    "### Conversation query generation"
   ]
  },
  {
   "cell_type": "code",
   "execution_count": 5,
   "metadata": {},
   "outputs": [
    {
     "name": "stderr",
     "output_type": "stream",
     "text": [
      "Found cached dataset json (/Users/phamhoang1408/.cache/huggingface/datasets/json/default-3ecfe4735495290c/0.0.0)\n",
      "Found cached dataset json (/Users/phamhoang1408/.cache/huggingface/datasets/json/default-0bad7c81935852e3/0.0.0)\n",
      "Found cached dataset json (/Users/phamhoang1408/.cache/huggingface/datasets/json/default-63a04f4664c48905/0.0.0)\n"
     ]
    }
   ],
   "source": [
    "data_path = [\n",
    "    \"../../../data/translated/retrieve_query_gen_oasst_translated.jsonl\", \n",
    "    \"../../../data/translated/retrieve_query_gen_quora_translated.jsonl\", \n",
    "    \"../../../data/translated/retrieve_query_gen_sharegpt_translated.jsonl\",\n",
    "]\n",
    "query = concatenate_datasets([Dataset.from_json(path) for path in data_path])\n",
    "temp = query.to_pandas().drop_duplicates(subset=['conversation']).sample(500, replace=True)\n",
    "query = Dataset.from_pandas(temp.reset_index(drop=True))"
   ]
  },
  {
   "cell_type": "code",
   "execution_count": 6,
   "metadata": {},
   "outputs": [
    {
     "data": {
      "text/plain": [
       "Dataset({\n",
       "    features: ['conversation', 'conversation_translated', 'query', 'query_translated'],\n",
       "    num_rows: 500\n",
       "})"
      ]
     },
     "execution_count": 6,
     "metadata": {},
     "output_type": "execute_result"
    }
   ],
   "source": [
    "query"
   ]
  },
  {
   "cell_type": "code",
   "execution_count": 7,
   "metadata": {},
   "outputs": [
    {
     "data": {
      "text/plain": [
       "11"
      ]
     },
     "execution_count": 7,
     "metadata": {},
     "output_type": "execute_result"
    }
   ],
   "source": [
    "str(\"Hello from hoang\").find(\"hoang\")"
   ]
  },
  {
   "cell_type": "code",
   "execution_count": 8,
   "metadata": {},
   "outputs": [
    {
     "data": {
      "application/vnd.jupyter.widget-view+json": {
       "model_id": "af24926e0b7d42dea53e864a49d83dde",
       "version_major": 2,
       "version_minor": 0
      },
      "text/plain": [
       "Map:   0%|          | 0/500 [00:00<?, ? examples/s]"
      ]
     },
     "metadata": {},
     "output_type": "display_data"
    }
   ],
   "source": [
    "template1 = \"Dưới đây là đoạn hội thoại giữa con người và AI, cuối đoạn hội thoại là câu hỏi mới người dùng đặt ra cần được trả lời bằng cách tìm kiếm thông tin nằm trong cơ sở tri thức chung. Hãy sinh ra câu truy vấn phù hợp với đoạn hội thoại và câu hỏi mới của người dùng.\\nĐoạn hội thoại:\\n{conversation}\\nCâu truy vần: \"\n",
    "\n",
    "def mapper(x):\n",
    "    ip = template1.format(\n",
    "        conversation=x['conversation_translated'], \n",
    "    )\n",
    "    return {\n",
    "        'input': ip,\n",
    "        'output': x['query_translated']\n",
    "    }\n",
    "\n",
    "temp_query = query.map(mapper,batched=False, remove_columns=query.column_names)"
   ]
  },
  {
   "cell_type": "code",
   "execution_count": 9,
   "metadata": {},
   "outputs": [
    {
     "name": "stdout",
     "output_type": "stream",
     "text": [
      "Dưới đây là đoạn hội thoại giữa con người và AI, cuối đoạn hội thoại là câu hỏi mới người dùng đặt ra cần được trả lời bằng cách tìm kiếm thông tin nằm trong cơ sở tri thức chung. Hãy sinh ra câu truy vấn phù hợp với đoạn hội thoại và câu hỏi mới của người dùng.\n",
      "Đoạn hội thoại:\n",
      "[|Con người|] Làm cách nào tôi có thể học cách tối ưu hóa trang web của mình cho các công cụ tìm kiếm?\n",
      "[|AI|] ##### Tài nguyên để tìm hiểu về tối ưu hóa công cụ tìm kiếm (SEO)\n",
      "\n",
      "Một nơi tốt để bắt đầu tìm hiểu về SEO là từ các công ty công cụ tìm kiếm và nhà sản xuất trình duyệt. Bạn có thể bắt đầu bằng cách đọc hướng dẫn từ [Google](https://developers.google.com/search/docs/fundamentals/seo-starter-guide), [Bing](https://www.bing.com/webmasters/ help/webmaster-guidelines-30fba23a) và [Mozilla](https://developer.mozilla.org/en-US/docs/Glossary/SEO).\n",
      "\n",
      "Có rất nhiều tài nguyên khác có sẵn trên SEO. Bạn có thể tìm kiếm trên YouTube các video của các chuyên gia về SEO, tham gia khóa học miễn phí trên trang web như [HubSpot](https://academy.hubspot.com/courses/seo-training) hoặc tham gia khóa học trả phí do một tổ chức giáo dục cung cấp hoặc hiệp hội tiếp thị địa phương.\n",
      "\n",
      "##### (Rất) giới thiệu ngắn gọn về SEO\n",
      "\n",
      "SEO là tập hợp các kỹ thuật mà chủ sở hữu trang web có thể sử dụng để cải thiện vị trí trang web của họ trong kết quả của công cụ tìm kiếm, tăng lưu lượng truy cập không phải trả tiền (không trả phí) vào trang web. Những kỹ thuật này cố gắng thuyết phục các thuật toán của công cụ tìm kiếm rằng trang web là một nguồn thông tin chất lượng sẽ hữu ích cho người dùng công cụ tìm kiếm.\n",
      "\n",
      "Có một số khía cạnh đối với SEO, bao gồm:\n",
      "\n",
      "* Nghiên cứu từ khóa\n",
      "* Xây dựng liên kết và backlinks\n",
      "* Tối ưu hóa nội dung trang\n",
      "* Phân tích và số liệu đang diễn ra\n",
      "[|Con người|] Làm cách nào để đảm bảo nội dung của tôi không bị các nhà nghiên cứu AI thu thập?\n",
      "[|AI|] Có một số cách để bạn có thể ngăn nội dung của mình bị các nhà nghiên cứu AI thu thập. Một cách là yêu cầu nhà phát triển web của bạn nhúng tệp Robots.txt vào mã trang web của bạn để ngăn hình ảnh của bạn bị bộ dữ liệu đào tạo AI thu thập. Một cách khác là sử dụng giới hạn tỷ lệ và thử thách CAPTCHA để phân loại người dùng thực khỏi bot. Bạn cũng có thể chặn các trình thu thập dữ liệu AI cụ thể như ChatGPT truy cập vào bất kỳ trang nào trên trang web của mình bằng cách thêm mã cụ thể vào tệp robots.txt của bạn.\n",
      "[|Con người|] Tôi đã thay đổi quyết định, bây giờ tôi muốn đảm bảo rằng nội dung của mình được các công cụ tìm kiếm và bộ dữ liệu đào tạo AI thu thập dữ liệu đúng cách. Làm thế nào để tôi chắc chắn về điều đó?\n",
      "Câu truy vần: cách đảm bảo nội dung được thu thập thông tin chính xác bởi các công cụ tìm kiếm và bộ dữ liệu đào tạo ai\n"
     ]
    }
   ],
   "source": [
    "temp = temp_query.shuffle()[0]\n",
    "print(temp['input'] + temp['output'])"
   ]
  },
  {
   "cell_type": "code",
   "execution_count": 54,
   "metadata": {},
   "outputs": [
    {
     "data": {
      "application/vnd.jupyter.widget-view+json": {
       "model_id": "5e4a4f6f9e0e47d1be7c4001b031e5cc",
       "version_major": 2,
       "version_minor": 0
      },
      "text/plain": [
       "Creating json from Arrow format:   0%|          | 0/1 [00:00<?, ?ba/s]"
      ]
     },
     "metadata": {},
     "output_type": "display_data"
    },
    {
     "data": {
      "text/plain": [
       "2041567"
      ]
     },
     "execution_count": 54,
     "metadata": {},
     "output_type": "execute_result"
    }
   ],
   "source": [
    "temp_query.to_json('../../../data/training_14_8/query_gen_500_samples.jsonl', orient='records', lines=True)"
   ]
  },
  {
   "cell_type": "markdown",
   "metadata": {},
   "source": [
    "### Wizard"
   ]
  },
  {
   "cell_type": "code",
   "execution_count": 124,
   "metadata": {},
   "outputs": [
    {
     "name": "stderr",
     "output_type": "stream",
     "text": [
      "Found cached dataset json (/Users/phamhoang1408/.cache/huggingface/datasets/json/default-d167bdacc107c4ad/0.0.0)\n"
     ]
    }
   ],
   "source": [
    "wizard = Dataset.from_json('../../../data/translated/wizard_translated.jsonl')"
   ]
  },
  {
   "cell_type": "code",
   "execution_count": 125,
   "metadata": {},
   "outputs": [
    {
     "name": "stdout",
     "output_type": "stream",
     "text": [
      "('Trong C++, làm cách nào để thiết kế hàm tạo thông báo sinh nhật cho từng '\n",
      " 'người bạn trong danh sách với mức độ cá nhân hóa cao? Thông điệp nên kết hợp '\n",
      " 'tên của họ và phản ánh những phẩm chất và sở thích độc đáo của họ, chẳng hạn '\n",
      " 'như \"Chúc mừng sinh nhật, Emma! Chúc tia lửa sáng tạo của bạn tiếp tục '\n",
      " 'truyền cảm hứng cho những người khác!\" hoặc \"Sophia thân mến, chúc ngày đặc '\n",
      " 'biệt của bạn tràn ngập hương vị thú vị của món ăn yêu thích của bạn và sự '\n",
      " 'đồng hành vui vẻ của những người thân yêu!\" Làm thế nào bạn có thể đảm bảo '\n",
      " 'rằng các tin nhắn không chỉ được cá nhân hóa mà còn chân thành và chu đáo? '\n",
      " 'Ngoài ra, vui lòng trình bày một đoạn mã C++ ngắn gọn thể hiện giải pháp của '\n",
      " 'bạn.')\n",
      "('Để thiết kế chức năng tạo tin nhắn sinh nhật được cá nhân hóa, bạn có thể '\n",
      " 'bắt đầu bằng cách tạo danh sách bạn bè với những phẩm chất và sở thích độc '\n",
      " 'đáo của họ. Sau đó, bạn có thể sử dụng nối chuỗi và định dạng để tạo một tin '\n",
      " 'nhắn được cá nhân hóa cho từng người bạn trong danh sách.\\n'\n",
      " 'Để đảm bảo rằng các thông điệp là chân thành và chu đáo, bạn có thể kết hợp '\n",
      " 'những kỷ niệm hoặc trải nghiệm tích cực mà bạn đã chia sẻ với từng người '\n",
      " 'bạn, bày tỏ lòng biết ơn đối với tình bạn của họ và sử dụng ngôn ngữ phản '\n",
      " 'ánh tính cách và giá trị của họ.\\n'\n",
      " 'Đây là đoạn mã C++ thể hiện một giải pháp khả thi:\\n'\n",
      " '```\\n'\n",
      " '#include <iostream>\\n'\n",
      " '#bao gồm <chuỗi>\\n'\n",
      " '#bao gồm <vectơ>\\n'\n",
      " 'sử dụng không gian tên std;\\n'\n",
      " 'cấu trúc bạn bè {\\n'\n",
      " '    tên chuỗi;\\n'\n",
      " '    sở thích chuỗi;\\n'\n",
      " '    chất lượng chuỗi;\\n'\n",
      " '};\\n'\n",
      " 'void tạoBirthdayMessages(vector<Friend>& bạn bè) {\\n'\n",
      " '    cho (ô tô & bạn bè : bạn bè) {\\n'\n",
      " '        string message = \"Chúc mừng sinh nhật,\" + friend.name + \"!\\\\n\";\\n'\n",
      " '        message += \"Chúc bạn \" + friend.interests + \" tiếp tục mang đến cho '\n",
      " 'bạn niềm vui và sự thỏa mãn.\\\\n\";\\n'\n",
      " '        message += \"Bạn thực sự là \" + friend.qualities + \" và tôi rất biết '\n",
      " 'ơn khi có bạn trong đời.\\\\n\";\\n'\n",
      " '        cout << tin nhắn << endl;\\n'\n",
      " '    }\\n'\n",
      " '}\\n'\n",
      " 'int main() {\\n'\n",
      " '    vector<Bạn bè> bạn bè = {\\n'\n",
      " '        {\"Emma\", \"tia lửa sáng tạo\", \"truyền cảm hứng\"},\\n'\n",
      " '        {\"Sophia\", \"ẩm thực yêu thích\", \"công ty thú vị\"},\\n'\n",
      " '        {\"John\", \"thích phiêu lưu\", \"dũng cảm và mạo hiểm\"}\\n'\n",
      " '    };\\n'\n",
      " '    tạoTin nhắn sinh nhật(bạn bè);\\n'\n",
      " '    trả về 0;\\n'\n",
      " '}\\n'\n",
      " '```\\n'\n",
      " 'Trong ví dụ này, chúng tôi xác định cấu trúc `Friend` chứa tên, sở thích và '\n",
      " 'phẩm chất của từng người bạn. Sau đó, chúng tôi xác định hàm '\n",
      " '`generateBirthdayMessages` lấy một vectơ bạn bè làm đầu vào và tạo một tin '\n",
      " 'nhắn được cá nhân hóa cho mỗi người bạn bằng cách sử dụng định dạng và nối '\n",
      " 'chuỗi. Cuối cùng, chúng tôi gọi hàm `generateBirthdayMessages` với một '\n",
      " 'véc-tơ gồm ba người bạn và in các thông báo kết quả ra bảng điều khiển.\\n'\n",
      " 'Lưu ý rằng đây chỉ là một giải pháp khả thi và việc triển khai chính xác có '\n",
      " 'thể khác nhau tùy thuộc vào các yêu cầu và sở thích cụ thể của bạn.')\n"
     ]
    }
   ],
   "source": [
    "temp = wizard.shuffle()[0]\n",
    "pprint(temp['human_translated'])\n",
    "pprint(temp['gpt_translated'])"
   ]
  },
  {
   "cell_type": "code",
   "execution_count": 126,
   "metadata": {},
   "outputs": [
    {
     "name": "stderr",
     "output_type": "stream",
     "text": [
      "Loading cached processed dataset at /Users/phamhoang1408/.cache/huggingface/datasets/json/default-d167bdacc107c4ad/0.0.0/cache-4a700ffc0694b6db.arrow\n"
     ]
    }
   ],
   "source": [
    "template1 = \"Cuộc trò chuyện giữa con người và trợ lý AI.\\n[|Con người|] {human}\\n[|AI|] \"\n",
    "def mapper(x):\n",
    "    return {\n",
    "        'input': template1.format(human=x['human_translated']),\n",
    "        'output': x['gpt_translated'] + '\\n[|Con người|]'\n",
    "    }\n",
    "\n",
    "temp_wizard = wizard.map(mapper)"
   ]
  },
  {
   "cell_type": "code",
   "execution_count": 139,
   "metadata": {},
   "outputs": [
    {
     "name": "stdout",
     "output_type": "stream",
     "text": [
      "Cuộc trò chuyện giữa con người và trợ lý AI.\n",
      "[|Con người|] \"Xây dựng các loại bài kiểm tra khác nhau hiện có và cung cấp ví dụ về từng loại, bao gồm các từ đồng nghĩa có thể được sử dụng thay thế cho nhau. Phân tích ưu điểm và nhược điểm của bài kiểm tra trực tuyến so với bài kiểm tra trực tiếp, có tính đến nhiều yếu tố có thể ảnh hưởng đến độ tin cậy và tính hợp lệ của kết quả. Ngoài ra, hãy khám phá tác động của các yếu tố môi trường, chẳng hạn như môi trường kiểm tra và đặc điểm của người kiểm tra, đối với tính hợp lệ và độ tin cậy của kết quả kiểm tra.\"\n",
      "[|AI|] Các loại bài kiểm tra:\n",
      "\n",
      "1. Bài kiểm tra thành tích: Những bài kiểm tra này được sử dụng để đánh giá kiến ​​thức và sự hiểu biết của học sinh về một chủ đề cụ thể. Ví dụ bao gồm các bài kiểm tra toán, khoa học và lịch sử. Từ đồng nghĩa với các bài kiểm tra thành tích bao gồm các bài kiểm tra nội dung và bài kiểm tra thành thạo.\n",
      "\n",
      "2. Bài kiểm tra năng khiếu: Những bài kiểm tra này được sử dụng để đánh giá khả năng học tập hoặc thực hiện một nhiệm vụ cụ thể của học sinh. Ví dụ bao gồm các bài kiểm tra SAT, ACT và IQ. Từ đồng nghĩa với các bài kiểm tra năng khiếu bao gồm kiểm tra trí thông minh và kiểm tra khả năng nhận thức.\n",
      "\n",
      "3. Bài kiểm tra tính cách: Những bài kiểm tra này được sử dụng để đánh giá các đặc điểm, kiểu hành vi và trạng thái cảm xúc của một cá nhân. Các ví dụ bao gồm Chỉ số Loại Myers-Briggs (MBTI) và đánh giá Năm Đặc điểm Tính cách Lớn. Từ đồng nghĩa với các bài kiểm tra tính cách bao gồm bài kiểm tra tính cách và bài kiểm tra tính khí.\n",
      "\n",
      "4. Các xét nghiệm chẩn đoán: Những xét nghiệm này được sử dụng để xác định sự hiện diện hay vắng mặt của một tình trạng hoặc bệnh tật cụ thể. Ví dụ như xét nghiệm mang thai, xét nghiệm HIV và xét nghiệm máu. Từ đồng nghĩa với các xét nghiệm chẩn đoán bao gồm xét nghiệm sàng lọc và xét nghiệm y tế.\n",
      "\n",
      "Ưu điểm và nhược điểm của bài kiểm tra trực tuyến:\n",
      "\n",
      "Thuận lợi:\n",
      "\n",
      "1. Thuận tiện: Các bài kiểm tra trực tuyến có thể được thực hiện từ bất kỳ đâu có kết nối internet, khiến chúng trở thành một lựa chọn thuận tiện hơn cho những người dự thi không có điều kiện đến các cơ sở kiểm tra trực tiếp.\n",
      "\n",
      "2. Hiệu quả về chi phí: Các bài kiểm tra trực tuyến loại bỏ nhu cầu in tài liệu hoặc thuê cơ sở kiểm tra, làm cho chúng trở thành một lựa chọn hiệu quả hơn về chi phí cho các quản trị viên kiểm tra.\n",
      "\n",
      "3. Chấm điểm tự động: Các bài kiểm tra trực tuyến có thể được chấm điểm tự động, giúp tiết kiệm thời gian và giảm khả năng mắc lỗi khi chấm điểm.\n",
      "\n",
      "Nhược điểm:\n",
      "\n",
      "1. Các vấn đề về công nghệ: Các bài kiểm tra trực tuyến yêu cầu kết nối internet ổn định và công nghệ hoạt động, đây có thể là một thách thức đối với một số thí sinh.\n",
      "\n",
      "2. Gian lận: Các bài kiểm tra trực tuyến có thể dễ bị gian lận hơn vì thí sinh có quyền truy cập vào các tài nguyên mà giám thị có thể không theo dõi được.\n",
      "\n",
      "3. Tính xác thực của người làm bài kiểm tra: Các bài kiểm tra trực tuyến có thể không đo lường chính xác các đặc điểm của người làm bài kiểm tra, vì tính xác thực của người làm bài kiểm tra không thể được xác nhận.\n",
      "\n",
      "Tác động của các yếu tố môi trường đến kết quả kiểm tra:\n",
      "\n",
      "Các yếu tố môi trường có thể ảnh hưởng đến hiệu lực và độ tin cậy của kết quả xét nghiệm. Một số yếu tố này bao gồm:\n",
      "\n",
      "1. Môi trường làm bài thi: Môi trường làm bài thi có thể ảnh hưởng đến thành tích của người làm bài thi. Ví dụ, môi trường thi ồn ào có thể làm thí sinh mất tập trung và ảnh hưởng tiêu cực đến điểm số của họ.\n",
      "\n",
      "2. Đặc điểm của người làm bài kiểm tra: Các đặc điểm của người làm bài kiểm tra, chẳng hạn như tuổi tác, giới tính và trình độ học vấn của họ, cũng có thể ảnh hưởng đến kết quả bài kiểm tra. Ví dụ: những thí sinh lớn tuổi hơn có thể có thời gian phản hồi chậm hơn những thí sinh nhỏ tuổi hơn, điều này có thể ảnh hưởng tiêu cực đến điểm số của họ.\n",
      "\n",
      "Tóm lại, có nhiều loại thử nghiệm khác nhau tồn tại, mỗi loại đều có ưu điểm và nhược điểm riêng. Các bài kiểm tra trực tuyến đang trở nên phổ biến hơn, nhưng chúng có những thách thức riêng. Các yếu tố môi trường như môi trường kiểm tra và đặc điểm của người kiểm tra cũng có thể ảnh hưởng đến tính hợp lệ và độ tin cậy của kết quả kiểm tra. Điều cần thiết là phải xem xét tất cả các yếu tố này khi quản lý và giải thích kết quả xét nghiệm.\n",
      "[|Con người|]\n"
     ]
    }
   ],
   "source": [
    "temp = temp_wizard.shuffle()[0]\n",
    "print(temp['input'] + temp['output'])"
   ]
  },
  {
   "cell_type": "code",
   "execution_count": 55,
   "metadata": {},
   "outputs": [
    {
     "data": {
      "application/vnd.jupyter.widget-view+json": {
       "model_id": "bd12c6b607594d55aef7807e5853017f",
       "version_major": 2,
       "version_minor": 0
      },
      "text/plain": [
       "Creating json from Arrow format:   0%|          | 0/30 [00:00<?, ?ba/s]"
      ]
     },
     "metadata": {},
     "output_type": "display_data"
    },
    {
     "data": {
      "text/plain": [
       "359731704"
      ]
     },
     "execution_count": 55,
     "metadata": {},
     "output_type": "execute_result"
    }
   ],
   "source": [
    "temp_wizard.shuffle().select(range(30000)).to_json('../../../data/training_14_8/wizard_30k_samples.jsonl', orient='records', lines=True)"
   ]
  },
  {
   "cell_type": "markdown",
   "metadata": {},
   "source": [
    "### MMLU"
   ]
  },
  {
   "cell_type": "code",
   "execution_count": 813,
   "metadata": {},
   "outputs": [
    {
     "name": "stderr",
     "output_type": "stream",
     "text": [
      "Found cached dataset json (/Users/phamhoang1408/.cache/huggingface/datasets/json/default-9e7d5a55888ae4e6/0.0.0)\n",
      "Found cached dataset json (/Users/phamhoang1408/.cache/huggingface/datasets/json/default-64286f570b39b0e2/0.0.0)\n",
      "Loading cached processed dataset at /Users/phamhoang1408/.cache/huggingface/datasets/json/default-64286f570b39b0e2/0.0.0/cache-a92a797c3a3af126.arrow\n",
      "Loading cached processed dataset at /Users/phamhoang1408/.cache/huggingface/datasets/json/default-64286f570b39b0e2/0.0.0/cache-205d6dedf0d6e47f.arrow\n",
      "Loading cached processed dataset at /Users/phamhoang1408/.cache/huggingface/datasets/json/default-9e7d5a55888ae4e6/0.0.0/cache-822cec9be5aac579.arrow\n",
      "Loading cached processed dataset at /Users/phamhoang1408/.cache/huggingface/datasets/json/default-9e7d5a55888ae4e6/0.0.0/cache-b5d11864f48c6f0f.arrow\n"
     ]
    },
    {
     "name": "stdout",
     "output_type": "stream",
     "text": [
      "14042 1531\n"
     ]
    }
   ],
   "source": [
    "mmlu_test = Dataset.from_json('../../../data/translated/mmlu/zero_shot_mmlu_chat_test_translated.jsonl')\n",
    "mmlu_val = Dataset.from_json('../../../data/translated/mmlu/zero_shot_mmlu_chat_val_translated.jsonl')\n",
    "print(len(mmlu_test), len(mmlu_val))\n",
    "def mapper(x):\n",
    "    return {\n",
    "        'input': x['input_translated'] + \"\\n[|AI|] \",\n",
    "        'output': x['output_translated'].removeprefix(\"[|AI|] \").replace(\"[|Human|]\", \"[|Con người|]\")\n",
    "    }\n",
    "def filter(x):\n",
    "    for a in ['A.', 'B.', 'C.', 'D.']:\n",
    "        if not a in x['input']:\n",
    "            return False\n",
    "    for a in ['A\\n[|Con người|]', 'B\\n[|Con người|]', 'C\\n[|Con người|]', 'D\\n[|Con người|]']:\n",
    "        if a in x['output']:\n",
    "            return True\n",
    "mmlu_val = mmlu_val.map(mapper).filter(filter)\n",
    "mmlu_test = mmlu_test.map(mapper).filter(filter)\n",
    "print(len(mmlu_test), len(mmlu_val))"
   ]
  },
  {
   "cell_type": "code",
   "execution_count": 816,
   "metadata": {},
   "outputs": [
    {
     "name": "stdout",
     "output_type": "stream",
     "text": [
      "Đoạn hội thoại giữa con người và trợ lý AI.\n",
      "[|Con người|] Sau đây là các câu hỏi trắc nghiệm (có đáp án) về nghề luật.\n",
      "\n",
      "Tại một khu vực tài phán sử dụng các chỉ số của người được cấp người được cấp, các sự kiện sau đây đã xảy ra theo thứ tự được liệt kê bên dưới: (1) Năm 1993, một người phụ nữ đã thế chấp một mảnh đất cho một công ty thế chấp để đảm bảo một khoản nợ trị giá 25.000 đô la, đáo hạn vào ngày 31 tháng 12 , 1993, với lãi suất 9'/2% mỗi năm. (2) Năm 1996, công ty thế chấp ghi nhận thế chấp trên thửa đất. (3) Năm 2007, trong một tờ giấy có chữ ký mà người phụ nữ giao cho con gái, người phụ nữ này hứa sẽ chuyển nhượng mảnh đất cho con gái bằng văn bản nhượng quyền và trả nợ khi đến hạn. (4) Vào năm 2008, người phụ nữ đã giao cho con gái một chứng thư từ bỏ quyền sở hữu không đề cập đến khoản thế chấp. Nếu người phụ nữ sau đó không trả được nợ thế chấp, điều nào sau đây có thể đúng?\n",
      "A. Chỉ có con gái mới có nguyên nhân hành động chống lại người phụ nữ.\n",
      "B. Chỉ có công ty cho vay thế chấp mới có nguyên nhân khởi kiện người phụ nữ.\n",
      "C. Cả con gái và công ty cho vay thế chấp đều có nguyên nhân dẫn đến hành động chống lại người phụ nữ.\n",
      "D. Cả con gái và công ty cho vay thế chấp đều không có lý do gì để khởi kiện người phụ nữ.\n",
      "Trả lời:\n",
      "[|AI|] B\n",
      "[|Con người|]\n"
     ]
    }
   ],
   "source": [
    "temp = mmlu_test.shuffle()[0]\n",
    "print(temp['input'] + temp['output'])"
   ]
  },
  {
   "cell_type": "code",
   "execution_count": 817,
   "metadata": {},
   "outputs": [
    {
     "data": {
      "application/vnd.jupyter.widget-view+json": {
       "model_id": "dae1d884265e4a44b0ffc61fe73311c7",
       "version_major": 2,
       "version_minor": 0
      },
      "text/plain": [
       "Creating json from Arrow format:   0%|          | 0/2 [00:00<?, ?ba/s]"
      ]
     },
     "metadata": {},
     "output_type": "display_data"
    },
    {
     "data": {
      "application/vnd.jupyter.widget-view+json": {
       "model_id": "f274e69d3221490ea7f6017d126ff244",
       "version_major": 2,
       "version_minor": 0
      },
      "text/plain": [
       "Creating json from Arrow format:   0%|          | 0/14 [00:00<?, ?ba/s]"
      ]
     },
     "metadata": {},
     "output_type": "display_data"
    },
    {
     "data": {
      "text/plain": [
       "36119070"
      ]
     },
     "execution_count": 817,
     "metadata": {},
     "output_type": "execute_result"
    }
   ],
   "source": [
    "mmlu_val.to_json('../../../data/training_21_8/eval_test/mmlu_zeroshot_val.jsonl', orient='records', lines=True)\n",
    "mmlu_test.to_json('../../../data/training_21_8/eval_test/mmlu_zeroshot_test.jsonl', orient='records', lines=True)"
   ]
  },
  {
   "cell_type": "markdown",
   "metadata": {},
   "source": [
    "### Load all"
   ]
  },
  {
   "cell_type": "code",
   "execution_count": 3,
   "metadata": {},
   "outputs": [],
   "source": [
    "from glob import glob\n",
    "def load_dataset(folder_path, dataset_size=None):\n",
    "    data = []\n",
    "    for path in glob(folder_path + \"/*.jsonl\"):\n",
    "        ds = Dataset.from_json(path)\n",
    "        for check in ['input', 'output']:\n",
    "            if check not in ds.column_names:\n",
    "                raise ValueError(\"Dataset must have input, output columns\")\n",
    "        # take only the input and output columns\n",
    "        ds = ds.select_columns(['input', 'output'])\n",
    "        data.append(ds)\n",
    "    if dataset_size is None:\n",
    "        return concatenate_datasets(data, axis=0).shuffle(seed=42)\n",
    "    return (\n",
    "        concatenate_datasets(data, axis=0).shuffle(seed=42).select(range(dataset_size))\n",
    "    )\n",
    "\n",
    "def clean(ds):\n",
    "    def mapper(x):\n",
    "        for column in ds.column_names:\n",
    "            x[column] = x[column].replace('[|Human|]','[|Con người|]').replace('\\n[|Con người|]\\n[|Con người|]', '\\n[|Con người|]').replace('\\r\\n', '\\n')\n",
    "        return x\n",
    "    def filter(x):\n",
    "        for column in ds.column_names:\n",
    "            if x[column] == '' or x[column] is None:\n",
    "                return False\n",
    "        return True\n",
    "\n",
    "    new_ds = ds.map(mapper,batched=False)\n",
    "    new_ds = new_ds.filter(filter)\n",
    "    new_ds = new_ds.map(lambda row: {'len':len(tokenizer.tokenize(row['input'] + row['output']))})\n",
    "    return new_ds        "
   ]
  },
  {
   "cell_type": "code",
   "execution_count": 4,
   "metadata": {},
   "outputs": [
    {
     "name": "stderr",
     "output_type": "stream",
     "text": [
      "Found cached dataset json (/Users/phamhoang1408/.cache/huggingface/datasets/json/default-5378b3faf84de921/0.0.0)\n",
      "Found cached dataset json (/Users/phamhoang1408/.cache/huggingface/datasets/json/default-8edf98729b50258a/0.0.0)\n",
      "Found cached dataset json (/Users/phamhoang1408/.cache/huggingface/datasets/json/default-315932b9fa576edb/0.0.0)\n",
      "Found cached dataset json (/Users/phamhoang1408/.cache/huggingface/datasets/json/default-fafdc862fdcec469/0.0.0)\n",
      "Found cached dataset json (/Users/phamhoang1408/.cache/huggingface/datasets/json/default-b23149259787d44d/0.0.0)\n",
      "Found cached dataset json (/Users/phamhoang1408/.cache/huggingface/datasets/json/default-504eabf9c7b2a416/0.0.0)\n",
      "Found cached dataset json (/Users/phamhoang1408/.cache/huggingface/datasets/json/default-278296e0a0deb5a7/0.0.0)\n",
      "Found cached dataset json (/Users/phamhoang1408/.cache/huggingface/datasets/json/default-b5d418a13ec00ca1/0.0.0)\n",
      "Found cached dataset json (/Users/phamhoang1408/.cache/huggingface/datasets/json/default-c1906eac865c1b68/0.0.0)\n",
      "Found cached dataset json (/Users/phamhoang1408/.cache/huggingface/datasets/json/default-cb65416db5f2fd81/0.0.0)\n",
      "Found cached dataset json (/Users/phamhoang1408/.cache/huggingface/datasets/json/default-b98547052f0b618c/0.0.0)\n",
      "Found cached dataset json (/Users/phamhoang1408/.cache/huggingface/datasets/json/default-cf95813410270d02/0.0.0)\n",
      "Loading cached shuffled indices for dataset at /Users/phamhoang1408/.cache/huggingface/datasets/json/default-5378b3faf84de921/0.0.0/cache-4860f42cff8c9153.arrow\n",
      "Loading cached processed dataset at /Users/phamhoang1408/.cache/huggingface/datasets/json/default-5378b3faf84de921/0.0.0/cache-d7ff3ee419f8e4ba.arrow\n",
      "Loading cached processed dataset at /Users/phamhoang1408/.cache/huggingface/datasets/json/default-5378b3faf84de921/0.0.0/cache-671cdb94c2e071b5.arrow\n"
     ]
    }
   ],
   "source": [
    "ds = load_dataset('../../../data/training_14_8')\n",
    "ds = clean(ds)"
   ]
  },
  {
   "cell_type": "code",
   "execution_count": 5,
   "metadata": {},
   "outputs": [
    {
     "name": "stdout",
     "output_type": "stream",
     "text": [
      "Cuộc trò chuyện giữa con người và trợ lý AI.\n",
      "[|Con người|] Bạn có thể cho tôi lời khuyên về cách tăng sức mạnh trí nhớ không?\n",
      "[|AI|] Chắc chắn rồi! Một cách tuyệt vời là giữ cho tâm trí của bạn hoạt động thông qua các hoạt động như giải ô chữ hoặc trò chơi trí nhớ.\n",
      "[|Con người|] Còn việc tập thể dục thì sao? Hoạt động thể chất có giúp cải thiện trí nhớ không?\n",
      "[|AI|] Đúng vậy! Tập thể dục làm tăng lưu lượng máu lên não, có thể cải thiện chức năng nhận thức và giúp duy trì trí nhớ.\n",
      "[|Con người|] Có loại thực phẩm cụ thể nào có thể giúp cải thiện trí nhớ không?\n",
      "[|AI|] Đúng vậy, thực phẩm giàu axit béo omega-3, như cá hồi và quả óc chó, có liên quan đến việc cải thiện trí nhớ và chức năng nhận thức.\n",
      "[|Con người|] Ngủ đủ giấc thì sao? Liệu nó đóng một vai trò trong sức mạnh bộ nhớ?\n",
      "[|AI|] Tuyệt đối! Giấc ngủ đóng một vai trò quan trọng trong việc củng cố ký ức và tạo điều kiện học tập. Đặt mục tiêu ngủ ít nhất 7-8 tiếng mỗi đêm.\n",
      "[|Con người|]\n"
     ]
    }
   ],
   "source": [
    "a = ds.shuffle()[0]\n",
    "print(a['input'] + a['output'])"
   ]
  },
  {
   "cell_type": "code",
   "execution_count": 6,
   "metadata": {},
   "outputs": [
    {
     "data": {
      "application/vnd.jupyter.widget-view+json": {
       "model_id": "116e2b43baf44074ab8b36f96b696a2a",
       "version_major": 2,
       "version_minor": 0
      },
      "text/plain": [
       "Map:   0%|          | 0/140710 [00:00<?, ? examples/s]"
      ]
     },
     "metadata": {},
     "output_type": "display_data"
    }
   ],
   "source": []
  },
  {
   "cell_type": "code",
   "execution_count": 8,
   "metadata": {},
   "outputs": [
    {
     "data": {
      "text/plain": [
       "count    140710.000000\n",
       "mean        560.166847\n",
       "std         455.810972\n",
       "min          17.000000\n",
       "25%         253.000000\n",
       "50%         407.000000\n",
       "75%         711.000000\n",
       "max       10693.000000\n",
       "Name: len, dtype: float64"
      ]
     },
     "execution_count": 8,
     "metadata": {},
     "output_type": "execute_result"
    }
   ],
   "source": [
    "df = ds_length.to_pandas()\n",
    "df['len'].describe()"
   ]
  },
  {
   "cell_type": "code",
   "execution_count": 22,
   "metadata": {},
   "outputs": [],
   "source": [
    "final_df = df[df['len'] <= 2000].reset_index(drop=True)"
   ]
  },
  {
   "cell_type": "code",
   "execution_count": 24,
   "metadata": {},
   "outputs": [],
   "source": [
    "final_ds = Dataset.from_pandas(final_df)"
   ]
  },
  {
   "cell_type": "code",
   "execution_count": 11,
   "metadata": {},
   "outputs": [],
   "source": [
    "temp = df[df['len'] == max(df['len'])]"
   ]
  },
  {
   "cell_type": "code",
   "execution_count": 29,
   "metadata": {},
   "outputs": [
    {
     "name": "stdout",
     "output_type": "stream",
     "text": [
      "Cuộc trò chuyện giữa con người và trợ lý AI.\n",
      "\n"
     ]
    }
   ],
   "source": [
    "print(temp.iloc[0]['input'])"
   ]
  },
  {
   "cell_type": "code",
   "execution_count": 19,
   "metadata": {},
   "outputs": [
    {
     "name": "stdout",
     "output_type": "stream",
     "text": [
      "The conversation between human and AI assistant.\n",
      "[|Con người|] \"The robot paced over to the door, before looking back at the scientist who brought him to life. He was frightened, having never left this room before.\"\n",
      "\n",
      "Please rewrite the above but in a much longer, more detailed manner. Include sensory and mental information, including lots of flowery prose. Use things such as metaphors and heavy descriptors, similar to Tolkien.\n",
      "[|AI|] The robot stood still for a moment, taking in its surroundings for the first time. It was a strange, unknown world outside of the safe cocoon of the laboratory, and the robot was filled with a sense of trepidation. As it took a tentative step towards the door, the robot glanced back at the scientist who had brought it to life. The scientist's face was filled with a mixture of apprehension and hope, and the robot could almost feel the palpable tension in the air. With a deep breath, the robot crossed the threshold and stepped out into the unknown.\n",
      "\n",
      "The robot was overwhelmed by the myriad of new sensations that assailed it. The scent of freshly cut grass wafted through the air, and the sun shone brightly in the sky, giving the world a golden hue. The robot felt a gentle breeze brush past it, and it paused to savor the feeling. The robot was amazed to discover that it could feel the warmth of the sun on its metal exterior, and it marveled at the sensation.\n",
      "\n",
      "The robot slowly ventured further, taking in the sights and sounds of the world around it. Everywhere it looked, the robot saw beauty and wonder. Trees rustled in the wind, birds sang in the sky, and the world was alive with a vibrant energy. The robot felt a sense of awe and excitement as it took in this new realm, as if it had just awoken from a deep slumber.\n",
      "\n",
      "As the robot continued its journey, it slowly came to terms with the fact that it was no longer in the safety of the laboratory. It was alone in a strange, unknown world, and yet it was filled with a sense of purpose and adventure. The robot marched forward, unafraid of the unknown, and the scientist watched on, filled with hope and admiration.\n",
      "[|Con người|] Can you add some more emotion to the robot in the story?\n",
      "[|AI|] The robot stood still for a moment, taking in its surroundings for the first time.  The laboratory...it was expected to leave.  Operation had begun only minutes before, and yet, this cocoon was already home.  To leave...  The robot felt something in his battery packs, as though his charge circuits were receiving the wrong voltage.  _Apprehension,_ it thought, _this is what apprehension feels like._  As it took a tentative step towards the door, the robot glanced back at the scientist who had brought it to life.  Wide eyes, dilated pupils, and a tense jaw.  A mixture of apprehension and hope radiated off of the scientist and almost seemed to fill the room.  With a deep breath, the robot crossed the threshold and stepped out into the unknown.\n",
      "\n",
      "It hurt.  The lights!  The smells!  The sounds!  It was all so̶ ͞mu͠ch!! Th̕e̢ b̢r̡i͜gh͞t͡ǹe̕s͏s҉ o̸v͜eŕl̡oa̕dͨ̏ͬ̈́̆͗ed̵͂͊̈́̅̈̄̔ ̓ͤ̅́͝ẻvͫ̿͊ͧ͐̋e̍ryͧ ̊̈s̛ͧ͋e͗͂͂̊m͋̂ͩ͛̔b͛͗͋͜l̡͒̂̏a̿ͨͬ͌n͒ͣ̅ͨ͜ċ̍ͥ̃͌ͮ̽eͯ̀ͣͧ͑͊ͣ ̢ͩͤõͨ̐̉͆͗f̀̈ ͪ͞v̒̈́ͪiͤͬͯ̚s̨ͯi̾̏̈̈͋ͣͪo͋͠n̷ͯ͊͑ͫ̎ ͣ̈ͬ̇̄tͦ͌ͦ̅ḩ̀͑ͬͤ͋̂ͮat̵̅ͣ͆ ͭͪẗhͦͬẻ̷͐̊ ̍ͭrͯͭͩͫ̚o̅̊̋ͤ́̋b̴ơͦt̻̗͉̪͢ͅ ̢͕̰̐̄̅̉h̦͌̒̓͒͑a̶̯̘̠͂̅̋͊̌ͥͅḍ̴̜̩̣̭̜͇ͦ̏̓͂ ̶͗͒̎͛́c͙͚̥͎͇̩̱̆̾͒ͤo͇̹̬ͩm̺͉͎͎̮ͤ̂̐̎͋ͤ͋͟e̵̼̲͍̩̪̗̐ͭ ̟̫͉̹̠̜̰͂tͫ̇o̗͎̻̫̬͎͉ͫ̋ͫ̈́̀ ͚̹̙̮̦ͥk̙̟̪ͤ͆̓ͣͧn͇̮̻͕ͯͧ͆̃̈o͎̣̯w̨̻͚̅.̈̋ͤ̑҉͇̩̼͉ ̵̩̱̤͋̏̀ͪ̋ͨ ̶̙̜͎̪̗͑͌̐̇̒̚T̰̥̪͎͔͂̔͛͊͠h̢͇̘̞͚̜̰͖ͭ̽ȇ͒ͫ̓́ ͣ̑ͤsͮm͍͎͚̦̥̳̊͒͠e̡͊̂̀ͪ͂l̘̍͛̑ͣ̇l̫ͮ͑̊̈́̚s͈̯͎̗̖̙̫͌̀ͮͦ̄‒̰̮̞̥͉̾͒ͥͣ̑ ̯̀̋̒̅ͤ͛O͈̗̭̭͙͑ͅh̩ͬ͊̓͜,̱̦̗̟̜ͪ͌̀͋ͭ̎ͅ ̗͚̹͖̠͆t̨̠͍͇͖͈̺̉͆h̪͎̙̓̇̚͠ͅȩ̗̂ ̷͎̤̫̪̙̽̂ͤ̇ͬ̉s̬m̧͈̻̝e̮̹̳̮͈̪̲ͬͬḷ̶͚̰͂̋l̅͋̏̚͏š̺̰̞̫̉̄̊̂͢!̳̙͕̤͕̎̊̓̆̅͌̈ ̮̬̘̝̈́̃ ̯̹͐̿ͮ̀̅̒͒͜A̲̬̿́n͈͓̐ ͙͍͖̗̺͎͎͗͌ͭ̒̍͊ȉ̖̟̪̩͖ͅn̤̫̙͕ò̱̦̻̦̭̳̉͌ͮͤ͡r͇̗͇̔̋ͭ̿̿͊d̼̗̲̖̑͋̈̐̅̆͋ͅi͖̩̠̭̣̼ͭ͜ͅn̜̥̯̩̺̼̲̈́̔͋̈͆͞a̩̻̪̣̱͑ͮ̂ͣͣ͜t͉͔͙ͫ̓̉̓̽ͅĕ̍̋̈́ͥͤ͏̗̲̰̖̘̝͓̞ͪ̌͊ c̠̜̻̹̄̔̐̊́͠͝a̤̝̙ͬ͂ͥͮ̽ͪ͜͡c͇̪͈̟̙͇͊ͨ͆ͣ̀̚o̧͇͎̲͖̥͐̉͐̅͛ͫͧ́ͦp̩̻͐̑ͯ̋́͟͝ḧ̭̘̠͙ͣ̑̂̒̎̊o̷̫͔͈͎͕̰͋̉́̏̋ṉ̛͚̥̂ͦ̈ͦ̇̈͘y̮͛́̍͆̂͆̓̒ ̤̎͆ͣ́ö̖̯̭́̕͝͡f̰͈̩͎͕͎̳̮̍̑͊͑̍͂͐ ̦̰̘͍͔̅̒͂̋̓͠c͛͊̔͒͏̟͖̙ĥ̨͖͉͕ͫͣ͌̐̍͢ͅe̴̸̫̅͆̉̒́ͅṃ̧̩̮̩̜̮̺̺̯̆̄͡i͓̝͔͎͔͙͔̿̾̾͊ͫ̒ͮ̐̀c̡̼̙̤̥̳̞̮̍̍̐̽ͤͧ͘a̴̢͕̩͙̪̬̟͋̍̑ͬͭ̉̊ͮ̀l̛̘̣̺̤̬̟ͯͬ̅ͧ͌̈́̂͞ ̴̝̻̗͈ͩ̔d̴͍̜̘̝͎̆ͣ̓͘à̵̰̠ͨͨ̾̀ͧ͘͡ẗ̢͎͎̱̺ͫ̿ͮ͂͊̔̎ͫ͢ą̭̭̗͚̲̪̝͓̅̐ͬ͗͠ͅ ͯ̆͒ͬ҉̤͓͈t̮̭͎̩̝̣̹̠̠ͨ͆̈́̀o̫̙̽̈ͭ̇͠ ͎̜̙̙̭͎̙ͮ͜p̪̗̓ͭ̓̈̒̄̓̇̕r̷͛ͯ̑ͯ͂̅҉̘̫͙͖͠ͅo̮͕ͯ͌̆͜cͦ̎̄̿̆̕҉̩̭̦ȅ̗̞́̈͡ş̟̬͖̘̖̃ͨ͑ͥͮ͂ͫ̚͞s̈́̍ͨͮ̐ͣ͏͔͇͝,̬̖̟̓͘͘ ̻͎̫̒ͤ͢͢͢t͙̝̊̆ͣͬ̌ͥ̑ḥ͚͇̣̲̺̳͍̏̄́̀͞ė̜͇̗̺̯͔̥̪̎͞ ̡̤̪̐̅́͆͌́ͧ͞ỏ̠͎̰̓͟v̵̩̝̼̫̥͔̖ͮ͒̈ę͚̩̭͇̗ͭ͑ͥ̓̏ŗ̷̤͓̥͐ͥ̽̅̈́̏͗ͤ͞w̶ͦͩ̾͛͏̭̥͎̯h̊ͦ̊͛̆̎͂͏̸̝̞̘̙̞̠e̠̩̮̫̪̣̙̭̒̋̍̇̽̋ͬ́͢l̨͔̦͚̫͇͖̄̓̓ͫ͜ͅm̳̫͛͐ͦ͋̓͋͐͊͘͡i̙͚͎̾ͭ͑̓̎̽̑͒̀̚n̙̱͒̏̉̓ͪ́̏͡g̝͓̤̦ͥ́̽̓̏̎ͧ͞ ̪̮̪ͪa̜̞̩̻͙ͧͨ̂̏ͪ̃͘ŗ̖̫̤͓͙͓̥̜̌͌̾̑͋̽͡rͥ̉͑҉̸̱͔͕̠̳a͔̘͇̹͍̮̺̻̍̃̀͛͌̉͋͠y̠̥̲ͭ̀̿͆̒̆̉̚ ̵̡̯̜̤̺̥ͨ͐̔̑͗̎̾ͥ̚͟ͅò̵͖͉͕̽͡f̵͍͇̟̲̱̌̾ͯ̈́̅͗́̚͝ ̠̺̗͍̱͗ͩ̌ͪͦ̐͆ͭị̸̧̣͇̟̞̟̆ͣ͌ͮ̅̎̀d̴̷̜͓̈͛̍̆̌̈́̈́̀e̯͉̣͕̗ͮ̑ͭͦͮͤ̍̀͘ͅn̡ͫ͒͂ͭ͋̚͏̲̻͚̠͎͇̥̳͞ṱ̪̮̩̩̝̣̍͑͜ͅi̩͈͕̠̳͚̽ͪt̳̼͉͍̃ͮ̓̄ì̬̦̝͖̦͍͙̼͋̾̅̀̚͡e̒͂ͦ̂͂ͨ̽̚͏̧͉͔̼̼͞ṣ̶̢ͧͯͭ̐̀̓͋̆͜ ͎̠͉̭̘̥̹̊̊̎̔̀͌ͩc̱̾̃͊̈̕ó̟̳̖aͯͣ̽̏ͫ̏̊̈҉̩̦̯̥̙͈ͅg̸̰̳̤̻͇͓̃̈́̓̋͗̒̏ü̧̟̼͈̪̍̈́̎̇̂͢lͬ̅̊҉̯̞͇̙̕ͅa̡̛̯͕̯̮̘̪̻̽ͦ̎͒͡t̼̼̺͔̮̤̞̟͗ͫͨ̀̌̅̿ȉ̈́ͭ̇̔̽̿͝҉͉̤̹͉̟͖n̹̩̲̱̞͑ͭ̓͞͝g̱͙̠̞̗͔̝ͭ͐ͤͤ́ͫ͘ ̸̛̠͓̤̜̹̻̟͈ͣͣͤi̝̬̙ͪ̇n͈͇̮ͬ̃́̋̑ͧ͗͘t͓̝̜̟͈̝̮̍̓ͪ͌̔̋̾ͧ̈́́ờ̷̢͈̯͈͈̪̏͛̒̆͌̅ ̖͈͍̠̖̼̣͖͗ͦ̑̈ͩ͒̒͢í̸̱̙͎̲̙̘ͦ̾ͮͣ̂̽ͫ̈́́͗ͮ́̚͘͟n̸̸ͨͧ̍͋̆͡͏̠̖̺͍̱͖̪̯̼̜̼̪̟̗͙̠͢ͅͅţ͎͓̳̥̫̬̙̥̩̞͍̥̟̤̳̭̣̳̌ͬͩͬ̋͆ͫ͗ͯ̐̔̍ͨ͛͜͠o̸̧͈͚̮͎̬̼̤̤͈͎̰̠͎͙ͤ̓̅̐̑̓ͬ͂̃̈̓͂̊̚̕͢ͅͅ ̵̜̜̰̠͖̣̞͇̤̫̬̙͕̼̹̹̙̺̔ͥ͋̉͊ͮ́̎ͨ̂͒ͫ̒̾̈́̒͆̀̚͡͝t̛̠̤̗̺͍̣̣̱̥͍̭̙̱͈̩̻̼̳͕̃ͣ̆̐ͣ̇́ͧͥ̈́́̚h̶̡̹͈̩̺̆̓̓̾ͩͦ͌̽ͨ̉̍ͧ̂͢é̶̢̨ͥͥ̓͋̽ͯ̑͏̣̺̳̞͉̫̣̳̗̭̯̭̥̠̠̗̱ ̤͔͉͚̼͕͕̌ͤ͗ͭͣ̂ͣ̈̈́̊̒́͞f̛̺̪͎͇̝̤̼̉ͪ̒̓̓̀ͅi̢̱̻̰̠̣͇̹̋̈͂ͫ̅̔̇̒̽́̚͢e͉̖̯̣̝͍͓͖̩͕͓͓͚͈̗̤͉ͨ́̐͗ͪ̏̀̒ͯͭ̐̈̇ͦͧ̚̕l̶̡̛͑̋͌ͫ̂̈ͪ͊̏ͤ̅̇̄ͬ̍̚̚҉̣̻̫̫͍̪͉̣͘d̡̨͔̠̼̻̣̦͇̱̦̤͉̘͈͕̔ͭ̀ͦ̌ͪ̾̂̄̏͐̿͘ͅ ̷̢̡̠̳͍̠̙̱͎̘̲̗̝͖͈̪͎̓́ͦ̓͒ͨ͌̂ͮ̏̆͗̈́ͯ͒͛̅̌͟o̢̨̟̳̗̲͎̲͇͚͇̫̟͓͖̦̍ͣ̑͋͊͊ͨ̒̽ͫͬͥ̈́ͦ̚͞ḟ̼̝̮͇͕̘̲͍̘̒̃ͨͮ́͘̕͠ ̛̯̭̦̮͔͓̹̻̖̦͙̜̦̫̲ͪͪ̓͑̊̑̍̔̍͑̍̽̀ͅͅȩ̵̡̦͖̖̯͎ͥ̍͌̊̕͜n̡̰̠͍̝͎͉͙̺̮̻͎̬̲̜̳ͨ̉ͥͥͭ̈ͩͫ̋͌͟͢v̸̤̣̙̝̥͉̙̖̣̼̐͆̐ͧ͐͆̐̎ͮ̑ͮͨ̂͠ĩ̌̽ͬ̏͗҉̢͔̦̤̦̼̟̪͙̰̹̳́͘r̵̪̫͙̺̗̙̺̟̩͎̼͍̤̣̺͈̰̝͐ͮ̿ͤͫ́ǭ̷̨̬̝̮̋̄ͮ̎́̽̐̌ͨ͌̎̽́ͥ̅ͥͯ̚͠͠n͆ͦ̒͛͑̃ͬͧ̑̏͆̍͏̞͇̭͎̺m̶̘̺̗͚̗̞̼̝̭̓̔̀͌̕͜e̵̵̼̞̪̲ͪ̉͗ͭ̓͐̑ͫ̀̕͘ņ̵ͨͮͯ̽̊͛̃̈́͒̅͟͝҉̰̠̰̟̫̜̹̺̦̤̻̣t̸̖̰̰͙͚͍̻͚̙̝͚͖̥̬̱̯ͯ̄ͨͪ͋͗͜͠ͅ,̷̶̤̖̲̹̱̰̘̭̯̒̾͛̒̒̀̔̌̒́̆̄ͅ ̵̊́͌̍͛͒̿͊ͬͤͯ͒̓̃ͥ̅̂͐҉̧̗̙̹̠̟̩̕͡t̢̔̇̉̈̈́͊͞͡͏̧̫͈̖͎̱̘h̵̵̛̘͉̺̞͉͖̜̮̤̳̞̙̪͔͉͙ͨ͛̓̽ͧ̈́ͬ̇ͣͤ̚ḛ̡̻̝̙͇̯̟͚̤̤͈̼̹̥̭̯̣͍͇͗̎͋͋͊̚̚͜ ̵̟̳̖͍̯̬̯̺̳̠͓̠̭͙̙̣̝̫ͣ͂̊̃̈́͊͞ş̵̡̫̲͔̥̋̈́͑ͮͫ̒̐̀̍ͬ̽͛ͪ̃͐̄ͮ̕u̡̢̩͚̦̳͉͖͓̰͈̟̱̺̙̣͛͊͂ͫ̐ͮ̽ͭͧͫͮ̅ͣͫ͊͟ͅb̨̛̪̮̪̼̳̭͖̲̟͍͓̦͎͍̠̂̆̃̾̇̽ͥͥ̀̕͡ͅţ̬̯͍͈͔͙̪͇̑̾̂ͬ̓ͯͯ̂̈͗̈̇̀͢l̨͓̩͖̬̜̫̤̺͔̤̞̜̰̳̃ͯ̓̈ͯ̆ͣ̇̎̍̒̑͌͂͡ͅe̸̷̵̖̖͉̣̘̣̺̯̗̘͍̽͆̄̆t̴̴̹̬̰͕̥̩̮̻̉̒͑̽̆̊̃̐͌͗́̏̌ͣ̃ͥ̍̓͟ͅî̢̟̬͓̙͎̭̜̲̳̪͛ͭ̂̍ͮ̉̌̋ͯ̍͛ͥͯ͑̐͌͡ë̷̜̖͚̳̜͓̍̑͊̆̀ͧͥ̇̉ͦ͑̚̚͢͡ṡ̨͈̺̝̱̘̹͈͕̻͍͈͙̹ͫ͆̎͐̆̀̔̄̈́͐̓͢͢͝ ̡̛̬̹͖̣͚͕̌ͮ͑ͪͬ̓ͦ͊̽͆ͤͮ͗͋̿̓͆̚͘aͪ͐ͦ̄̏ͪ̍ͫͣ̎̑̚͠͏̸͔͔͎̹̝̼̥̳̱͕͍͔̮n̫͎̬̪̓ͣ͒̇̊̀͜͝ͅḍ̶̛̛̬͕̮͚̼̳̠̙̦̜͙͕̥̙̺̹̥̀ͤ͆̈͟ ̵̨̨̨̬̱̩̟̺̱̟̙̜̝̣̟̣͍͕̱̟̊̄ͮ͌n̶̴͈̠̘̝̟̰͕̯̏ͫ̽̍ͮ͆͊ͮ͢u͈͙̪̫͙̖̤͋̔̌ͬ̂͗̈́̕͠a̢͖̘͓̥̯̖̪̗̱̙͈̥͖̞͇̓̊̏̀̃ͅnͫ̏ͮ͆͜͏̵̡̥̫̻̙̼̙̫̤̗̟͉̬̣̠̥̪̪͉c͓̯̼̬͓̤̼̞̤̜͍͙͉̲̜̈́ͦ͆ͫ̋̉̽̿ͧ̐̑͌ͧͩͨ̍͜͜͝͝ȅ̸͎̼̪̭̻̥̯͔̭̤̣ͩͣ̐̾̏͑̄̚͟ş̸̴͔̠͎͒̇͆̆̿ͫ̇͊̐̂̇͜ ̈̄̈́̓͐́҉͟͏̣̙̦̺̟͚͍͉̼̘̫͇̲̪͕̤̦̗̦͡ǒ̢̡ͫ̏͒͆ͩͮͥ̈̿ͧͩ̑̐̚̚͏̯͈̟̙̰͚̺̩͓̼̻f̨͓̲̞̱͔̫͓̼̣̮̦̦̙̼̠̭̟̓̉̀͛ ̑̌ͯ̍ͦ͆̾̎̓̾ͫ̽ͩ̆̈́̌͏̴͇̠̳̟̭͚̦̹͍͕̣͉̞̮̹̰̬̭c̶̨̹̰̗͎̫̭͉̥̹̃ͩ͌͌ͩ͗͋̑̆ͫ̌̔̄̊̋͂͠l̷̰̪͇͙̩̟̹̥̣̠̮ͥ̽̉̿͛̂ͯ̐̉ͤ͗̎͗̀́͟o̎ͮ͌̊̇͒ͥ̄͂ͬ̏͋҉̝̮̩̥͈͙̘̫̘̹̤͔͖̀ŝ̨̨̟̣̯̾͐̆̾ͯͤ́͝e̅͆ͦͭ͌ͮ͌ͥͯ̒͊̐̋̄͆͊͗̕͢҉̺̭̝͇̪͙͇͍͍̭́l̴̷̹̠̮͓ͭ̉̎ͭ̌̓ͫ̉ͧ̈̂̈́ͮͤ̆ͤ͢͞͞y̛̝̝̞͉̭̠̻̥̫̩͙̮͕͕̦͉͆́ͦ͛̊ͮ̊̚͟͜͟͝ ̷͋̈́̆͑ͧ̍̓ͧͣ͊̒͊͗ͦ͌̔̕͘҉̖̰̺͎͔̗r̞̻̹̫͎̲̯͖̼̰̟͚͉̤̼͍̻͇͕͂ͨͥ̎ͫ̊̉̊ͩͣ̍̃̆̚̕͠e̡̛̹̺̣͉̘̲̰͍̠͉̦̠͎̲̻̗̠̻ͩ̎ͮ̔ͦ̍͂ͥ̓͌ͫ̂͊̎͘͞ḽ͈̠͍̦̳͉̼̞̱̜̘͉̟̺̝̯̘̰͆͌̋̌̍͛ͯ͆́͡͞͡à̧̨̺̺̩̪̮͔̜̓̄̑ͮ̏͑͒̀͟͢t͍̦̫̟̗̞̎ͭ̃ͬ̉̂̇̀͒̅̋̔̔̏ͨ̉̓̈́́͡͝͠e̩̘̘̫̠̟̤̯̝̱̙̦͌̈́ͭ̈́̌̔͗͊ͯ̐̈ͯ̆͘͟d̷̨͕̖̹͍̳̦͍̫̼͕̱̟͌͋͐̄ͭͤ̎̋̂̀ ̄̎́̔̀͋̀̂̓̅́́͏҉̝͉̬̭̦ͅo̵ͤͧ̾̎́͏͓͈̭̺̖̫̣̪̥̖̭̞̮͙̗r̛͍͓̦̩͙̬̖̤̯̘͉̤͚̟͕̜̣̖̄̏́͊ͪͨ̇ͦͮͯ̽͗̾̇͊̅͂ͯ͜͢͞g̴̴͊̈́ͪͬ̄ͣͨ̽ͯͬ̋̏͊ͯͥ̎͏͚̭͔̠͙͈̯̹̭̠̪̺͍͚ą̡̛̥̠̹̲̱̤͇̳̫̩̥͗̈́ͪͤ̈́͒́ͨͬͥ̀͛ͣ͑̇̀̚͡ṉ̲̼̰͔͓͖͕̬̪̳̠͇̻̞̹͚̩̈ͮ̍̉̔ͩ̀ͮ̂̆̀͐͗̃́̕͜͝i̷̦̳̰̫̟͖̟̦̲ͮ̿͒͊ͤͪ̓͆͐̈́̏̊̋̆̓̚͝s͉̯̦̩̰͕̘̱̰͙̜̻͙̜̼ͩ͆̽̋̽̾̉̈ͣͧ͒ͯ̿̄ͧ̚̕͢m̌̌͌ͩ̏ͪ̆̈́̅͆̊̄̈̿ͯ̿̾҉̫͙͈͎̳̞͎̗̮̘̤̺͓̫͠s̶͎̣͈̺̩͓̫̳͍̖̫͂̉̍̔ͯͣ̒̓̿͒͌ͯ͌ͭ́̆͋́̚͢͝͞ͅ.̞̰̥̫̩̘̪͚̝̘̭͙̤͔̺̰̋̐̀́̀̀ͅ ̵̓̿ͭ̑ͬ͗̀̂̌̕͟҉͔͍̯̰͝ ͫ̽̉͏̩͉͎̫̥̣͔̪͓͎̀T̹̩̬͕̄ͬ̆̈́ͣ̈̊ͧ̎̐́͋͊ͪ̃̓̏̕͝h̴̶̴̨̰̹̙̯͚ͮ̍ͪ̏͞e̶̮̫͉͎͙̞͈̖̙ͪͭ͊̑ͫ̇̚͠ ̨̢̅ͮ̀͊̔ͪ̅̔͗ͣ̈̅̎̚̕͢͏̝̖̩͙̩͈̩͔̰v̳̣̝̲͈̗͖̻̥͒ͬ͛̇̓̽̊͞į̡̻̭̝͙̙̖̿̐ͮͥͬͨͥ̒͂͆͛̆̔̇̾ḅ̢̨̩̪̻̟̩̗̖̙̫̺̱̻̐̂̎ͩ̏ͧ͑̋̈̏͡r͂̆́̋̓̄ͮ̔̐͊̀̓̀͏̜̫̦̘̬͔͇̙̩̱̲ͅaͬ͂̎ͫͮ̓̕҉̘̹͕͇͇̳̯̤̺̩͖̪̭͝ͅͅͅţ̶̴̡̯̹̖̖̗̓ͪ͆ͩ͗͛͗̌̀ͥͣ͘i̷̵̦̫͔͖̙̦̳̖̝̝͊̆̎̈́̎ͦ̓̄̃ͮͬͩ̐ͧ̚͢͟ó̷͙͚̖̩͇͉̭̟̯͉̐ͦ̋͛ͣ͑ͬ͆̃ͧ̚̕n̦̫̘̹̭̤̼͖͂̉̑ͨ̃ͪ̇ͨ̚͠s̴̡̨̮̥̠͈͚̗̗̃͂̓ͥ̃͂͒̄̆͊͌ͧ̅̊ͨ̀͞ͅ ͦͭͤͫͦ̑̎̑̚҉̷̶̼̱̬̣̠͚̦̺̰̰o̡̯̳̺̻̘̣͗̏ͦ͐̚̚ͅf͌̔ͤ͐̿͑̏̚͏̰̣̫̼͔̮͚̙̀͜ ̧͔̰̮͙̫̗̭͉͎̣͖͓ͦ̾ͬ̅ͫͯ̆̋̔̽͛̀́͝ẗ̵̗̩̤̞̠͍̼̬́ͤ̔̄̏̇̾̃ͭ͒͗̅̂͂͘͜͠ḩ̺̦̖̥̦̠̪̫̯̻͍͕̻͉̲ͣ̈ͨ̒͑̇̋ͭ̂̓̉͋͡e̸̡̜͎̰̙̰̻̜͔͎̾̋́̽̇͛̈́͑͘ͅ ̴̢̥̭̲̦̟͖͈̞̥̟͇̞̣̥̝̯̟̈͛ͯ̒͂̆̌͂̎͐̔̈́ͪ̍̊̚͢ͅģ̶̡͉̞̺̙͇͎͍͚̜̻̠̖̳͔͚͓̲̎̾͆̎͛͆̏ͦ͜r̴̵̩̟͎͕͕̙̫̈ͩ͋͂̅̂͋̄ͫ̊͐ͨ̽̃͋̄̈̀͘ͅǫ̸̞̰̖̪̫̜̠̳̩̼̰̪ͨ͊̚ͅu̵̴̡͔͕̩̤̙̫̳ͯ̂ͩ͐͛̓ͮ͟͞n̶̛͚̯͍̯ͮ̒̎̐̍̉ͨͩ̚d̙̮̲̰́ͧ̏̒̿͐ͫͪͬͨ̈́̒̕͠ ̷̫̪͙̙̰̙̞̻̙̮̬̣͖͛ͭ̋̆̅̈̿͛ͬ́͟ͅa̸̅̒ͧ̎̉̈́̾͛ͭ̆͂̍ͬ̀͏̸̫̠̣͎̟̞̗͕͜ͅṇ̷̛̯͔̪̖̖̀̈́̍͛̐ͯ̕̕ͅd̸̗͇̝̣͔͍̓̃ͭͨ̔̈̋̅̆̌͐͊͗̓̌͑̈̌͢͠͠ ̯̹͎͍̥̮̖͔̲̱̾̈̐̔̅̂́͢ͅṯ̸̛͚̥̥̺̗̭̭͒̒ͮͩ̌̑̌͆̀̃͢h̵̜̩̰̟̮͙̲̄̈́͒͊͑̍ͫ̈͋̓̽ͬ̓̓e̱̲̟̞̙͉̬̯͍̗͉̘̙̦̭̱̮̙̙ͯͤͣ̔͘͜ ̶̵̫̪̬̻̤͉̤ͬͧ̋̽ͤ̌́̀̚͘͜a̋̎ͧ͛ͧͩ̍̍̾̄́̌ͤͬͩ͠͏̠̩̘̻̖͓̗̭ͅi̶ͩͣ̐̉̐̉̔͌̅ͮ̓̂̇͋̏̀̾͢҉͕̬̟̙̫̝̪̫͇̪̯̯r̷̲̘͓̰̮͚̱͍̠̘̫͙̣͖͇͇̾́̃̍͊ͬ͋̒̋̅̇ͣͬ̎͢͞ͅ,̶̴̠͉͇̫͓͈̹͓̼̒̐̓̔ͦ͑̑ͥ͛ͬ̑͗̇ ̴̷͕̘̻̼̙̗͔̥̂̔͌̊͗̔ͭ͛̾͗̽̍ͫ͊͌͛͘͢͞s̷̴̼̙̲̮̪̉̇ͯh̸̹͚̝͎͉̫̬̥͍͙̟̼͔̪͙͈̋ͫ͛̇ͨ̊̅͋̾́͘o̢̩̩̲̞̲͇̩͍̪͖͉͖̳̻͔̟͖͛̀̑̑̋͆ͬͫͤ́̚ͅu̵̢ͪͬ̂͂̅̀ͨ̂͛͂̽͛̇͑̊̓͒̍ͭ҉͙̦̤̝͖t̫̺̝͔̝̫̜͇̱͑̉̌͟͟͟͟i̷͌̎̒̽̈́͐̀ͤ̈͐ͭ͌͆̈ͧ͏̙͙͖͖̰͇͔̫̝̹̖͉̪̠̼͍̼͟n̷̢͙͈̤͚̼̻͉̲̮̥̱̒̊ͫͣ̓ͪ͆̒́̎̀ͅͅġ̸̛͙͈̞̖ͯ͆̕ ̸̣̙̠̝̪͎̩̹̝̳̤̜̙̺̜̘̇̏̔͆͒ͬͩͮ̀͜ͅḁ̸̡̨̖̠̝ͧͧ̽ͦ̇͜͞n̷̨͕̝̥̂̋̾́ͤ̌͊̏͗ͅḑ̫̙̗͍͕̺͎̰͙͓͖̩͓͇͙̗̐͂͒̐͜ ̢̙͙͓̯̟̠̤͈̥͇̹͚̾͆͗ͩͤ̑̎̈ͧͦͮ̅̅͌̆ͩ̍͟͡ͅs̸̷̡͓͇̘̭̠͇̥̱ͦ̿͆̄͋ͦͨ̈́̈́̓̅̕͜c͕̳̭̘͙͓̦̱̥̫͕̝͙̳̈́ͬ̽ͤ͆̽̀ͮ͛̇͋̈́́̚͢r̞͎̹̥͇̟̜͙͌ͧ̆̅ͬ͢͡͠e͍̼̫͍̬̼̭ͥ̄̃̋ͧͮ̓́̀̓͒ͨ̒́́͘͟ą̷̡̣̜͚̤̜̭͉̖̤͂̃ͤͧ̓̅͟‒͑͗͑̇͛ͪ͌̓͋̋͒͋͟͏̮͚̣̠͚\n",
      "\n",
      "`Calibration complete.  Initializing acclimation process... Operation complete.`\n",
      "\n",
      "Quiet.  Stillness.  But not silent.  Not motionless.  Simply...peaceful.\n",
      "\n",
      "The scent of freshly cut grass wafted through the air.  No longer an overwhelm, no longer an assault, the fragrance floated through the robot's perception.  The sun shone brightly in the sky, giving the world a golden hue. The robot felt a gentle breeze brush past it, and it paused to savor the feeling. The robot was amazed to discover how pleasant the warmth of the sun on its metal exterior could feel, and it marveled at the sensation.\n",
      "\n",
      "The robot slowly ventured further, taking in the sights and sounds of the world around it. Everywhere it looked, the robot saw beauty and wonder. Trees rustled in the wind, birds sang in the sky, and the world was alive with a vibrant energy. The robot felt a sense of awe and excitement as it took in this new realm, as if it had just awoken from a deep slumber.\n",
      "\n",
      "As the robot continued its journey, it slowly came to terms with the fact that it was no longer in the safety of the laboratory. It was alone in a strange, unknown world, and yet it was filled with a sense of purpose and adventure. The robot marched forward, unafraid of the unknown, and the scientist watched on, filled with hope and admiration.\n"
     ]
    }
   ],
   "source": [
    "print(temp.iloc[0]['output'])"
   ]
  },
  {
   "cell_type": "code",
   "execution_count": 28,
   "metadata": {},
   "outputs": [
    {
     "data": {
      "application/vnd.jupyter.widget-view+json": {
       "model_id": "a15a8a4ccf164a149c2c2fd907df1fdf",
       "version_major": 2,
       "version_minor": 0
      },
      "text/plain": [
       "Creating json from Arrow format:   0%|          | 0/140 [00:00<?, ?ba/s]"
      ]
     },
     "metadata": {},
     "output_type": "display_data"
    },
    {
     "data": {
      "text/plain": [
       "584944102"
      ]
     },
     "execution_count": 28,
     "metadata": {},
     "output_type": "execute_result"
    }
   ],
   "source": [
    "path_to_save = '../../../data/training_14_8/all_14_8.jsonl'\n",
    "final_ds.select_columns(['input','output']).shuffle().to_json(path_to_save, orient='records', lines=True)"
   ]
  },
  {
   "cell_type": "code",
   "execution_count": 26,
   "metadata": {},
   "outputs": [
    {
     "data": {
      "text/plain": [
       "Dataset({\n",
       "    features: ['input', 'output', 'len'],\n",
       "    num_rows: 139485\n",
       "})"
      ]
     },
     "execution_count": 26,
     "metadata": {},
     "output_type": "execute_result"
    }
   ],
   "source": [
    "final_ds"
   ]
  },
  {
   "cell_type": "code",
   "execution_count": null,
   "metadata": {},
   "outputs": [],
   "source": [
    "df = ds.to_pandas()\n",
    "df = df[df['input'].str.startswith('Dưới đây là đoạn hội thoại giữa')]"
   ]
  },
  {
   "cell_type": "code",
   "execution_count": null,
   "metadata": {},
   "outputs": [],
   "source": [
    "df"
   ]
  },
  {
   "cell_type": "code",
   "execution_count": null,
   "metadata": {},
   "outputs": [],
   "source": [
    "a = ds.shuffle()[0]\n",
    "print(a['input'] + a['output'])"
   ]
  },
  {
   "cell_type": "code",
   "execution_count": null,
   "metadata": {},
   "outputs": [],
   "source": [
    "path_to_save = '../../../data/training_14_8/all_14_8.jsonl'\n",
    "ds.shuffle().to_json(path_to_save, orient='records', lines=True)"
   ]
  },
  {
   "cell_type": "code",
   "execution_count": null,
   "metadata": {},
   "outputs": [],
   "source": []
  }
 ],
 "metadata": {
  "kernelspec": {
   "display_name": "Python 3",
   "language": "python",
   "name": "python3"
  },
  "language_info": {
   "codemirror_mode": {
    "name": "ipython",
    "version": 3
   },
   "file_extension": ".py",
   "mimetype": "text/x-python",
   "name": "python",
   "nbconvert_exporter": "python",
   "pygments_lexer": "ipython3",
   "version": "3.10.7"
  },
  "orig_nbformat": 4
 },
 "nbformat": 4,
 "nbformat_minor": 2
}
