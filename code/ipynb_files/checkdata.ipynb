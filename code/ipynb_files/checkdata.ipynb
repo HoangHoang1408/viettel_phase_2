{
 "cells": [
  {
   "cell_type": "code",
   "execution_count": 1,
   "metadata": {},
   "outputs": [],
   "source": [
    "import numpy as np\n",
    "import pandas as pd\n",
    "import matplotlib.pyplot as plt\n",
    "from matplotlib import rcParams\n",
    "import seaborn as sns\n",
    "import warnings\n",
    "import torch\n",
    "from torch import nn\n",
    "from torch.utils.data import DataLoader\n",
    "from torch.nn import functional as F\n",
    "device = 'cuda' if torch.cuda.is_available() else 'mps' if torch.backends.mps.is_available() else 'cpu'\n",
    "from tqdm.notebook import tqdm\n",
    "sns.set()\n",
    "rcParams['figure.figsize'] = (20,10)\n",
    "pd.options.display.max_columns = None\n",
    "warnings.filterwarnings('ignore')\n",
    "from pprint import pprint\n",
    "import json\n",
    "from collections import defaultdict\n",
    "from googletrans import Translator\n",
    "import time\n",
    "from datasets import Dataset"
   ]
  },
  {
   "cell_type": "code",
   "execution_count": null,
   "metadata": {},
   "outputs": [],
   "source": [
    "translator = Translator()\n",
    "def translate_df(df, batch_size=1, translator=translator):\n",
    "    def translate_text(text, sleep_time=2):\n",
    "        if text in [''] or text is None:\n",
    "            return ''\n",
    "        while True:\n",
    "            try:\n",
    "                return translator.translate(text, src=\"en\", dest=\"vi\").text\n",
    "            except:\n",
    "                print(\"Requests error\")\n",
    "                time.sleep(sleep_time)\n",
    "    \n",
    "    def clean_text(text):\n",
    "        return text\n",
    "    \n",
    "    data = defaultdict(list)\n",
    "    for i in tqdm(range(0, len(df), batch_size)):\n",
    "        batch_df = df.iloc[i : i + batch_size]\n",
    "        temp_data = defaultdict(list)\n",
    "        for col in df.columns:\n",
    "            batch_df[col] = batch_df[col].apply(lambda x: clean_text(x))\n",
    "            col_vals = ' ## '.join(batch_df[col].values)\n",
    "            temp_data[col] = [x.strip() for x in translate_text(col_vals).split('##')]\n",
    "\n",
    "        can_insert_batch = True\n",
    "        for col in df.columns:\n",
    "            if len(temp_data[col]) != len(batch_df):\n",
    "                can_insert_batch = False\n",
    "                break\n",
    "\n",
    "        if can_insert_batch:\n",
    "            for col in df.columns:\n",
    "                data[col].extend(batch_df[col].values)\n",
    "                data[f'{col}_translated'].extend(temp_data[col])\n",
    "            continue\n",
    "        \n",
    "        # else loop through each row\n",
    "        for _, row in batch_df.iterrows():\n",
    "            for col in df.columns:\n",
    "                text = clean_text(row[col])\n",
    "                data[col].append(text)\n",
    "                data[f'{col}_translated'].append(translate_text(text))\n",
    "                \n",
    "    df = pd.DataFrame(data)\n",
    "    return df.drop(columns=[col for col in df.columns if '_translated' not in col]) "
   ]
  },
  {
   "cell_type": "code",
   "execution_count": null,
   "metadata": {},
   "outputs": [],
   "source": [
    "a = \"\"\"Cuộc trò chuyện giữa con người và trợ lý AI.\n",
    "[|Con người|] {prompt}\n",
    "[|AI|] {response}\n",
    "[|Con người|]\"\"\"\n",
    "\n",
    "def get_prompt(row):\n",
    "    return a.format(prompt=row['prompt'], response=row['response'])"
   ]
  },
  {
   "cell_type": "code",
   "execution_count": null,
   "metadata": {},
   "outputs": [],
   "source": [
    "temp = pd.read_json('../../data/translated/vi_alpaca_reduced.jsonl', lines=True)\n",
    "temp2 = temp.apply(lambda x: get_prompt(x), axis=1)\n",
    "temp2 = pd.DataFrame(temp2)\n",
    "temp2.columns = ['prompt']"
   ]
  },
  {
   "cell_type": "code",
   "execution_count": null,
   "metadata": {},
   "outputs": [],
   "source": [
    "temp3 = pd.read_json('../../data/translated/quora_chat_data_translated.json', orient='records')"
   ]
  },
  {
   "cell_type": "code",
   "execution_count": null,
   "metadata": {},
   "outputs": [],
   "source": [
    "temp3.to_json('../../data/translated/quora_chat_data_translated.json',lines=True,orient='records')\n",
    "temp2.to_json('../../data/translated/alpaca_chat_cleaned_translated.json',lines=True,orient='records')"
   ]
  },
  {
   "cell_type": "markdown",
   "metadata": {},
   "source": [
    "## Clean ShareGPT"
   ]
  },
  {
   "cell_type": "code",
   "execution_count": null,
   "metadata": {},
   "outputs": [],
   "source": [
    "share_gpt = pd.read_json('../../data/original/ShareGPT_V3_unfiltered_cleaned_split.json')"
   ]
  },
  {
   "cell_type": "code",
   "execution_count": null,
   "metadata": {},
   "outputs": [],
   "source": [
    "popular_programming_keywords = [\n",
    "    \"python\",\n",
    "    \"java\",\n",
    "    \"javascript\",\n",
    "    \"c#\",\n",
    "    \"c++\",\n",
    "    \"typescript\",\n",
    "    \"ruby\",\n",
    "    \"swift\",\n",
    "    \"kotlin\",\n",
    "    \"php\",\n",
    "    \"rust\",\n",
    "    \"scala\",\n",
    "    \"dart\",\n",
    "    \"matlab\",\n",
    "    \"objective-c\",\n",
    "    \"perl\",\n",
    "    \"lua\",\n",
    "    \"assert\",\n",
    "    \"async\",\n",
    "    \"await\",\n",
    "    \"def\",\n",
    "    \"elif\",\n",
    "    \"lambda\",\n",
    "    \"nonlocal\",\n",
    "    \"function\",\n",
    "    \"var\",\n",
    "    \"cuda\",\n",
    "    \"torch\",\n",
    "    \"code\",\n",
    "    \"sudo\",\n",
    "    \"bash\"\n",
    "]\n",
    "popular_programming_languages = [\n",
    "    \"python\",\n",
    "    \"java\",\n",
    "    \"javascript\",\n",
    "    \"typescript\",\n",
    "    \"kotlin\",\n",
    "    \"objective-c\",\n",
    "]\n",
    "def check_text_not_contain_code(text):\n",
    "    temp2 = text.lower()\n",
    "    temp = set(temp2.split())\n",
    "    for language in popular_programming_keywords:\n",
    "        if language in temp:\n",
    "            return False\n",
    "    for language in popular_programming_languages:\n",
    "        if language in temp2:\n",
    "            return False\n",
    "    return True\n",
    "\n",
    "temp = share_gpt['conversations'].apply(lambda x: str(x)).apply(check_text_not_contain_code)\n"
   ]
  },
  {
   "cell_type": "code",
   "execution_count": null,
   "metadata": {},
   "outputs": [],
   "source": [
    "share_gpt_no_code = share_gpt[temp][['conversations']]\n",
    "share_gpt_no_code = share_gpt_no_code[share_gpt_no_code['conversations'].apply(lambda x: len(x) >= 4)]\n",
    "share_gpt_no_code.shape"
   ]
  },
  {
   "cell_type": "code",
   "execution_count": null,
   "metadata": {},
   "outputs": [],
   "source": [
    "from numpy import nan\n",
    "\n",
    "\n",
    "def create_conversation(turns):\n",
    "    res = \"The conversation between human and AI assistant.\\n\"\n",
    "    for turn in turns:\n",
    "        if turn['from'] == 'human':\n",
    "            res += \"[|Human|] \" + turn['value'] + \"\\n\"\n",
    "        elif turn['from'] == 'gpt':\n",
    "            res += \"[|AI|] \" + turn['value'] + \"\\n\"\n",
    "        else:\n",
    "            return nan\n",
    "    return res\n",
    "\n",
    "share_gpt_no_code_conversations = share_gpt_no_code.apply(lambda x: create_conversation(x['conversations']), axis=1)"
   ]
  },
  {
   "cell_type": "code",
   "execution_count": null,
   "metadata": {},
   "outputs": [],
   "source": [
    "print(share_gpt_no_code_conversations.sample(1).iloc[0])"
   ]
  },
  {
   "cell_type": "code",
   "execution_count": null,
   "metadata": {},
   "outputs": [],
   "source": [
    "share_gpt_no_code_conversations.to_json('../../data/original/share_gpt_no_code_conversations.json', orient='records', lines=True)"
   ]
  },
  {
   "cell_type": "code",
   "execution_count": null,
   "metadata": {},
   "outputs": [],
   "source": []
  },
  {
   "cell_type": "markdown",
   "metadata": {},
   "source": [
    "## FAQ"
   ]
  },
  {
   "cell_type": "code",
   "execution_count": 342,
   "metadata": {},
   "outputs": [],
   "source": [
    "path = '../../data/translated/all_faqs.json'\n",
    "faqs = pd.read_json(path)"
   ]
  },
  {
   "cell_type": "code",
   "execution_count": 343,
   "metadata": {},
   "outputs": [
    {
     "data": {
      "text/html": [
       "<div>\n",
       "<style scoped>\n",
       "    .dataframe tbody tr th:only-of-type {\n",
       "        vertical-align: middle;\n",
       "    }\n",
       "\n",
       "    .dataframe tbody tr th {\n",
       "        vertical-align: top;\n",
       "    }\n",
       "\n",
       "    .dataframe thead th {\n",
       "        text-align: right;\n",
       "    }\n",
       "</style>\n",
       "<table border=\"1\" class=\"dataframe\">\n",
       "  <thead>\n",
       "    <tr style=\"text-align: right;\">\n",
       "      <th></th>\n",
       "      <th>instruction</th>\n",
       "      <th>input</th>\n",
       "      <th>output</th>\n",
       "    </tr>\n",
       "  </thead>\n",
       "  <tbody>\n",
       "    <tr>\n",
       "      <th>0</th>\n",
       "      <td>Bạn là luật sư. Hãy trả lời câu hỏi pháp luật ...</td>\n",
       "      <td>Câu hỏi: Tội giết con mới đẻ là gì?\\nĐiều luật...</td>\n",
       "      <td>Người mẹ nào do ảnh hưởng nặng nề của tư tưởng...</td>\n",
       "    </tr>\n",
       "    <tr>\n",
       "      <th>1</th>\n",
       "      <td>Bạn là luật sư. Hãy trả lời câu hỏi pháp luật ...</td>\n",
       "      <td>Câu hỏi: Vì làm ăn thiếu vốn nên em có vay của...</td>\n",
       "      <td>Bộ luật Hình sự quy định về tội lừa đảo chiếm ...</td>\n",
       "    </tr>\n",
       "    <tr>\n",
       "      <th>2</th>\n",
       "      <td>Bạn là luật sư. Hãy trả lời câu hỏi pháp luật ...</td>\n",
       "      <td>Câu hỏi: Theo quy định pháp luật, trường hợp n...</td>\n",
       "      <td>Theo quy định tại khoản 1 Điều 6 Thông tư số 1...</td>\n",
       "    </tr>\n",
       "    <tr>\n",
       "      <th>3</th>\n",
       "      <td>Bạn là luật sư. Hãy trả lời câu hỏi pháp luật ...</td>\n",
       "      <td>Câu hỏi: Chủ thể chịu trách nhiệm hình sự đối ...</td>\n",
       "      <td>Chủ thể của tội làm giả hồ sơ để tiêm vaccine ...</td>\n",
       "    </tr>\n",
       "    <tr>\n",
       "      <th>4</th>\n",
       "      <td>Bạn là luật sư. Hãy trả lời câu hỏi pháp luật ...</td>\n",
       "      <td>Câu hỏi: Tội khai báo gian dối hoặc cung cấp t...</td>\n",
       "      <td>Tại Điều 382, Bộ luật Hình sự năm 2015 sửa đổi...</td>\n",
       "    </tr>\n",
       "    <tr>\n",
       "      <th>...</th>\n",
       "      <td>...</td>\n",
       "      <td>...</td>\n",
       "      <td>...</td>\n",
       "    </tr>\n",
       "    <tr>\n",
       "      <th>6695</th>\n",
       "      <td>Bạn là luật sư. Hãy trả lời câu hỏi pháp luật ...</td>\n",
       "      <td>Câu hỏi: Hỗ trợ doanh nghiệp vay vốn trả lương...</td>\n",
       "      <td>1. Điều kiện hỗ trợ doanh nghiệp vay vốn trả l...</td>\n",
       "    </tr>\n",
       "    <tr>\n",
       "      <th>6696</th>\n",
       "      <td>Bạn là luật sư. Hãy trả lời câu hỏi pháp luật ...</td>\n",
       "      <td>Câu hỏi: Tôi muốn thành lập chi nhánh doanh ng...</td>\n",
       "      <td>Có. Theo quy định tại Điều 29 Luật đấu giá tài...</td>\n",
       "    </tr>\n",
       "    <tr>\n",
       "      <th>6697</th>\n",
       "      <td>Bạn là luật sư. Hãy trả lời câu hỏi pháp luật ...</td>\n",
       "      <td>Câu hỏi: Hành vi đánh nhau có hung khí\\nĐiều l...</td>\n",
       "      <td>Theo Điều 7 Nghị định 144/2021/NĐ-CP, hành vi ...</td>\n",
       "    </tr>\n",
       "    <tr>\n",
       "      <th>6698</th>\n",
       "      <td>Bạn là luật sư. Hãy trả lời câu hỏi pháp luật ...</td>\n",
       "      <td>Câu hỏi: Người làm việc theo hợp đồng lao động...</td>\n",
       "      <td>Theo quy định tại khoản 2 Điều 2 của Thông tư ...</td>\n",
       "    </tr>\n",
       "    <tr>\n",
       "      <th>6699</th>\n",
       "      <td>Bạn là luật sư. Hãy trả lời câu hỏi pháp luật ...</td>\n",
       "      <td>Câu hỏi: Cha mẹ tôi có 4 người con. Người anh ...</td>\n",
       "      <td>Theo khoản 1 Điều 675 Bộ luật dân sự, thừa kế ...</td>\n",
       "    </tr>\n",
       "  </tbody>\n",
       "</table>\n",
       "<p>6700 rows × 3 columns</p>\n",
       "</div>"
      ],
      "text/plain": [
       "                                            instruction  \\\n",
       "0     Bạn là luật sư. Hãy trả lời câu hỏi pháp luật ...   \n",
       "1     Bạn là luật sư. Hãy trả lời câu hỏi pháp luật ...   \n",
       "2     Bạn là luật sư. Hãy trả lời câu hỏi pháp luật ...   \n",
       "3     Bạn là luật sư. Hãy trả lời câu hỏi pháp luật ...   \n",
       "4     Bạn là luật sư. Hãy trả lời câu hỏi pháp luật ...   \n",
       "...                                                 ...   \n",
       "6695  Bạn là luật sư. Hãy trả lời câu hỏi pháp luật ...   \n",
       "6696  Bạn là luật sư. Hãy trả lời câu hỏi pháp luật ...   \n",
       "6697  Bạn là luật sư. Hãy trả lời câu hỏi pháp luật ...   \n",
       "6698  Bạn là luật sư. Hãy trả lời câu hỏi pháp luật ...   \n",
       "6699  Bạn là luật sư. Hãy trả lời câu hỏi pháp luật ...   \n",
       "\n",
       "                                                  input  \\\n",
       "0     Câu hỏi: Tội giết con mới đẻ là gì?\\nĐiều luật...   \n",
       "1     Câu hỏi: Vì làm ăn thiếu vốn nên em có vay của...   \n",
       "2     Câu hỏi: Theo quy định pháp luật, trường hợp n...   \n",
       "3     Câu hỏi: Chủ thể chịu trách nhiệm hình sự đối ...   \n",
       "4     Câu hỏi: Tội khai báo gian dối hoặc cung cấp t...   \n",
       "...                                                 ...   \n",
       "6695  Câu hỏi: Hỗ trợ doanh nghiệp vay vốn trả lương...   \n",
       "6696  Câu hỏi: Tôi muốn thành lập chi nhánh doanh ng...   \n",
       "6697  Câu hỏi: Hành vi đánh nhau có hung khí\\nĐiều l...   \n",
       "6698  Câu hỏi: Người làm việc theo hợp đồng lao động...   \n",
       "6699  Câu hỏi: Cha mẹ tôi có 4 người con. Người anh ...   \n",
       "\n",
       "                                                 output  \n",
       "0     Người mẹ nào do ảnh hưởng nặng nề của tư tưởng...  \n",
       "1     Bộ luật Hình sự quy định về tội lừa đảo chiếm ...  \n",
       "2     Theo quy định tại khoản 1 Điều 6 Thông tư số 1...  \n",
       "3     Chủ thể của tội làm giả hồ sơ để tiêm vaccine ...  \n",
       "4     Tại Điều 382, Bộ luật Hình sự năm 2015 sửa đổi...  \n",
       "...                                                 ...  \n",
       "6695  1. Điều kiện hỗ trợ doanh nghiệp vay vốn trả l...  \n",
       "6696  Có. Theo quy định tại Điều 29 Luật đấu giá tài...  \n",
       "6697  Theo Điều 7 Nghị định 144/2021/NĐ-CP, hành vi ...  \n",
       "6698  Theo quy định tại khoản 2 Điều 2 của Thông tư ...  \n",
       "6699  Theo khoản 1 Điều 675 Bộ luật dân sự, thừa kế ...  \n",
       "\n",
       "[6700 rows x 3 columns]"
      ]
     },
     "execution_count": 343,
     "metadata": {},
     "output_type": "execute_result"
    }
   ],
   "source": [
    "faqs"
   ]
  },
  {
   "cell_type": "code",
   "execution_count": 338,
   "metadata": {},
   "outputs": [
    {
     "name": "stdout",
     "output_type": "stream",
     "text": [
      "Bạn là luật sư. Hãy trả lời câu hỏi pháp luật dựa vào những điều luật được trích dẫn dưới đây. Nếu không tìm có câu trả lời thì trả lời là tôi không biết.\n",
      "Câu hỏi: Quy định về việc giao nhà khi cho thuê như thế nào?\n",
      "Điều luật liên quan: \n",
      "Câu trả lời: – Bên cho thuê phải giao tài sản cho bên thuê đúng số lượng, chất lượng, chủng loại, tình trạng, thời điểm, địa điểm đã thoả thuận và cung cấp thông tin cần thiết về việc sử dụng tài sản đó. – Trường hợp bên cho thuê chậm giao tài sản thì bên thuê có thể gia hạn giao tài sản hoặc hủy bỏ hợp đồng và yêu cầu bồi thường thiệt hại; nếu tài sản thuê không đúng chất lượng như thoả thuận thì bên thuê có quyền yêu cầu bên cho thuê sửa chữa, giảm giá thuê hoặc hủy bỏ hợp đồng và yêu cầu bồi thường thiệt hại.\n"
     ]
    }
   ],
   "source": [
    "template = \"\"\"{instruction}\\n{input}\\nCâu trả lời: {output}\"\"\"\n",
    "print(template.format(**faqs.sample(1).iloc[0]))"
   ]
  },
  {
   "cell_type": "code",
   "execution_count": 340,
   "metadata": {},
   "outputs": [],
   "source": [
    "temp = faqs['input'].apply(lambda x: not x.endswith('Điều luật liên quan: '))\n",
    "faqs = faqs[temp]"
   ]
  },
  {
   "cell_type": "code",
   "execution_count": 341,
   "metadata": {},
   "outputs": [
    {
     "data": {
      "text/html": [
       "<div>\n",
       "<style scoped>\n",
       "    .dataframe tbody tr th:only-of-type {\n",
       "        vertical-align: middle;\n",
       "    }\n",
       "\n",
       "    .dataframe tbody tr th {\n",
       "        vertical-align: top;\n",
       "    }\n",
       "\n",
       "    .dataframe thead th {\n",
       "        text-align: right;\n",
       "    }\n",
       "</style>\n",
       "<table border=\"1\" class=\"dataframe\">\n",
       "  <thead>\n",
       "    <tr style=\"text-align: right;\">\n",
       "      <th></th>\n",
       "      <th>instruction</th>\n",
       "      <th>input</th>\n",
       "      <th>output</th>\n",
       "    </tr>\n",
       "  </thead>\n",
       "  <tbody>\n",
       "    <tr>\n",
       "      <th>1</th>\n",
       "      <td>Bạn là luật sư. Hãy trả lời câu hỏi pháp luật ...</td>\n",
       "      <td>Câu hỏi: Vì làm ăn thiếu vốn nên em có vay của...</td>\n",
       "      <td>Bộ luật Hình sự quy định về tội lừa đảo chiếm ...</td>\n",
       "    </tr>\n",
       "    <tr>\n",
       "      <th>6</th>\n",
       "      <td>Bạn là luật sư. Hãy trả lời câu hỏi pháp luật ...</td>\n",
       "      <td>Câu hỏi: Thẩm quyền giải quyết tranh chấp đất ...</td>\n",
       "      <td>Giải quyết tranh chấp đất đai là hoạt động của...</td>\n",
       "    </tr>\n",
       "    <tr>\n",
       "      <th>8</th>\n",
       "      <td>Bạn là luật sư. Hãy trả lời câu hỏi pháp luật ...</td>\n",
       "      <td>Câu hỏi: Nhiệm vụ quyền hạn của Uỷ ban nhân xã...</td>\n",
       "      <td>Theo quy định tại Điều 115 Luật Tổ chức Hội đồ...</td>\n",
       "    </tr>\n",
       "    <tr>\n",
       "      <th>15</th>\n",
       "      <td>Bạn là luật sư. Hãy trả lời câu hỏi pháp luật ...</td>\n",
       "      <td>Câu hỏi: Chào anh/chị, Về việc xin cấp Phiếu l...</td>\n",
       "      <td>Chào bạn Nguyen Vu Cuong! Trung tâm Lý lịch tư...</td>\n",
       "    </tr>\n",
       "    <tr>\n",
       "      <th>16</th>\n",
       "      <td>Bạn là luật sư. Hãy trả lời câu hỏi pháp luật ...</td>\n",
       "      <td>Câu hỏi: Tôi có 120m2 đất được hưởng từ di chú...</td>\n",
       "      <td>Trường hợp bạn hỏi, chúng tôi xin được trả lời...</td>\n",
       "    </tr>\n",
       "    <tr>\n",
       "      <th>...</th>\n",
       "      <td>...</td>\n",
       "      <td>...</td>\n",
       "      <td>...</td>\n",
       "    </tr>\n",
       "    <tr>\n",
       "      <th>6689</th>\n",
       "      <td>Bạn là luật sư. Hãy trả lời câu hỏi pháp luật ...</td>\n",
       "      <td>Câu hỏi: Hành vi gian lận bảo hiểm y tế bị xử ...</td>\n",
       "      <td>1. Căn cứ Điều 215 Bộ luật Hình sự 2015 quy đị...</td>\n",
       "    </tr>\n",
       "    <tr>\n",
       "      <th>6690</th>\n",
       "      <td>Bạn là luật sư. Hãy trả lời câu hỏi pháp luật ...</td>\n",
       "      <td>Câu hỏi: Đơn xin nghỉ việc phải gửi trước bao ...</td>\n",
       "      <td>Theo quy định tại Điều 35 Bộ luật Lao động năm...</td>\n",
       "    </tr>\n",
       "    <tr>\n",
       "      <th>6691</th>\n",
       "      <td>Bạn là luật sư. Hãy trả lời câu hỏi pháp luật ...</td>\n",
       "      <td>Câu hỏi: Tội cướp giật tài sản được coi là hoà...</td>\n",
       "      <td>Tội cướp giật tài sản hiện nay được quy định t...</td>\n",
       "    </tr>\n",
       "    <tr>\n",
       "      <th>6693</th>\n",
       "      <td>Bạn là luật sư. Hãy trả lời câu hỏi pháp luật ...</td>\n",
       "      <td>Câu hỏi: Vừa qua, tôi có yêu cầu Sở Tư pháp nơ...</td>\n",
       "      <td>Theo quy định tại khoản 3 Điều 42 Luật Lý lịch...</td>\n",
       "    </tr>\n",
       "    <tr>\n",
       "      <th>6699</th>\n",
       "      <td>Bạn là luật sư. Hãy trả lời câu hỏi pháp luật ...</td>\n",
       "      <td>Câu hỏi: Cha mẹ tôi có 4 người con. Người anh ...</td>\n",
       "      <td>Theo khoản 1 Điều 675 Bộ luật dân sự, thừa kế ...</td>\n",
       "    </tr>\n",
       "  </tbody>\n",
       "</table>\n",
       "<p>2725 rows × 3 columns</p>\n",
       "</div>"
      ],
      "text/plain": [
       "                                            instruction  \\\n",
       "1     Bạn là luật sư. Hãy trả lời câu hỏi pháp luật ...   \n",
       "6     Bạn là luật sư. Hãy trả lời câu hỏi pháp luật ...   \n",
       "8     Bạn là luật sư. Hãy trả lời câu hỏi pháp luật ...   \n",
       "15    Bạn là luật sư. Hãy trả lời câu hỏi pháp luật ...   \n",
       "16    Bạn là luật sư. Hãy trả lời câu hỏi pháp luật ...   \n",
       "...                                                 ...   \n",
       "6689  Bạn là luật sư. Hãy trả lời câu hỏi pháp luật ...   \n",
       "6690  Bạn là luật sư. Hãy trả lời câu hỏi pháp luật ...   \n",
       "6691  Bạn là luật sư. Hãy trả lời câu hỏi pháp luật ...   \n",
       "6693  Bạn là luật sư. Hãy trả lời câu hỏi pháp luật ...   \n",
       "6699  Bạn là luật sư. Hãy trả lời câu hỏi pháp luật ...   \n",
       "\n",
       "                                                  input  \\\n",
       "1     Câu hỏi: Vì làm ăn thiếu vốn nên em có vay của...   \n",
       "6     Câu hỏi: Thẩm quyền giải quyết tranh chấp đất ...   \n",
       "8     Câu hỏi: Nhiệm vụ quyền hạn của Uỷ ban nhân xã...   \n",
       "15    Câu hỏi: Chào anh/chị, Về việc xin cấp Phiếu l...   \n",
       "16    Câu hỏi: Tôi có 120m2 đất được hưởng từ di chú...   \n",
       "...                                                 ...   \n",
       "6689  Câu hỏi: Hành vi gian lận bảo hiểm y tế bị xử ...   \n",
       "6690  Câu hỏi: Đơn xin nghỉ việc phải gửi trước bao ...   \n",
       "6691  Câu hỏi: Tội cướp giật tài sản được coi là hoà...   \n",
       "6693  Câu hỏi: Vừa qua, tôi có yêu cầu Sở Tư pháp nơ...   \n",
       "6699  Câu hỏi: Cha mẹ tôi có 4 người con. Người anh ...   \n",
       "\n",
       "                                                 output  \n",
       "1     Bộ luật Hình sự quy định về tội lừa đảo chiếm ...  \n",
       "6     Giải quyết tranh chấp đất đai là hoạt động của...  \n",
       "8     Theo quy định tại Điều 115 Luật Tổ chức Hội đồ...  \n",
       "15    Chào bạn Nguyen Vu Cuong! Trung tâm Lý lịch tư...  \n",
       "16    Trường hợp bạn hỏi, chúng tôi xin được trả lời...  \n",
       "...                                                 ...  \n",
       "6689  1. Căn cứ Điều 215 Bộ luật Hình sự 2015 quy đị...  \n",
       "6690  Theo quy định tại Điều 35 Bộ luật Lao động năm...  \n",
       "6691  Tội cướp giật tài sản hiện nay được quy định t...  \n",
       "6693  Theo quy định tại khoản 3 Điều 42 Luật Lý lịch...  \n",
       "6699  Theo khoản 1 Điều 675 Bộ luật dân sự, thừa kế ...  \n",
       "\n",
       "[2725 rows x 3 columns]"
      ]
     },
     "execution_count": 341,
     "metadata": {},
     "output_type": "execute_result"
    }
   ],
   "source": [
    "faqs"
   ]
  },
  {
   "cell_type": "code",
   "execution_count": 273,
   "metadata": {},
   "outputs": [],
   "source": [
    "faqs['output_len'] = faqs['output'].apply(lambda x: len(x.split()))"
   ]
  },
  {
   "cell_type": "code",
   "execution_count": 274,
   "metadata": {},
   "outputs": [
    {
     "data": {
      "text/plain": [
       "<AxesSubplot:>"
      ]
     },
     "execution_count": 274,
     "metadata": {},
     "output_type": "execute_result"
    },
    {
     "data": {
      "image/png": "[encoded data removed]",
      "text/plain": [
       "<Figure size 432x288 with 1 Axes>"
      ]
     },
     "metadata": {
      "needs_background": "light"
     },
     "output_type": "display_data"
    }
   ],
   "source": [
    "faqs['output_len'].hist(bins=100)"
   ]
  },
  {
   "cell_type": "code",
   "execution_count": 283,
   "metadata": {},
   "outputs": [],
   "source": [
    "faqs_standard = faqs[faqs['output_len'] < 200]"
   ]
  },
  {
   "cell_type": "code",
   "execution_count": 310,
   "metadata": {},
   "outputs": [
    {
     "name": "stdout",
     "output_type": "stream",
     "text": [
      "Bạn là luật sư. Hãy trả lời câu hỏi pháp luật dựa vào những điều luật được trích dẫn dưới đây. Nếu không tìm có câu trả lời thì trả lời là tôi không biết.\n",
      "Câu hỏi: Điều kiện nhận thừa kế quyền sử dụng đất?\n",
      "Điều luật liên quan: Điều 188. Điều kiện thực hiện các quyền chuyển đổi, chuyển nhượng, cho thuê, cho thuê lại, thừa kế, tặng cho, thế chấp quyền sử dụng đất; góp vốn bằng quyền sử dụng đất 1. Người sử dụng đất được thực hiện các quyền chuyển đổi, chuyển nhượng, cho thuê, cho thuê lại, thừa kế, tặng cho, thế chấp quyền sử dụng đất; góp vốn bằng quyền sử dụng đất khi có các điều kiện sau đây: a) Có Giấy chứng nhận, trừ trường hợp quy định tại khoản 3 Điều 186 và trường hợp nhận thừa kế quy định tại khoản 1 Điều 168 của Luật này; b) Đất không có tranh chấp; c) Quyền sử dụng đất không bị kê biên để bảo đảm thi hành án; d) Trong thời hạn sử dụng đất. 2. Ngoài các điều kiện quy định tại khoản 1 Điều này, người sử dụng đất khi thực hiện các quyền chuyển đổi, chuyển nhượng, cho thuê, cho thuê lại, thừa kế, tặng cho quyền sử dụng đất; quyền thế chấp quyền sử dụng đất, góp vốn bằng quyền sử dụng đất còn phải có đủ điều kiện theo quy định tại các điều 189, 190, 191, 192, 193 và 194 của Luật này. 3. Việc chuyển đổi, chuyển nhượng, cho thuê, cho thuê lại, thừa kế, tặng cho, thế chấp quyền sử dụng đất, góp vốn bằng quyền sử dụng đất phải đăng ký tại cơ quan đăng ký đất đai và có hiệu lực kể từ thời điểm đăng ký vào sổ địa chính.\n",
      "Câu trả lời: Việc chia thừa kế đất đai không có di chúc ngoài việc phải tiến hành chia thừa kế theo pháp luật; phần đất đai thừa kế cũng phải đáp ứng các điều kiện nhận thừa kế quyền sử dụng đất theo quy định tại Điều 188 Luật Đất đai 2013. Cụ thể: Điều kiện thực hiện các quyền chuyển đổi, chuyển nhượng, cho thuê, cho thuê lại, thừa kế, tặng cho; thế chấp quyền sử dụng đất, góp vốn bằng quyền sử dụng đất Người sử dụng đất được thực hiện các quyền chuyển đổi, chuyển nhượng, cho thuê, cho thuê lại; thừa kế, tặng cho, thế chấp quyền sử dụng đất; góp vốn bằng quyền sử dụng đất khi có các điều kiện sau đây: a) Có Giấy chứng nhận, trừ trường hợp quy định tại khoản 3 Điều 186 và trường hợp nhận thừa kế quy định tại khoản 1 Điều 168 của Luật này; b) Đất không có tranh chấp; c) Quyền sử dụng đất không bị kê biên để bảo đảm thi hành án; d) Trong thời hạn sử dụng đất.\n"
     ]
    }
   ],
   "source": [
    "template = \"\"\"{instruction}\\n{input}\\nCâu trả lời: {output}\"\"\"\n",
    "print(template.format(**faqs_standard.sample(1).iloc[0]))"
   ]
  },
  {
   "cell_type": "code",
   "execution_count": 333,
   "metadata": {},
   "outputs": [
    {
     "name": "stdout",
     "output_type": "stream",
     "text": [
      "Bạn là luật sư. Hãy trả lời câu hỏi pháp luật dựa vào những điều luật được trích dẫn dưới đây. Nếu không tìm có câu trả lời thì trả lời là tôi không biết.\n",
      "Câu hỏi: Những trường hợp không được tha tù trước thời hạn?\n",
      "Điều luật liên quan: Điều 66. Tha tù trước thời hạn có điều kiện 1. Người đang chấp hành án phạt tù về tội phạm nghiêm trọng, tội phạm rất nghiêm trọng hoặc tội phạm đặc biệt nghiêm trọng mà đã được giảm thời hạn chấp hành án phạt tù hoặc người đang chấp hành án phạt tù về tội phạm ít nghiêm trọng có thể được tha tù trước thời hạn khi có đủ các điều kiện sau đây: a) Phạm tội lần đầu; b) Có nhiều tiến bộ, có ý thức cải tạo tốt; c) Có nơi cư trú rõ ràng; d) Đã chấp hành xong hình phạt bổ sung là hình phạt tiền, nghĩa vụ bồi thường thiệt hại và án phí; đ) Đã chấp hành được ít nhất là một phần hai mức phạt tù có thời hạn hoặc ít nhất là 15 năm đối với trường hợp bị phạt tù chung thân nhưng đã được giảm xuống tù có thời hạn. Trường hợp người phạm tội là người có công với cách mạng, thân nhân của người có công với cách mạng, người đủ 70 tuổi trở lên, người khuyết tật nặng hoặc khuyết tật đặc biệt nặng, phụ nữ đang nuôi con dưới 36 tháng tuổi thì phải chấp hành được ít nhất là một phần ba mức phạt tù có thời hạn hoặc ít nhất là 12 năm đối với trường hợp bị phạt tù chung thân nhưng đã được giảm xuống tù có thời hạn; e) Không thuộc một trong các trường hợp phạm tội quy định tại khoản 2 Điều này. 2. Không áp dụng quy định của Điều này đối với người bị kết án thuộc một trong các trường hợp sau đây: a) Người bị kết án về một trong các tội quy định tại Chương XIII, Chương XXVI, Điều 299 của Bộ luật này; người bị kết án 10 năm tù trở lên về một trong các tội quy định tại Chương XIV của Bộ luật này do cố ý hoặc người bị kết án 07 năm tù trở lên đối với một trong các tội quy định tại các điều 168, 169, 248, 251 và 252 của Bộ luật này; b) Người bị kết án tử hình được ân giảm hoặc thuộc trường hợp quy định tại khoản 3 Điều 40 của Bộ luật này. 3. Theo đề nghị của cơ quan thi hành án hình sự có thẩm quyền, Tòa án quyết định tha tù trước thời hạn có điều kiện đối với người bị kết án. Người được tha tù trước thời hạn có điều kiện phải thực hiện các nghĩa vụ trong thời gian thử thách. Thời gian thử thách bằng thời gian còn lại của hình phạt tù. 4. Người được tha tù trước thời hạn có điều kiện cố ý vi phạm nghĩa vụ 02 lần trở lên hoặc bị xử phạt vi phạm hành chính 02 lần trở lên trong thời gian thử thách, thì Tòa án có thể hủy bỏ quyết định tha tù trước thời hạn có điều kiện đối với người đó và buộc họ phải chấp hành phần hình phạt tù còn lại chưa chấp hành. Nếu người đó thực hiện hành vi phạm tội mới trong thời gian thử thách thì Tòa án buộc người đó chấp hành hình phạt của bản án mới và tổng hợp với phần hình phạt tù chưa chấp hành của bản án trước theo quy định tại Điều 56 của Bộ luật này. 5. Người được tha tù trước thời hạn có điều kiện đã chấp hành được ít nhất là một phần hai thời gian thử thách và có nhiều tiến bộ thì theo đề nghị của cơ quan thi hành án hình sự có thẩm quyền, Tòa án có thể quyết định rút ngắn thời gian thử thách.\n",
      "Câu trả lời: Trường hợp không áp dụng tha tù trước thời hạn theo khoản 2 Điều 66 Bộ luật Hình sự 2015 (sửa đổi 2017) như sau: \"2. Không áp dụng quy định của Điều này đối với người bị kết án thuộc một trong các trường hợp sau đây: a) Người bị kết án về một trong các tội quy định tại Chương XIII, Chương XXVI, Điều 299 của Bộ luật này; người bị kết án 10 năm tù trở lên về một trong các tội quy định tại Chương XIV của Bộ luật này do cố ý hoặc người bị kết án 07 năm tù trở lên đối với một trong các tội quy định tại các điều 168, 169, 248, 251 và 252 của Bộ luật này; b) Người bị kết án tử hình được ân giảm hoặc thuộc trường hợp quy định tại khoản 3 Điều 40 của Bộ luật này. 3. Theo đề nghị của cơ quan thi hành án hình sự có thẩm quyền, Tòa án quyết định tha tù trước thời hạn có điều kiện đối với người bị kết án. Người được tha tù trước thời hạn có điều kiện phải thực hiện các nghĩa vụ trong thời gian thử thách. Thời gian thử thách bằng thời gian còn lại của hình phạt tù. 4. Người được tha tù trước thời hạn có điều kiện cố ý vi phạm nghĩa vụ 02 lần trở lên hoặc bị xử phạt vi phạm hành chính 02 lần trở lên trong thời gian thử thách, thì Tòa án có thể hủy bỏ quyết định tha tù trước thời hạn có điều kiện đối với người đó và buộc họ phải chấp hành phần hình phạt tù còn lại chưa chấp hành. Nếu người đó thực hiện hành vi phạm tội mới trong thời gian thử thách thì Tòa án buộc người đó chấp hành hình phạt của bản án mới và tổng hợp với phần hình phạt tù chưa chấp hành của bản án trước theo quy định tại Điều 56 của Bộ luật này. 5. Người được tha tù trước thời hạn có điều kiện đã chấp hành được ít nhất là một phần hai thời gian thử thách và có nhiều tiến bộ thì theo đề nghị của cơ quan thi hành án hình sự có thẩm quyền, Tòa án có thể quyết định rút ngắn thời gian thử thách.\"\n"
     ]
    }
   ],
   "source": [
    "template = \"\"\"{instruction}\\n{input}\\nCâu trả lời: {output}\"\"\"\n",
    "print(template.format(**faqs.sample(1).iloc[0]))"
   ]
  },
  {
   "cell_type": "code",
   "execution_count": 339,
   "metadata": {},
   "outputs": [
    {
     "data": {
      "text/html": [
       "<div>\n",
       "<style scoped>\n",
       "    .dataframe tbody tr th:only-of-type {\n",
       "        vertical-align: middle;\n",
       "    }\n",
       "\n",
       "    .dataframe tbody tr th {\n",
       "        vertical-align: top;\n",
       "    }\n",
       "\n",
       "    .dataframe thead th {\n",
       "        text-align: right;\n",
       "    }\n",
       "</style>\n",
       "<table border=\"1\" class=\"dataframe\">\n",
       "  <thead>\n",
       "    <tr style=\"text-align: right;\">\n",
       "      <th></th>\n",
       "      <th>instruction</th>\n",
       "      <th>input</th>\n",
       "      <th>output</th>\n",
       "      <th>output_len</th>\n",
       "    </tr>\n",
       "  </thead>\n",
       "  <tbody>\n",
       "    <tr>\n",
       "      <th>16</th>\n",
       "      <td>Bạn là luật sư. Hãy trả lời câu hỏi pháp luật ...</td>\n",
       "      <td>Câu hỏi: Tôi có 120m2 đất được hưởng từ di chú...</td>\n",
       "      <td>Trường hợp bạn hỏi, chúng tôi xin được trả lời...</td>\n",
       "      <td>184</td>\n",
       "    </tr>\n",
       "    <tr>\n",
       "      <th>38</th>\n",
       "      <td>Bạn là luật sư. Hãy trả lời câu hỏi pháp luật ...</td>\n",
       "      <td>Câu hỏi: Vay tiền nhưng không trả có thể bị tr...</td>\n",
       "      <td>Vay tiền nhưng không trả có thể bị truy cứu tr...</td>\n",
       "      <td>56</td>\n",
       "    </tr>\n",
       "    <tr>\n",
       "      <th>46</th>\n",
       "      <td>Bạn là luật sư. Hãy trả lời câu hỏi pháp luật ...</td>\n",
       "      <td>Câu hỏi: Trước đây ngõ đi nhà tôi đi một m...</td>\n",
       "      <td>Theo khoản 1 Điều 2 Luật Khiếu nại: Khiếu nạ i...</td>\n",
       "      <td>172</td>\n",
       "    </tr>\n",
       "    <tr>\n",
       "      <th>48</th>\n",
       "      <td>Bạn là luật sư. Hãy trả lời câu hỏi pháp luật ...</td>\n",
       "      <td>Câu hỏi: Quy định về số ngày nghỉ hằng tuần củ...</td>\n",
       "      <td>Theo quy định tại Điều 111 Bộ Luật Lao động 20...</td>\n",
       "      <td>199</td>\n",
       "    </tr>\n",
       "    <tr>\n",
       "      <th>52</th>\n",
       "      <td>Bạn là luật sư. Hãy trả lời câu hỏi pháp luật ...</td>\n",
       "      <td>Câu hỏi: Quy định về xoá kỷ luật lao động tại ...</td>\n",
       "      <td>Theo quy định tại Điều 126 Bộ luật lao động 20...</td>\n",
       "      <td>129</td>\n",
       "    </tr>\n",
       "    <tr>\n",
       "      <th>...</th>\n",
       "      <td>...</td>\n",
       "      <td>...</td>\n",
       "      <td>...</td>\n",
       "      <td>...</td>\n",
       "    </tr>\n",
       "    <tr>\n",
       "      <th>6676</th>\n",
       "      <td>Bạn là luật sư. Hãy trả lời câu hỏi pháp luật ...</td>\n",
       "      <td>Câu hỏi: Trong hoạt động chứng thực, người thự...</td>\n",
       "      <td>Điều 12 Nghị định 79/2007/NĐ-CP thì người thực...</td>\n",
       "      <td>180</td>\n",
       "    </tr>\n",
       "    <tr>\n",
       "      <th>6679</th>\n",
       "      <td>Bạn là luật sư. Hãy trả lời câu hỏi pháp luật ...</td>\n",
       "      <td>Câu hỏi: Phòng vệ chính đáng là gì?\\nĐiều luật...</td>\n",
       "      <td>Căn cứ theo Điều 22 Bộ luật hình sự 2015 quy đ...</td>\n",
       "      <td>140</td>\n",
       "    </tr>\n",
       "    <tr>\n",
       "      <th>6681</th>\n",
       "      <td>Bạn là luật sư. Hãy trả lời câu hỏi pháp luật ...</td>\n",
       "      <td>Câu hỏi: Có ký lại hợp đồng lao động mới khi h...</td>\n",
       "      <td>Căn cứ theo khoản 1 Điều 10 Nghị định 145/2020...</td>\n",
       "      <td>81</td>\n",
       "    </tr>\n",
       "    <tr>\n",
       "      <th>6683</th>\n",
       "      <td>Bạn là luật sư. Hãy trả lời câu hỏi pháp luật ...</td>\n",
       "      <td>Câu hỏi: Đầu cơ tích trữ xăng dầu bị xử phạt n...</td>\n",
       "      <td>Về hình thức xử lý hành chính Theo khoản 4 Điề...</td>\n",
       "      <td>144</td>\n",
       "    </tr>\n",
       "    <tr>\n",
       "      <th>6691</th>\n",
       "      <td>Bạn là luật sư. Hãy trả lời câu hỏi pháp luật ...</td>\n",
       "      <td>Câu hỏi: Tội cướp giật tài sản được coi là hoà...</td>\n",
       "      <td>Tội cướp giật tài sản hiện nay được quy định t...</td>\n",
       "      <td>143</td>\n",
       "    </tr>\n",
       "  </tbody>\n",
       "</table>\n",
       "<p>777 rows × 4 columns</p>\n",
       "</div>"
      ],
      "text/plain": [
       "                                            instruction  \\\n",
       "16    Bạn là luật sư. Hãy trả lời câu hỏi pháp luật ...   \n",
       "38    Bạn là luật sư. Hãy trả lời câu hỏi pháp luật ...   \n",
       "46    Bạn là luật sư. Hãy trả lời câu hỏi pháp luật ...   \n",
       "48    Bạn là luật sư. Hãy trả lời câu hỏi pháp luật ...   \n",
       "52    Bạn là luật sư. Hãy trả lời câu hỏi pháp luật ...   \n",
       "...                                                 ...   \n",
       "6676  Bạn là luật sư. Hãy trả lời câu hỏi pháp luật ...   \n",
       "6679  Bạn là luật sư. Hãy trả lời câu hỏi pháp luật ...   \n",
       "6681  Bạn là luật sư. Hãy trả lời câu hỏi pháp luật ...   \n",
       "6683  Bạn là luật sư. Hãy trả lời câu hỏi pháp luật ...   \n",
       "6691  Bạn là luật sư. Hãy trả lời câu hỏi pháp luật ...   \n",
       "\n",
       "                                                  input  \\\n",
       "16    Câu hỏi: Tôi có 120m2 đất được hưởng từ di chú...   \n",
       "38    Câu hỏi: Vay tiền nhưng không trả có thể bị tr...   \n",
       "46    Câu hỏi: Trước đây ngõ đi nhà tôi đi một m...   \n",
       "48    Câu hỏi: Quy định về số ngày nghỉ hằng tuần củ...   \n",
       "52    Câu hỏi: Quy định về xoá kỷ luật lao động tại ...   \n",
       "...                                                 ...   \n",
       "6676  Câu hỏi: Trong hoạt động chứng thực, người thự...   \n",
       "6679  Câu hỏi: Phòng vệ chính đáng là gì?\\nĐiều luật...   \n",
       "6681  Câu hỏi: Có ký lại hợp đồng lao động mới khi h...   \n",
       "6683  Câu hỏi: Đầu cơ tích trữ xăng dầu bị xử phạt n...   \n",
       "6691  Câu hỏi: Tội cướp giật tài sản được coi là hoà...   \n",
       "\n",
       "                                                 output  output_len  \n",
       "16    Trường hợp bạn hỏi, chúng tôi xin được trả lời...         184  \n",
       "38    Vay tiền nhưng không trả có thể bị truy cứu tr...          56  \n",
       "46    Theo khoản 1 Điều 2 Luật Khiếu nại: Khiếu nạ i...         172  \n",
       "48    Theo quy định tại Điều 111 Bộ Luật Lao động 20...         199  \n",
       "52    Theo quy định tại Điều 126 Bộ luật lao động 20...         129  \n",
       "...                                                 ...         ...  \n",
       "6676  Điều 12 Nghị định 79/2007/NĐ-CP thì người thực...         180  \n",
       "6679  Căn cứ theo Điều 22 Bộ luật hình sự 2015 quy đ...         140  \n",
       "6681  Căn cứ theo khoản 1 Điều 10 Nghị định 145/2020...          81  \n",
       "6683  Về hình thức xử lý hành chính Theo khoản 4 Điề...         144  \n",
       "6691  Tội cướp giật tài sản hiện nay được quy định t...         143  \n",
       "\n",
       "[777 rows x 4 columns]"
      ]
     },
     "execution_count": 339,
     "metadata": {},
     "output_type": "execute_result"
    }
   ],
   "source": [
    "faqs_standard"
   ]
  },
  {
   "cell_type": "code",
   "execution_count": 7,
   "metadata": {},
   "outputs": [
    {
     "name": "stderr",
     "output_type": "stream",
     "text": [
      "Found cached dataset json (/Users/phamhoang1408/.cache/huggingface/datasets/json/default-d3abced93aecb5f3/0.0.0)\n"
     ]
    },
    {
     "data": {
      "text/plain": [
       "Dataset({\n",
       "    features: ['text'],\n",
       "    num_rows: 51092\n",
       "})"
      ]
     },
     "execution_count": 7,
     "metadata": {},
     "output_type": "execute_result"
    }
   ],
   "source": [
    "temp = Dataset.from_json('/Users/phamhoang1408/Desktop/Phase 2 Viettel/main_repo/data/training/alpaca_chat_cleaned_51k_translated.json')\n",
    "temp.rename_column(temp.column_names[0], 'text')"
   ]
  },
  {
   "cell_type": "code",
   "execution_count": 2,
   "metadata": {},
   "outputs": [
    {
     "name": "stdout",
     "output_type": "stream",
     "text": [
      "Downloading and preparing dataset json/default to /Users/phamhoang1408/.cache/huggingface/datasets/json/default-23f6ad8c7fb0fd01/0.0.0...\n"
     ]
    },
    {
     "data": {
      "application/vnd.jupyter.widget-view+json": {
       "model_id": "71c7b2f31e424f339858606c38d3b076",
       "version_major": 2,
       "version_minor": 0
      },
      "text/plain": [
       "Downloading data files:   0%|          | 0/1 [00:00<?, ?it/s]"
      ]
     },
     "metadata": {},
     "output_type": "display_data"
    },
    {
     "data": {
      "application/vnd.jupyter.widget-view+json": {
       "model_id": "f512cd6b4037491497159ddea60eabd7",
       "version_major": 2,
       "version_minor": 0
      },
      "text/plain": [
       "Extracting data files:   0%|          | 0/1 [00:00<?, ?it/s]"
      ]
     },
     "metadata": {},
     "output_type": "display_data"
    },
    {
     "data": {
      "application/vnd.jupyter.widget-view+json": {
       "model_id": "68509bde9783430787ddd1b2c5526030",
       "version_major": 2,
       "version_minor": 0
      },
      "text/plain": [
       "Generating train split: 0 examples [00:00, ? examples/s]"
      ]
     },
     "metadata": {},
     "output_type": "display_data"
    },
    {
     "name": "stdout",
     "output_type": "stream",
     "text": [
      "Dataset json downloaded and prepared to /Users/phamhoang1408/.cache/huggingface/datasets/json/default-23f6ad8c7fb0fd01/0.0.0. Subsequent calls will reuse this data.\n"
     ]
    }
   ],
   "source": [
    "ds = Dataset.from_json('../../data/original/gpt4-instruct-similarity-0.8-dataset.json')"
   ]
  },
  {
   "cell_type": "code",
   "execution_count": 126,
   "metadata": {},
   "outputs": [
    {
     "data": {
      "text/plain": [
       "73"
      ]
     },
     "execution_count": 126,
     "metadata": {},
     "output_type": "execute_result"
    }
   ],
   "source": [
    "len(ds.shuffle()[0]['response'].split())"
   ]
  },
  {
   "cell_type": "code",
   "execution_count": 127,
   "metadata": {},
   "outputs": [
    {
     "data": {
      "text/plain": [
       "Dataset({\n",
       "    features: ['instruction', 'input', 'response'],\n",
       "    num_rows: 17842\n",
       "})"
      ]
     },
     "execution_count": 127,
     "metadata": {},
     "output_type": "execute_result"
    }
   ],
   "source": [
    "ds"
   ]
  },
  {
   "cell_type": "code",
   "execution_count": 2,
   "metadata": {},
   "outputs": [],
   "source": [
    "from datasets import Dataset, concatenate_datasets\n",
    "from glob import glob\n",
    "\n",
    "def load_dataset(folder_path, dataset_size=None):\n",
    "    data = []\n",
    "    file_paths = glob(folder_path + \"/*.jsonl\")\n",
    "    for path in file_paths:\n",
    "        ds = Dataset.from_json(path)\n",
    "        if len(ds.column_names) != 1:\n",
    "            raise ValueError(\"Dataset must have only one text column\")\n",
    "        ds = ds.rename_column(ds.column_names[0], \"text\")\n",
    "        data.append(ds)\n",
    "    if dataset_size is None:\n",
    "        return concatenate_datasets(data, axis=0).shuffle()\n",
    "    return concatenate_datasets(data, axis=0).shuffle().select(range(dataset_size))"
   ]
  },
  {
   "cell_type": "code",
   "execution_count": 4,
   "metadata": {},
   "outputs": [
    {
     "name": "stderr",
     "output_type": "stream",
     "text": [
      "Found cached dataset json (/Users/phamhoang1408/.cache/huggingface/datasets/json/default-bdcba7b726f115e8/0.0.0)\n",
      "Found cached dataset json (/Users/phamhoang1408/.cache/huggingface/datasets/json/default-e90f1f489bc5a6e2/0.0.0)\n",
      "Found cached dataset json (/Users/phamhoang1408/.cache/huggingface/datasets/json/default-dc649acb2e7235cf/0.0.0)\n",
      "Found cached dataset json (/Users/phamhoang1408/.cache/huggingface/datasets/json/default-147a908678ebab1a/0.0.0)\n",
      "Found cached dataset json (/Users/phamhoang1408/.cache/huggingface/datasets/json/default-5edb312ba78e68c9/0.0.0)\n",
      "Found cached dataset json (/Users/phamhoang1408/.cache/huggingface/datasets/json/default-3a54ee1ab9c82871/0.0.0)\n",
      "Found cached dataset json (/Users/phamhoang1408/.cache/huggingface/datasets/json/default-63cdd11bf4d5b52d/0.0.0)\n"
     ]
    }
   ],
   "source": [
    "ds = load_dataset('../../data/training_31_7')"
   ]
  },
  {
   "cell_type": "code",
   "execution_count": 64,
   "metadata": {},
   "outputs": [
    {
     "name": "stdout",
     "output_type": "stream",
     "text": [
      "Tóm tắt ngắn gọn đoạn hội thoại sau:\n",
      "[|Con người|] Ali! Có chuyện gì vậy? Bạn không thể thức dậy sáng nay?\n",
      "[|AI|] Đêm qua tôi thức khuya. Bạn tôi đã có một bữa tiệc. Tôi chỉ ngủ khoảng bốn giờ.\n",
      "[|Con người|] Sao sáng nay bạn không nằm trên giường?\n",
      "[|AI|] Tôi phải gặp nhóm học của mình ở thư viện. Chúng tôi có một văn bản lớn vào tuần tới.\n",
      "[|Con người|] Một văn bản lớn? Tại sao bạn không học tối qua thay vì đi dự tiệc?\n",
      "[|AI|] Ồ, không sao đâu. Tôi đã nghiên cứu rất nhiều trước bữa tiệc.\n",
      "[|Con người|] Có lẽ đó không phải là ý kiến ​​hay. Tôi đã đọc một báo cáo. Nó nói rằng nếu bạn không ngủ đủ giấc sau khi học, bạn có thể quên 30% những gì bạn đã học!\n",
      "Hội thoại sau khi được tóm tắt:\n",
      "Tối qua Ali thức khuya và sáng nay phải họp nhóm học nên Ali không ngủ đủ giấc.\n"
     ]
    }
   ],
   "source": [
    "print(ds.shuffle()[0]['text'])"
   ]
  },
  {
   "cell_type": "code",
   "execution_count": null,
   "metadata": {},
   "outputs": [],
   "source": []
  }
 ],
 "metadata": {
  "kernelspec": {
   "display_name": "Python 3",
   "language": "python",
   "name": "python3"
  },
  "language_info": {
   "codemirror_mode": {
    "name": "ipython",
    "version": 3
   },
   "file_extension": ".py",
   "mimetype": "text/x-python",
   "name": "python",
   "nbconvert_exporter": "python",
   "pygments_lexer": "ipython3",
   "version": "3.10.7"
  },
  "orig_nbformat": 4
 },
 "nbformat": 4,
 "nbformat_minor": 2
}
