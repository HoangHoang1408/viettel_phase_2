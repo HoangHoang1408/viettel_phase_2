{
 "cells": [
  {
   "cell_type": "code",
   "execution_count": 1,
   "metadata": {},
   "outputs": [],
   "source": [
    "import numpy as np\n",
    "import pandas as pd\n",
    "import matplotlib.pyplot as plt\n",
    "from matplotlib import rcParams\n",
    "import seaborn as sns\n",
    "import warnings\n",
    "\n",
    "sns.set()\n",
    "rcParams['figure.figsize'] = (20,10)\n",
    "pd.options.display.max_columns = None\n",
    "warnings.filterwarnings('ignore')\n",
    "from pprint import pprint\n",
    "import json\n",
    "\n",
    "from transformers import AutoTokenizer, AutoModel, AutoConfig, pipeline\n",
    "from datasets import load_dataset, Dataset, concatenate_datasets"
   ]
  },
  {
   "cell_type": "code",
   "execution_count": 2,
   "metadata": {},
   "outputs": [],
   "source": [
    "tokenizer = AutoTokenizer.from_pretrained(\"bigscience/bloom-3b\")"
   ]
  },
  {
   "cell_type": "markdown",
   "metadata": {},
   "source": [
    "### CNN_DAILY"
   ]
  },
  {
   "cell_type": "code",
   "execution_count": null,
   "metadata": {},
   "outputs": [],
   "source": [
    "cnn = Dataset.from_json('../../data/translated/cnn_dailymail_30k_samples_len_100_1200_words_translated.json')"
   ]
  },
  {
   "cell_type": "code",
   "execution_count": null,
   "metadata": {},
   "outputs": [],
   "source": [
    "input_template=\"Tóm tắt ngắn gọn đoạn văn bản sau đây:\\n{article_translated}\\nĐoạn văn bản đã được tóm tắt:\\n\"\n",
    "def mapper(x):\n",
    "    return {\n",
    "        'input': input_template.format(article_translated=x['article_translated']),\n",
    "        'output': x['highlights_translated']\n",
    "    }\n",
    "\n",
    "temp_cnn = cnn.shuffle().select(range(15000)).map(mapper,batched=False, remove_columns=['article_translated','highlights_translated'])"
   ]
  },
  {
   "cell_type": "code",
   "execution_count": null,
   "metadata": {},
   "outputs": [],
   "source": [
    "temp_cnn"
   ]
  },
  {
   "cell_type": "code",
   "execution_count": null,
   "metadata": {},
   "outputs": [],
   "source": [
    "print(temp_cnn[0]['input'] + temp_cnn[0]['output'])"
   ]
  },
  {
   "cell_type": "code",
   "execution_count": null,
   "metadata": {},
   "outputs": [],
   "source": [
    "length = temp_cnn.shuffle().select(range(1000)).map(lambda x: {'len':len(tokenizer.tokenize(x['input'] + x['output']))})"
   ]
  },
  {
   "cell_type": "code",
   "execution_count": null,
   "metadata": {},
   "outputs": [],
   "source": [
    "length.to_pandas().hist(bins=100)"
   ]
  },
  {
   "cell_type": "code",
   "execution_count": null,
   "metadata": {},
   "outputs": [],
   "source": [
    "temp_cnn.to_json('../../data/training_2_8/cnn_15k_samples.jsonl', orient='records', lines=True)"
   ]
  },
  {
   "cell_type": "code",
   "execution_count": null,
   "metadata": {},
   "outputs": [],
   "source": [
    "temp_cnn[0]"
   ]
  },
  {
   "cell_type": "markdown",
   "metadata": {},
   "source": [
    "### DIALOG SUMMARY"
   ]
  },
  {
   "cell_type": "code",
   "execution_count": null,
   "metadata": {},
   "outputs": [],
   "source": [
    "dialog = Dataset.from_json('../../data/translated/dialogsum_10k_samples_len_50_words_translated.json')"
   ]
  },
  {
   "cell_type": "code",
   "execution_count": null,
   "metadata": {},
   "outputs": [],
   "source": [
    "dialog"
   ]
  },
  {
   "cell_type": "code",
   "execution_count": null,
   "metadata": {},
   "outputs": [],
   "source": [
    "input_template=\"Tóm tắt ngắn gọn đoạn hội thoại sau đây:\\n{dialogue_translated}\\nĐoạn hội thoại đã được tóm tắt:\\n\"\n",
    "def mapper(x):\n",
    "    return {\n",
    "        'input': input_template.format(dialogue_translated=x['dialogue_translated']),\n",
    "        'output': x['summary_translated']\n",
    "    }\n",
    "\n",
    "temp_dialog = dialog.shuffle().select(range(10000)).map(mapper,batched=False, remove_columns=['dialogue_translated','summary_translated'])"
   ]
  },
  {
   "cell_type": "code",
   "execution_count": null,
   "metadata": {},
   "outputs": [],
   "source": [
    "temp_dialog.to_json('../../data/training_2_8/dialogsum_10k_samples.jsonl', orient='records', lines=True)"
   ]
  },
  {
   "cell_type": "markdown",
   "metadata": {},
   "source": [
    "### FAQS"
   ]
  },
  {
   "cell_type": "code",
   "execution_count": 22,
   "metadata": {},
   "outputs": [
    {
     "name": "stderr",
     "output_type": "stream",
     "text": [
      "Found cached dataset json (/Users/phamhoang1408/.cache/huggingface/datasets/json/default-e90f1f489bc5a6e2/0.0.0)\n"
     ]
    }
   ],
   "source": [
    "faqs = Dataset.from_json('../../data/training_31_7/faq_chat_10k.jsonl')"
   ]
  },
  {
   "cell_type": "code",
   "execution_count": 24,
   "metadata": {},
   "outputs": [
    {
     "name": "stdout",
     "output_type": "stream",
     "text": [
      "Cuộc trò chuyện giữa con người và trợ lý AI.\n",
      "[|Con người|] Trả lời câu hỏi pháp luật dựa vào những điều luật liên quan dưới đây. Chỉ được trả lời dựa trên điều luật được cung cấp. Nếu không đủ thông tin để trả lời thì trả lời: Tôi không biết.\n",
      "Câu hỏi: Việc bán phần tài sản kê biên của người phải thi hành án cho sở hữu chung như thế nào? Hồ sơ đề nghị cấp quyền sở hữu, sử dụng cho người mua phần tài sản của người phải thi hành án gồm những gì?\n",
      "Điều luật liên quan: Điều 7. Việc mua tài sản thuộc sở hữu chung; giao, nhận tài sản để trừ vào số tiền được thi hành án 1. Trường hợp chủ sở hữu chung mua tài sản kê biên; người được thi hành án đồng ý nhận tài sản để trừ vào số tiền được thi hành án thì thực hiện như sau: a) Đối với tài sản là bất động sản và động sản phải đăng ký quyền sở hữu, quyền sử dụng. Chấp hành viên ra quyết định bán tài sản cho chủ sở hữu chung hoặc ra quyết định giao tài sản cho người được thi hành án. b) Đối với tài sản là động sản nhưng không phải đăng ký quyền sở hữu, quyền sử dụng thì Chấp hành viên lập biên bản giao tài sản cho chủ sở hữu chung hoặc người được thi hành án. 2. Trường hợp người được thi hành án nhận tài sản của người phải thi hành án mà giá trị tại thời điểm nhận lớn hơn tổng số tiền được thi hành án, chi phí cưỡng chế thi hành án, số tiền phải trích lại theo quy định tại khoản 5 Điều 115, số tiền phải thi hành án theo quy định tại điểm a, b khoản 1 Điều 47 Luật Thi hành án dân sự (nếu có) thì người được thi hành án phải nộp số tiền trên và số tiền chênh lệch so với số tiền được thi hành án. 3. Trường hợp người được thi hành án nhận tài sản là tài sản duy nhất của người phải thi hành án mà giá trị tại thời điểm nhận bằng hoặc nhỏ hơn tổng số tiền được thi hành án, chi phí cưỡng chế thi hành án, số tiền phải trích lại theo quy định tại khoản 5 Điều 115 và số tiền phải thi hành án theo quy định tại điểm a, b khoản 1 Điều 47 Luật Thi hành án dân sự (nếu có) thì người được thi hành án phải nộp số tiền trên, trừ trường hợp giá trị tài sản đã giảm bằng hoặc thấp hơn chi phí cưỡng chế thi hành án. 4. Trong thời hạn 05 ngày làm việc, kể từ ngày giao tài sản cho đồng sở hữu hoặc người được thi hành án, cơ quan thi hành án dân sự có trách nhiệm cung cấp đầy đủ các văn bản, giấy tờ quy định tại khoản 3 Điều 106 Luật Thi hành án dân sự cho người mua tài sản thi hành án, người nhận tài sản để trừ vào số tiền được thi hành án.\n",
      "[|AI|] Về văn cứ để thực hiện bán tài sản kê biên cho chủ sở hữu chung: Theo quy định tại khoản 3 Điều 74 Luật Thi hành án dân sự sửa đổi, bổ sung năm 2014 thì Chủ sở hữu chung được quyền ưu tiên mua phần tài sản của người phải thi hành án trong khối tài sản thuộc sở hữu chung. Trước khi bán tài sản lần đầu đối với tài sản thuộc sở hữu chung, Chấp hành viên thông báo và định thời hạn cho chủ sở hữu chung mua phần tài sản của người phải thi hành án theo giá đã định trong thời hạn 03 tháng đối với bất động sản, 01 tháng đối với động sản; đối với những lần bán tài sản tiếp theo thì thời hạn là 15 ngày, kể từ ngày được thông báo hợp lệ. *Về trình tự thủ tục bán tài sản kê biên cho chủ sở hữu chung: Theo quy định tại Điều 7 Thông tư liên tịch số 11/2016/TTLT-BTP-TANDTC-VKSNDTC ngày 01 tháng 8 năm 2016 Bộ trưởng Bộ Tư pháp, Chánh án Tòa án nhân dân tối cao, Viện trưởng Viện kiểm sát nhân dân tối cao quy định một số vấn đề về thủ tục thi hành án dân sự và phối hợp liên ngành trong thi hành án dân sự, thì: - Đối với tài sản là bất động sản và động sản phải đăng ký quyền sở hữu, quyền sử dụng: Chấp hành viên ra quyết định bán tài sản cho chủ sở hữu chung. - Đối với tài sản là động sản nhưng không phải đăng ký quyền sở hữu, quyền sử dụng thì Chấp hành viên lập biên bản giao tài sản cho chủ sở hữu chung. *Hồ sơ đề nghị cơ quan đăng ký quyền sở hữu sử dụng cấp quyền sở hữu sử dụng: Theo quy định tại khoản 4 Điều 7 Thông tư 11 thì trong thời hạn 05 ngày làm việc, kể từ ngày giao tài sản cho đồng sở hữu, cơ quan thi hành án dân sự có trách nhiệm cung cấp đầy đủ các văn bản, giấy tờ quy định tại khoản 3 Điều 106 Luật Thi hành án dân sự cho người mua tài sản thi hành án, gồm: - Văn bản đề nghị của cơ quan thi hành án dân sự. - Bản sao bản án, quyết định. - Quyết định thi hành án. - Quyết định kê biên tài sản. - Quyết định bán tài sản. - Giấy tờ khác có liên quan đến tài sản. Lưu ý: - Trường hợp tài sản là quyền sử dụng đất, nhà ở và tài sản khác gắn liền với đất mà không có hoặc không thu hồi được Giấy chứng nhận quyền sử dụng đất, quyền sở hữu nhà ở và tài sản khác gắn liền với đất thì cơ quan có thẩm quyền có trách nhiệm cấp Giấy chứng nhận theo quy định của Chính phủ. - Đối với tài sản không thuộc trường hợp quy định tại khoản 4 Điều này mà không có giấy tờ đăng ký hoặc không thu hồi được giấy tờ đăng ký thì cơ quan thẩm quyền đăng ký có trách nhiệm cấp giấy chứng nhận đăng ký quyền sở hữu, sử dụng tài sản.- Giấy tờ được cấp mới thay thế cho giấy tờ không thu hồi được. Giấy tờ không thu hồi được không còn giá trị\n"
     ]
    }
   ],
   "source": [
    "print(faqs.shuffle()[0]['input'])"
   ]
  },
  {
   "cell_type": "code",
   "execution_count": null,
   "metadata": {},
   "outputs": [],
   "source": [
    "text = 'Cuộc trò chuyện giữa con người và trợ lý AI.\\n'\n",
    "def mapper(x):\n",
    "    return {\n",
    "        'input': text,\n",
    "        'output': x['input'].removeprefix(text),\n",
    "    }\n",
    "\n",
    "temp_faqs = faqs.map(mapper, batched=False)"
   ]
  },
  {
   "cell_type": "code",
   "execution_count": null,
   "metadata": {},
   "outputs": [],
   "source": [
    "temp_faqs[0]"
   ]
  },
  {
   "cell_type": "code",
   "execution_count": null,
   "metadata": {},
   "outputs": [],
   "source": [
    "temp_faqs.to_json('../../data/training_2_8/faqs.jsonl', orient='records', lines=True)"
   ]
  },
  {
   "cell_type": "markdown",
   "metadata": {},
   "source": [
    "### SHARE_GPT"
   ]
  },
  {
   "cell_type": "code",
   "execution_count": null,
   "metadata": {},
   "outputs": [],
   "source": [
    "share = Dataset.from_json('../../data/translated/share_gpt_no_code_conversations_40k_translated.json')"
   ]
  },
  {
   "cell_type": "code",
   "execution_count": null,
   "metadata": {},
   "outputs": [],
   "source": [
    "share = share.filter(lambda x: len(tokenizer.tokenize(x[\"input\"])) < 2000)"
   ]
  },
  {
   "cell_type": "code",
   "execution_count": null,
   "metadata": {},
   "outputs": [],
   "source": []
  },
  {
   "cell_type": "code",
   "execution_count": null,
   "metadata": {},
   "outputs": [],
   "source": [
    "print(share.shuffle()[0]['input'])"
   ]
  },
  {
   "cell_type": "code",
   "execution_count": null,
   "metadata": {},
   "outputs": [],
   "source": [
    "share.shuffle().select(range(1000)).map(lambda x: {'len':len(tokenizer.tokenize(x['input']))}).to_pandas().hist(bins=100)"
   ]
  },
  {
   "cell_type": "code",
   "execution_count": null,
   "metadata": {},
   "outputs": [],
   "source": [
    "share[0]['output'].removeprefix('Cuộc trò chuyện giữa con người và trợ lý AI.\\n')"
   ]
  },
  {
   "cell_type": "code",
   "execution_count": null,
   "metadata": {},
   "outputs": [],
   "source": [
    "text = 'Cuộc trò chuyện giữa con người và trợ lý AI.\\n'\n",
    "def mapper(x):\n",
    "    return {\n",
    "        'input': text,\n",
    "        'output': x['output'].removeprefix(text),\n",
    "    }\n",
    "\n",
    "share = share.map(mapper, batched=False)"
   ]
  },
  {
   "cell_type": "code",
   "execution_count": null,
   "metadata": {},
   "outputs": [],
   "source": [
    "share.to_json('../../data/training_2_8/share_gpt_2k_tokens.jsonl', orient='records', lines=True)"
   ]
  },
  {
   "cell_type": "markdown",
   "metadata": {},
   "source": [
    "### QUORA"
   ]
  },
  {
   "cell_type": "code",
   "execution_count": null,
   "metadata": {},
   "outputs": [],
   "source": [
    "quora = Dataset.from_json('../../data/translated/quora_chat_data_translated.json')"
   ]
  },
  {
   "cell_type": "code",
   "execution_count": null,
   "metadata": {},
   "outputs": [],
   "source": [
    "print(quora.shuffle()[0]['prompt'])"
   ]
  },
  {
   "cell_type": "code",
   "execution_count": null,
   "metadata": {},
   "outputs": [],
   "source": [
    "quora.shuffle().select(range(1000)).map(lambda x: {'len':len(tokenizer.tokenize(x['prompt']))}).to_pandas().hist(bins=100)"
   ]
  },
  {
   "cell_type": "code",
   "execution_count": null,
   "metadata": {},
   "outputs": [],
   "source": [
    "temp_quora = quora.shuffle().select(range(15000))\n",
    "temp_quora"
   ]
  },
  {
   "cell_type": "code",
   "execution_count": null,
   "metadata": {},
   "outputs": [],
   "source": [
    "text = 'Cuộc trò chuyện giữa con người và trợ lý AI.\\n'\n",
    "def mapper(x):\n",
    "    return {\n",
    "        'input': text,\n",
    "        'output': x['prompt'].removeprefix(text),\n",
    "    }\n",
    "\n",
    "temp_quora = temp_quora.map(mapper, batched=False)"
   ]
  },
  {
   "cell_type": "code",
   "execution_count": null,
   "metadata": {},
   "outputs": [],
   "source": [
    "temp_quora.to_json('../../data/training_2_8/quora_15k_samples.jsonl', orient='records', lines=True)"
   ]
  },
  {
   "cell_type": "markdown",
   "metadata": {},
   "source": [
    "### OASST"
   ]
  },
  {
   "cell_type": "code",
   "execution_count": 3,
   "metadata": {},
   "outputs": [
    {
     "name": "stderr",
     "output_type": "stream",
     "text": [
      "Found cached dataset json (/Users/phamhoang1408/.cache/huggingface/datasets/json/default-09fbf7801d1ca68d/0.0.0)\n",
      "Found cached dataset json (/Users/phamhoang1408/.cache/huggingface/datasets/json/default-3b9d00815d262c03/0.0.0)\n"
     ]
    }
   ],
   "source": [
    "en_oasst = Dataset.from_json('../../data/translated/en_oasst_translated.json')\n",
    "en_oasst = en_oasst.rename_column('text_translated','text')\n",
    "vi_oasst = Dataset.from_json('../../data/original/oasst/vi_oasst.json')"
   ]
  },
  {
   "cell_type": "code",
   "execution_count": 4,
   "metadata": {},
   "outputs": [
    {
     "data": {
      "text/plain": [
       "Dataset({\n",
       "    features: ['text'],\n",
       "    num_rows: 21293\n",
       "})"
      ]
     },
     "execution_count": 4,
     "metadata": {},
     "output_type": "execute_result"
    }
   ],
   "source": [
    "oasst = concatenate_datasets([en_oasst,vi_oasst],axis=0)\n",
    "oasst"
   ]
  },
  {
   "cell_type": "code",
   "execution_count": 9,
   "metadata": {},
   "outputs": [
    {
     "data": {
      "text/plain": [
       "{'text': 'Cuộc trò chuyện giữa con người và trợ lý AI.\\n[|Con người|] Bạn có thể viết một đoạn giới thiệu ngắn về sự liên quan của thuật ngữ \"độc quyền mua bán\" trong kinh tế học không? Vui lòng sử dụng các ví dụ liên quan đến độc quyền tiềm năng trong thị trường lao động và trích dẫn nghiên cứu có liên quan.\\n[|AI|] \"Độc quyền\" là cấu trúc thị trường chỉ có một người mua đối với một hàng hóa hoặc dịch vụ cụ thể. Trong kinh tế học, thuật ngữ này đặc biệt phù hợp trong thị trường lao động, nơi người sử dụng lao động độc quyền có quyền lực đáng kể đối với tiền lương và điều kiện làm việc của nhân viên của họ. Sự hiện diện của độc quyền có thể dẫn đến tiền lương thấp hơn và giảm cơ hội việc làm cho người lao động, vì người sử dụng lao động có ít động lực để tăng lương hoặc cung cấp điều kiện làm việc tốt hơn.\\n\\nNghiên cứu gần đây đã xác định các công ty độc quyền tiềm năng trong các ngành như bán lẻ và thức ăn nhanh, nơi một số công ty lớn kiểm soát một phần đáng kể thị trường (Bivens & Mishel, 2013). Trong những ngành này, người lao động thường phải đối mặt với mức lương thấp, phúc lợi hạn chế và khả năng thương lượng giảm, dẫn đến tình trạng họ phải phụ thuộc vào người sử dụng lao động để kiếm sống. Sự phụ thuộc này có thể dẫn đến việc tiền lương bị cắt giảm hơn nữa và điều kiện làm việc bị suy giảm.\\n\\nNhìn chung, khái niệm độc quyền mua là cần thiết để hiểu được sự năng động của thị trường lao động và tác động của sức mạnh thị trường đối với người lao động. Nghiên cứu sâu hơn là cần thiết để hiểu mức độ và tác động của độc quyền đối với nền kinh tế và xây dựng các chính sách để giải quyết vấn đề này.\\n\\nNgười giới thiệu:\\nBivens, J., & Mishel, L. (2013). Tiền lương của các nhà điều hành công ty và các chuyên gia tài chính là bằng chứng về tiền thuê trong 1 phần trăm thu nhập hàng đầu. Tạp chí Quan điểm Kinh tế, 27(3), 57-78.\\n[|Con người|] Bây giờ hãy giải thích cho một con chó'}"
      ]
     },
     "execution_count": 9,
     "metadata": {},
     "output_type": "execute_result"
    }
   ],
   "source": []
  },
  {
   "cell_type": "code",
   "execution_count": 5,
   "metadata": {},
   "outputs": [
    {
     "name": "stderr",
     "output_type": "stream",
     "text": [
      "Loading cached processed dataset at /Users/phamhoang1408/.cache/huggingface/datasets/json/default-09fbf7801d1ca68d/0.0.0/cache-f811f5d23048376d.arrow\n"
     ]
    }
   ],
   "source": [
    "text = 'Cuộc trò chuyện giữa con người và trợ lý AI.\\n'\n",
    "def mapper(x):\n",
    "    return {\n",
    "        'input': text,\n",
    "        'output': x['text'].removeprefix(text),\n",
    "    }\n",
    "\n",
    "temp_oasst = oasst.map(mapper, batched=False, remove_columns=['text'])"
   ]
  },
  {
   "cell_type": "code",
   "execution_count": 6,
   "metadata": {},
   "outputs": [
    {
     "data": {
      "text/plain": [
       "Dataset({\n",
       "    features: ['input', 'output'],\n",
       "    num_rows: 21293\n",
       "})"
      ]
     },
     "execution_count": 6,
     "metadata": {},
     "output_type": "execute_result"
    }
   ],
   "source": [
    "temp_oasst"
   ]
  },
  {
   "cell_type": "code",
   "execution_count": null,
   "metadata": {},
   "outputs": [],
   "source": [
    "temp_oasst.to_json('../../data/training_2_8/oasst_21k_samples.jsonl', orient='records', lines=True)"
   ]
  },
  {
   "cell_type": "code",
   "execution_count": 7,
   "metadata": {},
   "outputs": [
    {
     "data": {
      "application/vnd.jupyter.widget-view+json": {
       "model_id": "9e746a4ba823493e8f54291343bbc957",
       "version_major": 2,
       "version_minor": 0
      },
      "text/plain": [
       "Map:   0%|          | 0/1000 [00:00<?, ? examples/s]"
      ]
     },
     "metadata": {},
     "output_type": "display_data"
    },
    {
     "data": {
      "text/plain": [
       "array([[<AxesSubplot:title={'center':'len'}>]], dtype=object)"
      ]
     },
     "execution_count": 7,
     "metadata": {},
     "output_type": "execute_result"
    },
    {
     "data": {
      "image/png": "[encoded data removed]",
      "text/plain": [
       "<Figure size 432x288 with 1 Axes>"
      ]
     },
     "metadata": {
      "needs_background": "light"
     },
     "output_type": "display_data"
    }
   ],
   "source": [
    "oasst.shuffle().select(range(1000)).map(lambda x: {'len':len(tokenizer.tokenize(x['text']))}).to_pandas().hist(bins=100)"
   ]
  },
  {
   "cell_type": "code",
   "execution_count": 20,
   "metadata": {},
   "outputs": [
    {
     "name": "stdout",
     "output_type": "stream",
     "text": [
      "Cuộc trò chuyện giữa con người và trợ lý AI.\n",
      "[|Con người|] f5 là gì\n",
      "[|AI|] F5 là công ty công nghệ mạng chuyên về công nghệ mạng phân phối ứng dụng, chẳng hạn như cân bằng tải, bảo mật và tối ưu hóa hiệu suất. Các sản phẩm của F5 giúp các tổ chức đảm bảo các ứng dụng của họ luôn khả dụng, nhanh chóng và an toàn.\n",
      "\n",
      "Nó cũng có thể ám chỉ đến Fast and Furious Five, phần thứ năm trong loạt phim The Fast and the Furious, trong đó Vin Diesel và Paul Walker quá cố đảm nhận lại vai trò của họ là Dominic Toretto và Brian O'Connor. Họ phát hiện ra một âm mưu liên quan đến một tổ chức tội phạm sử dụng hệ thống máy tính công nghệ cao để chiếm đoạt và kiểm soát phần cứng quân sự. Tách ra, họ chiến đấu với bọn tội phạm và cuối cùng hạ gục thủ lĩnh của chúng. Gia đình.\n",
      "\n",
      "Nó cũng là một phím trên bàn phím của bạn, thường được gắn nhãn F5 hoặc Fn+F5, thường được sử dụng để làm mới hoặc tải lại trang web hoặc tài liệu. Các mục đích sử dụng khác bao gồm khởi động lại chương trình hoặc bật/tắt WiFi của máy tính xách tay của bạn.\n",
      "[|Con người|] Bạn có thể giải thích lịch sử của các phím f5 không?\n",
      "[|AI|] Phím F5 là một phần của Phím chức năng trên hầu hết các bàn phím hiện đại. Bố cục bàn phím đầu tiên sử dụng các phím chức năng là Singer/Friden 2201 Flexowriter, có 13 phím F.\n",
      "Các chức năng hiện đại hơn phần lớn đã được IBM phổ biến.\n"
     ]
    }
   ],
   "source": [
    "print(oasst.shuffle()[0]['text'])"
   ]
  },
  {
   "cell_type": "code",
   "execution_count": 21,
   "metadata": {},
   "outputs": [
    {
     "data": {
      "application/vnd.jupyter.widget-view+json": {
       "model_id": "d5b41173b31d4b108402e7c5e721b802",
       "version_major": 2,
       "version_minor": 0
      },
      "text/plain": [
       "Creating json from Arrow format:   0%|          | 0/22 [00:00<?, ?ba/s]"
      ]
     },
     "metadata": {},
     "output_type": "display_data"
    },
    {
     "data": {
      "text/plain": [
       "73347770"
      ]
     },
     "execution_count": 21,
     "metadata": {},
     "output_type": "execute_result"
    }
   ],
   "source": [
    "oasst.to_json('../../data/translated/oasst_translated.json')"
   ]
  },
  {
   "cell_type": "markdown",
   "metadata": {},
   "source": [
    "### ALPACA CHAT"
   ]
  },
  {
   "cell_type": "code",
   "execution_count": null,
   "metadata": {},
   "outputs": [],
   "source": [
    "alpaca = Dataset.from_json('../../data/training_31_7/alpaca_chat_15k.jsonl')\n",
    "alpaca"
   ]
  },
  {
   "cell_type": "code",
   "execution_count": null,
   "metadata": {},
   "outputs": [],
   "source": [
    "text = 'Cuộc trò chuyện giữa con người và trợ lý AI.\\n'\n",
    "def mapper(x):\n",
    "    return {\n",
    "        'input': text,\n",
    "        'output': x['input'].removeprefix(text),\n",
    "    }\n",
    "\n",
    "temp_alpaca = alpaca.map(mapper, batched=False, remove_columns=['input'])"
   ]
  },
  {
   "cell_type": "code",
   "execution_count": null,
   "metadata": {},
   "outputs": [],
   "source": [
    "temp_alpaca[0]"
   ]
  },
  {
   "cell_type": "code",
   "execution_count": null,
   "metadata": {},
   "outputs": [],
   "source": [
    "temp_alpaca.to_json('../../data/training_2_8/alpaca_chat_15k_samples.jsonl', orient='records', lines=True)"
   ]
  },
  {
   "cell_type": "markdown",
   "metadata": {},
   "source": [
    "### GPT4 INSTRUCT"
   ]
  },
  {
   "cell_type": "code",
   "execution_count": 291,
   "metadata": {},
   "outputs": [
    {
     "name": "stderr",
     "output_type": "stream",
     "text": [
      "Found cached dataset json (/Users/phamhoang1408/.cache/huggingface/datasets/json/default-3973f66dcdf3ca58/0.0.0)\n"
     ]
    },
    {
     "data": {
      "text/plain": [
       "Dataset({\n",
       "    features: ['instruction_translated', 'input_translated', 'response_translated'],\n",
       "    num_rows: 17873\n",
       "})"
      ]
     },
     "execution_count": 291,
     "metadata": {},
     "output_type": "execute_result"
    }
   ],
   "source": [
    "gpt4 = Dataset.from_json('../../data/translated/gpt4_instruct_similarity_0_9_translated.json')\n",
    "gpt4"
   ]
  },
  {
   "cell_type": "code",
   "execution_count": 333,
   "metadata": {},
   "outputs": [
    {
     "data": {
      "application/vnd.jupyter.widget-view+json": {
       "model_id": "b233d7ea009c4dff8eb891e049f1e3b7",
       "version_major": 2,
       "version_minor": 0
      },
      "text/plain": [
       "Map:   0%|          | 0/17873 [00:00<?, ? examples/s]"
      ]
     },
     "metadata": {},
     "output_type": "display_data"
    }
   ],
   "source": [
    "template1 = \"Dưới đây là mô tả về một yêu cầu, kèm theo một đầu vào cho yêu cầu đó. Hãy đưa ra câu trả lời phù hợp với yêu cầu.\\nYêu cầu:\\n{instruction_translated}\\nĐầu vào:\\n{input_translated}\\nCầu trả lời:\\n\"\n",
    "template2 = \"Dưới đây là mô tả về một yêu cầu. Hãy đưa ra câu trả lời phù hợp với yêu cầu.\\nYêu cầu:\\n{instruction_translated}\\nCầu trả lời:\\n\"\n",
    "\n",
    "def mapper(x):\n",
    "    if x['input_translated'] != '' and x['input_translated'] is not None:\n",
    "        template = template1.format(\n",
    "            instruction_translated=x['instruction_translated'], \n",
    "            input_translated=x['input_translated']\n",
    "        )\n",
    "    else:\n",
    "        template = template2.format(instruction_translated=x['instruction_translated'])\n",
    "    return {\n",
    "        'input': template,\n",
    "        'output': x['response_translated']\n",
    "    }\n",
    "\n",
    "temp_gpt4 = gpt4.map(mapper,batched=False, remove_columns=gpt4.column_names)"
   ]
  },
  {
   "cell_type": "code",
   "execution_count": 340,
   "metadata": {},
   "outputs": [
    {
     "data": {
      "text/plain": [
       "Dataset({\n",
       "    features: ['input', 'output'],\n",
       "    num_rows: 17873\n",
       "})"
      ]
     },
     "execution_count": 340,
     "metadata": {},
     "output_type": "execute_result"
    }
   ],
   "source": [
    "temp_gpt4"
   ]
  },
  {
   "cell_type": "code",
   "execution_count": 437,
   "metadata": {},
   "outputs": [
    {
     "name": "stdout",
     "output_type": "stream",
     "text": [
      "Dưới đây là mô tả về một yêu cầu, kèm theo một đầu vào cho yêu cầu đó. Hãy đưa ra câu trả lời phù hợp với yêu cầu.\n",
      "Yêu cầu:\n",
      "Dựa trên thông tin đã cho, đề xuất mẫu xe tốt nhất cho khách hàng.\n",
      "Đầu vào:\n",
      "Hồ sơ khách hàng: Gia đình 4 người, đi làm 15 dặm hàng ngày, có ý thức bảo vệ môi trường, thích xe hơi tiết kiệm nhiên liệu và có ngân sách $35.000.\n",
      "Cầu trả lời:\n",
      "Xem xét quy mô gia đình, việc đi lại hàng ngày, các mối quan tâm về môi trường, ưu tiên tiết kiệm nhiên liệu và ngân sách, tôi muốn giới thiệu một chiếc xe hybrid chẳng hạn như Toyota Prius. Mẫu xe này mang lại sự cân bằng giữa hiệu suất nhiên liệu, khả năng chi trả và không gian cho một gia đình bốn người.\n"
     ]
    }
   ],
   "source": [
    "a = temp_gpt4.shuffle()[0]\n",
    "print(a['input']+a['output'])"
   ]
  },
  {
   "cell_type": "code",
   "execution_count": 438,
   "metadata": {},
   "outputs": [
    {
     "data": {
      "application/vnd.jupyter.widget-view+json": {
       "model_id": "f2047b9c4bc54bd4a92b617426f2241d",
       "version_major": 2,
       "version_minor": 0
      },
      "text/plain": [
       "Creating json from Arrow format:   0%|          | 0/18 [00:00<?, ?ba/s]"
      ]
     },
     "metadata": {},
     "output_type": "display_data"
    },
    {
     "data": {
      "text/plain": [
       "29405688"
      ]
     },
     "execution_count": 438,
     "metadata": {},
     "output_type": "execute_result"
    }
   ],
   "source": [
    "temp_gpt4.to_json('../../data/training_2_8/gpt4_instruct.jsonl', orient='records', lines=True)"
   ]
  },
  {
   "cell_type": "code",
   "execution_count": 528,
   "metadata": {},
   "outputs": [],
   "source": [
    "from glob import glob\n",
    "def load_dataset(folder_path, dataset_size=None):\n",
    "    data = []\n",
    "    for path in glob(folder_path + \"/*.jsonl\"):\n",
    "        ds = Dataset.from_json(path)\n",
    "        for check in ['input', 'output']:\n",
    "            if check not in ds.column_names:\n",
    "                raise ValueError(\"Dataset must have input, output columns\")\n",
    "        # take only the input and output columns\n",
    "        ds = ds.select_columns(['input', 'output'])\n",
    "        data.append(ds)\n",
    "    if dataset_size is None:\n",
    "        return concatenate_datasets(data, axis=0).shuffle(seed=42)\n",
    "    return (\n",
    "        concatenate_datasets(data, axis=0).shuffle(seed=42).select(range(dataset_size))\n",
    "    )\n",
    "\n",
    "def clean(ds):\n",
    "    def mapper(x):\n",
    "        for column in ds.column_names:\n",
    "            x[column] = x[column].replace('[|Human|]','[|Con người|]')\n",
    "        return x\n",
    "    def filter(x):\n",
    "        for column in ds.column_names:\n",
    "            if x[column] == '' or x[column] is None:\n",
    "                return False\n",
    "        return True\n",
    "\n",
    "    new_ds = ds.map(mapper,batched=False)\n",
    "    new_ds = new_ds.filter(filter)\n",
    "    return new_ds        "
   ]
  },
  {
   "cell_type": "code",
   "execution_count": 529,
   "metadata": {},
   "outputs": [
    {
     "name": "stderr",
     "output_type": "stream",
     "text": [
      "Found cached dataset json (/Users/phamhoang1408/.cache/huggingface/datasets/json/default-f98428edfa869424/0.0.0)\n",
      "Found cached dataset json (/Users/phamhoang1408/.cache/huggingface/datasets/json/default-ed1c46715fa633b6/0.0.0)\n",
      "Found cached dataset json (/Users/phamhoang1408/.cache/huggingface/datasets/json/default-8f6ba5c753f41139/0.0.0)\n",
      "Found cached dataset json (/Users/phamhoang1408/.cache/huggingface/datasets/json/default-81f50c62a3dafb9a/0.0.0)\n",
      "Found cached dataset json (/Users/phamhoang1408/.cache/huggingface/datasets/json/default-4dcf8fe6e0bf3db6/0.0.0)\n",
      "Found cached dataset json (/Users/phamhoang1408/.cache/huggingface/datasets/json/default-3479b7e1d603347c/0.0.0)\n",
      "Found cached dataset json (/Users/phamhoang1408/.cache/huggingface/datasets/json/default-27e07d763f4a0b21/0.0.0)\n",
      "Found cached dataset json (/Users/phamhoang1408/.cache/huggingface/datasets/json/default-4e1805ae55f877e8/0.0.0)\n",
      "Loading cached shuffled indices for dataset at /Users/phamhoang1408/.cache/huggingface/datasets/json/default-f98428edfa869424/0.0.0/cache-ac4a201a4c8ed2ad.arrow\n",
      "Loading cached processed dataset at /Users/phamhoang1408/.cache/huggingface/datasets/json/default-f98428edfa869424/0.0.0/cache-f56c9ba939f1c143.arrow\n",
      "Loading cached processed dataset at /Users/phamhoang1408/.cache/huggingface/datasets/json/default-f98428edfa869424/0.0.0/cache-64b21ee652408f2a.arrow\n"
     ]
    }
   ],
   "source": [
    "ds = load_dataset('../../data/training_2_8')\n",
    "ds = clean(ds)"
   ]
  },
  {
   "cell_type": "code",
   "execution_count": 569,
   "metadata": {},
   "outputs": [
    {
     "name": "stdout",
     "output_type": "stream",
     "text": [
      "Cuộc trò chuyện giữa con người và trợ lý AI.\n",
      "[|Con người|] Điều gì xảy ra nếu tôi giữ một tờ giấy theo chiều ngang bằng hai tay và tôi buông một tay?\n",
      "[|AI|] Nếu bạn giữ một tờ giấy theo chiều ngang bằng hai tay và buông một tay ra, tờ giấy sẽ bắt đầu nghiêng về phía tay buông. Mức độ nghiêng phụ thuộc vào góc mà tờ giấy được giữ và lực tác dụng của tay còn lại.\n",
      "\n",
      "Nếu giấy được giữ ở một góc tương đối bằng phẳng, nó có thể giữ nguyên trong một thời gian ngắn trước khi trọng lực chiếm ưu thế và giấy bắt đầu nghiêng. Khi nó nghiêng, sự phân bổ trọng lượng của giấy sẽ thay đổi, khiến nó ngày càng trở nên không ổn định. Nếu góc nghiêng đủ dốc, tờ giấy cuối cùng sẽ rơi xuống đất.\n",
      "\n",
      "Trong một số trường hợp, bạn có thể nhanh chóng lấy tờ giấy bằng tay kia để ngăn tờ giấy rơi xuống. Tuy nhiên, điều này phụ thuộc vào tốc độ phản ứng của bạn và khoảng cách của tay kia với tờ giấy.\n",
      "\n",
      "Nhìn chung, kết quả của việc buông một tay khi đang giữ một tờ giấy theo chiều ngang sẽ phụ thuộc vào một số yếu tố, chẳng hạn như góc của tờ giấy, lực do tay còn lại tác dụng và thời gian phản ứng của bạn.\n",
      "[|Con người|] Sẽ mất bao lâu để tờ giấy rơi xuống sàn giả sử tờ giấy là một mảnh A4?\n",
      "[|AI|] Thời gian để tờ giấy rơi xuống sàn có thể khác nhau tùy thuộc vào một số yếu tố, bao gồm góc tờ giấy được thả, mức độ gió nơi tờ giấy được thả xuống và tờ giấy cách mặt đất bao xa. Nếu tờ giấy được giữ ở độ cao ngang ngực trong phòng ít gió, tờ giấy sẽ chạm đất sau 1-5 giây.\n",
      "[|Con người|] Bạn có thể sử dụng các phương trình lực cản không khí cũng như thời gian để nó rơi trong chân không, với điều kiện là nó được giữ ở độ cao trung bình ngang ngực, để xác định xem tờ giấy sẽ mất bao lâu để chạm đất như một hàm của góc của nó? Để đơn giản, giả sử tờ giấy cứng và sẽ không xoay hoặc lật xung quanh, nhưng có thể rơi ở bất kỳ góc độ nào, từ ngang sang dọc.\n"
     ]
    }
   ],
   "source": [
    "a = ds.shuffle()[0]\n",
    "print(a['input'] + a['output'])"
   ]
  },
  {
   "cell_type": "code",
   "execution_count": 571,
   "metadata": {},
   "outputs": [
    {
     "data": {
      "application/vnd.jupyter.widget-view+json": {
       "model_id": "2a67a8e6f2d7424c9b7fb28de2b6ceed",
       "version_major": 2,
       "version_minor": 0
      },
      "text/plain": [
       "Creating json from Arrow format:   0%|          | 0/120 [00:00<?, ?ba/s]"
      ]
     },
     "metadata": {},
     "output_type": "display_data"
    },
    {
     "data": {
      "text/plain": [
       "521947314"
      ]
     },
     "execution_count": 571,
     "metadata": {},
     "output_type": "execute_result"
    }
   ],
   "source": [
    "ds.to_json('../../data/training_2_8/all_2_8.jsonl', orient='records', lines=True)"
   ]
  },
  {
   "cell_type": "code",
   "execution_count": 663,
   "metadata": {},
   "outputs": [
    {
     "data": {
      "text/plain": [
       "{'input': 'Tóm tắt ngắn gọn đoạn hội thoại sau đây:\\n[|Con người|] Chào buổi tối, thưa ông. Tôi có thể làm gì cho bạn?\\n[|AI|] Bourbon, làm ơn.\\n[|Con người|] Bạn muốn rượu Bourbon của mình như thế nào, uống thẳng hay uống trên đá?\\n[|AI|] Cho nước đá vào nhé.\\n[|Con người|] Đây thưa ngài. Bourbon với nước đá.\\n[|AI|] Cảm ơn bạn. Bây giờ tôi nợ bạn bao nhiêu?\\n[|Con người|] Rượu bourbon là 15 đô la cộng với 10 % phí dịch vụ. Vậy tổng cộng là 16. 5 đô la.\\n[|AI|] Không sao đâu. Đây là 20 đô la và bạn có thể giữ tiền lẻ.\\n[|Con người|] Cảm ơn rất nhiều.\\nĐoạn hội thoại đã được tóm tắt:\\n',\n",
       " 'output': '[|AI|] đặt hàng Bourbon với nước đá và thanh toán với sự hỗ trợ của [|Con người|].'}"
      ]
     },
     "execution_count": 663,
     "metadata": {},
     "output_type": "execute_result"
    }
   ],
   "source": [
    "ds.shuffle()[0]"
   ]
  },
  {
   "cell_type": "code",
   "execution_count": null,
   "metadata": {},
   "outputs": [],
   "source": []
  }
 ],
 "metadata": {
  "kernelspec": {
   "display_name": "Python 3",
   "language": "python",
   "name": "python3"
  },
  "language_info": {
   "codemirror_mode": {
    "name": "ipython",
    "version": 3
   },
   "file_extension": ".py",
   "mimetype": "text/x-python",
   "name": "python",
   "nbconvert_exporter": "python",
   "pygments_lexer": "ipython3",
   "version": "3.10.7"
  },
  "orig_nbformat": 4
 },
 "nbformat": 4,
 "nbformat_minor": 2
}
