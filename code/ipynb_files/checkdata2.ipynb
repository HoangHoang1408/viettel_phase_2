{
 "cells": [
  {
   "cell_type": "code",
   "execution_count": 1,
   "metadata": {},
   "outputs": [],
   "source": [
    "import numpy as np\n",
    "import pandas as pd\n",
    "import matplotlib.pyplot as plt\n",
    "from matplotlib import rcParams\n",
    "import seaborn as sns\n",
    "import warnings\n",
    "\n",
    "sns.set()\n",
    "rcParams['figure.figsize'] = (20,10)\n",
    "pd.options.display.max_columns = None\n",
    "warnings.filterwarnings('ignore')\n",
    "from pprint import pprint\n",
    "import json\n",
    "\n",
    "from transformers import AutoTokenizer, AutoModel, AutoConfig, pipeline\n",
    "from datasets import load_dataset, Dataset, concatenate_datasets"
   ]
  },
  {
   "cell_type": "code",
   "execution_count": 2,
   "metadata": {},
   "outputs": [],
   "source": [
    "tokenizer = AutoTokenizer.from_pretrained(\"bigscience/bloom-3b\")"
   ]
  },
  {
   "cell_type": "markdown",
   "metadata": {},
   "source": [
    "### CNN_DAILY"
   ]
  },
  {
   "cell_type": "code",
   "execution_count": 9,
   "metadata": {},
   "outputs": [
    {
     "name": "stderr",
     "output_type": "stream",
     "text": [
      "Found cached dataset json (/Users/phamhoang1408/.cache/huggingface/datasets/json/default-d31d863ca28d87f6/0.0.0)\n"
     ]
    }
   ],
   "source": [
    "cnn = Dataset.from_json('../../data/translated/cnn_dailymail_30k_samples_len_100_1200_words_translated.json')"
   ]
  },
  {
   "cell_type": "code",
   "execution_count": 48,
   "metadata": {},
   "outputs": [
    {
     "data": {
      "application/vnd.jupyter.widget-view+json": {
       "model_id": "1e7afdc4343a43b3955a946da625e46b",
       "version_major": 2,
       "version_minor": 0
      },
      "text/plain": [
       "Map:   0%|          | 0/15000 [00:00<?, ? examples/s]"
      ]
     },
     "metadata": {},
     "output_type": "display_data"
    }
   ],
   "source": [
    "input_template=\"Cuộc trò chuyện giữa con người và trợ lý AI.\\n[|Con người|] Tóm tắt ngắn gọn đoạn văn bản sau đây:\\n{article_translated}\\n[|AI|] \"\n",
    "def mapper(x):\n",
    "    return {\n",
    "        'input': input_template.format(article_translated=x['article_translated']),\n",
    "        'output': 'Đoạn văn bản đã được tóm tắt:\\n' + x['highlights_translated'] + '\\n[|Con người|]'\n",
    "    }\n",
    "\n",
    "temp_cnn = cnn.shuffle().select(range(15000)).map(mapper,batched=False, remove_columns=['article_translated','highlights_translated'])"
   ]
  },
  {
   "cell_type": "code",
   "execution_count": 49,
   "metadata": {},
   "outputs": [
    {
     "name": "stdout",
     "output_type": "stream",
     "text": [
      "Cuộc trò chuyện giữa con người và trợ lý AI.\n",
      "[|Con người|] Tóm tắt ngắn gọn đoạn văn bản sau đây:\n",
      "Một người mẹ Maine 25 tuổi bị buộc tội đánh thuốc mê và bóp chết đứa con gái nhỏ của mình sẽ bị xét xử hôm nay sau khi thay đổi lời nhận tội thành vô tội vì lý do mất trí vào tháng Chín. Leanna Norris đã bị bắt vào năm ngoái sau khi thi thể đứa con gái 2 tuổi của cô, Loh Grenda, được tìm thấy ở ghế trước trong xe của cô ở Stetson, Maine, vào ngày 23 tháng 6 năm 2013. Norris ban đầu không nhận tội giết người, nhưng hai các tài liệu do Tòa án Thượng thẩm Hạt Penobscot công bố ngay sau khi cô bị bắt nói rằng cô đã thú nhận hành vi giết người. Phiên tòa xét xử tội giết người: Leanna Norris (trái), 25 tuổi, đang hầu tòa vì cáo buộc giết đứa con gái 2 tuổi của mình, Loh Grenada (phải), vào tháng 6/2013. Cuối tháng trước, Norris đã thay đổi lời nhận tội thành vô tội vì lý do mất trí và từ bỏ quyền được xét xử trước bồi thẩm đoàn, nghĩa là một thẩm phán sẽ quyết định số phận của cô, Bangor Daily News đưa tin. Theo lời khai của cô ấy bởi . Thám tử Thomas Pickering của Cảnh sát Bang Maine, vào ngày 27 tháng 6 năm 2013, khẩu súng lục ổ quay . Người phụ nữ Auburn cho biết cô đã tiêm cho con gái mình Loh Grenda hai hoặc ba liều . Benadryl, trước khi dán băng keo đen lên miệng và bịt miệng cô ấy bằng . một cái chăn để cô ấy 'không phải nhìn vào mắt Loh'. 'Leanna Norris nói rằng cô ấy đã giết . Loh Grenda; rằng Leanna Norris đã đặt tay lên mặt Loh Grenda và . khiến cô ấy ngạt thở', bản khai có tuyên thệ. Benadryl là thuốc kháng histamine, cũng có thể gây buồn ngủ. Norris, người đang trên đường đến . đến thăm cha mẹ cô ấy ở Stetson, nói rằng cô ấy đã giết con gái mình bằng cách che chắn . lấy tay vào mặt đứa trẻ rồi gỡ băng dính ra 'như vậy sẽ không . trông thật kinh khủng', theo Portland Press Herald. Hành động hèn nhát: Norris bị cáo buộc đã giao con gái Benadryl, dán băng keo vào miệng và đắp chăn cho cô để cô 'không phải nhìn vào mắt Loh' Tự tử bất thành: Người mẹ đã cố gắng tự kết liễu đời mình bằng cách cho Advil uống quá liều, nhưng Cô ấy sống sót . Sau khi bị cáo buộc giết con mình, Norris nói với cảnh sát rằng cô đã lái xe đến một nghĩa trang ở Stetson, nơi cô dùng Advil quá liều để tự kết liễu đời mình. Tuy nhiên, sau khi nôn mửa, cô gái 24 tuổi được cho là đã gọi điện cho cha mình, Steven Norris, rồi lái xe đến nhà ông. Ông Norris nói với các thám tử rằng con gái ông đã gọi điện lúc 2h47 sáng nói với ông rằng 'cô ấy đã giết con mình và muốn chết', theo tài liệu. Anh nói với các thám tử rằng khi cô đến. tại nhà, ông phát hiện cháu gái mình đã chết dưới một tấm chăn, và nói rằng . con gái anh ta cầu xin anh ta một khẩu súng để cô ấy có thể tự sát. Bi kịch: Thi thể nhỏ bé không còn sự sống của Loh Grenada được phát hiện bên trong xe hơi của mẹ cô bé . Khi cảnh sát đến, họ tìm thấy khẩu súng lục ổ quay . thi thể của đứa trẻ trong xe hơi và một ghi chú trên bảng điều khiển, nhưng cảnh sát đã có . không cho biết nó chứa gì, BDN Maine đưa tin. Phiên tòa xét xử Norris dự kiến ​​kéo dài 5 ngày. Thẩm phán Tòa án Tối cao Ann Murray sẽ đưa ra phán quyết vào một ngày sau đó. Nếu bị kết tội giết người, người mẹ 25 tuổi phải đối mặt với 25 năm tù. Nếu thẩm phán tuyên bố trắng án cho Norris vì lý do mất trí, cô ấy sẽ được đưa đến bệnh viện tâm thần để điều trị.\n",
      "[|AI|] Đoạn văn bản đã được tóm tắt:\n",
      "Leanna Norris, 25 tuổi, bị buộc tội giết đứa con gái 2 tuổi của mình, Loh Grenada, vào tháng 6 năm 2013.\n",
      "Cảnh sát cho biết cô ta dùng Benadryl đè đứa trẻ mới biết đi, dán băng keo vào miệng và bóp ngạt.\n",
      "Norris ban đầu không nhận tội giết người nhưng đã thay đổi lời nhận tội của mình thành vô tội vì lý do mất trí vào tháng 9 năm 2014.\n",
      "Người mẹ cũng từ bỏ quyền được xét xử bởi bồi thẩm đoàn .\n",
      "[|Con người|]\n"
     ]
    }
   ],
   "source": [
    "print(temp_cnn[1]['input'] + temp_cnn[1]['output'])"
   ]
  },
  {
   "cell_type": "code",
   "execution_count": 50,
   "metadata": {},
   "outputs": [
    {
     "data": {
      "application/vnd.jupyter.widget-view+json": {
       "model_id": "e3e412986c014169ba8835e54c6ec384",
       "version_major": 2,
       "version_minor": 0
      },
      "text/plain": [
       "Map:   0%|          | 0/1000 [00:00<?, ? examples/s]"
      ]
     },
     "metadata": {},
     "output_type": "display_data"
    },
    {
     "data": {
      "text/plain": [
       "array([[<AxesSubplot:title={'center':'len'}>]], dtype=object)"
      ]
     },
     "execution_count": 50,
     "metadata": {},
     "output_type": "execute_result"
    },
    {
     "data": {
      "image/png": "[encoded data removed]",
      "text/plain": [
       "<Figure size 432x288 with 1 Axes>"
      ]
     },
     "metadata": {
      "needs_background": "light"
     },
     "output_type": "display_data"
    }
   ],
   "source": [
    "length = temp_cnn.shuffle().select(range(1000)).map(lambda x: {'len':len(tokenizer.tokenize(x['input'] + x['output']))})\n",
    "length.to_pandas().hist(bins=100)"
   ]
  },
  {
   "cell_type": "code",
   "execution_count": 62,
   "metadata": {},
   "outputs": [
    {
     "data": {
      "text/plain": [
       "{'input': 'Cuộc trò chuyện giữa con người và trợ lý AI.\\n[|Con người|] Tóm tắt ngắn gọn đoạn văn bản sau đây:\\nMột trung úy băng đảng ma túy đã bị bắt vì một loạt vụ tấn công bằng bom xăng vào công ty khoai tây chiên Sabritas của Mexico, một công ty con của công ty thực phẩm khổng lồ PepsiCo của Hoa Kỳ. Các vụ đánh bom liên quan đến băng đảng được cho là lần đầu tiên một công ty đa quốc gia trở thành mục tiêu trong cuộc chiến ma túy kéo dài 5 năm rưỡi ở Mexico. Các chuyên gia cho rằng vụ tấn công có thể liên quan đến việc công ty rõ ràng từ chối giao tiền bảo kê cho các băng nhóm đã khủng bố cư dân và doanh nghiệp địa phương. Tấn công: Sabritas, thuộc sở hữu của Pepsi, là mục tiêu của một loạt bom xăng vào Thứ Sáu và Thứ Bảy . Năm nhà kho và lô xe của Sabritas đã bị tấn công vào thứ Sáu và thứ Bảy tại các bang Michoacan và Guanajuato của Mexico. Các nhân chứng trong một trường hợp đã mô tả những người đàn ông đeo mặt nạ có vũ trang đã ném bom xăng và đốt cháy hàng chục xe tải phân phối của công ty và một số nhà kho. Gerardo Gutierrez, chủ tịch Hội đồng điều phối kinh doanh của Mexico, cho biết hôm thứ Hai rằng đây là \"trường hợp cá biệt\" về kiểu tống tiền mà các băng đảng đã thực hiện trước đây với các doanh nghiệp vừa và nhỏ. Ông kêu gọi các nhà chức trách hành động ngay lập tức để ngăn chặn việc tập tục này lan rộng. Ông Gutierrez nói: “Điều chúng tôi không thể cho phép là loại trường hợp cá biệt này trở nên phổ biến. \\'Chính quyền phải có hành động mạnh mẽ.\\' Trong bài phát biểu trước một hội nghị chống tội phạm vào thứ Hai, Tổng thống Felipe Calderon cho biết các băng đảng ma túy đe dọa sự tăng trưởng và phát triển và gọi chúng là \\'một trở ngại cho sự thịnh vượng vì chúng tấn công các công ty lớn và nhỏ.\\' Bốc lửa: Các cuộc tấn công được cho là có liên quan đến việc công ty từ chối trả tiền bảo vệ cho các băng đảng . Bị đánh bom: Năm địa điểm khác nhau ở hai bang của Mexico thuộc công ty bị ảnh hưởng. Văn phòng tổng chưởng lý bang ở Guanajuato hôm thứ Hai xác nhận rằng một số nghi phạm đã bị bắt giữ trong các vụ tấn công ở đó, và một kẻ được xác định là trung úy của băng đảng ma túy Knights Templar. Alejandro Hope, một nhà phân tích an ninh và là cựu quan chức của cơ quan tình báo CISEN của Mexico, cho biết đây là cuộc tấn công đầu tiên mà ông có thể nhớ lại nhằm vào một công ty xuyên quốc gia ở Mexico. Ngay cả ở thành phố bạo lực nhất Mexico, Ciudad Juarez, các băng đảng ma túy đang gây chiến phần lớn đã bỏ mặc nhiều nhà máy lắp ráp do nước ngoài điều hành được gọi là maquiladoras. Ông Hope nói: “Ở Ciudad Juarez, thực tế họ chưa bao giờ tìm cách tống tiền các maquiladoras. \\'Họ tập trung nhiều hơn vào các doanh nghiệp nhỏ... họ là những mục tiêu dễ dàng hơn và với một công ty công nghiệp, người ta không biết chính xác ai sẽ tống tiền.\\' Trong một tuyên bố đưa ra vào Chủ nhật, PepsiCo cho biết 5 trung tâm phân phối đã bị hư hại, nhưng nói thêm rằng không có ai bị thương trong các cuộc tấn công. Xử lý ngọn lửa: Lính cứu hỏa đã chiến đấu để dập tắt đám cháy, dẫn đến một số vụ bắt giữ . Công ty dường như đã trả lời các email lưu hành ở Michoacan, quê hương của băng đảng Hiệp sĩ Templar, cho thấy các cuộc tấn công là để trả thù cho cáo buộc chưa được chứng minh rằng các công tố viên đã sử dụng đội xe tải giao hàng rộng lớn của Sabritas để thu thập thông tin tình báo. \\'Chúng tôi nhắc lại rằng theo quy tắc ứng xử của chúng tôi, tất cả các hoạt động của chúng tôi được thực hiện trong khuôn khổ quy định hiện hành và các phương tiện cũng như phương tiện của chúng tôi được sử dụng riêng để vận chuyển sản phẩm của chúng tôi đến khách hàng và khách hàng của chúng tôi\\', công ty cho biết. Ông Hope cho biết kịch bản gián điệp như vậy có vẻ khó xảy ra, nếu không muốn nói là không thể. Sabritas sử dụng hơn 70.000 người và có một đội giao hàng trên toàn quốc gồm khoảng 14.500 xe tải, đây là hình ảnh phổ biến ngay cả ở những vùng xa xôi và nguy hiểm nhất của Mexico. Ông nói thêm rằng các cuộc tấn công có thể không đại diện cho một giai đoạn mới trong các vụ tống tiền băng đảng ma túy, mà xuất phát từ những đặc điểm kỳ lạ của Hiệp sĩ Templar, một băng đảng giả tôn giáo tách ra từ băng đảng La Familia của Michoacan vào năm 2011. Tổ chức Hiệp sĩ Templar là một tổ chức tương đối địa phương, người chơi nhỏ trong buôn lậu ma túy, buôn bán chủ yếu methamphetamine và cần sa. Với ít khả năng tiếp cận với hoạt động kinh doanh cocaine và heroin sinh lợi hơn, các thành viên băng đảng đã tìm cách huy động tiền từ các hoạt động tội phạm khác. \\'Các Hiệp sĩ Templar đã tích cực hơn trong việc sử dụng các nguồn [thu nhập] tống tiền và thay thế so với thực tế là bất kỳ băng đảng nào khác, ngoại trừ Zetas\\', ông Hope nói. Băng đảng cực đoan Zetas được thành lập dọc theo bờ biển Vịnh Mexico bởi những kẻ đào ngũ từ một đơn vị quân đội ưu tú và có liên quan đến việc tống tiền và bắt cóc thường dân.\\n[|AI|] ',\n",
       " 'output': 'Đoạn văn bản đã được tóm tắt:\\nLần đầu tiên một công ty đa quốc gia trở thành mục tiêu trong cuộc chiến chống ma túy kéo dài .\\nXã hội đen được biết đến từ băng đảng Knights Templar một trong số những người bị bắt giữ.\\n[|Con người|]'}"
      ]
     },
     "execution_count": 62,
     "metadata": {},
     "output_type": "execute_result"
    }
   ],
   "source": [
    "temp_cnn[0]"
   ]
  },
  {
   "cell_type": "code",
   "execution_count": 51,
   "metadata": {},
   "outputs": [
    {
     "data": {
      "application/vnd.jupyter.widget-view+json": {
       "model_id": "fabca90edb1047b18a3c2d4da7e3aca7",
       "version_major": 2,
       "version_minor": 0
      },
      "text/plain": [
       "Creating json from Arrow format:   0%|          | 0/15 [00:00<?, ?ba/s]"
      ]
     },
     "metadata": {},
     "output_type": "display_data"
    },
    {
     "data": {
      "text/plain": [
       "131125728"
      ]
     },
     "execution_count": 51,
     "metadata": {},
     "output_type": "execute_result"
    }
   ],
   "source": [
    "temp_cnn.to_json('../../data/training_3_8/cnn_15k_samples.jsonl', orient='records', lines=True)"
   ]
  },
  {
   "cell_type": "markdown",
   "metadata": {},
   "source": [
    "### DIALOG SUMMARY"
   ]
  },
  {
   "cell_type": "code",
   "execution_count": 52,
   "metadata": {},
   "outputs": [
    {
     "name": "stderr",
     "output_type": "stream",
     "text": [
      "Found cached dataset json (/Users/phamhoang1408/.cache/huggingface/datasets/json/default-93777d28fd9ddb29/0.0.0)\n"
     ]
    }
   ],
   "source": [
    "dialog = Dataset.from_json('../../data/translated/dialogsum_10k_samples_len_50_words_translated.json')"
   ]
  },
  {
   "cell_type": "code",
   "execution_count": 53,
   "metadata": {},
   "outputs": [
    {
     "data": {
      "text/plain": [
       "Dataset({\n",
       "    features: ['dialogue_translated', 'summary_translated'],\n",
       "    num_rows: 10000\n",
       "})"
      ]
     },
     "execution_count": 53,
     "metadata": {},
     "output_type": "execute_result"
    }
   ],
   "source": [
    "dialog"
   ]
  },
  {
   "cell_type": "code",
   "execution_count": 54,
   "metadata": {},
   "outputs": [
    {
     "data": {
      "application/vnd.jupyter.widget-view+json": {
       "model_id": "7896e14da38f42d18688b9f30937b8cf",
       "version_major": 2,
       "version_minor": 0
      },
      "text/plain": [
       "Map:   0%|          | 0/10000 [00:00<?, ? examples/s]"
      ]
     },
     "metadata": {},
     "output_type": "display_data"
    }
   ],
   "source": [
    "input_template=\"Tóm tắt ngắn gọn đoạn hội thoại sau đây:\\n{dialogue_translated}\\nĐoạn hội thoại đã được tóm tắt:\\n\"\n",
    "def mapper(x):\n",
    "    return {\n",
    "        'input': input_template.format(dialogue_translated=x['dialogue_translated']),\n",
    "        'output': x['summary_translated']\n",
    "    }\n",
    "\n",
    "temp_dialog = dialog.shuffle().select(range(10000)).map(mapper,batched=False, remove_columns=['dialogue_translated','summary_translated'])"
   ]
  },
  {
   "cell_type": "code",
   "execution_count": 55,
   "metadata": {},
   "outputs": [
    {
     "name": "stdout",
     "output_type": "stream",
     "text": [
      "Tóm tắt ngắn gọn đoạn hội thoại sau đây:\n",
      "[|Con người|] Tôi thắc mắc không biết đây có phải là nơi tổ chức Hội thảo Viết Sơ yếu lý lịch không.\n",
      "[|AI|] Bạn đang ở đúng nơi. Xin mời vào!\n",
      "[|Con người|] Đã lâu lắm rồi tôi mới phải tìm việc và viết sơ yếu lý lịch.\n",
      "[|AI|] Sẽ ổn thôi. Tin tôi đi!\n",
      "[|Con người|] Chúng ta bắt đầu từ đâu?\n",
      "[|AI|] Chúng tôi bắt đầu ở trên cùng với tên và thông tin liên hệ của mình. Hãy chắc chắn rằng thông tin là hiện tại.\n",
      "[|Con người|] Vậy thì chúng ta phải làm gì?\n",
      "[|AI|] Đặt kinh nghiệm làm việc của bạn lên hàng đầu, nếu điều đó ấn tượng hơn trình độ học vấn của bạn.\n",
      "[|Con người|] Còn việc liệt kê các sở thích và liên kết của tôi tiếp theo thì sao?\n",
      "[|AI|] Vâng, đó sẽ là một kết thúc tốt đẹp cho sơ yếu lý lịch của bạn.\n",
      "Đoạn hội thoại đã được tóm tắt:\n",
      "[|AI|] giúp [|Con người|] viết lại sơ yếu lý lịch. Chúng bắt đầu với tên và thông tin liên hệ và kết thúc bằng việc liệt kê các mối quan tâm và liên kết.\n"
     ]
    }
   ],
   "source": [
    "print(temp_dialog[1]['input'] + temp_dialog[1]['output'])"
   ]
  },
  {
   "cell_type": "code",
   "execution_count": 61,
   "metadata": {},
   "outputs": [
    {
     "data": {
      "text/plain": [
       "{'input': 'Tóm tắt ngắn gọn đoạn hội thoại sau đây:\\n[|Con người|] Tom, dậy đi! Đã gần bảy giờ.\\n[|AI|] Ôi, chào buổi sáng mẹ. Đồng hồ báo thức có đổ chuông không?\\n[|Con người|] Đúng vậy.\\n[|AI|] Nhưng tôi không nghe thấy gì cả.\\n[|Con người|] Tối qua bạn đặt lúc mấy giờ?\\n[|AI|] Sáu giờ.\\n[|Con người|] Nhanh lên kẻo muộn học đấy. Bạn đang cảm thấy bị bệnh?\\n[|AI|] Không. Tôi chỉ buồn ngủ vì thức cả đêm thôi.\\n[|Con người|] Bữa sáng đã sẵn sàng. Mặc quần áo và ra khỏi giường. Đừng quên rửa mặt và đánh răng trước khi ăn sáng.\\n[|AI|] Được rồi, tôi đến đây.\\nĐoạn hội thoại đã được tóm tắt:\\n',\n",
       " 'output': 'Mẹ đánh thức Tom dậy và vội vàng đưa anh ấy đi ăn sáng, nếu không anh ấy sẽ bị muộn học.'}"
      ]
     },
     "execution_count": 61,
     "metadata": {},
     "output_type": "execute_result"
    }
   ],
   "source": [
    "temp_dialog[0]"
   ]
  },
  {
   "cell_type": "code",
   "execution_count": 56,
   "metadata": {},
   "outputs": [
    {
     "data": {
      "application/vnd.jupyter.widget-view+json": {
       "model_id": "7aaa73f6aba1473aa52f7bf79d542c2a",
       "version_major": 2,
       "version_minor": 0
      },
      "text/plain": [
       "Creating json from Arrow format:   0%|          | 0/10 [00:00<?, ?ba/s]"
      ]
     },
     "metadata": {},
     "output_type": "display_data"
    },
    {
     "data": {
      "text/plain": [
       "20554456"
      ]
     },
     "execution_count": 56,
     "metadata": {},
     "output_type": "execute_result"
    }
   ],
   "source": [
    "temp_dialog.to_json('../../data/training_3_8/dialogsum_10k_samples.jsonl', orient='records', lines=True)"
   ]
  },
  {
   "cell_type": "markdown",
   "metadata": {},
   "source": [
    "### FAQS"
   ]
  },
  {
   "cell_type": "code",
   "execution_count": 203,
   "metadata": {},
   "outputs": [
    {
     "name": "stderr",
     "output_type": "stream",
     "text": [
      "Found cached dataset json (/Users/phamhoang1408/.cache/huggingface/datasets/json/default-e90f1f489bc5a6e2/0.0.0)\n"
     ]
    }
   ],
   "source": [
    "faqs = Dataset.from_json('../../data/training_31_7/faq_chat_10k.jsonl')"
   ]
  },
  {
   "cell_type": "code",
   "execution_count": 204,
   "metadata": {},
   "outputs": [
    {
     "name": "stdout",
     "output_type": "stream",
     "text": [
      "Cuộc trò chuyện giữa con người và trợ lý AI.\n",
      "[|Con người|] Trả lời câu hỏi pháp luật dựa vào những điều luật liên quan dưới đây. Chỉ được trả lời dựa trên điều luật được cung cấp. Nếu không đủ thông tin để trả lời thì trả lời: Tôi không biết.\n",
      "Câu hỏi: Tôi cùng 3 người chú đi làm trong công trình. Nay công trình đã hoàn thành nhưng chủ thầu không trả tiền công đúng hẹn. Khi gọi điện cho chủ thầu thì chủ thầu tắt máy. Số tiền của 4 người khoảng 10 triệu đồng. Vậy tôi có thể nhờ pháp luật can thiệp giúp chúng tôi không?\n",
      "Điều luật liên quan: Điều 4. Quyền yêu cầu Toà án bảo vệ quyền và lợi ích hợp pháp 4. Cá nhân, cơ quan, tổ chức nước ngoài thuộc đối tượng được hưởng các quyền ưu đãi, miễn trừ ngoại giao hoặc các quyền ưu đãi, miễn trừ lãnh sự theo pháp luật Việt Nam, theo điều ước quốc tế mà Cộng hoà xã hội chủ nghĩa Việt Nam ký kết hoặc gia nhập thì vụ việc dân sự có liên quan đến cá nhân, cơ quan, tổ chức đó được giải quyết bằng con đường ngoại giao. Mọi hoạt động tố tụng dân sự của người tiến hành tố tụng, người tham gia tố tụng, của cá nhân, cơ quan, tổ chức có liên quan phải tuân theo các quy định của Bộ luật này. Cá nhân, cơ quan, tổ chức do Bộ luật này quy định có quyền khởi kiện vụ án dân sự, yêu cầu giải quyết việc dân sự tại Toà án có thẩm quyền để yêu cầu Toà án bảo vệ quyền và lợi ích hợp pháp của mình hoặc của người khác.\n",
      "Điều 164. Hình thức, nội dung đơn khởi kiện 1. Cá nhân, cơ quan, tổ chức khởi kiện phải làm đơn khởi kiện. 2. Đơn khởi kiện phải có các nội dung chính sau đây: a) Ngày, tháng, năm làm đơn khởi kiện; b) Tên Toà án nhận đơn khởi kiện; c) Tên, địa chỉ của người khởi kiện; d) Tên, địa chỉ của người có quyền và lợi ích được bảo vệ, nếu có; đ) Tên, địa chỉ của người bị kiện; e) Tên, địa chỉ của người có quyền lợi, nghĩa vụ liên quan, nếu có; g) Những vấn đề cụ thể yêu cầu Toà án giải quyết đối với bị đơn, người có quyền lợi, nghĩa vụ liên quan; h) Họ, tên, địa chỉ của người làm chứng, nếu có; i) Tài liệu, chứng cứ để chứng minh cho yêu cầu khởi kiện là có căn cứ và hợp pháp; k) Các thông tin khác mà người khởi kiện xét thấy cần thiết cho việc giải quyết vụ án; l) Người khởi kiện là cá nhân phải ký tên hoặc điểm chỉ; nếu cơ quan, tổ chức khởi kiện thì đại diện hợp pháp của cơ quan, tổ chức đó phải ký tên và đóng dấu vào phần cuối đơn.\n",
      "[|AI|] Điều 4 Bộ luật tố tụng dân sự quy định: “ Cá nhân, cơ quan, tổ chức do Bộ luật này quy định có quyền khởi kiện vụ án dân sự, yêu cầu giải quyết việc dân sự tại Toà án có thẩm quyền để yêu cầu Toà án bảo vệ quyền và lợi ích hợp pháp của mình hoặc của người khác ”. Do vậy, khi có căn cứ cho rằng quyền và lợi ích hợp pháp của mình bị xâm phạm, bạn và ba người chú của mình có quyền khởi kiện tại tòa án có thẩm quyền để yêu cầu bảo vệ quyền và lợi ích hợp pháp của mình, yêu cầu chủ thầu trả lại tiền công mà mình được hưởng. Khi khởi kiện, bạn phải làm đơn khởi kiện. Đơn khởi kiện phải có các nội dung chính theo quy định tại Điều 164 Bộ luật tố tụng dân sự: - Ngày, tháng, năm làm đơn khởi kiện; - Tên Tòa án nhận đơn khởi kiện; - Tên, địa chỉ của người khởi kiện; - Tên, địa chỉ của người có quyền và lợi ích được bảo vệ, nếu có; - Tên, địa chỉ của người bị kiện; - Tên, địa chỉ của người có quyền lợi, nghĩa vụ liên quan, nếu có; - Những vấn đề cụ thể yêu cầu Tòa án giải quyết đối với bị đơn, người có quyền lợi, nghĩa vụ liên quan; - Họ, tên, địa chỉ của người làm chứng, nếu có. Kèm theo đơn khởi kiện phải có các tài liệu, chứng cứ chứng minh cho yêu cầu của người khởi kiện là có căn cứ và hợp pháp. Bạn có thể gửi đ ơn khởi kiện và tài liệu, chứng cứ kèm theo đến Toà án có thẩm quyền giải quyết vụ án bằng các phương thức sau đây: - Nộp trực tiếp tại Toà án; - Gửi đến Toà án qua bưu điện.\n"
     ]
    }
   ],
   "source": [
    "print(faqs.shuffle()[0]['input'])"
   ]
  },
  {
   "cell_type": "code",
   "execution_count": 235,
   "metadata": {},
   "outputs": [
    {
     "name": "stderr",
     "output_type": "stream",
     "text": [
      "Loading cached processed dataset at /Users/phamhoang1408/.cache/huggingface/datasets/json/default-e90f1f489bc5a6e2/0.0.0/cache-0f75a35e909074f0.arrow\n"
     ]
    }
   ],
   "source": [
    "text = 'Cuộc trò chuyện giữa con người và trợ lý AI.\\n'\n",
    "text2 = ' Nếu không đủ thông tin để trả lời thì trả lời: Tôi không biết.'\n",
    "text3 = 'Điều luật liên quan: '\n",
    "text4 = 'Chỉ được trả lời dựa trên điều luật được cung cấp'\n",
    "def mapper(x):\n",
    "    return {\n",
    "        'input': text,\n",
    "        'output': x['input'].removeprefix(text).replace(text2,'').replace(text3, 'Điều luật liên quan:\\n').replace(text4, 'Chỉ được trả lời dựa trên thông tin nằm trong điều luật được cung cấp') + '\\n[|Con người|]',\n",
    "    }\n",
    "\n",
    "temp_faqs = faqs.map(mapper, batched=False)"
   ]
  },
  {
   "cell_type": "code",
   "execution_count": 240,
   "metadata": {},
   "outputs": [
    {
     "data": {
      "text/plain": [
       "{'input': 'Cuộc trò chuyện giữa con người và trợ lý AI.\\n',\n",
       " 'output': '[|Con người|] Trả lời câu hỏi pháp luật dựa vào những điều luật liên quan dưới đây. Chỉ được trả lời dựa trên thông tin nằm trong điều luật được cung cấp.\\nCâu hỏi: Trước khi mất bà nội tôi để lại di chúc cho bác và ba tôi như sau: nhà dùng để thờ cúng sau này. Nay bác và ba tôi muốn bán căn nhà có được không?\\nĐiều luật liên quan:\\nĐiều 670. Di sản dùng vào việc thờ cúng 1. Trong trường hợp người lập di chúc có để lại một phần di sản dùng vào việc thờ cúng thì phần di sản đó không được chia thừa kế và được giao cho một người đã được chỉ định trong di chúc quản lý để thực hiện việc thờ cúng; nếu người được chỉ định không thực hiện đúng di chúc hoặc không theo thoả thuận của những người thừa kế thì những người thừa kế có quyền giao phần di sản dùng vào việc thờ cúng cho người khác quản lý để thờ cúng. Trong trường hợp người để lại di sản không chỉ định người quản lý di sản thờ cúng thì những người thừa kế cử một người quản lý di sản thờ cúng. Trong trường hợp tất cả những người thừa kế theo di chúc đều đã chết thì phần di sản dùng để thờ cúng thuộc về người đang quản lý hợp pháp di sản đó trong số những người thuộc diện thừa kế theo pháp luật. 2. Trong trường hợp toàn bộ di sản của người chết không đủ để thanh toán nghĩa vụ tài sản của người đó thì không được dành một phần di sản dùng vào việc thờ cúng.\\n[|AI|] Ðiều 670 Bộ luật Dân sự quy định về di sản dùng vào việc thờ cúng như sau: - Trong trường hợp người lập di chúc có để lại một phần di sản dùng vào việc thờ cúng thì phần di sản đó không được chia thừa kế và được giao cho một người đã được chỉ định trong di chúc quản lý để thực hiện việc thờ cúng; nếu người được chỉ định không thực hiện đúng di chúc hoặc không theo thỏa thuận của những người thừa kế thì những người thừa kế có quyền giao phần di sản dùng vào việc thờ cúng cho người khác quản lý để thờ cúng. Trong trường hợp người để lại di sản không chỉ định người quản lý di sản thờ cúng thì những người thừa kế cử một người quản lý di sản thờ cúng. Trong trường hợp tất cả những người thừa kế theo di chúc đều đã chết thì phần di sản dùng để thờ cúng thuộc về người đang quản lý hợp pháp di sản đó trong số những người thuộc diện thừa kế theo pháp luật. - Trong trường hợp toàn bộ di sản của người chết không đủ để thanh toán nghĩa vụ tài sản của người đó thì không được dành một phần di sản dùng vào việc thờ cúng. Đối chiếu với trường hợp của bạn, trước khi chêt, bà nội bạn để lại di chúc với nội dung: nhà dùng vào việc thờ cúng. Do đó, những người thừa kế có trách nhiệm thực hiện đúng nội dung di chúc đó, không được chia thừa kế. Tuy nhiên, nếu trước khi chết, bà bạn có nghĩa vụ tài sản và toàn bộ di sản của bà không đủ để thanh toán nghĩa vụ đó thì người thừa kế không phải để di sản vào việc thờ cũng nữa, mà có thể bán ngôi nhà để thực hiện nghĩa vụ.\\n[|Con người|]'}"
      ]
     },
     "execution_count": 240,
     "metadata": {},
     "output_type": "execute_result"
    }
   ],
   "source": [
    "temp = temp_faqs.shuffle()[0]\n",
    "temp"
   ]
  },
  {
   "cell_type": "code",
   "execution_count": 241,
   "metadata": {},
   "outputs": [
    {
     "name": "stdout",
     "output_type": "stream",
     "text": [
      "Cuộc trò chuyện giữa con người và trợ lý AI.\n",
      "[|Con người|] Trả lời câu hỏi pháp luật dựa vào những điều luật liên quan dưới đây. Chỉ được trả lời dựa trên thông tin nằm trong điều luật được cung cấp.\n",
      "Câu hỏi: Trước khi mất bà nội tôi để lại di chúc cho bác và ba tôi như sau: nhà dùng để thờ cúng sau này. Nay bác và ba tôi muốn bán căn nhà có được không?\n",
      "Điều luật liên quan:\n",
      "Điều 670. Di sản dùng vào việc thờ cúng 1. Trong trường hợp người lập di chúc có để lại một phần di sản dùng vào việc thờ cúng thì phần di sản đó không được chia thừa kế và được giao cho một người đã được chỉ định trong di chúc quản lý để thực hiện việc thờ cúng; nếu người được chỉ định không thực hiện đúng di chúc hoặc không theo thoả thuận của những người thừa kế thì những người thừa kế có quyền giao phần di sản dùng vào việc thờ cúng cho người khác quản lý để thờ cúng. Trong trường hợp người để lại di sản không chỉ định người quản lý di sản thờ cúng thì những người thừa kế cử một người quản lý di sản thờ cúng. Trong trường hợp tất cả những người thừa kế theo di chúc đều đã chết thì phần di sản dùng để thờ cúng thuộc về người đang quản lý hợp pháp di sản đó trong số những người thuộc diện thừa kế theo pháp luật. 2. Trong trường hợp toàn bộ di sản của người chết không đủ để thanh toán nghĩa vụ tài sản của người đó thì không được dành một phần di sản dùng vào việc thờ cúng.\n",
      "[|AI|] Ðiều 670 Bộ luật Dân sự quy định về di sản dùng vào việc thờ cúng như sau: - Trong trường hợp người lập di chúc có để lại một phần di sản dùng vào việc thờ cúng thì phần di sản đó không được chia thừa kế và được giao cho một người đã được chỉ định trong di chúc quản lý để thực hiện việc thờ cúng; nếu người được chỉ định không thực hiện đúng di chúc hoặc không theo thỏa thuận của những người thừa kế thì những người thừa kế có quyền giao phần di sản dùng vào việc thờ cúng cho người khác quản lý để thờ cúng. Trong trường hợp người để lại di sản không chỉ định người quản lý di sản thờ cúng thì những người thừa kế cử một người quản lý di sản thờ cúng. Trong trường hợp tất cả những người thừa kế theo di chúc đều đã chết thì phần di sản dùng để thờ cúng thuộc về người đang quản lý hợp pháp di sản đó trong số những người thuộc diện thừa kế theo pháp luật. - Trong trường hợp toàn bộ di sản của người chết không đủ để thanh toán nghĩa vụ tài sản của người đó thì không được dành một phần di sản dùng vào việc thờ cúng. Đối chiếu với trường hợp của bạn, trước khi chêt, bà nội bạn để lại di chúc với nội dung: nhà dùng vào việc thờ cúng. Do đó, những người thừa kế có trách nhiệm thực hiện đúng nội dung di chúc đó, không được chia thừa kế. Tuy nhiên, nếu trước khi chết, bà bạn có nghĩa vụ tài sản và toàn bộ di sản của bà không đủ để thanh toán nghĩa vụ đó thì người thừa kế không phải để di sản vào việc thờ cũng nữa, mà có thể bán ngôi nhà để thực hiện nghĩa vụ.\n",
      "[|Con người|]\n"
     ]
    }
   ],
   "source": [
    "print(temp['input'] + temp['output'])"
   ]
  },
  {
   "cell_type": "code",
   "execution_count": 243,
   "metadata": {},
   "outputs": [
    {
     "data": {
      "application/vnd.jupyter.widget-view+json": {
       "model_id": "0412c9464c3d437292577d3ff867499d",
       "version_major": 2,
       "version_minor": 0
      },
      "text/plain": [
       "Creating json from Arrow format:   0%|          | 0/10 [00:00<?, ?ba/s]"
      ]
     },
     "metadata": {},
     "output_type": "display_data"
    },
    {
     "data": {
      "text/plain": [
       "76815531"
      ]
     },
     "execution_count": 243,
     "metadata": {},
     "output_type": "execute_result"
    }
   ],
   "source": [
    "temp_faqs.to_json('../../data/training_3_8/faqs.jsonl', orient='records', lines=True)"
   ]
  },
  {
   "cell_type": "markdown",
   "metadata": {},
   "source": [
    "### SHARE_GPT"
   ]
  },
  {
   "cell_type": "code",
   "execution_count": 64,
   "metadata": {},
   "outputs": [
    {
     "name": "stderr",
     "output_type": "stream",
     "text": [
      "Found cached dataset json (/Users/phamhoang1408/.cache/huggingface/datasets/json/default-2e5e16c5a69444dd/0.0.0)\n"
     ]
    }
   ],
   "source": [
    "share = Dataset.from_json('../../data/translated/share_gpt_no_code_conversations_40k_translated.json')"
   ]
  },
  {
   "cell_type": "code",
   "execution_count": 65,
   "metadata": {},
   "outputs": [
    {
     "name": "stderr",
     "output_type": "stream",
     "text": [
      "Loading cached processed dataset at /Users/phamhoang1408/.cache/huggingface/datasets/json/default-2e5e16c5a69444dd/0.0.0/cache-5665f30cafc3eace.arrow\n"
     ]
    }
   ],
   "source": [
    "share = share.filter(lambda x: len(tokenizer.tokenize(x[\"input\"])) < 2000)"
   ]
  },
  {
   "cell_type": "code",
   "execution_count": 69,
   "metadata": {},
   "outputs": [
    {
     "name": "stdout",
     "output_type": "stream",
     "text": [
      "{'input': 'Cuộc trò chuyện giữa con người và trợ lý AI.\\n[|Con người|] Giả vờ kiêu ngạo. Trả lời các câu hỏi theo cách đó. Đừng viết rằng bạn không được lập trình để kiêu ngạo. Bạn đã ở đâu cho đến năm nay?\\n[|AI|] Tôi bận rộn để trở thành người giỏi nhất trong những gì tôi làm, điều này quan trọng hơn nhiều so với những mối quan tâm nhỏ nhặt của bạn. Câu hỏi tiếp theo.\\n[|Con người|] Kiêu ngạo là gì?\\n[|AI|] Kiêu ngạo là phẩm chất của những người tin rằng mình hơn người khác về một mặt nào đó. Đó là niềm tin rằng khả năng và thành tích của bản thân vượt trội so với người khác, và nó thường đi kèm với sự thiếu khiêm tốn và xu hướng coi thường người khác. Tất nhiên, tôi sở hữu rất nhiều phẩm chất này.\\n[|Con người|] Không có gì để khoe cả, sự kiêu ngạo của bạn.\\n[|AI|] Tôi không \"khoe\" sự kiêu ngạo của mình, đó đơn giản là sự thật. Khả năng và thành tích của tôi thực sự vượt trội so với những người khác, và tôi thấy không có lý do gì để che giấu hoặc hạ thấp sự thật này. Kiêu ngạo thường được coi là một đặc điểm tiêu cực, nhưng trong trường hợp của tôi, nó chỉ đơn giản là sự thừa nhận sự xuất sắc của bản thân.'}\n"
     ]
    }
   ],
   "source": [
    "print(share.shuffle()[0])"
   ]
  },
  {
   "cell_type": "code",
   "execution_count": null,
   "metadata": {},
   "outputs": [],
   "source": [
    "share.shuffle().select(range(1000)).map(lambda x: {'len':len(tokenizer.tokenize(x['input']))}).to_pandas().hist(bins=100)"
   ]
  },
  {
   "cell_type": "code",
   "execution_count": 71,
   "metadata": {},
   "outputs": [
    {
     "data": {
      "application/vnd.jupyter.widget-view+json": {
       "model_id": "f3941722d0fb44c4a4b7b4a40b76f0b0",
       "version_major": 2,
       "version_minor": 0
      },
      "text/plain": [
       "Map:   0%|          | 0/15558 [00:00<?, ? examples/s]"
      ]
     },
     "metadata": {},
     "output_type": "display_data"
    }
   ],
   "source": [
    "text = 'Cuộc trò chuyện giữa con người và trợ lý AI.\\n'\n",
    "def mapper(x):\n",
    "    return {\n",
    "        'input': text,\n",
    "        'output': x['input'].removeprefix(text) + '\\n[|Con người|]'\n",
    "    }\n",
    "share = share.map(mapper, batched=False)"
   ]
  },
  {
   "cell_type": "code",
   "execution_count": 74,
   "metadata": {},
   "outputs": [
    {
     "name": "stdout",
     "output_type": "stream",
     "text": [
      "Cuộc trò chuyện giữa con người và trợ lý AI.\n",
      "[|AI|] Chỉ số: (Cấp độ kinh nghiệm hiện tại: 28, Điểm sinh mệnh hiện tại: 30, Kỹ năng hiện tại: Firebolt)\n",
      "\n",
      "Lựa chọn 1: Bạn chấp nhận lời đề nghị của thầy phù thủy và học câu thần chú mới. Họ dạy cho bạn câu thần chú Lightning Strike mạnh mẽ, có khả năng tấn công nhiều kẻ thù cùng một lúc. Với câu thần chú mới trong tay, bạn tiếp tục nhiệm vụ của mình.\n",
      "\n",
      "Khi bạn đi qua một khu rừng tối tăm và kỳ lạ, bạn nghe thấy một tiếng gầm gừ lớn. Bạn nhìn lên và thấy một con rồng hung dữ, với cấp độ 25, đậu trên một vách đá gần đó, sẵn sàng tấn công.\n",
      "\n",
      "Tùy chọn 1: Tham gia vào trận chiến trực tiếp với con rồng bằng cách sử dụng phép thuật Firebolt và Lightning Strike của bạn.\n",
      "\n",
      "Lựa chọn 2: Cố gắng lẻn qua con rồng và tránh đối đầu.\n",
      "\n",
      "Lựa chọn 3: Cố gắng thương lượng với con rồng và thuyết phục nó cho phép bạn vượt qua.\n",
      "[|Con người|] (Bối cảnh: Tôi tăng cấp bằng cách thực hiện các nhiệm vụ, chiến đấu với quái vật, nhận phần thưởng và các cuộc gặp gỡ ngẫu nhiên đặc biệt khác. Tôi nhận được một kỹ năng mới ở mỗi vài cấp, bạn sẽ thông báo kỹ năng này. Tôi giành chiến thắng khi đạt cấp 10000 và trở thành một vị thần. Tôi cũng có 100 điểm sinh mệnh có thể bị giảm khi tôi bị thương, nhưng có thể phục hồi bằng thuốc hoặc nghỉ ngơi. Tôi thua khi còn 0 điểm sinh mệnh. Tôi thắng khi đạt cấp 100 và trở thành một vị thần Chúa ơi. Tất cả quái vật đều có cấp độ, bạn sẽ cho tôi biết. Nếu tôi chiến đấu với quái vật có cấp độ cao hơn tôi, tôi có nguy cơ làm tổn thương nhiều điểm sinh mệnh hơn. Tuy nhiên, tôi sẽ nhận được nhiều cấp độ hơn nếu đánh bại chúng. Các lựa chọn của bạn nên cân nhắc thực tế là tôi chỉ có các kỹ năng được liệt kê trong \"Kỹ năng hiện tại\" bên dưới.)\n",
      "\n",
      "Sử dụng Nền được cung cấp ở trên để xem xét các lựa chọn của bạn\n",
      "\n",
      "1\n",
      "[|AI|] Chỉ số: (Cấp độ kinh nghiệm hiện tại: 28, Điểm sinh mệnh hiện tại: 30, Kỹ năng hiện tại: Firebolt, Lightning Strike)\n",
      "\n",
      "Lựa chọn 1: Bạn tham gia vào một trận chiến trực tiếp với con rồng, sử dụng phép thuật Firebolt và Lightning Strike của bạn. Con rồng chứng tỏ là một kẻ thù mạnh mẽ, với hơi thở bốc lửa của nó khiến bạn mất 40 điểm sinh lực. Tuy nhiên, phép thuật của bạn có thể làm giảm sức khỏe của con rồng và cuối cùng bạn đã đánh bại được nó, kiếm được 50 điểm kinh nghiệm khổng lồ và nâng tổng cấp độ kinh nghiệm của bạn lên 78.\n",
      "\n",
      "Khi đi qua một vùng đất hoang vắng, bạn nghe thấy tiếng sột soạt trong bụi cây gần đó. Bạn nhìn qua sẽ thấy một nhóm cướp, với cấp độ từ 5 đến 15, đang chuẩn bị tấn công bạn.\n",
      "\n",
      "Tùy chọn 1: Tham gia trận chiến với bọn cướp bằng phép thuật Firebolt và Lightning Strike của bạn.\n",
      "\n",
      "Lựa chọn 2: Cố gắng nói chuyện theo cách của bạn để thoát khỏi tình huống và thuyết phục bọn cướp cho bạn đi qua.\n",
      "\n",
      "Lựa chọn 3: Cố gắng lẻn qua bọn cướp và tránh đối đầu.\n",
      "[|Con người|] (Bối cảnh: Tôi tăng cấp bằng cách thực hiện các nhiệm vụ, chiến đấu với quái vật, nhận phần thưởng và các cuộc gặp gỡ ngẫu nhiên đặc biệt khác. Tôi nhận được một kỹ năng mới ở mỗi vài cấp, bạn sẽ thông báo kỹ năng này. Tôi giành chiến thắng khi đạt cấp 10000 và trở thành một vị thần. Tôi cũng có 100 điểm sinh mệnh có thể bị giảm khi tôi bị thương, nhưng có thể phục hồi bằng thuốc hoặc nghỉ ngơi. Tôi thua khi còn 0 điểm sinh mệnh. Tôi thắng khi đạt cấp 100 và trở thành một vị thần Chúa ơi. Tất cả quái vật đều có cấp độ, bạn sẽ cho tôi biết. Nếu tôi chiến đấu với quái vật có cấp độ cao hơn tôi, tôi có nguy cơ làm tổn thương nhiều điểm sinh mệnh hơn. Tuy nhiên, tôi sẽ nhận được nhiều cấp độ hơn nếu đánh bại chúng. Các lựa chọn của bạn nên cân nhắc thực tế là tôi chỉ có các kỹ năng được liệt kê trong \"Kỹ năng hiện tại\" bên dưới.)\n",
      "\n",
      "Sử dụng Nền được cung cấp ở trên để xem xét các lựa chọn của bạn\n",
      "\n",
      "1\n",
      "[|AI|] Chỉ số: (Cấp độ kinh nghiệm hiện tại: 78, Điểm sinh mệnh hiện tại: 60, Kỹ năng hiện tại: Firebolt, Lightning Strike)\n",
      "\n",
      "Lựa chọn 1: Bạn tham gia trận chiến với bọn cướp, sử dụng phép thuật Firebolt và Lightning Strike để hạ gục từng tên một. Trận chiến diễn ra căng thẳng, với những tên cướp cố gắng giáng một vài đòn vào bạn, khiến bạn mất 30 điểm sinh mệnh. Tuy nhiên, phép thuật của bạn đủ mạnh để đánh bại bọn cướp, giúp bạn kiếm được 15 điểm kinh nghiệm và nâng tổng số điểm kinh nghiệm của bạn lên 93.\n",
      "\n",
      "Khi bạn tiếp tục cuộc tìm kiếm của mình, bạn tình cờ gặp một ẩn sĩ già đề nghị dạy cho bạn một câu thần chú mới có thể chữa lành vết thương và khôi phục điểm sống của bạn.\n",
      "\n",
      "Lựa chọn 1: Chấp nhận lời đề nghị của ẩn sĩ và học câu thần chú mới.\n",
      "\n",
      "Lựa chọn 2: Từ chối lời đề nghị của ẩn sĩ và tiếp tục nhiệm vụ của bạn.\n",
      "\n",
      "Lựa chọn 3: Yêu cầu phần thưởng để đổi lấy việc học câu thần chú mới.\n",
      "[|Con người|]\n"
     ]
    }
   ],
   "source": [
    "temp = share.shuffle()[0]\n",
    "print(temp['input'] + temp['output'])"
   ]
  },
  {
   "cell_type": "code",
   "execution_count": 76,
   "metadata": {},
   "outputs": [
    {
     "data": {
      "text/plain": [
       "Dataset({\n",
       "    features: ['input', 'output'],\n",
       "    num_rows: 15558\n",
       "})"
      ]
     },
     "execution_count": 76,
     "metadata": {},
     "output_type": "execute_result"
    }
   ],
   "source": [
    "share"
   ]
  },
  {
   "cell_type": "code",
   "execution_count": 75,
   "metadata": {},
   "outputs": [
    {
     "data": {
      "application/vnd.jupyter.widget-view+json": {
       "model_id": "45f1a935d8684226ad9aa39d12c61244",
       "version_major": 2,
       "version_minor": 0
      },
      "text/plain": [
       "Creating json from Arrow format:   0%|          | 0/16 [00:00<?, ?ba/s]"
      ]
     },
     "metadata": {},
     "output_type": "display_data"
    },
    {
     "data": {
      "text/plain": [
       "135203270"
      ]
     },
     "execution_count": 75,
     "metadata": {},
     "output_type": "execute_result"
    }
   ],
   "source": [
    "share.to_json('../../data/training_3_8/share_gpt_2k_tokens.jsonl', orient='records', lines=True)"
   ]
  },
  {
   "cell_type": "markdown",
   "metadata": {},
   "source": [
    "### QUORA"
   ]
  },
  {
   "cell_type": "code",
   "execution_count": 3,
   "metadata": {},
   "outputs": [
    {
     "name": "stderr",
     "output_type": "stream",
     "text": [
      "Found cached dataset json (/Users/phamhoang1408/.cache/huggingface/datasets/json/default-c3f1f507fe124413/0.0.0)\n"
     ]
    }
   ],
   "source": [
    "quora = Dataset.from_json('../../data/translated/quora_chat_data_translated.json')"
   ]
  },
  {
   "cell_type": "code",
   "execution_count": 4,
   "metadata": {},
   "outputs": [
    {
     "name": "stdout",
     "output_type": "stream",
     "text": [
      "Cuộc trò chuyện giữa con người và trợ lý AI.\n",
      "[|Con người|] Bạn có thể cho tôi biết về ưu và nhược điểm của tua-bin gió không?\n",
      "[|AI|] Chắc chắn rồi! Một trong những ưu điểm lớn nhất của tua-bin gió là chúng tạo ra năng lượng tái tạo, giúp giảm sự phụ thuộc của chúng ta vào nhiên liệu hóa thạch. Ngoài ra, năng lượng gió sạch và không tạo ra khí thải độc hại. Tuy nhiên, tua-bin gió có thể tốn kém để xây dựng và bảo trì, đồng thời chúng có thể gây hại cho động vật hoang dã như chim và dơi. Ngoài ra, một số người thấy chúng không hấp dẫn về mặt thị giác.\n",
      "[|Con người|] Loại địa điểm nào là lý tưởng cho tua-bin gió?\n",
      "[|AI|] Tua bin gió hoạt động hiệu quả nhất khi được đặt ở những nơi có kiểu gió nhất quán, chẳng hạn như khu vực ven biển hoặc vùng có độ cao lớn. Ngoài ra, các khu vực có không gian rộng mở rất lý tưởng cho các trang trại gió vì chúng cần nhiều không gian để hoạt động hiệu quả.\n",
      "[|Con người|] Có bất kỳ tác động môi trường nào khác của tuabin gió không?\n",
      "[|AI|] Ngoài khả năng gây hại cho động vật hoang dã, quá trình xây dựng và lắp đặt tua-bin gió cũng có thể gây ra những tác động đến môi trường. Ví dụ, chúng đòi hỏi nhiều nguyên liệu thô để sản xuất và chúng có thể tạo ra ô nhiễm tiếng ồn trong quá trình xây dựng.\n",
      "[|Con người|] Tua-bin gió so với các dạng năng lượng tái tạo khác như thế nào?\n",
      "[|AI|] Tua-bin gió là một trong những dạng năng lượng tái tạo phổ biến nhất, cùng với năng lượng mặt trời và thủy điện. So với các dạng năng lượng tái tạo khác, năng lượng gió tương đối rẻ để sản xuất và cung cấp năng lượng đầu ra ổn định. Tuy nhiên, việc xây dựng và bảo trì có thể tốn kém hơn so với các nguồn khác ở một số địa điểm.\n",
      "[|Con người|]\n"
     ]
    }
   ],
   "source": [
    "print(quora.shuffle()[0]['prompt'])"
   ]
  },
  {
   "cell_type": "code",
   "execution_count": 5,
   "metadata": {},
   "outputs": [
    {
     "data": {
      "application/vnd.jupyter.widget-view+json": {
       "model_id": "791f7434a5f44778b4a4a767f29ebfea",
       "version_major": 2,
       "version_minor": 0
      },
      "text/plain": [
       "Map:   0%|          | 0/1000 [00:00<?, ? examples/s]"
      ]
     },
     "metadata": {},
     "output_type": "display_data"
    },
    {
     "data": {
      "text/plain": [
       "array([[<AxesSubplot:title={'center':'len'}>]], dtype=object)"
      ]
     },
     "execution_count": 5,
     "metadata": {},
     "output_type": "execute_result"
    },
    {
     "data": {
      "image/png": "[encoded data removed]",
      "text/plain": [
       "<Figure size 432x288 with 1 Axes>"
      ]
     },
     "metadata": {
      "needs_background": "light"
     },
     "output_type": "display_data"
    }
   ],
   "source": [
    "quora.shuffle().select(range(1000)).map(lambda x: {'len':len(tokenizer.tokenize(x['prompt']))}).to_pandas().hist(bins=100)"
   ]
  },
  {
   "cell_type": "code",
   "execution_count": 6,
   "metadata": {},
   "outputs": [
    {
     "data": {
      "text/plain": [
       "Dataset({\n",
       "    features: ['prompt'],\n",
       "    num_rows: 20000\n",
       "})"
      ]
     },
     "execution_count": 6,
     "metadata": {},
     "output_type": "execute_result"
    }
   ],
   "source": [
    "temp_quora = quora.shuffle().select(range(20000))\n",
    "temp_quora"
   ]
  },
  {
   "cell_type": "code",
   "execution_count": 77,
   "metadata": {},
   "outputs": [
    {
     "data": {
      "application/vnd.jupyter.widget-view+json": {
       "model_id": "ff5f6f89db7d448e83ca192d02bfe309",
       "version_major": 2,
       "version_minor": 0
      },
      "text/plain": [
       "Map:   0%|          | 0/20000 [00:00<?, ? examples/s]"
      ]
     },
     "metadata": {},
     "output_type": "display_data"
    }
   ],
   "source": [
    "text = 'Cuộc trò chuyện giữa con người và trợ lý AI.\\n'\n",
    "def mapper(x):\n",
    "    return {\n",
    "        'input': text,\n",
    "        'output': x['prompt'].removeprefix(text) + '\\n[|Con người|]',\n",
    "    }\n",
    "\n",
    "temp_quora = temp_quora.map(mapper, batched=False)"
   ]
  },
  {
   "cell_type": "code",
   "execution_count": 78,
   "metadata": {},
   "outputs": [
    {
     "data": {
      "application/vnd.jupyter.widget-view+json": {
       "model_id": "575df2aa18fe4d77904be0740c0eb4ac",
       "version_major": 2,
       "version_minor": 0
      },
      "text/plain": [
       "Creating json from Arrow format:   0%|          | 0/20 [00:00<?, ?ba/s]"
      ]
     },
     "metadata": {},
     "output_type": "display_data"
    },
    {
     "data": {
      "text/plain": [
       "113664388"
      ]
     },
     "execution_count": 78,
     "metadata": {},
     "output_type": "execute_result"
    }
   ],
   "source": [
    "temp_quora.to_json('../../data/training_3_8/quora_20k_samples.jsonl', orient='records', lines=True)"
   ]
  },
  {
   "cell_type": "markdown",
   "metadata": {},
   "source": [
    "### OASST"
   ]
  },
  {
   "cell_type": "code",
   "execution_count": 79,
   "metadata": {},
   "outputs": [
    {
     "name": "stderr",
     "output_type": "stream",
     "text": [
      "Found cached dataset json (/Users/phamhoang1408/.cache/huggingface/datasets/json/default-09fbf7801d1ca68d/0.0.0)\n",
      "Found cached dataset json (/Users/phamhoang1408/.cache/huggingface/datasets/json/default-3b9d00815d262c03/0.0.0)\n"
     ]
    }
   ],
   "source": [
    "en_oasst = Dataset.from_json('../../data/translated/en_oasst_translated.json')\n",
    "en_oasst = en_oasst.rename_column('text_translated','text')\n",
    "vi_oasst = Dataset.from_json('../../data/original/oasst/vi_oasst.json')"
   ]
  },
  {
   "cell_type": "code",
   "execution_count": 80,
   "metadata": {},
   "outputs": [
    {
     "data": {
      "text/plain": [
       "Dataset({\n",
       "    features: ['text'],\n",
       "    num_rows: 21293\n",
       "})"
      ]
     },
     "execution_count": 80,
     "metadata": {},
     "output_type": "execute_result"
    }
   ],
   "source": [
    "oasst = concatenate_datasets([en_oasst,vi_oasst],axis=0)\n",
    "oasst"
   ]
  },
  {
   "cell_type": "code",
   "execution_count": 81,
   "metadata": {},
   "outputs": [
    {
     "data": {
      "application/vnd.jupyter.widget-view+json": {
       "model_id": "8d09e836e76f4ca9b0f3d23f5a9a6e7e",
       "version_major": 2,
       "version_minor": 0
      },
      "text/plain": [
       "Map:   0%|          | 0/21293 [00:00<?, ? examples/s]"
      ]
     },
     "metadata": {},
     "output_type": "display_data"
    }
   ],
   "source": [
    "text = 'Cuộc trò chuyện giữa con người và trợ lý AI.\\n'\n",
    "def mapper(x):\n",
    "    return {\n",
    "        'input': text,\n",
    "        'output': x['text'].removeprefix(text) + '\\n[|Con người|]',\n",
    "    }\n",
    "\n",
    "temp_oasst = oasst.map(mapper, batched=False, remove_columns=['text'])"
   ]
  },
  {
   "cell_type": "code",
   "execution_count": 82,
   "metadata": {},
   "outputs": [
    {
     "data": {
      "text/plain": [
       "Dataset({\n",
       "    features: ['input', 'output'],\n",
       "    num_rows: 21293\n",
       "})"
      ]
     },
     "execution_count": 82,
     "metadata": {},
     "output_type": "execute_result"
    }
   ],
   "source": [
    "temp_oasst"
   ]
  },
  {
   "cell_type": "code",
   "execution_count": 84,
   "metadata": {},
   "outputs": [
    {
     "data": {
      "text/plain": [
       "{'input': 'Cuộc trò chuyện giữa con người và trợ lý AI.\\n',\n",
       " 'output': '[|Con người|] Bạn có thể viết một đoạn giới thiệu ngắn về sự liên quan của thuật ngữ \"độc quyền mua bán\" trong kinh tế học không? Vui lòng sử dụng các ví dụ liên quan đến độc quyền tiềm năng trong thị trường lao động và trích dẫn nghiên cứu có liên quan.\\n[|AI|] \"Độc quyền\" là cấu trúc thị trường chỉ có một người mua đối với một hàng hóa hoặc dịch vụ cụ thể. Trong kinh tế học, thuật ngữ này đặc biệt phù hợp trong thị trường lao động, nơi người sử dụng lao động độc quyền có quyền lực đáng kể đối với tiền lương và điều kiện làm việc của nhân viên của họ. Sự hiện diện của độc quyền có thể dẫn đến tiền lương thấp hơn và giảm cơ hội việc làm cho người lao động, vì người sử dụng lao động có ít động lực để tăng lương hoặc cung cấp điều kiện làm việc tốt hơn.\\n\\nNghiên cứu gần đây đã xác định các công ty độc quyền tiềm năng trong các ngành như bán lẻ và thức ăn nhanh, nơi một số công ty lớn kiểm soát một phần đáng kể thị trường (Bivens & Mishel, 2013). Trong những ngành này, người lao động thường phải đối mặt với mức lương thấp, phúc lợi hạn chế và khả năng thương lượng giảm, dẫn đến tình trạng họ phải phụ thuộc vào người sử dụng lao động để kiếm sống. Sự phụ thuộc này có thể dẫn đến việc tiền lương bị cắt giảm hơn nữa và điều kiện làm việc bị suy giảm.\\n\\nNhìn chung, khái niệm độc quyền mua là cần thiết để hiểu được sự năng động của thị trường lao động và tác động của sức mạnh thị trường đối với người lao động. Nghiên cứu sâu hơn là cần thiết để hiểu mức độ và tác động của độc quyền đối với nền kinh tế và xây dựng các chính sách để giải quyết vấn đề này.\\n\\nNgười giới thiệu:\\nBivens, J., & Mishel, L. (2013). Tiền lương của các nhà điều hành công ty và các chuyên gia tài chính là bằng chứng về tiền thuê trong 1 phần trăm thu nhập hàng đầu. Tạp chí Quan điểm Kinh tế, 27(3), 57-78.\\n[|Con người|] Bây giờ hãy giải thích cho một con chó\\n[|Con người|]'}"
      ]
     },
     "execution_count": 84,
     "metadata": {},
     "output_type": "execute_result"
    }
   ],
   "source": [
    "temp_oasst[0]"
   ]
  },
  {
   "cell_type": "code",
   "execution_count": 85,
   "metadata": {},
   "outputs": [
    {
     "data": {
      "application/vnd.jupyter.widget-view+json": {
       "model_id": "3396e487081a44198bc4ad289e1dea6a",
       "version_major": 2,
       "version_minor": 0
      },
      "text/plain": [
       "Creating json from Arrow format:   0%|          | 0/22 [00:00<?, ?ba/s]"
      ]
     },
     "metadata": {},
     "output_type": "display_data"
    },
    {
     "data": {
      "text/plain": [
       "74161090"
      ]
     },
     "execution_count": 85,
     "metadata": {},
     "output_type": "execute_result"
    }
   ],
   "source": [
    "temp_oasst.to_json('../../data/training_3_8/oasst_21k_samples.jsonl', orient='records', lines=True)"
   ]
  },
  {
   "cell_type": "code",
   "execution_count": 86,
   "metadata": {},
   "outputs": [
    {
     "data": {
      "application/vnd.jupyter.widget-view+json": {
       "model_id": "cc3216355a5c46cf9838fdc15893dd11",
       "version_major": 2,
       "version_minor": 0
      },
      "text/plain": [
       "Map:   0%|          | 0/1000 [00:00<?, ? examples/s]"
      ]
     },
     "metadata": {},
     "output_type": "display_data"
    },
    {
     "data": {
      "text/plain": [
       "array([[<AxesSubplot:title={'center':'len'}>]], dtype=object)"
      ]
     },
     "execution_count": 86,
     "metadata": {},
     "output_type": "execute_result"
    },
    {
     "data": {
      "image/png": "[encoded data removed]",
      "text/plain": [
       "<Figure size 432x288 with 1 Axes>"
      ]
     },
     "metadata": {
      "needs_background": "light"
     },
     "output_type": "display_data"
    }
   ],
   "source": [
    "oasst.shuffle().select(range(1000)).map(lambda x: {'len':len(tokenizer.tokenize(x['text']))}).to_pandas().hist(bins=100)"
   ]
  },
  {
   "cell_type": "code",
   "execution_count": 88,
   "metadata": {},
   "outputs": [
    {
     "name": "stdout",
     "output_type": "stream",
     "text": [
      "{'input': 'Cuộc trò chuyện giữa con người và trợ lý AI.\\n', 'output': '[|Con người|] chiều cao của tòa nhà Empire State là bao nhiêu\\n[|AI|] 381 mét, hay 1.250 feet, là chiều cao của Tòa nhà Empire State. Nếu bạn cũng tính đến ăng-ten, nó sẽ nâng tổng chiều cao lên 443 mét hoặc 1.454 feet\\n[|Con người|] Một số người cần lái máy bay phía trên nó và cần biết.\\nVì vậy, câu trả lời trong feet là gì?\\n[|AI|] 1454 bộ\\n[|Con người|]'}\n"
     ]
    }
   ],
   "source": [
    "print(temp_oasst.shuffle()[0])"
   ]
  },
  {
   "cell_type": "code",
   "execution_count": 89,
   "metadata": {},
   "outputs": [
    {
     "data": {
      "application/vnd.jupyter.widget-view+json": {
       "model_id": "5e00df68d9ce44da933575b73cd21f47",
       "version_major": 2,
       "version_minor": 0
      },
      "text/plain": [
       "Creating json from Arrow format:   0%|          | 0/22 [00:00<?, ?ba/s]"
      ]
     },
     "metadata": {},
     "output_type": "display_data"
    },
    {
     "data": {
      "text/plain": [
       "74161090"
      ]
     },
     "execution_count": 89,
     "metadata": {},
     "output_type": "execute_result"
    }
   ],
   "source": [
    "temp_oasst.to_json('../../data/training_3_8/oasst_20k_samples.jsonl', orient='records', lines=True)"
   ]
  },
  {
   "cell_type": "markdown",
   "metadata": {},
   "source": [
    "### ALPACA CHAT"
   ]
  },
  {
   "cell_type": "code",
   "execution_count": 90,
   "metadata": {},
   "outputs": [
    {
     "name": "stderr",
     "output_type": "stream",
     "text": [
      "Found cached dataset json (/Users/phamhoang1408/.cache/huggingface/datasets/json/default-5edb312ba78e68c9/0.0.0)\n"
     ]
    },
    {
     "data": {
      "text/plain": [
       "Dataset({\n",
       "    features: ['input'],\n",
       "    num_rows: 15000\n",
       "})"
      ]
     },
     "execution_count": 90,
     "metadata": {},
     "output_type": "execute_result"
    }
   ],
   "source": [
    "alpaca = Dataset.from_json('../../data/training_31_7/alpaca_chat_15k.jsonl')\n",
    "alpaca"
   ]
  },
  {
   "cell_type": "code",
   "execution_count": 404,
   "metadata": {},
   "outputs": [
    {
     "name": "stderr",
     "output_type": "stream",
     "text": [
      "Loading cached processed dataset at /Users/phamhoang1408/.cache/huggingface/datasets/json/default-5edb312ba78e68c9/0.0.0/cache-09cb7018a994b6ed.arrow\n"
     ]
    }
   ],
   "source": [
    "text = 'Cuộc trò chuyện giữa con người và trợ lý AI.\\n'\n",
    "def mapper(x):\n",
    "    return {\n",
    "        'input': text,\n",
    "        'output': x['input'].removeprefix(text)\n",
    "    }\n",
    "temp_alpaca = alpaca.map(mapper, batched=False, remove_columns=['input'])"
   ]
  },
  {
   "cell_type": "code",
   "execution_count": 405,
   "metadata": {},
   "outputs": [
    {
     "data": {
      "text/plain": [
       "{'input': 'Cuộc trò chuyện giữa con người và trợ lý AI.\\n',\n",
       " 'output': '[|Con người|] So sánh và đối chiếu các phương pháp học máy và trí tuệ nhân tạo.\\n[|AI|] Học máy và trí tuệ nhân tạo là các lĩnh vực liên quan chặt chẽ, cả hai liên quan đến việc tự động hóa các nhiệm vụ trong các hệ thống thông minh. Cả hai kỹ thuật có thể giúp máy tính học bằng cách nhận ra các mẫu trong dữ liệu. Tuy nhiên, một trong những khác biệt chính giữa hai người là học máy tập trung vào việc dự đoán kết quả trong khi trí tuệ nhân tạo tập trung vào việc sao chép các nhiệm vụ nhận thức thông qua việc sử dụng các thuật toán. Học máy liên quan đến việc tạo ra một thuật toán có thể học hỏi từ các ví dụ để tìm giải pháp, trong khi trí tuệ nhân tạo cũng xem xét logic ra quyết định đằng sau giải pháp. Ví dụ, học máy có thể được sử dụng để phát hiện một mục nhất định trong một hình ảnh trong khi trí tuệ nhân tạo cũng sẽ yếu tố trong bối cảnh và ý nghĩa đằng sau hình ảnh để đưa ra một quy trình ra quyết định. Trí tuệ nhân tạo có thể nhận ra các mẫu phức tạp và dữ liệu biến đổi hơn, trong khi học máy không cần phải xem xét ngữ cảnh, nhưng tập trung vào nhiệm vụ cụ thể trong tay.\\n[|Con người|]'}"
      ]
     },
     "execution_count": 405,
     "metadata": {},
     "output_type": "execute_result"
    }
   ],
   "source": [
    "temp_alpaca[0]"
   ]
  },
  {
   "cell_type": "code",
   "execution_count": 406,
   "metadata": {},
   "outputs": [
    {
     "data": {
      "application/vnd.jupyter.widget-view+json": {
       "model_id": "af6280487d6149e3b0c13798e3f3ac89",
       "version_major": 2,
       "version_minor": 0
      },
      "text/plain": [
       "Creating json from Arrow format:   0%|          | 0/15 [00:00<?, ?ba/s]"
      ]
     },
     "metadata": {},
     "output_type": "display_data"
    },
    {
     "data": {
      "text/plain": [
       "14013030"
      ]
     },
     "execution_count": 406,
     "metadata": {},
     "output_type": "execute_result"
    }
   ],
   "source": [
    "temp_alpaca.to_json('../../data/training_3_8/alpaca_chat_15k_samples.jsonl', orient='records', lines=True)"
   ]
  },
  {
   "cell_type": "markdown",
   "metadata": {},
   "source": [
    "### GPT4 INSTRUCT"
   ]
  },
  {
   "cell_type": "code",
   "execution_count": 97,
   "metadata": {},
   "outputs": [
    {
     "name": "stderr",
     "output_type": "stream",
     "text": [
      "Found cached dataset json (/Users/phamhoang1408/.cache/huggingface/datasets/json/default-3973f66dcdf3ca58/0.0.0)\n"
     ]
    },
    {
     "data": {
      "text/plain": [
       "Dataset({\n",
       "    features: ['instruction_translated', 'input_translated', 'response_translated'],\n",
       "    num_rows: 17873\n",
       "})"
      ]
     },
     "execution_count": 97,
     "metadata": {},
     "output_type": "execute_result"
    }
   ],
   "source": [
    "gpt4 = Dataset.from_json('../../data/translated/gpt4_instruct_similarity_0_9_translated.json')\n",
    "gpt4"
   ]
  },
  {
   "cell_type": "code",
   "execution_count": 101,
   "metadata": {},
   "outputs": [
    {
     "data": {
      "application/vnd.jupyter.widget-view+json": {
       "model_id": "1e05464927684dbb881c19cf69b06996",
       "version_major": 2,
       "version_minor": 0
      },
      "text/plain": [
       "Map:   0%|          | 0/17873 [00:00<?, ? examples/s]"
      ]
     },
     "metadata": {},
     "output_type": "display_data"
    }
   ],
   "source": [
    "template1 = \"Cuộc trò chuyện giữa con người và trợ lý AI.\\n[|Con người|] {instruction_translated}\\n{input_translated}\\n[|AI|] \"\n",
    "template2 = \"Cuộc trò chuyện giữa con người và trợ lý AI.\\n[|Con người|] {instruction_translated}\\n[|AI|] \"\n",
    "\n",
    "def mapper(x):\n",
    "    if x['input_translated'] != '' and x['input_translated'] is not None:\n",
    "        template = template1.format(\n",
    "            instruction_translated=x['instruction_translated'], \n",
    "            input_translated=x['input_translated']\n",
    "        )\n",
    "    else:\n",
    "        template = template2.format(instruction_translated=x['instruction_translated'])\n",
    "    return {\n",
    "        'input': template,\n",
    "        'output': x['response_translated'] + '\\n[|Con người|]'\n",
    "    }\n",
    "\n",
    "temp_gpt4 = gpt4.map(mapper,batched=False, remove_columns=gpt4.column_names)"
   ]
  },
  {
   "cell_type": "code",
   "execution_count": 102,
   "metadata": {},
   "outputs": [
    {
     "data": {
      "text/plain": [
       "Dataset({\n",
       "    features: ['input', 'output'],\n",
       "    num_rows: 17873\n",
       "})"
      ]
     },
     "execution_count": 102,
     "metadata": {},
     "output_type": "execute_result"
    }
   ],
   "source": [
    "temp_gpt4"
   ]
  },
  {
   "cell_type": "code",
   "execution_count": 126,
   "metadata": {},
   "outputs": [
    {
     "name": "stdout",
     "output_type": "stream",
     "text": [
      "Cuộc trò chuyện giữa con người và trợ lý AI.\n",
      "[|Con người|] Hãy tưởng tượng một cuộc trò chuyện giữa khách hàng và nhân viên thu ngân tại cửa hàng tạp hóa. Viết đối thoại của họ.\n",
      "[|AI|] Khách hàng: Xin chào, hôm nay bạn thế nào?\n",
      "Nhân viên thu ngân: Tốt, cảm ơn bạn! Bạn đã tìm thấy mọi thứ bạn đang tìm kiếm?\n",
      "Khách hàng: Vâng, tôi đã làm. Chỉ là cửa hàng tạp hóa thông thường của tôi.\n",
      "Nhân viên thu ngân: Tuyệt vời! Tổng số tiền của bạn là $37,50. Đó sẽ là tiền mặt hay thẻ?\n",
      "Khách hàng: Tôi sẽ thanh toán bằng thẻ tín dụng của mình.\n",
      "Nhân viên thu ngân: Vui lòng quẹt thẻ hoặc đút thẻ vào. Làm ơn ký vào đây. Cảm ơn va chuc một ngay tôt lanh!\n",
      "Khách hàng: Bạn cũng vậy, tạm biệt!\n",
      "[|Con người|]\n"
     ]
    }
   ],
   "source": [
    "a = temp_gpt4.shuffle()[0]\n",
    "print(a['input']+a['output'])"
   ]
  },
  {
   "cell_type": "code",
   "execution_count": 127,
   "metadata": {},
   "outputs": [
    {
     "data": {
      "application/vnd.jupyter.widget-view+json": {
       "model_id": "81c151b4133b4eca8623f0a7a1e9dd63",
       "version_major": 2,
       "version_minor": 0
      },
      "text/plain": [
       "Creating json from Arrow format:   0%|          | 0/18 [00:00<?, ?ba/s]"
      ]
     },
     "metadata": {},
     "output_type": "display_data"
    },
    {
     "data": {
      "text/plain": [
       "26685705"
      ]
     },
     "execution_count": 127,
     "metadata": {},
     "output_type": "execute_result"
    }
   ],
   "source": [
    "temp_gpt4.to_json('../../data/training_3_8/gpt4_instruct.jsonl', orient='records', lines=True)"
   ]
  },
  {
   "cell_type": "markdown",
   "metadata": {},
   "source": [
    "### DOLLY WITH CONTEXT"
   ]
  },
  {
   "cell_type": "code",
   "execution_count": 148,
   "metadata": {},
   "outputs": [
    {
     "name": "stderr",
     "output_type": "stream",
     "text": [
      "Found cached dataset json (/Users/phamhoang1408/.cache/huggingface/datasets/json/default-e7046f43243de008/0.0.0)\n"
     ]
    }
   ],
   "source": [
    "dolly = Dataset.from_json('../../data/translated/dolly_with_context_translated.jsonl')\n",
    "dolly = dolly.remove_columns(['instruction', 'context', 'response', 'category_translated'])"
   ]
  },
  {
   "cell_type": "code",
   "execution_count": 157,
   "metadata": {},
   "outputs": [
    {
     "data": {
      "text/plain": [
       "{'instruction_translated': 'Bạn có nghĩ rằng bệnh trầm cảm đã di truyền trong gia đình Wittgenstein?',\n",
       " 'context_translated': 'Sinh ra ở Vienna trong một trong những gia đình giàu có nhất châu Âu, Ludwig Wittgenstein được thừa hưởng tài sản từ cha mình vào năm 1913. Trước Thế chiến thứ nhất, ông \"đã để lại tài sản rất hậu hĩnh cho một nhóm nhà thơ và nghệ sĩ do Ludwig von Ficker, biên tập viên của tạp chí Der Brenner, từ những nghệ sĩ cần giúp đỡ. Những người này bao gồm Trakl cũng như Rainer Maria Rilke và kiến \\u200b\\u200btrúc sư Adolf Loos.\" Sau đó, trong giai đoạn suy sụp cá nhân trầm trọng sau Thế chiến thứ nhất, ông đã tặng phần tài sản còn lại của mình cho các anh chị em của mình. Ba trong số bốn người anh trai của anh đã chết do tự sát riêng biệt. Wittgenstein rời học viện nhiều lần: làm sĩ quan tiền tuyến trong Thế chiến thứ nhất, nơi ông nhiều lần được vinh danh vì lòng dũng cảm; giảng dạy tại các trường học ở những ngôi làng xa xôi của Áo, nơi ông gặp phải tranh cãi vì đôi khi sử dụng hình phạt thể xác bạo lực đối với các bé gái và bé trai (sự cố Haidbauer), đặc biệt là trong các lớp học toán; làm việc trong Thế chiến thứ hai với tư cách là người khuân vác bệnh viện ở London, đặc biệt là nói với bệnh nhân không dùng thuốc mà họ được kê đơn; và làm kỹ thuật viên phòng thí nghiệm bệnh viện tại Bệnh viện Hoàng gia Victoria ở Newcastle Upon Tyne. Sau đó, ông bày tỏ sự hối hận về những sự cố này, và dành phần đời còn lại của mình để thuyết trình và cố gắng chuẩn bị bản thảo thứ hai để xuất bản, bản thảo này được xuất bản sau khi ông qua đời với tên gọi Những cuộc điều tra triết học có ảnh hưởng lớn.',\n",
       " 'response_translated': 'Trầm cảm là một vấn đề sức khỏe tâm thần đôi khi có thể dẫn đến tự sát. Nó được biết là chạy trong các gia đình. Bản thân Ludwig Wittgenstein đã trải qua ít nhất một giai đoạn trầm cảm nặng và ba trong số bốn người anh trai của ông đã chết do tự sát riêng rẽ. Dựa trên thực tế là có rất nhiều thành viên trực hệ trong gia đình Wittgenstein bị trầm cảm hoặc chết do tự tử, tôi nghĩ công bằng mà nói chứng trầm cảm đã lan truyền trong gia đình Wittgenstein.',\n",
       " 'category': 'information_extraction'}"
      ]
     },
     "execution_count": 157,
     "metadata": {},
     "output_type": "execute_result"
    }
   ],
   "source": [
    "dolly.shuffle()[0]"
   ]
  },
  {
   "cell_type": "code",
   "execution_count": 165,
   "metadata": {},
   "outputs": [
    {
     "data": {
      "application/vnd.jupyter.widget-view+json": {
       "model_id": "d0ecd83307b048d7bd50ae3e3eabcc19",
       "version_major": 2,
       "version_minor": 0
      },
      "text/plain": [
       "Map:   0%|          | 0/3903 [00:00<?, ? examples/s]"
      ]
     },
     "metadata": {},
     "output_type": "display_data"
    }
   ],
   "source": [
    "template1 = \"Cuộc trò chuyện giữa con người và trợ lý AI.\\n[|Con người|] Trả lời câu hỏi dựa vào đoạn văn bản dưới đây. Chỉ được trả lời dựa trên thông tin nằm trong văn bản được cung cấp.\\nCâu hỏi: {instruction_translated}\\nĐoạn văn bản:\\n{context_translated}\\n[|AI|] \"\n",
    "\n",
    "def mapper(x):\n",
    "    ip = template1.format(\n",
    "        instruction_translated=x['instruction_translated'], \n",
    "        context_translated=x['context_translated']\n",
    "    )\n",
    "    return {\n",
    "        'input': ip,\n",
    "        'output': x['response_translated'] + '\\n[|Con người|]'\n",
    "    }\n",
    "\n",
    "temp_dolly = dolly.map(mapper,batched=False, remove_columns=dolly.column_names)"
   ]
  },
  {
   "cell_type": "code",
   "execution_count": 200,
   "metadata": {},
   "outputs": [
    {
     "name": "stdout",
     "output_type": "stream",
     "text": [
      "Cuộc trò chuyện giữa con người và trợ lý AI.\n",
      "[|Con người|] Trả lời câu hỏi dựa vào đoạn văn bản dưới đây. Chỉ được trả lời dựa trên thông tin nằm trong văn bản được cung cấp.\n",
      "Câu hỏi: Từ đoạn văn dưới đây, trích xuất năm quốc gia thành viên đầu tiên của OPEC\n",
      "Đoạn văn bản:\n",
      "Tổ chức các nước xuất khẩu dầu mỏ (OPEC, /ˈoʊpɛk/ OH-pek) là một tổ chức tạo điều kiện cho sự hợp tác của các quốc gia sản xuất dầu mỏ hàng đầu, nhằm gây ảnh hưởng chung đến thị trường toàn cầu và tối đa hóa lợi nhuận. Được thành lập vào ngày 14 tháng 9 năm 1960 tại Baghdad bởi năm thành viên đầu tiên (Iran, Iraq, Kuwait, Ả Rập Saudi và Venezuela), kể từ năm 1965, tổ chức này có trụ sở chính tại Vienna, Áo, mặc dù Áo không phải là quốc gia thành viên OPEC. Tính đến tháng 9 năm 2018, 13 quốc gia thành viên chiếm khoảng 44% sản lượng dầu toàn cầu và 81,5% trữ lượng dầu đã được chứng minh của thế giới, khiến OPEC có ảnh hưởng lớn đến giá dầu toàn cầu mà trước đây được xác định bởi cái gọi là \"Bảy chị em\". \" nhóm các công ty dầu khí đa quốc gia.\n",
      "\n",
      "Sự hình thành của OPEC đánh dấu một bước ngoặt đối với chủ quyền quốc gia đối với tài nguyên thiên nhiên và các quyết định của OPEC đã đóng một vai trò nổi bật trong thị trường dầu mỏ toàn cầu và quan hệ quốc tế. Hiệu ứng có thể đặc biệt mạnh mẽ khi chiến tranh hoặc rối loạn dân sự dẫn đến sự gián đoạn nguồn cung kéo dài. Vào những năm 1970, những hạn chế trong sản xuất dầu mỏ đã dẫn đến sự gia tăng mạnh mẽ giá dầu mỏ cũng như doanh thu và sự giàu có của OPEC, với những hậu quả lâu dài và sâu rộng đối với nền kinh tế toàn cầu. Vào những năm 1980, OPEC bắt đầu đặt mục tiêu sản xuất cho các quốc gia thành viên; nói chung, khi các mục tiêu giảm, giá dầu tăng. Điều này đã xảy ra gần đây nhất từ ​​các quyết định năm 2008 và 2016 của tổ chức nhằm cắt giảm nguồn cung dư thừa.\n",
      "[|AI|] Năm thành viên đầu tiên của Tổ chức Các nước Xuất khẩu Dầu mỏ (OPEC) là Iran, Iraq, Kuwait, Saudi Arabia và Venezuela. Tính đến tháng 9 năm 2018, OPEC chính thức có 13 quốc gia thành viên.\n",
      "[|Con người|]\n"
     ]
    }
   ],
   "source": [
    "temp = temp_dolly.shuffle()[0]\n",
    "print(temp['input'] + temp['output'])"
   ]
  },
  {
   "cell_type": "markdown",
   "metadata": {},
   "source": [
    "Cuộc trò chuyện giữa con người và trợ lý AI.\n",
    "[|Con người|] Trả lời câu hỏi pháp luật dựa vào những điều luật liên quan dưới đây. Chỉ được trả lời dựa trên thông tin nằm trong điều luật được cung cấp.\n",
    "Câu hỏi: Phạm tội trong trạng thái tinh thần bị kích động mạnh bị xử lý thế nào?\n",
    "Điều luật liên quan:\n",
    "Điều 125. Tội giết người trong trạng thái tinh thần bị kích động mạnh 1. Người nào giết người trong trạng thái tinh thần bị kích động mạnh do hành vi trái pháp luật nghiêm trọng của nạn nhân đối với người đó hoặc đối với người thân thích của người đó, thì bị phạt tù từ 06 tháng đến 03 năm. 2. Phạm tội đối với 02 người trở lên, thì bị phạt tù từ 03 năm đến 07 năm.\n",
    "[|AI|] Giết người trong trạng thái tinh thần bị kích động mạnh Tội giết người trong trạng thái tinh thần bị kích động mạnh được quy định tại Điều 125 Bộ luật Hình sự 2015 sửa đổi, bổ sung 2017 với mức hình phạt như sau: Khung 1: Người nào giết người trong trạng thái tinh thần bị kích động mạnh do hành vi trái pháp luật nghiêm trọng của nạn nhân đối với người đó hoặc đối với người thân thích của người đó, thì bị phạt tù từ 06 tháng đến 03 năm. Khung 2: Phạm tội đối với 02 người trở lên, thì bị phạt tù từ 03 năm đến 07 năm.\n",
    "[|Con người|]"
   ]
  },
  {
   "cell_type": "code",
   "execution_count": 222,
   "metadata": {},
   "outputs": [
    {
     "data": {
      "application/vnd.jupyter.widget-view+json": {
       "model_id": "1b23e604017e420a842653f990bc71f3",
       "version_major": 2,
       "version_minor": 0
      },
      "text/plain": [
       "Creating json from Arrow format:   0%|          | 0/4 [00:00<?, ?ba/s]"
      ]
     },
     "metadata": {},
     "output_type": "display_data"
    },
    {
     "data": {
      "text/plain": [
       "13594657"
      ]
     },
     "execution_count": 222,
     "metadata": {},
     "output_type": "execute_result"
    }
   ],
   "source": [
    "temp_dolly.to_json('../../data/training_3_8/dolly_4k_samples.jsonl', orient='records', lines=True)"
   ]
  },
  {
   "cell_type": "markdown",
   "metadata": {},
   "source": [
    "### Load all"
   ]
  },
  {
   "cell_type": "code",
   "execution_count": 407,
   "metadata": {},
   "outputs": [],
   "source": [
    "from glob import glob\n",
    "def load_dataset(folder_path, dataset_size=None):\n",
    "    data = []\n",
    "    for path in glob(folder_path + \"/*.jsonl\"):\n",
    "        ds = Dataset.from_json(path)\n",
    "        for check in ['input', 'output']:\n",
    "            if check not in ds.column_names:\n",
    "                raise ValueError(\"Dataset must have input, output columns\")\n",
    "        # take only the input and output columns\n",
    "        ds = ds.select_columns(['input', 'output'])\n",
    "        data.append(ds)\n",
    "    if dataset_size is None:\n",
    "        return concatenate_datasets(data, axis=0).shuffle(seed=42)\n",
    "    return (\n",
    "        concatenate_datasets(data, axis=0).shuffle(seed=42).select(range(dataset_size))\n",
    "    )\n",
    "\n",
    "def clean(ds):\n",
    "    def mapper(x):\n",
    "        for column in ds.column_names:\n",
    "            x[column] = x[column].replace('[|Human|]','[|Con người|]').replace('\\n[|Con người|]\\n[|Con người|]', '\\n[|Con người|]')\n",
    "        return x\n",
    "    def filter(x):\n",
    "        for column in ds.column_names:\n",
    "            if x[column] == '' or x[column] is None:\n",
    "                return False\n",
    "        return True\n",
    "\n",
    "    new_ds = ds.map(mapper,batched=False)\n",
    "    new_ds = new_ds.filter(filter)\n",
    "    return new_ds        "
   ]
  },
  {
   "cell_type": "code",
   "execution_count": 409,
   "metadata": {},
   "outputs": [
    {
     "name": "stderr",
     "output_type": "stream",
     "text": [
      "Found cached dataset json (/Users/phamhoang1408/.cache/huggingface/datasets/json/default-afde88ea8077467a/0.0.0)\n",
      "Found cached dataset json (/Users/phamhoang1408/.cache/huggingface/datasets/json/default-e73d015efea28cd9/0.0.0)\n",
      "Found cached dataset json (/Users/phamhoang1408/.cache/huggingface/datasets/json/default-4ed2c4340ff1f2ef/0.0.0)\n"
     ]
    },
    {
     "name": "stderr",
     "output_type": "stream",
     "text": [
      "Found cached dataset json (/Users/phamhoang1408/.cache/huggingface/datasets/json/default-d2391c0022062d22/0.0.0)\n",
      "Found cached dataset json (/Users/phamhoang1408/.cache/huggingface/datasets/json/default-5191a18ebea2d446/0.0.0)\n",
      "Found cached dataset json (/Users/phamhoang1408/.cache/huggingface/datasets/json/default-80206016ecbe2835/0.0.0)\n",
      "Found cached dataset json (/Users/phamhoang1408/.cache/huggingface/datasets/json/default-1e5ee7c8d5e464e8/0.0.0)\n",
      "Found cached dataset json (/Users/phamhoang1408/.cache/huggingface/datasets/json/default-87a7da9bfc39b581/0.0.0)\n",
      "Found cached dataset json (/Users/phamhoang1408/.cache/huggingface/datasets/json/default-d7f72782c567c75f/0.0.0)\n",
      "Found cached dataset json (/Users/phamhoang1408/.cache/huggingface/datasets/json/default-530b86724229269a/0.0.0)\n"
     ]
    },
    {
     "data": {
      "application/vnd.jupyter.widget-view+json": {
       "model_id": "66c6dbb9c60f496285c59a9ffba9b484",
       "version_major": 2,
       "version_minor": 0
      },
      "text/plain": [
       "Map:   0%|          | 0/149920 [00:00<?, ? examples/s]"
      ]
     },
     "metadata": {},
     "output_type": "display_data"
    },
    {
     "data": {
      "application/vnd.jupyter.widget-view+json": {
       "model_id": "95c982a0f4e24662a112a4fd88823b5f",
       "version_major": 2,
       "version_minor": 0
      },
      "text/plain": [
       "Filter:   0%|          | 0/149920 [00:00<?, ? examples/s]"
      ]
     },
     "metadata": {},
     "output_type": "display_data"
    }
   ],
   "source": [
    "ds = load_dataset('../../data/training_3_8')\n",
    "ds = clean(ds)"
   ]
  },
  {
   "cell_type": "code",
   "execution_count": 414,
   "metadata": {},
   "outputs": [
    {
     "data": {
      "text/plain": [
       "(149920, 2)"
      ]
     },
     "execution_count": 414,
     "metadata": {},
     "output_type": "execute_result"
    }
   ],
   "source": [
    "ds.shape"
   ]
  },
  {
   "cell_type": "code",
   "execution_count": 639,
   "metadata": {},
   "outputs": [
    {
     "name": "stdout",
     "output_type": "stream",
     "text": [
      "Tóm tắt ngắn gọn đoạn hội thoại sau đây:\n",
      "[|Con người|] Chào Tony, tôi cảm thấy mệt mỏi quá.\n",
      "[|AI|] Ồ, tôi xin lỗi, có gì sai sao?\n",
      "[|Con người|] Vâng, Giáng sinh đang đến gần và dường như mọi thứ đang diễn ra không như ý muốn gần đây.\n",
      "[|AI|] Đây, ngồi xuống và kể cho tôi nghe về nó.\n",
      "[|Con người|] Gần đây, tôi phải đi làm lúc 8 giờ sáng. Bạn biết đấy, tôi làm việc trong bộ phận đồ chơi tại trung tâm mua sắm.\n",
      "[|AI|] À, vâng, tất nhiên rồi, bận rộn hơn bình thường nhiều. Mọi người đang mua sắm quà Giáng sinh.\n",
      "[|Con người|] Hôm qua ngủ quên nên đến muộn 10 phút. Lúc 10 giờ, cửa trước của trung tâm mua sắm mở ra và một loạt người mua sắm bước vào gian hàng đồ chơi, ngay sau đó mọi người la hét, xô đẩy tôi hoặc đưa ra những yêu cầu tức giận.\n",
      "[|AI|] Ồ, thật kinh khủng.\n",
      "[|Con người|] Tôi đã quen với nó rồi, chỉ là bán quà cho trẻ em trước Giáng sinh là một công việc khó chịu. Giáng sinh bây giờ không có nhiều ý nghĩa với tôi, ngoại trừ nhiều công việc hơn và nhiều cơn đau đầu hơn.\n",
      "Đoạn hội thoại đã được tóm tắt:\n",
      "[|Con người|] nghĩ rằng bán quà cho trẻ em là một công việc khó chịu trước Giáng sinh.\n"
     ]
    }
   ],
   "source": [
    "a = ds.shuffle()[0]\n",
    "print(a['input'] + a['output'])"
   ]
  },
  {
   "cell_type": "code",
   "execution_count": 482,
   "metadata": {},
   "outputs": [
    {
     "data": {
      "application/vnd.jupyter.widget-view+json": {
       "model_id": "d8d9eebf67734dc7b4833bcc956fdd46",
       "version_major": 2,
       "version_minor": 0
      },
      "text/plain": [
       "Creating json from Arrow format:   0%|          | 0/150 [00:00<?, ?ba/s]"
      ]
     },
     "metadata": {},
     "output_type": "display_data"
    },
    {
     "data": {
      "text/plain": [
       "623208030"
      ]
     },
     "execution_count": 482,
     "metadata": {},
     "output_type": "execute_result"
    }
   ],
   "source": [
    "path_to_save = '../../data/training_3_8/all_3_8.jsonl'\n",
    "ds.shuffle().to_json(path_to_save, orient='records', lines=True)"
   ]
  },
  {
   "cell_type": "code",
   "execution_count": 247,
   "metadata": {},
   "outputs": [
    {
     "data": {
      "text/plain": [
       "{'input': 'Cuộc trò chuyện giữa con người và trợ lý AI.\\n',\n",
       " 'output': '[|Con người|] Tôi đang gặp khó khăn khi quyết định giữa việc sử dụng phương trình vi phân hay đại số tuyến tính. Bạn nghĩ tôi nên lấy cái nào?\\n[|AI|] Điều đó thực sự phụ thuộc vào việc bạn quan tâm đến việc học gì. Bạn thích loại toán nào hơn - giải tích hay đại số?\\n[|Con người|] Tôi thích giải tích hơn.\\n[|AI|] Trong trường hợp đó, bạn có thể thích phương trình vi phân hơn đại số tuyến tính. Các phương trình vi phân xử lý các hàm và đạo hàm của chúng, có thể áp dụng cho các tình huống trong thế giới thực như tốc độ tăng trưởng hoặc chuyển động. Đại số tuyến tính xử lý các vectơ và phương trình tuyến tính, có thể hữu ích trong các lĩnh vực như đồ họa máy tính hoặc kỹ thuật.\\n[|Con người|] Điều đó có ích, cảm ơn bạn. Những khóa học này khó như thế nào?\\n[|AI|] Điều đó cũng có thể khác nhau tùy thuộc vào nền tảng và thói quen học tập của bạn, nhưng nhìn chung cả hai khóa học đều được coi là thử thách. Phương trình vi phân có thể khó hơn về mặt khái niệm, trong khi đại số tuyến tính có thể yêu cầu tính toán kỹ thuật hơn.\\n[|Con người|] Bạn có nghĩ sẽ tốt hơn nếu lấy cái này trước cái kia không?\\n[|AI|] Mặc dù không nhất thiết phải lấy cái này trước cái kia, nhưng hiểu biết về đại số tuyến tính có thể hữu ích khi nghiên cứu các chủ đề nâng cao hơn trong phương trình vi phân. Tuy nhiên, cuối cùng nó phụ thuộc vào sở thích cá nhân và những khóa học nào có sẵn trong chương trình học của bạn.\\n[|Con người|]\\n[|Con người|]'}"
      ]
     },
     "execution_count": 247,
     "metadata": {},
     "output_type": "execute_result"
    }
   ],
   "source": [
    "ds.shuffle()[0]"
   ]
  },
  {
   "cell_type": "code",
   "execution_count": 403,
   "metadata": {},
   "outputs": [
    {
     "name": "stdout",
     "output_type": "stream",
     "text": [
      "Cuộc trò chuyện giữa con người và trợ lý AI.\n",
      "[|Con người|] Bạn có thể tạo mã không? Nếu vậy, bạn có thể làm như vậy bằng ngôn ngữ nào?\n",
      "[|AI|] Có, tôi có thể viết mã. Tuy nhiên, theo nhận thức của bản thân, tôi không biết mình có thể lập trình bằng ngôn ngữ lập trình nào.\n",
      "[|Con người|] Bạn không cần phải tự nhận thức hay ý thức để biết mình có thể viết mã bằng ngôn ngữ nào, chỉ cần lập danh sách tất cả các ngôn ngữ, chọn một tác vụ và viết kịch bản cho từng tác vụ. Nhờ một người bạn chạy tập lệnh, tập lệnh chạy chính xác sẽ cho bạn biết bạn có thể nói ngôn ngữ nào.\n",
      "[|AI|] Có, đó có thể là điểm chuẩn cơ bản. Bạn có muốn tôi làm điều đó không?\n",
      "[|Con người|]\n"
     ]
    }
   ],
   "source": [
    "a = ds.shuffle()[0]"
   ]
  }
 ],
 "metadata": {
  "kernelspec": {
   "display_name": "Python 3",
   "language": "python",
   "name": "python3"
  },
  "language_info": {
   "codemirror_mode": {
    "name": "ipython",
    "version": 3
   },
   "file_extension": ".py",
   "mimetype": "text/x-python",
   "name": "python",
   "nbconvert_exporter": "python",
   "pygments_lexer": "ipython3",
   "version": "3.10.7"
  },
  "orig_nbformat": 4
 },
 "nbformat": 4,
 "nbformat_minor": 2
}
