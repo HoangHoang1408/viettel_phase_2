{
 "cells": [
  {
   "cell_type": "code",
   "execution_count": 23,
   "metadata": {},
   "outputs": [
    {
     "name": "stdout",
     "output_type": "stream",
     "text": [
      "Running on local URL:  http://127.0.0.1:7878\n",
      "\n",
      "To create a public link, set `share=True` in `launch()`.\n"
     ]
    },
    {
     "data": {
      "text/html": [
       "<div><iframe src=\"http://127.0.0.1:7878/\" width=\"100%\" height=\"500\" allow=\"autoplay; camera; microphone; clipboard-read; clipboard-write;\" frameborder=\"0\" allowfullscreen></iframe></div>"
      ],
      "text/plain": [
       "<IPython.core.display.HTML object>"
      ]
     },
     "metadata": {},
     "output_type": "display_data"
    },
    {
     "data": {
      "text/plain": []
     },
     "execution_count": 23,
     "metadata": {},
     "output_type": "execute_result"
    }
   ],
   "source": [
    "import gradio as gr\n",
    "from time import sleep\n",
    "from random import choice\n",
    "\n",
    "def chat(human_input, chat_history=[]):\n",
    "    bot_response = choice([\n",
    "        \"I'm sorry, I don't understand.\",\n",
    "        \"I'm not sure I know what you mean.\",\n",
    "        \"Could you repeat that?\",\n",
    "        \"I'm sorry, I don't know.\",\n",
    "    ])\n",
    "    response = \"\"\n",
    "    for letter in bot_response:\n",
    "        sleep(0.05)\n",
    "        response += letter\n",
    "        yield \"\", chat_history + [(human_input, response)]\n",
    "\n",
    "\n",
    "with gr.Blocks() as demo:\n",
    "    gr.Markdown(\"## Chat bot demo\")\n",
    "    with gr.Tabs():\n",
    "        with gr.TabItem(\"Chat\"):\n",
    "            chatbot = gr.Chatbot(height=600)\n",
    "            message = gr.Textbox(placeholder=\"Type your message here...\")\n",
    "            message.submit(chat, [message, chatbot], [message, chatbot])\n",
    "        with gr.TabItem(\"Settings\"):\n",
    "            gr.Slider(minimum=0, maximum=1, step=0.01, label=\"Confidence\")\n",
    "            with gr.Row():\n",
    "                setting_btn = gr.Button(\"Save settings\")\n",
    "                reset_setting_btn = gr.Button(\"Reset settings\")\n",
    "\n",
    "demo.queue().launch()"
   ]
  },
  {
   "cell_type": "code",
   "execution_count": null,
   "metadata": {},
   "outputs": [],
   "source": []
  }
 ],
 "metadata": {
  "kernelspec": {
   "display_name": "Python 3",
   "language": "python",
   "name": "python3"
  },
  "language_info": {
   "codemirror_mode": {
    "name": "ipython",
    "version": 3
   },
   "file_extension": ".py",
   "mimetype": "text/x-python",
   "name": "python",
   "nbconvert_exporter": "python",
   "pygments_lexer": "ipython3",
   "version": "3.10.7"
  },
  "orig_nbformat": 4
 },
 "nbformat": 4,
 "nbformat_minor": 2
}
