{
 "cells": [
  {
   "cell_type": "markdown",
   "metadata": {},
   "source": [
    "## Summarization"
   ]
  },
  {
   "cell_type": "code",
   "execution_count": 3,
   "metadata": {},
   "outputs": [],
   "source": [
    "conversation_system_prompt = \"Cuộc trò chuyện giữa con người và trợ lý AI.\\n\"\n",
    "\n",
    "conversation_summarization_prompt = \"Tóm tắt ngắn gọn đoạn hội thoại sau đây:\\n{conversation}\\nĐoạn hội thoại đã được tóm tắt:\\n\"\n",
    "text_summarization_prompt = conversation_system_prompt + \"[|Con người|] Tóm tắt ngắn gọn đoạn văn bản sau đây:\\n{context}\\n[|AI|] \"\n",
    "qa_with_context_prompt = conversation_system_prompt + \"[|Con người|] Trả lời câu hỏi dựa vào đoạn văn bản dưới đây. Chỉ được trả lời dựa trên thông tin nằm trong văn bản được cung cấp.\\nCâu hỏi: {question}\\nĐoạn văn bản: {context}\\n[|AI|] \"\n",
    "law_with_context_prompt = conversation_system_prompt + \"[|Con người|] Trả lời câu hỏi pháp luật dựa vào những điều luật liên quan dưới đây. Chỉ được trả lời dựa trên thông tin nằm trong điều luật được cung cấp.\\nCâu hỏi: {question}\\nĐiều luật liên quan:\\n{context}\\n[|AI|] \"\n",
    "\n",
    "prompts = {\n",
    "    \"text_summarization\": text_summarization_prompt,\n",
    "    \"conversation_summarization\": conversation_summarization_prompt,\n",
    "    \"qa_with_context\": qa_with_context_prompt,\n",
    "    \"law_with_context\": law_with_context_prompt\n",
    "}\n",
    "\n",
    "def format_prompt(prompt_type, **kwargs):\n",
    "    if prompt_type not in prompts:\n",
    "        raise ValueError(\"Prompt type must be one of the following: {}\".format(prompts.keys()))\n",
    "    return prompts[prompt_type].format(**kwargs)\n",
    "\n",
    "class PromptType:\n",
    "    TEXT_SUMMARIZATION = \"text_summarization\"\n",
    "    CONVERSATION_SUMMARIZATION = \"conversation_summarization\"\n",
    "    QA_WITH_CONTEXT = \"qa_with_context\"\n",
    "    LAW_WITH_CONTEXT = \"law_with_context\""
   ]
  },
  {
   "cell_type": "code",
   "execution_count": 10,
   "metadata": {},
   "outputs": [
    {
     "name": "stdout",
     "output_type": "stream",
     "text": [
      "Cuộc trò chuyện giữa con người và trợ lý AI.\n",
      "[|Con người|] Trả lời câu hỏi pháp luật dựa vào những điều luật liên quan dưới đây. Chỉ được trả lời dựa trên thông tin nằm trong điều luật được cung cấp.\n",
      "Câu hỏi: What is human life expectancy in the United States?\n",
      "Điều luật liên quan:\n",
      "The following is a conversation with an AI assistant. The assistant is helpful, creative, clever, and very friendly.\n",
      "[|AI|] \n"
     ]
    }
   ],
   "source": [
    "temp = format_prompt(\n",
    "    PromptType.LAW_WITH_CONTEXT,\n",
    "    context = \"The following is a conversation with an AI assistant. The assistant is helpful, creative, clever, and very friendly.\",\n",
    "    question = \"What is human life expectancy in the United States?\",\n",
    ")\n",
    "print(temp)"
   ]
  },
  {
   "cell_type": "code",
   "execution_count": null,
   "metadata": {},
   "outputs": [],
   "source": []
  }
 ],
 "metadata": {
  "kernelspec": {
   "display_name": "Python 3",
   "language": "python",
   "name": "python3"
  },
  "language_info": {
   "codemirror_mode": {
    "name": "ipython",
    "version": 3
   },
   "file_extension": ".py",
   "mimetype": "text/x-python",
   "name": "python",
   "nbconvert_exporter": "python",
   "pygments_lexer": "ipython3",
   "version": "3.10.7"
  },
  "orig_nbformat": 4
 },
 "nbformat": 4,
 "nbformat_minor": 2
}
